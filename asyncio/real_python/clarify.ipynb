{
 "cells": [
  {
   "cell_type": "code",
   "execution_count": 1,
   "id": "a3eff2a8",
   "metadata": {},
   "outputs": [],
   "source": [
    "from rand import *"
   ]
  },
  {
   "cell_type": "code",
   "execution_count": 2,
   "id": "37668d48",
   "metadata": {},
   "outputs": [
    {
     "data": {
      "text/plain": [
       "generator"
      ]
     },
     "execution_count": 2,
     "metadata": {},
     "output_type": "execute_result"
    }
   ],
   "source": [
    "type((make_random(i, 10-i-1) for i in range(3)))"
   ]
  },
  {
   "cell_type": "raw",
   "id": "64c9e5ab",
   "metadata": {},
   "source": [
    "type(*(make_random(i, 10-i-1) for i in range(3)))"
   ]
  },
  {
   "cell_type": "code",
   "execution_count": null,
   "id": "a1f7e176",
   "metadata": {},
   "outputs": [],
   "source": []
  }
 ],
 "metadata": {
  "kernelspec": {
   "display_name": "Python 3",
   "language": "python",
   "name": "python3"
  },
  "language_info": {
   "codemirror_mode": {
    "name": "ipython",
    "version": 3
   },
   "file_extension": ".py",
   "mimetype": "text/x-python",
   "name": "python",
   "nbconvert_exporter": "python",
   "pygments_lexer": "ipython3",
   "version": "3.7.10"
  }
 },
 "nbformat": 4,
 "nbformat_minor": 5
}
