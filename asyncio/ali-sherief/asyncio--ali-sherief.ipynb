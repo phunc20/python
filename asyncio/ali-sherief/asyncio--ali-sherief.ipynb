{
 "cells": [
  {
   "cell_type": "markdown",
   "metadata": {},
   "source": [
    "The cells are copied code from [one dev webpage](https://dev.to/zenulabidin/python-asyncio-great-for-i-o-do-you-use-it-for-other-things-10ei)\n",
    "\n",
    "I was unable to fully understand the content, but it seemed to be somewhat valuable examples."
   ]
  },
  {
   "cell_type": "code",
   "execution_count": 1,
   "metadata": {},
   "outputs": [],
   "source": [
    "import nest_asyncio\n",
    "nest_asyncio.apply()"
   ]
  },
  {
   "cell_type": "code",
   "execution_count": 2,
   "metadata": {},
   "outputs": [
    {
     "name": "stdout",
     "output_type": "stream",
     "text": [
      "2020-10-09 16:40:42.944362\n",
      "2020-10-09 16:40:43.946016\n",
      "2020-10-09 16:40:44.947776\n",
      "2020-10-09 16:40:45.949693\n",
      "2020-10-09 16:40:46.951384\n"
     ]
    }
   ],
   "source": [
    "import asyncio\n",
    "import datetime\n",
    "\n",
    "async def display_date():\n",
    "    loop = asyncio.get_running_loop()\n",
    "    # You cancel the loop with loop.stop()\n",
    "    end_time = loop.time() + 5.0\n",
    "    while True:\n",
    "        print(datetime.datetime.now())\n",
    "        if (loop.time() + 1.0) >= end_time:\n",
    "            break\n",
    "        await asyncio.sleep(1)\n",
    "\n",
    "asyncio.run(display_date())\n",
    "# Outputs the current date every second for five seconds."
   ]
  },
  {
   "cell_type": "code",
   "execution_count": 3,
   "metadata": {},
   "outputs": [
    {
     "name": "stdout",
     "output_type": "stream",
     "text": [
      "Task A: Compute factorial(2)...\n",
      "Task B: Compute factorial(2)...\n",
      "Task C: Compute factorial(2)...\n",
      "Task A: factorial(2) = 2\n",
      "Task B: Compute factorial(3)...\n",
      "Task C: Compute factorial(3)...\n",
      "Task B: factorial(3) = 6\n",
      "Task C: Compute factorial(4)...\n",
      "Task C: factorial(4) = 24\n"
     ]
    }
   ],
   "source": [
    "import asyncio\n",
    "\n",
    "async def factorial(name, number):\n",
    "    f = 1\n",
    "    for i in range(2, number + 1):\n",
    "        print(f\"Task {name}: Compute factorial({i})...\")\n",
    "        await asyncio.sleep(1)\n",
    "        f *= i\n",
    "    print(f\"Task {name}: factorial({number}) = {f}\")\n",
    "\n",
    "async def main():\n",
    "    # Schedule three calls *concurrently*. If you selectively\n",
    "    # cancel one of these function calls, the entire gather()\n",
    "    # call gets cancelled.\n",
    "    await asyncio.gather(\n",
    "        factorial(\"A\", 2),\n",
    "        factorial(\"B\", 3),\n",
    "        factorial(\"C\", 4),\n",
    "    )\n",
    "\n",
    "asyncio.run(main())\n",
    "\n",
    "#Task A: Compute factorial(2)...\n",
    "#Task B: Compute factorial(2)...\n",
    "#Task C: Compute factorial(2)...\n",
    "#<one second later...>\n",
    "#Task A: factorial(2) = 2\n",
    "#Task B: Compute factorial(3)...\n",
    "#Task C: Compute factorial(3)...\n",
    "#<one second later...>\n",
    "#Task B: factorial(3) = 6\n",
    "#Task C: Compute factorial(4)...\n",
    "#<one second later...>\n",
    "#Task C: factorial(4) = 24"
   ]
  },
  {
   "cell_type": "code",
   "execution_count": 4,
   "metadata": {},
   "outputs": [
    {
     "name": "stdout",
     "output_type": "stream",
     "text": [
      "File contents: b'\\x9dP'\n",
      "Wrote: spamspam\n",
      "File contents: b'\\x03\\x06\\x1e'\n",
      "Wrote: eggseggs\n",
      "File contents: b'\\x00\\x00\\x00\\x00'\n",
      "Wrote: barbar\n",
      "CPU times: user 10.7 ms, sys: 4.07 ms, total: 14.8 ms\n",
      "Wall time: 4.02 s\n"
     ]
    }
   ],
   "source": [
    "import asyncio\n",
    "\n",
    "async def readbytes(name, number):\n",
    "    with open(name, \"rb\") as f:\n",
    "        s = f.read(number)\n",
    "        await asyncio.sleep(number)\n",
    "        print(f\"File contents: {s}\")\n",
    "\n",
    "async def writebytes(name, number, string):\n",
    "    with open(name, \"w\") as f:\n",
    "        f.write(string)\n",
    "        await asyncio.sleep(number)\n",
    "        print(f\"Wrote: {string}\")\n",
    "\n",
    "async def baz():\n",
    "    await asyncio.gather(\n",
    "        readbytes(\"/dev/urandom\", 2),\n",
    "        readbytes(\"/dev/random\", 3),\n",
    "        readbytes(\"/dev/zero\", 4),\n",
    "        writebytes(\"/tmp/spam\", 2, \"spamspam\"),\n",
    "        writebytes(\"/tmp/eggs\", 3, \"eggseggs\"),\n",
    "        writebytes(\"/tmp/bar\", 4, \"barbar\"),\n",
    "    )\n",
    "\n",
    "%time asyncio.run(baz())"
   ]
  },
  {
   "cell_type": "markdown",
   "metadata": {},
   "source": [
    "Let's change one of the task to `5` seconds."
   ]
  },
  {
   "cell_type": "code",
   "execution_count": 5,
   "metadata": {},
   "outputs": [
    {
     "name": "stdout",
     "output_type": "stream",
     "text": [
      "Wrote: spamspam\n",
      "File contents: b'\\xa3\\xdc\\x0c'\n",
      "Wrote: eggseggs\n",
      "File contents: b'\\x00\\x00\\x00\\x00'\n",
      "Wrote: barbar\n",
      "File contents: b'\\x8d\\xc6ii\\x8d'\n",
      "CPU times: user 10.2 ms, sys: 6.85 ms, total: 17.1 ms\n",
      "Wall time: 5 s\n"
     ]
    }
   ],
   "source": [
    "import asyncio\n",
    "\n",
    "async def readbytes(name, number):\n",
    "    with open(name, \"rb\") as f:\n",
    "        s = f.read(number)\n",
    "        await asyncio.sleep(number)\n",
    "        print(f\"File contents: {s}\")\n",
    "\n",
    "async def writebytes(name, number, string):\n",
    "    with open(name, \"w\") as f:\n",
    "        f.write(string)\n",
    "        await asyncio.sleep(number)\n",
    "        print(f\"Wrote: {string}\")\n",
    "\n",
    "async def baz():\n",
    "    await asyncio.gather(\n",
    "        readbytes(\"/dev/urandom\", 5),\n",
    "        readbytes(\"/dev/random\", 3),\n",
    "        readbytes(\"/dev/zero\", 4),\n",
    "        writebytes(\"/tmp/spam\", 2, \"spamspam\"),\n",
    "        writebytes(\"/tmp/eggs\", 3, \"eggseggs\"),\n",
    "        writebytes(\"/tmp/bar\", 4, \"barbar\"),\n",
    "    )\n",
    "\n",
    "%time asyncio.run(baz())"
   ]
  },
  {
   "cell_type": "markdown",
   "metadata": {},
   "source": [
    "**Again** with a diff task"
   ]
  },
  {
   "cell_type": "code",
   "execution_count": 6,
   "metadata": {},
   "outputs": [
    {
     "name": "stdout",
     "output_type": "stream",
     "text": [
      "File contents: b'\\x17'\n",
      "Wrote: spamspam\n",
      "File contents: b'E\\x89?'\n",
      "File contents: b'\\x00\\x00\\x00\\x00'\n",
      "Wrote: barbar\n",
      "Wrote: eggseggs\n",
      "CPU times: user 14.1 ms, sys: 2.83 ms, total: 17 ms\n",
      "Wall time: 5 s\n"
     ]
    }
   ],
   "source": [
    "import asyncio\n",
    "\n",
    "async def readbytes(name, number):\n",
    "    with open(name, \"rb\") as f:\n",
    "        s = f.read(number)\n",
    "        await asyncio.sleep(number)\n",
    "        print(f\"File contents: {s}\")\n",
    "\n",
    "async def writebytes(name, number, string):\n",
    "    with open(name, \"w\") as f:\n",
    "        f.write(string)\n",
    "        await asyncio.sleep(number)\n",
    "        print(f\"Wrote: {string}\")\n",
    "\n",
    "async def baz():\n",
    "    await asyncio.gather(\n",
    "        readbytes(\"/dev/urandom\", 1),\n",
    "        readbytes(\"/dev/random\", 3),\n",
    "        readbytes(\"/dev/zero\", 4),\n",
    "        writebytes(\"/tmp/spam\", 2, \"spamspam\"),\n",
    "        writebytes(\"/tmp/eggs\", 5, \"eggseggs\"),\n",
    "        writebytes(\"/tmp/bar\", 4, \"barbar\"),\n",
    "    )\n",
    "\n",
    "%time asyncio.run(baz())"
   ]
  },
  {
   "cell_type": "markdown",
   "metadata": {},
   "source": [
    "Next cell **should** be **modified** because when run in jupyter, it'll kill the jupyter kernel, which seems to use `asyncio`."
   ]
  },
  {
   "cell_type": "raw",
   "metadata": {},
   "source": [
    "import asyncio\n",
    "\n",
    "async def nested():\n",
    "    loop = asyncio.get_running_loop()\n",
    "    loop.stop()\n",
    "    await asyncio.sleep(1)\n",
    "    print(\"42\")\n",
    "\n",
    "async def foo():\n",
    "    # Schedule nested() to run soon concurrently\n",
    "    # with \"foo()\".\n",
    "    task = asyncio.ensure_future(nested())\n",
    "    # In Python 3.7+ you can also use:\n",
    "    #task = asyncio.create_task(nested())\n",
    "    await asyncio.sleep(3)\n",
    "\n",
    "asyncio.run(foo())"
   ]
  },
  {
   "cell_type": "code",
   "execution_count": null,
   "metadata": {},
   "outputs": [],
   "source": []
  }
 ],
 "metadata": {
  "kernelspec": {
   "display_name": "Python 3",
   "language": "python",
   "name": "python3"
  },
  "language_info": {
   "codemirror_mode": {
    "name": "ipython",
    "version": 3
   },
   "file_extension": ".py",
   "mimetype": "text/x-python",
   "name": "python",
   "nbconvert_exporter": "python",
   "pygments_lexer": "ipython3",
   "version": "3.8.5"
  }
 },
 "nbformat": 4,
 "nbformat_minor": 4
}
