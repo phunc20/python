{
 "cells": [
  {
   "cell_type": "code",
   "execution_count": 1,
   "id": "60bc33c3",
   "metadata": {},
   "outputs": [
    {
     "name": "stderr",
     "output_type": "stream",
     "text": [
      "Using backend: pytorch[15:02:52] /opt/dgl/src/runtime/tensordispatch.cc:43: TensorDispatcher: dlopen failed: /home/phunc20/.virtualenvs/dglcpu/lib/python3.7/site-packages/dgl/tensoradapter/pytorch/libtensoradapter_pytorch_1.9.1.so: cannot open shared object file: No such file or directory\n",
      "\n"
     ]
    }
   ],
   "source": [
    "import dgl\n",
    "import torch"
   ]
  },
  {
   "cell_type": "raw",
   "id": "b35b96aa",
   "metadata": {},
   "source": [
    "help(dgl.data.CoraGraphDataset)"
   ]
  },
  {
   "cell_type": "code",
   "execution_count": 2,
   "id": "3afea922",
   "metadata": {
    "scrolled": true
   },
   "outputs": [
    {
     "name": "stdout",
     "output_type": "stream",
     "text": [
      "  NumNodes: 2708\n",
      "  NumEdges: 10556\n",
      "  NumFeats: 1433\n",
      "  NumClasses: 7\n",
      "  NumTrainingSamples: 140\n",
      "  NumValidationSamples: 500\n",
      "  NumTestSamples: 1000\n",
      "Done loading data from cached files.\n"
     ]
    },
    {
     "data": {
      "text/plain": [
       "7"
      ]
     },
     "execution_count": 2,
     "metadata": {},
     "output_type": "execute_result"
    }
   ],
   "source": [
    "dataset = dgl.data.CoraGraphDataset()\n",
    "dataset.num_classes"
   ]
  },
  {
   "cell_type": "code",
   "execution_count": 3,
   "id": "9b655b51",
   "metadata": {},
   "outputs": [
    {
     "name": "stdout",
     "output_type": "stream",
     "text": [
      "cora_v2_dgl_graph.bin  ind.cora_v2.ally        ind.cora_v2.tx  ind.cora_v2.y\r\n",
      "cora_v2_dgl_graph.pkl  ind.cora_v2.graph       ind.cora_v2.ty\r\n",
      "ind.cora_v2.allx       ind.cora_v2.test.index  ind.cora_v2.x\r\n"
     ]
    }
   ],
   "source": [
    "!ls ~/.dgl/cora_v2"
   ]
  },
  {
   "cell_type": "markdown",
   "id": "4dde26c9",
   "metadata": {},
   "source": [
    "How many graphs contained in `dataset`?"
   ]
  },
  {
   "cell_type": "code",
   "execution_count": 4,
   "id": "844a7a8f",
   "metadata": {},
   "outputs": [
    {
     "data": {
      "text/plain": [
       "1"
      ]
     },
     "execution_count": 4,
     "metadata": {},
     "output_type": "execute_result"
    }
   ],
   "source": [
    "len(dataset)"
   ]
  },
  {
   "cell_type": "code",
   "execution_count": 5,
   "id": "3e96960f",
   "metadata": {},
   "outputs": [
    {
     "data": {
      "text/plain": [
       "Graph(num_nodes=2708, num_edges=10556,\n",
       "      ndata_schemes={'feat': Scheme(shape=(1433,), dtype=torch.float32), 'label': Scheme(shape=(), dtype=torch.int64), 'test_mask': Scheme(shape=(), dtype=torch.bool), 'val_mask': Scheme(shape=(), dtype=torch.bool), 'train_mask': Scheme(shape=(), dtype=torch.bool)}\n",
       "      edata_schemes={})"
      ]
     },
     "execution_count": 5,
     "metadata": {},
     "output_type": "execute_result"
    }
   ],
   "source": [
    "# put the graph on GPU if there is one\n",
    "if torch.cuda.is_available():\n",
    "    g = dataset[0].to(\"cuda\")\n",
    "else:\n",
    "    g = dataset[0]\n",
    "g"
   ]
  },
  {
   "cell_type": "code",
   "execution_count": 6,
   "id": "c828ad52",
   "metadata": {
    "scrolled": true
   },
   "outputs": [
    {
     "name": "stdout",
     "output_type": "stream",
     "text": [
      "Node features\n",
      "{'feat': tensor([[0.0000, 0.0000, 0.0000,  ..., 0.0000, 0.0000, 0.0000],\n",
      "        [0.0000, 0.0000, 0.0000,  ..., 0.0000, 0.0000, 0.0000],\n",
      "        [0.0000, 0.0000, 0.0000,  ..., 0.0000, 0.0000, 0.0000],\n",
      "        ...,\n",
      "        [0.0000, 0.0000, 0.0000,  ..., 0.0000, 0.0000, 0.0000],\n",
      "        [0.0000, 0.0000, 0.0000,  ..., 0.0000, 0.0000, 0.0000],\n",
      "        [0.0000, 0.0000, 0.0000,  ..., 0.0000, 0.0526, 0.0000]]), 'label': tensor([4, 4, 4,  ..., 4, 3, 3]), 'test_mask': tensor([ True,  True, False,  ..., False, False, False]), 'val_mask': tensor([False, False,  True,  ..., False, False, False]), 'train_mask': tensor([False, False, False,  ..., False, False, False])}\n",
      "Edge features\n",
      "{}\n"
     ]
    }
   ],
   "source": [
    "print('Node features')\n",
    "print(g.ndata)\n",
    "print('Edge features')\n",
    "print(g.edata)"
   ]
  },
  {
   "cell_type": "markdown",
   "id": "e84bff30",
   "metadata": {},
   "source": [
    "**(?)** What are those `Num.*Samples` sum up to? Their sum equals `1640`.\n",
    "```\n",
    "  NumNodes: 2708\n",
    "  NumEdges: 10556\n",
    "  NumFeats: 1433\n",
    "  NumClasses: 7\n",
    "  NumTrainingSamples: 140\n",
    "  NumValidationSamples: 500\n",
    "  NumTestSamples: 1000\n",
    "```"
   ]
  },
  {
   "cell_type": "code",
   "execution_count": 7,
   "id": "8cdcf0ac",
   "metadata": {},
   "outputs": [
    {
     "data": {
      "text/plain": [
       "torch.Size([2708, 1433])"
      ]
     },
     "execution_count": 7,
     "metadata": {},
     "output_type": "execute_result"
    }
   ],
   "source": [
    "g.ndata[\"feat\"].shape"
   ]
  },
  {
   "cell_type": "code",
   "execution_count": 8,
   "id": "4d2b53f2",
   "metadata": {},
   "outputs": [
    {
     "data": {
      "text/plain": [
       "[tensor(140), tensor(500), tensor(1000)]"
      ]
     },
     "execution_count": 8,
     "metadata": {},
     "output_type": "execute_result"
    }
   ],
   "source": [
    "[g.ndata[s].sum() for s in [\"train_mask\", \"val_mask\", \"test_mask\"]]"
   ]
  },
  {
   "cell_type": "code",
   "execution_count": 9,
   "id": "4fcea255",
   "metadata": {},
   "outputs": [
    {
     "data": {
      "text/plain": [
       "[torch.Size([2708]), torch.Size([2708]), torch.Size([2708])]"
      ]
     },
     "execution_count": 9,
     "metadata": {},
     "output_type": "execute_result"
    }
   ],
   "source": [
    "[g.ndata[s].shape for s in [\"train_mask\", \"val_mask\", \"test_mask\"]]"
   ]
  },
  {
   "cell_type": "code",
   "execution_count": 10,
   "id": "bef16138",
   "metadata": {},
   "outputs": [
    {
     "data": {
      "text/plain": [
       "torch.Size([2708])"
      ]
     },
     "execution_count": 10,
     "metadata": {},
     "output_type": "execute_result"
    }
   ],
   "source": [
    "g.ndata[\"label\"].shape"
   ]
  },
  {
   "cell_type": "code",
   "execution_count": 11,
   "id": "a79c02a7",
   "metadata": {},
   "outputs": [
    {
     "data": {
      "text/plain": [
       "tensor([0, 1, 2, 3, 4, 5, 6])"
      ]
     },
     "execution_count": 11,
     "metadata": {},
     "output_type": "execute_result"
    }
   ],
   "source": [
    "g.ndata[\"label\"].unique()"
   ]
  },
  {
   "cell_type": "markdown",
   "id": "acf33a2e",
   "metadata": {},
   "source": [
    "**(R)** So the `Num.*Samples` represents the number of nodes in train/val/test sets, but it seems that we do not take all nodes; we only take `1640/2708`."
   ]
  },
  {
   "cell_type": "code",
   "execution_count": 12,
   "id": "7a413883",
   "metadata": {},
   "outputs": [],
   "source": [
    "from dgl.nn import GraphConv\n",
    "import torch.nn as nn\n",
    "import torch.nn.functional as F\n",
    "\n",
    "\n",
    "class GCN(nn.Module):\n",
    "    def __init__(self, num_in_feats, num_h_feats, num_classes):\n",
    "        super(GCN, self).__init__() # (?) What's diff from super(self).__init__() or super().__init__()?\n",
    "        self.conv1 = GraphConv(num_in_feats, num_h_feats)\n",
    "        self.conv2 = GraphConv(num_h_feats, num_classes)\n",
    "\n",
    "    def forward(self, g, in_feat):\n",
    "        h = self.conv1(g, in_feat)\n",
    "        h = F.relu(h)\n",
    "        h = self.conv2(g, h)\n",
    "        return h"
   ]
  },
  {
   "cell_type": "code",
   "execution_count": 13,
   "id": "603d200f",
   "metadata": {},
   "outputs": [],
   "source": [
    "# put the model on GPU if there is one\n",
    "if torch.cuda.is_available():\n",
    "    model = GCN(g.ndata[\"feat\"].shape[1], 16, dataset.num_classes).to(\"cuda\")\n",
    "else:\n",
    "    model = GCN(g.ndata[\"feat\"].shape[1], 16, dataset.num_classes)"
   ]
  },
  {
   "cell_type": "markdown",
   "id": "593b7a24",
   "metadata": {},
   "source": [
    "It seems that PyTorch does not need a method like `.summary()` in TF to show the model's structure; instead, simply printing the model will show its structure."
   ]
  },
  {
   "cell_type": "code",
   "execution_count": 14,
   "id": "d0b0d8d1",
   "metadata": {},
   "outputs": [
    {
     "data": {
      "text/plain": [
       "<bound method Module.extra_repr of GCN(\n",
       "  (conv1): GraphConv(in=1433, out=16, normalization=both, activation=None)\n",
       "  (conv2): GraphConv(in=16, out=7, normalization=both, activation=None)\n",
       ")>"
      ]
     },
     "execution_count": 14,
     "metadata": {},
     "output_type": "execute_result"
    }
   ],
   "source": [
    "model.extra_repr"
   ]
  },
  {
   "cell_type": "code",
   "execution_count": 15,
   "id": "51b90918",
   "metadata": {},
   "outputs": [
    {
     "data": {
      "text/plain": [
       "GCN(\n",
       "  (conv1): GraphConv(in=1433, out=16, normalization=both, activation=None)\n",
       "  (conv2): GraphConv(in=16, out=7, normalization=both, activation=None)\n",
       ")"
      ]
     },
     "execution_count": 15,
     "metadata": {},
     "output_type": "execute_result"
    }
   ],
   "source": [
    "model"
   ]
  },
  {
   "cell_type": "code",
   "execution_count": 16,
   "id": "edf2a046",
   "metadata": {},
   "outputs": [],
   "source": [
    "def train(g, model):\n",
    "    optimizer = torch.optim.Adam(model.parameters(), lr=0.01)\n",
    "    best_val_acc = 0\n",
    "    best_test_acc = 0\n",
    "\n",
    "    features = g.ndata[\"feat\"]\n",
    "    labels = g.ndata[\"label\"]\n",
    "    train_mask = g.ndata[\"train_mask\"]\n",
    "    val_mask = g.ndata[\"val_mask\"]\n",
    "    test_mask = g.ndata[\"test_mask\"]\n",
    "    for epoch in range(100):\n",
    "        logits = model(g, features)\n",
    "        pred = logits.argmax(1)      # a batch of predictions, so take argmax along axis=1\n",
    "        loss = F.cross_entropy(logits[train_mask], labels[train_mask])\n",
    "\n",
    "        train_acc = (pred[train_mask] == labels[train_mask]).float().mean()\n",
    "        val_acc = (pred[val_mask] == labels[val_mask]).float().mean()\n",
    "        test_acc = (pred[test_mask] == labels[test_mask]).float().mean()\n",
    "\n",
    "        if best_val_acc < val_acc:\n",
    "            best_val_acc = val_acc\n",
    "            best_test_acc = test_acc\n",
    "\n",
    "        optimizer.zero_grad()\n",
    "        loss.backward()\n",
    "        optimizer.step()\n",
    "\n",
    "        if epoch % 5 == 0:\n",
    "            print(f\"(epoch {epoch:03d})\\n\\tloss = {loss:.4f}\\n\\tval_acc = {val_acc:.4f} (best = {best_val_acc:.4f})\\n\\ttest_acc = {test_acc:.4f} (best = {best_test_acc:.4f})\")"
   ]
  },
  {
   "cell_type": "markdown",
   "id": "34f5d9a0",
   "metadata": {},
   "source": [
    "The next cell\n",
    "\n",
    "- cannot run under my Arch Linux (cf. maybe <https://github.com/hfp/libxsmm>)\n",
    "  ```\n",
    "  DGLError: [18:11:38] /opt/dgl/src/array/cpu/./spmm_blocking_libxsmm.h:267: Failed to generate libxsmm kernel for the SpMM operation!\n",
    "  ```\n",
    "  - Mabye `libxsmm` needs to be manually installed and configured on Arch Linux\n",
    "- runs fine on my Fedora 33"
   ]
  },
  {
   "cell_type": "code",
   "execution_count": 17,
   "id": "37a9153f",
   "metadata": {
    "scrolled": true
   },
   "outputs": [
    {
     "name": "stdout",
     "output_type": "stream",
     "text": [
      "(epoch 000)\n",
      "\tloss = 1.9451\n",
      "\tval_acc = 0.1760 (best = 0.1760)\n",
      "\ttest_acc = 0.1900 (best = 0.1900)\n",
      "(epoch 005)\n",
      "\tloss = 1.8834\n",
      "\tval_acc = 0.6000 (best = 0.6040)\n",
      "\ttest_acc = 0.5940 (best = 0.6060)\n",
      "(epoch 010)\n",
      "\tloss = 1.7932\n",
      "\tval_acc = 0.4440 (best = 0.6040)\n",
      "\ttest_acc = 0.4530 (best = 0.6060)\n",
      "(epoch 015)\n",
      "\tloss = 1.6799\n",
      "\tval_acc = 0.5360 (best = 0.6040)\n",
      "\ttest_acc = 0.5540 (best = 0.6060)\n",
      "(epoch 020)\n",
      "\tloss = 1.5446\n",
      "\tval_acc = 0.6440 (best = 0.6440)\n",
      "\ttest_acc = 0.6470 (best = 0.6470)\n",
      "(epoch 025)\n",
      "\tloss = 1.3906\n",
      "\tval_acc = 0.6860 (best = 0.6860)\n",
      "\ttest_acc = 0.6830 (best = 0.6830)\n",
      "(epoch 030)\n",
      "\tloss = 1.2237\n",
      "\tval_acc = 0.7180 (best = 0.7180)\n",
      "\ttest_acc = 0.7150 (best = 0.7090)\n",
      "(epoch 035)\n",
      "\tloss = 1.0518\n",
      "\tval_acc = 0.7380 (best = 0.7380)\n",
      "\ttest_acc = 0.7310 (best = 0.7310)\n",
      "(epoch 040)\n",
      "\tloss = 0.8840\n",
      "\tval_acc = 0.7520 (best = 0.7520)\n",
      "\ttest_acc = 0.7470 (best = 0.7440)\n",
      "(epoch 045)\n",
      "\tloss = 0.7287\n",
      "\tval_acc = 0.7700 (best = 0.7700)\n",
      "\ttest_acc = 0.7500 (best = 0.7500)\n",
      "(epoch 050)\n",
      "\tloss = 0.5919\n",
      "\tval_acc = 0.7680 (best = 0.7720)\n",
      "\ttest_acc = 0.7560 (best = 0.7530)\n",
      "(epoch 055)\n",
      "\tloss = 0.4766\n",
      "\tval_acc = 0.7720 (best = 0.7720)\n",
      "\ttest_acc = 0.7650 (best = 0.7530)\n",
      "(epoch 060)\n",
      "\tloss = 0.3825\n",
      "\tval_acc = 0.7780 (best = 0.7780)\n",
      "\ttest_acc = 0.7700 (best = 0.7700)\n",
      "(epoch 065)\n",
      "\tloss = 0.3076\n",
      "\tval_acc = 0.7780 (best = 0.7780)\n",
      "\ttest_acc = 0.7680 (best = 0.7700)\n",
      "(epoch 070)\n",
      "\tloss = 0.2488\n",
      "\tval_acc = 0.7760 (best = 0.7780)\n",
      "\ttest_acc = 0.7750 (best = 0.7700)\n",
      "(epoch 075)\n",
      "\tloss = 0.2029\n",
      "\tval_acc = 0.7760 (best = 0.7780)\n",
      "\ttest_acc = 0.7750 (best = 0.7700)\n",
      "(epoch 080)\n",
      "\tloss = 0.1672\n",
      "\tval_acc = 0.7780 (best = 0.7780)\n",
      "\ttest_acc = 0.7760 (best = 0.7700)\n",
      "(epoch 085)\n",
      "\tloss = 0.1393\n",
      "\tval_acc = 0.7740 (best = 0.7780)\n",
      "\ttest_acc = 0.7740 (best = 0.7700)\n",
      "(epoch 090)\n",
      "\tloss = 0.1174\n",
      "\tval_acc = 0.7780 (best = 0.7780)\n",
      "\ttest_acc = 0.7710 (best = 0.7700)\n",
      "(epoch 095)\n",
      "\tloss = 0.1000\n",
      "\tval_acc = 0.7740 (best = 0.7780)\n",
      "\ttest_acc = 0.7710 (best = 0.7700)\n"
     ]
    }
   ],
   "source": [
    "train(g, model)"
   ]
  },
  {
   "cell_type": "code",
   "execution_count": null,
   "id": "a65ef2f2",
   "metadata": {},
   "outputs": [],
   "source": []
  }
 ],
 "metadata": {
  "kernelspec": {
   "display_name": "Python 3 (ipykernel)",
   "language": "python",
   "name": "python3"
  },
  "language_info": {
   "codemirror_mode": {
    "name": "ipython",
    "version": 3
   },
   "file_extension": ".py",
   "mimetype": "text/x-python",
   "name": "python",
   "nbconvert_exporter": "python",
   "pygments_lexer": "ipython3",
   "version": "3.7.9"
  }
 },
 "nbformat": 4,
 "nbformat_minor": 5
}
