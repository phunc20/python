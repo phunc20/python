{
 "cells": [
  {
   "cell_type": "markdown",
   "id": "39f24703-a860-495f-b6fd-ac456f23ba2d",
   "metadata": {},
   "source": [
    "# Google Translate"
   ]
  },
  {
   "cell_type": "code",
   "execution_count": 1,
   "id": "aaf3ba8f-e77b-4547-90ee-74b468aa063c",
   "metadata": {},
   "outputs": [],
   "source": [
    "import urllib\n",
    "\n",
    "import requests\n",
    "from nltk import sent_tokenize"
   ]
  },
  {
   "cell_type": "code",
   "execution_count": 2,
   "id": "9e6ddc49-6e93-46a4-8546-716b45b21c42",
   "metadata": {},
   "outputs": [],
   "source": [
    "BASE_URL = \"https://translate.google.com/m\"\n",
    "# BASE_URL = \"https://translate.google.com/\"\n",
    "CHAR_LIMIT = 5000"
   ]
  },
  {
   "cell_type": "code",
   "execution_count": 3,
   "id": "c87d5091-4c4b-4f16-8ad0-50a26e1a2c57",
   "metadata": {},
   "outputs": [],
   "source": [
    "from typing import Sequence"
   ]
  },
  {
   "cell_type": "code",
   "execution_count": 4,
   "id": "59da4ea4-1b4f-4ccf-8fd7-f0ea05d4579e",
   "metadata": {},
   "outputs": [
    {
     "data": {
      "text/plain": [
       "'https://translate.google.com/m?sl=en&tl=de&q=What you see is what you get.'"
      ]
     },
     "execution_count": 4,
     "metadata": {},
     "output_type": "execute_result"
    }
   ],
   "source": [
    "source_lang_code = \"en\"\n",
    "target_lang_code = \"de\"\n",
    "text = \"What you see is what you get.\"\n",
    "\n",
    "query_url = urllib.parse.urljoin(\n",
    "    BASE_URL,\n",
    "    f\"?sl={source_lang_code}&tl={target_lang_code}&q={text}\"\n",
    ")\n",
    "query_url"
   ]
  },
  {
   "cell_type": "markdown",
   "id": "0f48adce-bffd-40df-b7cb-c97f42b39ac2",
   "metadata": {},
   "source": [
    "## The `requests` Package"
   ]
  },
  {
   "cell_type": "code",
   "execution_count": 5,
   "id": "fb708ed2-3946-4f1f-b6dd-2320457610e2",
   "metadata": {},
   "outputs": [
    {
     "data": {
      "text/plain": [
       "<Response [200]>"
      ]
     },
     "execution_count": 5,
     "metadata": {},
     "output_type": "execute_result"
    }
   ],
   "source": [
    "response = requests.get(query_url)\n",
    "response"
   ]
  },
  {
   "cell_type": "code",
   "execution_count": 6,
   "id": "b8d1fabc-d377-408f-8b77-7d0fb7e510aa",
   "metadata": {},
   "outputs": [
    {
     "data": {
      "text/plain": [
       "requests.models.Response"
      ]
     },
     "execution_count": 6,
     "metadata": {},
     "output_type": "execute_result"
    }
   ],
   "source": [
    "type(response)"
   ]
  },
  {
   "cell_type": "code",
   "execution_count": 7,
   "id": "2f0c12f6-6b1c-4ceb-bf4e-3e2c5bb83384",
   "metadata": {},
   "outputs": [
    {
     "data": {
      "text/plain": [
       "200"
      ]
     },
     "execution_count": 7,
     "metadata": {},
     "output_type": "execute_result"
    }
   ],
   "source": [
    "response.status_code"
   ]
  },
  {
   "cell_type": "code",
   "execution_count": 8,
   "id": "d94f588b-5502-4374-b0a8-7b497b1616c7",
   "metadata": {},
   "outputs": [],
   "source": [
    "html_str = response.text"
   ]
  },
  {
   "cell_type": "code",
   "execution_count": 9,
   "id": "440322e3-4355-4d78-ab68-6b2940c1696a",
   "metadata": {},
   "outputs": [
    {
     "name": "stdout",
     "output_type": "stream",
     "text": [
      "<!DOCTYPE html><html dir=\"ltr\" lang=\"en-US\"><head><title>Google Translate</title><meta name=\"google\" content=\"notranslate\"><meta name=\"viewport\" content=\"width=device-width,initial-scale=1\"><link rel=\"icon\" href=\"//ssl.gstatic.com/translate/favicon.ico\" sizes=\"64x64\"><style nonce=\"fGjWyIZ0p7tpgBJ41EESFg\">\n",
      "    body {\n",
      "      font-family: 'Arial', sans-serif;\n",
      "      margin: 0;\n",
      "    }\n",
      "    a:link,\n",
      "    a:visited,\n",
      "    a:active {\n",
      "      color: #1a73e8; /* blue 600 */\n",
      "      text-decoration: none;\n",
      "    }\n",
      "    . \n",
      "\n",
      "...\n",
      "\n",
      " =\"Translate\" class=\"translate-button\"></div></form></div><div class=\"result-container\">Was Sie sehen, ist, was Sie bekommen.</div><div class=\"links-container\"><ul><li><a href=\"https://www.google.com/m?hl=en-US\">Google home</a></li><li><a href=\"https://www.google.com/tools/feedback/survey/xhtml?productId=95112&hl=en-US\">Send feedback</a></li><li><a href=\"https://www.google.com/intl/en-US/policies\">Privacy and terms</a></li><li><a href=\"./full\">Switch to full site</a></li></ul></div></body></html>\n"
     ]
    }
   ],
   "source": [
    "print(html_str[:500], \"\\n\\n...\\n\\n\", html_str[-500:])"
   ]
  },
  {
   "cell_type": "markdown",
   "id": "bfd3a56c-65a8-4dce-a10e-0fba85804e6e",
   "metadata": {},
   "source": [
    "## Parse HTML"
   ]
  },
  {
   "cell_type": "raw",
   "id": "c15dd0f8-5b82-4ae4-aa33-db15fbb53c31",
   "metadata": {},
   "source": [
    "from html.parser import HTMLParser"
   ]
  },
  {
   "cell_type": "code",
   "execution_count": 11,
   "id": "ee814674-cd55-44a0-83b5-4041fdae7e52",
   "metadata": {},
   "outputs": [],
   "source": [
    "from lxml import html"
   ]
  },
  {
   "cell_type": "code",
   "execution_count": 12,
   "id": "f574197b-a7ac-489c-8168-6b0afaa7f623",
   "metadata": {},
   "outputs": [],
   "source": [
    "tree = html.fromstring(html_str)"
   ]
  },
  {
   "cell_type": "code",
   "execution_count": 13,
   "id": "cfef67d5-608d-468b-99c5-b342a7641e66",
   "metadata": {},
   "outputs": [
    {
     "data": {
      "text/plain": [
       "lxml.html.HtmlElement"
      ]
     },
     "execution_count": 13,
     "metadata": {},
     "output_type": "execute_result"
    }
   ],
   "source": [
    "type(tree)"
   ]
  },
  {
   "cell_type": "code",
   "execution_count": 14,
   "id": "fa13fa60-d956-48e9-a2cd-fb2ad1185557",
   "metadata": {},
   "outputs": [],
   "source": [
    "result_list = tree.xpath(\"//div[@class='result-container']\")"
   ]
  },
  {
   "cell_type": "code",
   "execution_count": 15,
   "id": "9ec19bd2-eafc-4047-84b1-a98e20c51806",
   "metadata": {},
   "outputs": [
    {
     "data": {
      "text/plain": [
       "<Element div at 0x7b4fe088a9e0>"
      ]
     },
     "execution_count": 15,
     "metadata": {},
     "output_type": "execute_result"
    }
   ],
   "source": [
    "result_list[0]"
   ]
  },
  {
   "cell_type": "code",
   "execution_count": 16,
   "id": "b85283cd-f4ab-43d0-86ae-3716f02acb2a",
   "metadata": {},
   "outputs": [
    {
     "data": {
      "text/plain": [
       "'Was Sie sehen, ist, was Sie bekommen.'"
      ]
     },
     "execution_count": 16,
     "metadata": {},
     "output_type": "execute_result"
    }
   ],
   "source": [
    "result_list[0].text_content()"
   ]
  },
  {
   "cell_type": "markdown",
   "id": "8446af6c-35c1-4051-b038-c89fc4cd19df",
   "metadata": {},
   "source": [
    "## Write The Above into (Synchronous) Functions"
   ]
  },
  {
   "cell_type": "code",
   "execution_count": 18,
   "id": "c624e5ee-fc80-4b28-b144-22623ce28961",
   "metadata": {},
   "outputs": [],
   "source": [
    "from typing import TypeAlias\n",
    "\n",
    "#Response: TypeAlias = \n",
    "#type Response = requests.models.responseonse | aiohttp.Clientresponseonse\n",
    "\n",
    "def short_sync_google_translate(\n",
    "    text: str,\n",
    "    *,\n",
    "    source_lang_code: str,\n",
    "    target_lang_code: str\n",
    ") -> str:\n",
    "    query_url = urllib.parse.urljoin(\n",
    "        BASE_URL,\n",
    "        f\"?sl={source_lang_code}&tl={target_lang_code}&q={text[:CHAR_LIMIT]}\",\n",
    "    )\n",
    "    response = requests.get(query_url)\n",
    "    if response.status_code != 200:\n",
    "        return f\"Status code: {response.status_code}\"\n",
    "\n",
    "    return extract_translation(response.text)\n",
    "\n",
    "\n",
    "def extract_translation(html_str: str):\n",
    "    tree = html.fromstring(html_str)\n",
    "    found_list = tree.xpath(\"//div[@class='result-container']\")\n",
    "    if len(found_list) == 0:\n",
    "        return \"\"\n",
    "    else:\n",
    "        return found_list[0].text_content()"
   ]
  },
  {
   "cell_type": "code",
   "execution_count": 19,
   "id": "f59db753-6818-4d52-95c7-1b2d0e77fd50",
   "metadata": {},
   "outputs": [
    {
     "data": {
      "text/plain": [
       "'Was Sie sehen, ist, was Sie bekommen.'"
      ]
     },
     "execution_count": 19,
     "metadata": {},
     "output_type": "execute_result"
    }
   ],
   "source": [
    "short_sync_google_translate(\n",
    "    text,\n",
    "    source_lang_code=\"en\",\n",
    "    target_lang_code=\"de\",\n",
    ")"
   ]
  },
  {
   "cell_type": "code",
   "execution_count": 20,
   "id": "d42cb84c-2296-4e6d-87ae-a0e91ca21569",
   "metadata": {},
   "outputs": [
    {
     "data": {
      "text/plain": [
       "[]"
      ]
     },
     "execution_count": 20,
     "metadata": {},
     "output_type": "execute_result"
    }
   ],
   "source": [
    "sent_tokenize(\"\")"
   ]
  },
  {
   "cell_type": "code",
   "execution_count": null,
   "id": "15f46cc3-c5c1-4533-ad67-134467de4239",
   "metadata": {},
   "outputs": [],
   "source": [
    "def sync_google_translate(\n",
    "    text: str,\n",
    "    *,\n",
    "    source_lang_code: str,\n",
    "    target_lang_code: str,\n",
    ") -> str:\n",
    "    if len(text) <= CHAR_LIMIT:\n",
    "        return short_sync_google_translate(\n",
    "            text,\n",
    "            source_lang_code=source_lang_code,\n",
    "            target_lang_code=target_lang_code,\n",
    "        )\n",
    "\n",
    "    chunks = split_into_chunks(text)\n",
    "    return \" \".join(\n",
    "        short_sync_google_translate(\n",
    "            chunk,\n",
    "            source_lang_code=source_lang_code,\n",
    "            target_lang_code=target_lang_code,\n",
    "        )\n",
    "        for chunk in chunks\n",
    "    )\n",
    "\n",
    "def split_into_chunks(text: str, chunk_char_limit: int = CHAR_LIMIT) -> list[str]:\n",
    "    \"\"\"\n",
    "    Google translate accepts as many as CHAR_LIMIT characters\n",
    "    in a single request.\n",
    "\n",
    "    sent_tokenize's return value is a list of sentences.\n",
    "\n",
    "    We concatenate sentences into chunks as close to CHAR_LIMIT\n",
    "    as possible to reduce the number of requests.\n",
    "    \"\"\"\n",
    "    sentences = sent_tokenize(text)\n",
    "    return seq_concat(sentences, chunk_char_limit)"
   ]
  },
  {
   "cell_type": "code",
   "execution_count": null,
   "id": "fc20297d-dd1a-47c1-a749-c21041149ace",
   "metadata": {},
   "outputs": [],
   "source": [
    "# def seq_concat(\n",
    "#     sentences: Sequence[str],\n",
    "#     chunk_char_limit: int = CHAR_LIMIT\n",
    "# ) -> list[str]:\n",
    "#     n_chars = 0\n",
    "#     start_index = 0\n",
    "#     end_index = 0\n",
    "#     chunks = []\n",
    "#     for i, sent in enumerate(sentences):\n",
    "#         if len(sent) > chunk_char_limit:\n",
    "#             raise ValueError(\n",
    "#                 f\"sentences[{i}] contains {len(sent)} > {chunk_char_limit = } chars.\"\n",
    "#             )\n",
    "#         n_chars += len(sent) + 1\n",
    "#         if n_chars > chunk_char_limit:\n",
    "#             end_index = i\n",
    "#             chunk = \" \".join(sentences[start_index : end_index])\n",
    "#             chunks.append(chunk)\n",
    "#             start_index = i\n",
    "#             n_chars = 0\n",
    "\n",
    "#     # sentences as a single chunk not even reachs CHAR_LIMIT\n",
    "#     if len(chunks) == 0:\n",
    "#         chunks = [\" \".join(sentences)]\n",
    "#         return chunks\n",
    "\n",
    "#     # Avoid overlook of last chunk\n",
    "#     if end_index < len(sentences) - 1:\n",
    "#         chunk = \" \".join(sentences[start_index :])\n",
    "#         chunks.append(chunk)\n",
    "#         return chunks"
   ]
  },
  {
   "cell_type": "code",
   "execution_count": 26,
   "id": "ce7ad470-01f7-4fae-b78c-84d7aac0bd50",
   "metadata": {},
   "outputs": [],
   "source": [
    "from typing import Generator\n",
    "\n",
    "def seq_concat(\n",
    "    sentences: Sequence[str],\n",
    "    chunk_char_limit: int = CHAR_LIMIT\n",
    ") -> Generator[str, None, None]:\n",
    "\n",
    "    # sentences as a single chunk not even reachs CHAR_LIMIT\n",
    "    if sum(len(sent) for sent in sentences) <= chunk_char_limit:\n",
    "        yield \" \".join(sentences)\n",
    "        return\n",
    "\n",
    "    n_chars = 0\n",
    "    start_index = 0\n",
    "    end_index = 0\n",
    "    for i, sent in enumerate(sentences):\n",
    "        if len(sent) > chunk_char_limit:\n",
    "            raise ValueError(\n",
    "                f\"sentences[{i}] contains {len(sent)} > {chunk_char_limit = } chars.\"\n",
    "            )\n",
    "        n_chars += len(sent) + 1\n",
    "        if n_chars > chunk_char_limit:\n",
    "            end_index = i\n",
    "            chunk = \" \".join(sentences[start_index : end_index])\n",
    "            yield chunk\n",
    "            start_index = i\n",
    "            n_chars = 0\n",
    "\n",
    "    # Avoid overlook of last chunk\n",
    "    if end_index < len(sentences) - 1:\n",
    "        chunk = \" \".join(sentences[start_index :])\n",
    "        yield chunk"
   ]
  },
  {
   "cell_type": "markdown",
   "id": "464fb6b1-f742-4840-9ef5-55ab5004dfe5",
   "metadata": {},
   "source": [
    "## Long Text `animal_farm.txt`\n",
    "Text downloaded from <https://gutenberg.net.au/ebooks01/0100011.txt>."
   ]
  },
  {
   "cell_type": "code",
   "execution_count": 42,
   "id": "10c14140-3d69-49f2-9667-8ef2fd10c56c",
   "metadata": {},
   "outputs": [],
   "source": [
    "with open(\"animal_farm.txt\", \"r\") as f:\n",
    "    long_text = f.read()"
   ]
  },
  {
   "cell_type": "code",
   "execution_count": 47,
   "id": "2df96ca2-0db5-4b93-9527-b4b7f8ee8932",
   "metadata": {},
   "outputs": [
    {
     "name": "stdout",
     "output_type": "stream",
     "text": [
      "\n",
      "\n",
      "Project Gutenberg Australia\n",
      "\n",
      "\n",
      "\n",
      "Title:      Animal Farm\n",
      "Author:     George Orwell (pseudonym of Eric Blair) (1903-1950)\n",
      "* A Project Gutenberg of Australia eBook *\n",
      "eBook No.:  0100011.txt\n",
      "Language:   English\n",
      "Date first posted:          August 2001\n",
      "Date most recently updated: March 2008\n",
      "\n",
      "Project Gutenberg of Australia eBooks are created from printed editions\n",
      "which are in the public domain in Australia, unless a copyright notice\n",
      "is included. We do NOT keep any eBooks in compliance with a particular\n",
      "paper edition.\n",
      "\n",
      "Copyright laws are changing all over the world. Be sure to check the\n",
      "copyright laws for your country before downloading or redistributing this\n",
      "file.\n",
      "\n",
      "This eBook is made available at no cost and with almost no restrictions\n",
      "whatsoever. You may copy it, give it away or re-use it under the terms\n",
      "of the Project Gutenberg of Australia License which may be viewed online at\n",
      "gutenberg.net.au/licence.html\n",
      "\n",
      "To contact Project Gutenberg of Australia go to gutenberg.net.au\n",
      "\n",
      "\n",
      "Title:      Ani \n",
      "\n",
      "...\n",
      "\n",
      " r, some had three. But\n",
      "what was it that seemed to be melting and changing? Then, the applause\n",
      "having come to an end, the company took up their cards and continued the\n",
      "game that had been interrupted, and the animals crept silently away.\n",
      "\n",
      "But they had not gone twenty yards when they stopped short. An uproar of\n",
      "voices was coming from the farmhouse. They rushed back and looked through\n",
      "the window again. Yes, a violent quarrel was in progress. There were\n",
      "shoutings, bangings on the table, sharp suspicious glances, furious\n",
      "denials. The source of the trouble appeared to be that Napoleon and\n",
      "Mr. Pilkington had each played an ace of spades simultaneously.\n",
      "\n",
      "Twelve voices were shouting in anger, and they were all alike. No question,\n",
      "now, what had happened to the faces of the pigs. The creatures outside\n",
      "looked from pig to man, and from man to pig, and from pig to man again;\n",
      "but already it was impossible to say which was which.\n",
      "\n",
      "\n",
      "November 1943-February 1944\n",
      "\n",
      "\n",
      "\n",
      "THE END\n",
      "\n",
      "\n",
      "Project Gutenberg Australia\n",
      "\n",
      "\n",
      "\n"
     ]
    }
   ],
   "source": [
    "n_chars = 1000\n",
    "print(long_text[:n_chars], \"\\n\\n...\\n\\n\", long_text[-n_chars:])"
   ]
  },
  {
   "cell_type": "code",
   "execution_count": 29,
   "id": "60bb4fd9-f584-4c30-84a7-91a4cdcbf2b0",
   "metadata": {},
   "outputs": [
    {
     "ename": "ValueError",
     "evalue": "sentences[0] contains 10446 > chunk_char_limit = 5000 chars.",
     "output_type": "error",
     "traceback": [
      "\u001b[0;31m---------------------------------------------------------------------------\u001b[0m",
      "\u001b[0;31mValueError\u001b[0m                                Traceback (most recent call last)",
      "Cell \u001b[0;32mIn[29], line 3\u001b[0m\n\u001b[1;32m      1\u001b[0m \u001b[38;5;66;03m# Testing\u001b[39;00m\n\u001b[1;32m      2\u001b[0m g \u001b[38;5;241m=\u001b[39m seq_concat([long_text])\n\u001b[0;32m----> 3\u001b[0m \u001b[38;5;28;43;01mfor\u001b[39;49;00m\u001b[43m \u001b[49m\u001b[43mi\u001b[49m\u001b[43m \u001b[49m\u001b[38;5;129;43;01min\u001b[39;49;00m\u001b[43m \u001b[49m\u001b[43mg\u001b[49m\u001b[43m:\u001b[49m\n\u001b[1;32m      4\u001b[0m \u001b[43m    \u001b[49m\u001b[38;5;28;43;01mpass\u001b[39;49;00m\n",
      "Cell \u001b[0;32mIn[26], line 18\u001b[0m, in \u001b[0;36mseq_concat\u001b[0;34m(sentences, chunk_char_limit)\u001b[0m\n\u001b[1;32m     16\u001b[0m \u001b[38;5;28;01mfor\u001b[39;00m i, sent \u001b[38;5;129;01min\u001b[39;00m \u001b[38;5;28menumerate\u001b[39m(sentences):\n\u001b[1;32m     17\u001b[0m     \u001b[38;5;28;01mif\u001b[39;00m \u001b[38;5;28mlen\u001b[39m(sent) \u001b[38;5;241m>\u001b[39m chunk_char_limit:\n\u001b[0;32m---> 18\u001b[0m         \u001b[38;5;28;01mraise\u001b[39;00m \u001b[38;5;167;01mValueError\u001b[39;00m(\n\u001b[1;32m     19\u001b[0m             \u001b[38;5;124mf\u001b[39m\u001b[38;5;124m\"\u001b[39m\u001b[38;5;124msentences[\u001b[39m\u001b[38;5;132;01m{\u001b[39;00mi\u001b[38;5;132;01m}\u001b[39;00m\u001b[38;5;124m] contains \u001b[39m\u001b[38;5;132;01m{\u001b[39;00m\u001b[38;5;28mlen\u001b[39m(sent)\u001b[38;5;132;01m}\u001b[39;00m\u001b[38;5;124m > \u001b[39m\u001b[38;5;132;01m{\u001b[39;00mchunk_char_limit\u001b[38;5;250m \u001b[39m\u001b[38;5;132;01m= }\u001b[39;00m\u001b[38;5;124m chars.\u001b[39m\u001b[38;5;124m\"\u001b[39m\n\u001b[1;32m     20\u001b[0m         )\n\u001b[1;32m     21\u001b[0m     n_chars \u001b[38;5;241m+\u001b[39m\u001b[38;5;241m=\u001b[39m \u001b[38;5;28mlen\u001b[39m(sent) \u001b[38;5;241m+\u001b[39m \u001b[38;5;241m1\u001b[39m\n\u001b[1;32m     22\u001b[0m     \u001b[38;5;28;01mif\u001b[39;00m n_chars \u001b[38;5;241m>\u001b[39m chunk_char_limit:\n",
      "\u001b[0;31mValueError\u001b[0m: sentences[0] contains 10446 > chunk_char_limit = 5000 chars."
     ]
    }
   ],
   "source": [
    "# Testing\n",
    "g = seq_concat([long_text])\n",
    "for i in g:\n",
    "    pass"
   ]
  },
  {
   "cell_type": "code",
   "execution_count": 30,
   "id": "05d5e5d4-f25d-41e9-8b2a-940fbf0fe627",
   "metadata": {},
   "outputs": [
    {
     "data": {
      "text/plain": [
       "'Vor vielen Jahren lebte ein Kaiser, der so sehr auf neue Kleider stand, dass er sein ganzes Geld für Kleidung ausgab. Er kümmerte sich nicht im Geringsten um seine Soldaten, und er ging weder gern ins Theater noch auf die Jagd, es sei denn, er hatte Gelegenheit, seine neuen Kleider zu zeigen. Er trug für jede Stunde des Tages einen anderen Anzug, und wie von jedem anderen König oder Kaiser sagt man gewöhnlich: „Er sitzt im Rat“, so sagte man von ihm immer: „Der Kaiser sitzt in seiner Garderobe.“ In der großen Stadt, die seine Hauptstadt war, verging die Zeit fröhlich; jeden Tag kamen Fremde an den Hof. Eines Tages tauchten zwei Schurken auf, die sich Weber nannten. Sie gaben vor, Stoffe in den schönsten Farben und mit den aufwendigsten Mustern zu weben, und die daraus hergestellten Kleider sollten die wunderbare Eigenschaft haben, für jeden unsichtbar zu bleiben, der für sein Amt ungeeignet war oder einen außergewöhnlich einfachen Charakter hatte. „Das müssen wirklich prächtige Kleider sein!“, dachte der Kaiser. „Hätte ich einen solchen Anzug, so könnte ich sofort herausfinden, welche Männer in meinen Reichen für ihr Amt ungeeignet sind, und auch die Weisen von den Dummen unterscheiden! Dieser Stoff muss sofort für mich gewebt werden.“ Und er ließ den beiden Webern große Geldsummen geben, damit sie sofort mit der Arbeit beginnen konnten. Also stellten die beiden angeblichen Weber zwei Webstühle auf und gaben vor, sehr fleißig zu arbeiten, obwohl sie in Wirklichkeit gar nichts taten. Sie ließen sich die feinste Seide und den reinsten Goldfaden geben, steckten beides in ihre eigenen Ranzen und setzten dann ihre angebliche Arbeit an den leeren Webstühlen bis spät in die Nacht fort. „Ich möchte wissen, wie die Weber mit meinem Tuch vorankommen“, sagte sich der Kaiser nach einiger Zeit; er war jedoch etwas verlegen, als er daran dachte, dass ein Einfaltspinsel oder jemand, der für sein Amt ungeeignet war, die Herstellung nicht sehen konnte. Freilich dachte er, er hätte in seiner eigenen Person nichts zu riskieren; aber doch wollte er lieber jemand anders schicken, der ihm Nachrichten über die Weber und ihre Arbeit brachte, bevor er sich selbst in die Sache einmischte. Alle Leute in der ganzen Stadt hatten von dem wunderbaren Besitz gehört, den das Tuch besitzen sollte, und alle waren begierig zu erfahren, wie weise oder wie unwissend ihre Nachbarn sich erweisen würden. „Ich werde meinen treuen alten Minister zu den Webern schicken“, sagte der Kaiser schließlich nach einigem Überlegen, „er wird am besten sehen können, wie das Tuch aussieht, denn er ist ein Mann mit Verstand, und niemand könnte für sein Amt geeigneter sein als er.“ Also ging der treue alte Minister in die Halle, wo die Schurken mit aller Kraft an ihren leeren Webstühlen arbeiteten. „Was kann das bedeuten?“, dachte der alte Mann und riss die Augen weit auf. „Ich kann nicht das geringste Stückchen Faden auf den Webstühlen entdecken.“ Er sprach seine Gedanken jedoch nicht laut aus. Die Betrüger baten ihn sehr höflich, so gut zu sein und näher an ihre Webstühle zu kommen; und fragte ihn dann, ob ihm das Muster gefalle und ob die Farben nicht sehr schön seien; dabei zeigte er auf die leeren Rahmen. Der arme alte Minister schaute und schaute, er konnte nichts auf den Webstühlen entdecken, und zwar aus einem sehr guten Grund, nämlich: da war nichts. „Was!“, dachte er wieder. „Ist es möglich, dass ich ein Dummkopf bin? Ich habe selbst nie so gedacht; und niemand darf es jetzt wissen, wenn ich einer bin. Kann es sein, dass ich für mein Amt ungeeignet bin? Nein, das darf auch nicht gesagt werden. Ich werde nie zugeben, dass ich das Zeug nicht sehen konnte.“ „Nun, Herr Minister!“, sagte einer der Schurken und tat immer noch so, als würde er arbeiten. „Sie sagen nicht, ob Ihnen das Zeug gefällt.“ „Oh, es ist ausgezeichnet!“, antwortete der alte Minister und betrachtete den Webstuhl durch seine Brille. „Ja, dieses Muster und die Farben werde ich dem Kaiser unverzüglich mitteilen, wie schön ich sie finde.“ „Wir wären Ihnen sehr verbunden“, sagten die Betrüger, und dann nannten sie die verschiedenen Farben und beschrieben das Muster des vorgetäuschten Stoffes. Der alte Minister hörte ihren Worten aufmerksam zu, um sie dem Kaiser zu wiederholen; und dann verlangten die Schurken mehr Seide und Gold und sagten, das sei notwendig, um das zu vollenden, was sie begonnen hatten. Sie steckten jedoch alles, was man ihnen gab, in ihre Tornister und arbeiteten mit ebenso viel scheinbarem Fleiß wie zuvor an ihren leeren Webstühlen weiter. Der Kaiser schickte nun einen anderen Beamten seines Hofes, um nachzusehen, wie die Männer vorankämen und um festzustellen, ob der Stoff bald fertig sein würde. Diesem Herrn ging es genauso wie dem Minister; er musterte die Webstühle von allen Seiten, konnte aber nichts als die leeren Rahmen sehen. „Erscheint Ihnen der Stoff nicht so schön wie meinem Herrn, dem Minister?“, fragten die Betrüger den zweiten Botschafter des Kaisers; Dabei machte er die gleichen Gesten wie zuvor und sprach von dem Muster und den Farben, die nicht da waren. „Ich bin bestimmt nicht dumm!“, dachte der Bote. „Es muss sein, dass ich für mein gutes, einträgliches Amt nicht geeignet bin! Das ist sehr merkwürdig; doch soll niemand etwas davon erfahren.“ Und dementsprechend lobte er das Zeug, das er nicht sehen konnte, und erklärte, dass er sowohl von Farben als auch von Mustern entzückt sei. „In der Tat, Eure kaiserliche Majestät,“ sagte er zu seinem Herrscher, als er zurückkam, „das Tuch, das die Weber herstellen, ist außerordentlich prächtig.“ Die ganze Stadt sprach von dem prächtigen Tuch, das der Kaiser auf seine Kosten hatte weben lassen. Und nun wollte der Kaiser selbst die kostbare Fabrikation sehen, während sie noch im Webstuhl war. Begleitet von einer ausgewählten Anzahl von Hofbeamten, unter denen sich die beiden ehrlichen Männer befanden, die das Tuch bereits bewundert hatten, ging er zu den schlauen Betrügern, die, sobald sie die Annäherung des Kaisers bemerkten, fleißiger als je zuvor weiterarbeiteten; obwohl sie noch immer keinen einzigen Faden durch die Webstühle zogen. „Ist die Arbeit nicht absolut prächtig?“, sagten die beiden bereits erwähnten Kronbeamten. „Wenn Eure Majestät sich das nur ansehen wollen! Was für ein prächtiges Muster! Was für herrliche Farben!“ und gleichzeitig zeigten sie auf die leeren Rahmen; denn sie stellten sich vor, dass jeder andere dieses exquisite Stück Arbeit sehen konnte. „Wie ist das?“, sagte sich der Kaiser. „Ich kann nichts sehen! Das ist wirklich eine schreckliche Sache! Bin ich ein Dummkopf oder bin ich nicht geeignet, Kaiser zu sein? Das wäre das Schlimmste, was passieren könnte – Oh! Der Stoff ist bezaubernd“, sagte er laut. „Er hat meine volle Zustimmung.“ Und er lächelte äußerst gnädig und betrachtete die leeren Webstühle genau; denn auf keinen Fall würde er sagen, dass er nicht sehen konnte, was zwei seiner Hofbeamten so sehr gelobt hatten. Sein ganzes Gefolge strengte nun die Augen an, in der Hoffnung, etwas auf den Webstühlen zu entdecken, aber sie konnten nicht mehr sehen als die anderen; trotzdem riefen sie alle aus: „Oh, wie schön!“ und riet Seiner Majestät, für die nahende Prozession neue Kleider aus diesem herrlichen Stoff anfertigen zu lassen. „Großartig! Bezaubernd! Vorzüglich!“ schallte es von allen Seiten, und alle waren außerordentlich heiter. Der Kaiser teilte die allgemeine Zufriedenheit und überreichte den Betrügern das Band eines Ritterordens zum Tragen im Knopfloch und den Titel „Herren Weber“. Die Schurken blieben die ganze Nacht vor dem Tage, an dem die Prozession stattfinden sollte, auf und ließen sechzehn Lichter brennen, damit jeder sehen konnte, wie sehr sie sich bemühten, des Kaisers neue Kleider fertigzustellen. Sie taten, als rollen sie den Stoff vom Webstuhl, schnitten mit ihren Scheren in die Luft und nähten mit Nadeln ohne Faden. „Seht!“ riefen sie schließlich, „des Kaisers neue Kleider sind fertig!“ Und nun kam der Kaiser mit allen Granden seines Hofes zu den Webern; und die Schurken hoben die Arme, als ob sie etwas hochhielten, und sagten: „Hier sind die Hosen Eurer Majestät! Hier ist der Schal! Hier ist der Mantel! Der ganze Anzug ist so leicht wie ein Spinnennetz; man könnte meinen, man hätte gar nichts an, wenn man ihn trägt; das ist jedoch die große Tugend dieses zarten Stoffes.“ „Ja, tatsächlich!“, sagten alle Höflinge, obwohl keiner von ihnen etwas von dieser exquisiten Verarbeitung sehen konnte. „Wenn Eure Kaiserliche Majestät die Güte hätte, Ihre Kleider auszuziehen, werden wir Ihnen vor dem Spiegel den neuen Anzug anprobieren.“ Der Kaiser wurde dementsprechend ausgezogen und die Schurken taten so, als würden sie ihm seinen neuen Anzug anziehen; der Kaiser drehte sich vor dem Spiegel von einer Seite auf die andere. „Wie prächtig Seine Majestät in seinen neuen Kleidern aussieht und wie gut sie passen!“, riefen alle. „Was für ein Muster! Was für Farben!“ Das sind wirklich königliche Gewänder!“ „Der Baldachin, der in der Prozession über Eurer Majestät getragen werden soll, wartet“, verkündete der Zeremonienmeister. „Ich bin ganz bereit“, antwortete der Kaiser. „Passen meine neuen Kleider gut?“ fragte er und drehte sich noch einmal vor dem Spiegel um, damit es so aussah, als würde er seinen schönen Anzug untersuchen. Die Kammerherren, die die Schleppe Seiner Majestät tragen sollten, tasteten auf dem Boden herum, als würden sie die Enden des Mantels hochheben, und taten so, als würden sie etwas tragen; denn sie wollten auf keinen Fall so etwas wie Einfalt oder Untauglichkeit für ihr Amt verraten. So ging nun der Kaiser unter seinem hohen Baldachin inmitten der Prozession durch die Straßen seiner Hauptstadt, und alle Umstehenden und jene an den Fenstern riefen: „Oh! Wie schön sind die neuen Kleider unseres Kaisers! Was für eine prächtige Schleppe hat der Mantel, und wie anmutig hängt der Schal!“ kurz gesagt, niemand würde zugeben, dass er diese vielbewunderten Kleider nicht sehen konnte; denn damit hätte er sich entweder als Dummkopf oder als ungeeignet für sein Amt erklärt. Sicherlich hatte keiner der verschiedenen Anzüge des Kaisers jemals einen so großen Eindruck gemacht wie diese unsichtbaren. „Aber der Kaiser hat überhaupt nichts an!“, sagte ein kleines Kind. „Hört auf die Stimme der Unschuld!“, rief sein Vater, und was das Kind gesagt hatte, wurde von einem zum anderen geflüstert. „Aber er hat gar nichts an!“, riefen schließlich alle Leute. Der Kaiser war verärgert, denn er wusste, dass die Leute recht hatten; aber er dachte, die Prozession müsse jetzt weitergehen! Und die Kammerherren gaben sich mehr Mühe als je zuvor, den Anschein zu erwecken, als hielten sie eine Schleppe, obwohl es in Wirklichkeit gar keine Schleppe gab, die sie hätten halten können.'"
      ]
     },
     "execution_count": 30,
     "metadata": {},
     "output_type": "execute_result"
    }
   ],
   "source": [
    "sync_google_translate(long_text, source_lang_code=\"en\", target_lang_code=\"de\")"
   ]
  },
  {
   "cell_type": "markdown",
   "id": "a23906bc-cea1-4456-95fe-8461546e5f19",
   "metadata": {},
   "source": [
    "## Async Counterpart"
   ]
  },
  {
   "cell_type": "markdown",
   "id": "38e41330-2acd-42e5-8b16-6301cbb8fd1e",
   "metadata": {},
   "source": [
    "We need to write\n",
    "- [ ] an `async_google_translate` function\n",
    "- [ ] an `short_async_google_translate` function"
   ]
  },
  {
   "cell_type": "code",
   "execution_count": 31,
   "id": "d80b6cf1-b690-4b0a-b8ad-ef0afb1bfe48",
   "metadata": {},
   "outputs": [],
   "source": [
    "import asyncio\n",
    "import aiohttp"
   ]
  },
  {
   "cell_type": "code",
   "execution_count": 32,
   "id": "a4f85ee9-d2fb-4fe5-8dec-302a89ce7344",
   "metadata": {},
   "outputs": [],
   "source": [
    "import nest_asyncio\n",
    "nest_asyncio.apply()"
   ]
  },
  {
   "cell_type": "raw",
   "id": "cdea6e96-d428-4772-a6e3-c8fa68bd5d65",
   "metadata": {},
   "source": [
    "async with aiohttp.ClientSession() as session:\n",
    "    async with session.get(query_url) as response:\n",
    "        pass\n",
    "dir(response)"
   ]
  },
  {
   "cell_type": "raw",
   "id": "7e40b7a7-f6f5-4899-a040-1cbc88a1950b",
   "metadata": {},
   "source": [
    "response.raise_for_status?"
   ]
  },
  {
   "cell_type": "code",
   "execution_count": 33,
   "id": "8fdecc29-f3fe-409e-9d13-6364bc512a14",
   "metadata": {},
   "outputs": [],
   "source": [
    "async def short_async_google_translate(\n",
    "    text: str,\n",
    "    *,\n",
    "    source_lang_code: str,\n",
    "    target_lang_code: str,\n",
    ") -> str:\n",
    "    query_url = urllib.parse.urljoin(\n",
    "        BASE_URL,\n",
    "        f\"?sl={source_lang_code}&tl={target_lang_code}&q={text[:CHAR_LIMIT]}\",\n",
    "    )\n",
    "    async with aiohttp.ClientSession() as session:\n",
    "        async with session.get(query_url) as response:\n",
    "            response.raise_for_status()\n",
    "            html_str = await response.text()\n",
    "    return extract_translation(html_str)"
   ]
  },
  {
   "cell_type": "code",
   "execution_count": 34,
   "id": "f6767314-eebb-436d-b0b4-aa985125371c",
   "metadata": {},
   "outputs": [
    {
     "data": {
      "text/plain": [
       "'Eine Person, die nie einen Fehler gemacht hat, hat nie etwas Neues ausprobiert.'"
      ]
     },
     "execution_count": 34,
     "metadata": {},
     "output_type": "execute_result"
    }
   ],
   "source": [
    "asyncio.run(short_async_google_translate(\n",
    "    \"A person who never made a mistake never tried anything new.\",\n",
    "    source_lang_code=\"en\",\n",
    "    target_lang_code=\"de\",\n",
    "))"
   ]
  },
  {
   "cell_type": "code",
   "execution_count": 35,
   "id": "6fb40772-9ce1-4313-a6ff-4a3f014f4dd2",
   "metadata": {},
   "outputs": [],
   "source": [
    "async def async_google_translate(\n",
    "    text: str,\n",
    "    *,\n",
    "    source_lang_code: str,\n",
    "    target_lang_code: str,\n",
    ") -> str:\n",
    "    if len(text) <= CHAR_LIMIT:\n",
    "        # TODO: cannot return like this\n",
    "        return await short_async_google_translate(\n",
    "            text,\n",
    "            source_lang_code=source_lang_code,\n",
    "            target_lang_code=target_lang_code,\n",
    "        )\n",
    "\n",
    "    chunks = split_into_chunks(text)\n",
    "    tasks = []\n",
    "    async with asyncio.TaskGroup() as tg:\n",
    "        for chunk in chunks:\n",
    "            tasks.append(tg.create_task(\n",
    "                short_async_google_translate(\n",
    "                    chunk,\n",
    "                    source_lang_code=source_lang_code,\n",
    "                    target_lang_code=target_lang_code,\n",
    "                )\n",
    "            ))\n",
    "    return \" \".join(\n",
    "        task.result()\n",
    "        for task in tasks\n",
    "    )"
   ]
  },
  {
   "cell_type": "code",
   "execution_count": 36,
   "id": "52c1c12e-ac43-4bd8-96bc-68d6bb9c5afd",
   "metadata": {},
   "outputs": [
    {
     "data": {
      "text/plain": [
       "'Vor vielen Jahren lebte ein Kaiser, der so sehr auf neue Kleider stand, dass er sein ganzes Geld für Kleidung ausgab. Er kümmerte sich nicht im Geringsten um seine Soldaten, und er ging weder gern ins Theater noch auf die Jagd, es sei denn, er hatte Gelegenheit, seine neuen Kleider zu zeigen. Er trug für jede Stunde des Tages einen anderen Anzug, und wie von jedem anderen König oder Kaiser sagt man gewöhnlich: „Er sitzt im Rat“, so sagte man von ihm immer: „Der Kaiser sitzt in seiner Garderobe.“ In der großen Stadt, die seine Hauptstadt war, verging die Zeit fröhlich; jeden Tag kamen Fremde an den Hof. Eines Tages tauchten zwei Schurken auf, die sich Weber nannten. Sie gaben vor, Stoffe in den schönsten Farben und mit den aufwendigsten Mustern zu weben, und die daraus hergestellten Kleider sollten die wunderbare Eigenschaft haben, für jeden unsichtbar zu bleiben, der für sein Amt ungeeignet war oder einen außergewöhnlich einfachen Charakter hatte. „Das müssen wirklich prächtige Kleider sein!“, dachte der Kaiser. „Hätte ich einen solchen Anzug, so könnte ich sofort herausfinden, welche Männer in meinen Reichen für ihr Amt ungeeignet sind, und auch die Weisen von den Dummen unterscheiden! Dieser Stoff muss sofort für mich gewebt werden.“ Und er ließ den beiden Webern große Geldsummen geben, damit sie sofort mit der Arbeit beginnen konnten. Also stellten die beiden angeblichen Weber zwei Webstühle auf und gaben vor, sehr fleißig zu arbeiten, obwohl sie in Wirklichkeit gar nichts taten. Sie ließen sich die feinste Seide und den reinsten Goldfaden geben, steckten beides in ihre eigenen Ranzen und setzten dann ihre angebliche Arbeit an den leeren Webstühlen bis spät in die Nacht fort. „Ich möchte wissen, wie die Weber mit meinem Tuch vorankommen“, sagte sich der Kaiser nach einiger Zeit; er war jedoch etwas verlegen, als er daran dachte, dass ein Einfaltspinsel oder jemand, der für sein Amt ungeeignet war, die Herstellung nicht sehen konnte. Freilich dachte er, er hätte in seiner eigenen Person nichts zu riskieren; aber doch wollte er lieber jemand anders schicken, der ihm Nachrichten über die Weber und ihre Arbeit brachte, bevor er sich selbst in die Sache einmischte. Alle Leute in der ganzen Stadt hatten von dem wunderbaren Besitz gehört, den das Tuch besitzen sollte, und alle waren begierig zu erfahren, wie weise oder wie unwissend ihre Nachbarn sich erweisen würden. „Ich werde meinen treuen alten Minister zu den Webern schicken“, sagte der Kaiser schließlich nach einigem Überlegen, „er wird am besten sehen können, wie das Tuch aussieht, denn er ist ein Mann mit Verstand, und niemand könnte für sein Amt geeigneter sein als er.“ Also ging der treue alte Minister in die Halle, wo die Schurken mit aller Kraft an ihren leeren Webstühlen arbeiteten. „Was kann das bedeuten?“, dachte der alte Mann und riss die Augen weit auf. „Ich kann nicht das geringste Stückchen Faden auf den Webstühlen entdecken.“ Er sprach seine Gedanken jedoch nicht laut aus. Die Betrüger baten ihn sehr höflich, so gut zu sein und näher an ihre Webstühle zu kommen; und fragte ihn dann, ob ihm das Muster gefalle und ob die Farben nicht sehr schön seien; dabei zeigte er auf die leeren Rahmen. Der arme alte Minister schaute und schaute, er konnte nichts auf den Webstühlen entdecken, und zwar aus einem sehr guten Grund, nämlich: da war nichts. „Was!“, dachte er wieder. „Ist es möglich, dass ich ein Dummkopf bin? Ich habe selbst nie so gedacht; und niemand darf es jetzt wissen, wenn ich einer bin. Kann es sein, dass ich für mein Amt ungeeignet bin? Nein, das darf auch nicht gesagt werden. Ich werde nie zugeben, dass ich das Zeug nicht sehen konnte.“ „Nun, Herr Minister!“, sagte einer der Schurken und tat immer noch so, als würde er arbeiten. „Sie sagen nicht, ob Ihnen das Zeug gefällt.“ „Oh, es ist ausgezeichnet!“, antwortete der alte Minister und betrachtete den Webstuhl durch seine Brille. „Ja, dieses Muster und die Farben werde ich dem Kaiser unverzüglich mitteilen, wie schön ich sie finde.“ „Wir wären Ihnen sehr verbunden“, sagten die Betrüger, und dann nannten sie die verschiedenen Farben und beschrieben das Muster des vorgetäuschten Stoffes. Der alte Minister hörte ihren Worten aufmerksam zu, um sie dem Kaiser zu wiederholen; und dann verlangten die Schurken mehr Seide und Gold und sagten, das sei notwendig, um das zu vollenden, was sie begonnen hatten. Sie steckten jedoch alles, was man ihnen gab, in ihre Tornister und arbeiteten mit ebenso viel scheinbarem Fleiß wie zuvor an ihren leeren Webstühlen weiter. Der Kaiser schickte nun einen anderen Beamten seines Hofes, um nachzusehen, wie die Männer vorankämen und um festzustellen, ob der Stoff bald fertig sein würde. Diesem Herrn ging es genauso wie dem Minister; er musterte die Webstühle von allen Seiten, konnte aber nichts als die leeren Rahmen sehen. „Erscheint Ihnen der Stoff nicht so schön wie meinem Herrn, dem Minister?“, fragten die Betrüger den zweiten Botschafter des Kaisers; Dabei machte er die gleichen Gesten wie zuvor und sprach von dem Muster und den Farben, die nicht da waren. „Ich bin bestimmt nicht dumm!“, dachte der Bote. „Es muss sein, dass ich für mein gutes, einträgliches Amt nicht geeignet bin! Das ist sehr merkwürdig; doch soll niemand etwas davon erfahren.“ Und dementsprechend lobte er das Zeug, das er nicht sehen konnte, und erklärte, dass er sowohl von Farben als auch von Mustern entzückt sei. „In der Tat, Eure kaiserliche Majestät,“ sagte er zu seinem Herrscher, als er zurückkam, „das Tuch, das die Weber herstellen, ist außerordentlich prächtig.“ Die ganze Stadt sprach von dem prächtigen Tuch, das der Kaiser auf seine Kosten hatte weben lassen. Und nun wollte der Kaiser selbst die kostbare Fabrikation sehen, während sie noch im Webstuhl war. Begleitet von einer ausgewählten Anzahl von Hofbeamten, unter denen sich die beiden ehrlichen Männer befanden, die das Tuch bereits bewundert hatten, ging er zu den schlauen Betrügern, die, sobald sie die Annäherung des Kaisers bemerkten, fleißiger als je zuvor weiterarbeiteten; obwohl sie noch immer keinen einzigen Faden durch die Webstühle zogen. „Ist die Arbeit nicht absolut prächtig?“, sagten die beiden bereits erwähnten Kronbeamten. „Wenn Eure Majestät sich das nur ansehen wollen! Was für ein prächtiges Muster! Was für herrliche Farben!“ und gleichzeitig zeigten sie auf die leeren Rahmen; denn sie stellten sich vor, dass jeder andere dieses exquisite Stück Arbeit sehen konnte. „Wie ist das?“, sagte sich der Kaiser. „Ich kann nichts sehen! Das ist wirklich eine schreckliche Sache! Bin ich ein Dummkopf oder bin ich nicht geeignet, Kaiser zu sein? Das wäre das Schlimmste, was passieren könnte – Oh! Der Stoff ist bezaubernd“, sagte er laut. „Er hat meine volle Zustimmung.“ Und er lächelte äußerst gnädig und betrachtete die leeren Webstühle genau; denn auf keinen Fall würde er sagen, dass er nicht sehen konnte, was zwei seiner Hofbeamten so sehr gelobt hatten. Sein ganzes Gefolge strengte nun die Augen an, in der Hoffnung, etwas auf den Webstühlen zu entdecken, aber sie konnten nicht mehr sehen als die anderen; trotzdem riefen sie alle aus: „Oh, wie schön!“ und riet Seiner Majestät, für die nahende Prozession neue Kleider aus diesem herrlichen Stoff anfertigen zu lassen. „Großartig! Bezaubernd! Vorzüglich!“ schallte es von allen Seiten, und alle waren außerordentlich heiter. Der Kaiser teilte die allgemeine Zufriedenheit und überreichte den Betrügern das Band eines Ritterordens zum Tragen im Knopfloch und den Titel „Herren Weber“. Die Schurken blieben die ganze Nacht vor dem Tage, an dem die Prozession stattfinden sollte, auf und ließen sechzehn Lichter brennen, damit jeder sehen konnte, wie sehr sie sich bemühten, des Kaisers neue Kleider fertigzustellen. Sie taten, als rollen sie den Stoff vom Webstuhl, schnitten mit ihren Scheren in die Luft und nähten mit Nadeln ohne Faden. „Seht!“ riefen sie schließlich, „des Kaisers neue Kleider sind fertig!“ Und nun kam der Kaiser mit allen Granden seines Hofes zu den Webern; und die Schurken hoben die Arme, als ob sie etwas hochhielten, und sagten: „Hier sind die Hosen Eurer Majestät! Hier ist der Schal! Hier ist der Mantel! Der ganze Anzug ist so leicht wie ein Spinnennetz; man könnte meinen, man hätte gar nichts an, wenn man ihn trägt; das ist jedoch die große Tugend dieses zarten Stoffes.“ „Ja, tatsächlich!“, sagten alle Höflinge, obwohl keiner von ihnen etwas von dieser exquisiten Verarbeitung sehen konnte. „Wenn Eure Kaiserliche Majestät die Güte hätte, Ihre Kleider auszuziehen, werden wir Ihnen vor dem Spiegel den neuen Anzug anprobieren.“ Der Kaiser wurde dementsprechend ausgezogen und die Schurken taten so, als würden sie ihm seinen neuen Anzug anziehen; der Kaiser drehte sich vor dem Spiegel von einer Seite auf die andere. „Wie prächtig Seine Majestät in seinen neuen Kleidern aussieht und wie gut sie passen!“, riefen alle. „Was für ein Muster! Was für Farben!“ Das sind wirklich königliche Gewänder!“ „Der Baldachin, der in der Prozession über Eurer Majestät getragen werden soll, wartet“, verkündete der Zeremonienmeister. „Ich bin ganz bereit“, antwortete der Kaiser. „Passen meine neuen Kleider gut?“ fragte er und drehte sich noch einmal vor dem Spiegel um, damit es so aussah, als würde er seinen schönen Anzug untersuchen. Die Kammerherren, die die Schleppe Seiner Majestät tragen sollten, tasteten auf dem Boden herum, als würden sie die Enden des Mantels hochheben, und taten so, als würden sie etwas tragen; denn sie wollten auf keinen Fall so etwas wie Einfalt oder Untauglichkeit für ihr Amt verraten. So ging nun der Kaiser unter seinem hohen Baldachin inmitten der Prozession durch die Straßen seiner Hauptstadt, und alle Umstehenden und jene an den Fenstern riefen: „Oh! Wie schön sind die neuen Kleider unseres Kaisers! Was für eine prächtige Schleppe hat der Mantel, und wie anmutig hängt der Schal!“ kurz gesagt, niemand würde zugeben, dass er diese vielbewunderten Kleider nicht sehen konnte; denn damit hätte er sich entweder als Dummkopf oder als ungeeignet für sein Amt erklärt. Sicherlich hatte keiner der verschiedenen Anzüge des Kaisers jemals einen so großen Eindruck gemacht wie diese unsichtbaren. „Aber der Kaiser hat überhaupt nichts an!“, sagte ein kleines Kind. „Hört auf die Stimme der Unschuld!“, rief sein Vater, und was das Kind gesagt hatte, wurde von einem zum anderen geflüstert. „Aber er hat gar nichts an!“, riefen schließlich alle Leute. Der Kaiser war verärgert, denn er wusste, dass die Leute recht hatten; aber er dachte, die Prozession müsse jetzt weitergehen! Und die Kammerherren gaben sich mehr Mühe als je zuvor, den Anschein zu erwecken, als hielten sie eine Schleppe, obwohl es in Wirklichkeit gar keine Schleppe gab, die sie hätten halten können.'"
      ]
     },
     "execution_count": 36,
     "metadata": {},
     "output_type": "execute_result"
    }
   ],
   "source": [
    "asyncio.run(\n",
    "    async_google_translate(\n",
    "        long_text,\n",
    "        source_lang_code=\"en\",\n",
    "        target_lang_code=\"de\",\n",
    "    )\n",
    ")"
   ]
  },
  {
   "cell_type": "markdown",
   "id": "5fed44d8-3eec-4b21-859a-c8fc0a646043",
   "metadata": {},
   "source": [
    "## Time Consumption Comparison"
   ]
  },
  {
   "cell_type": "code",
   "execution_count": 48,
   "id": "119f6828-3a0f-4ae9-b000-781558dde725",
   "metadata": {},
   "outputs": [
    {
     "data": {
      "text/plain": [
       "34"
      ]
     },
     "execution_count": 48,
     "metadata": {},
     "output_type": "execute_result"
    }
   ],
   "source": [
    "sum(1 for _ in split_into_chunks(long_text))"
   ]
  },
  {
   "cell_type": "code",
   "execution_count": 56,
   "id": "20873d51-2002-49ec-a70a-295a915b3dd7",
   "metadata": {},
   "outputs": [
    {
     "name": "stdout",
     "output_type": "stream",
     "text": [
      "CPU times: user 1.3 s, sys: 76.4 ms, total: 1.38 s\n",
      "Wall time: 10.6 s\n"
     ]
    }
   ],
   "source": [
    "%%time\n",
    "sync_google_translate(\n",
    "    long_text,\n",
    "    source_lang_code=\"en\",\n",
    "    target_lang_code=\"de\",\n",
    ");"
   ]
  },
  {
   "cell_type": "code",
   "execution_count": 55,
   "id": "4d5de111-5c3d-4119-b837-cf69265a48cb",
   "metadata": {},
   "outputs": [
    {
     "name": "stdout",
     "output_type": "stream",
     "text": [
      "CPU times: user 574 ms, sys: 88.1 ms, total: 662 ms\n",
      "Wall time: 1.15 s\n"
     ]
    }
   ],
   "source": [
    "%%time\n",
    "asyncio.run(\n",
    "    async_google_translate(\n",
    "        long_text,\n",
    "        source_lang_code=\"en\",\n",
    "        target_lang_code=\"de\",\n",
    "    )\n",
    ");"
   ]
  },
  {
   "cell_type": "markdown",
   "id": "a08fdad2-801e-4e65-b83c-136b054da7d0",
   "metadata": {},
   "source": [
    "If `long_text` contains too many chunks, it's not\n",
    "recommended to use `timeit`."
   ]
  },
  {
   "cell_type": "raw",
   "id": "166dc775-3f5b-4608-96da-328ae3e52dbe",
   "metadata": {
    "collapsed": true,
    "jupyter": {
     "outputs_hidden": true
    }
   },
   "source": [
    "%%timeit -n 3 -r 5\n",
    "sync_google_translate(\n",
    "    long_text,\n",
    "    source_lang_code=\"en\",\n",
    "    target_lang_code=\"de\",\n",
    ")"
   ]
  },
  {
   "cell_type": "raw",
   "id": "2e0d854f-a5f5-4cd0-9bd3-6a7c06662558",
   "metadata": {},
   "source": [
    "%%timeit -n 3 -r 5\n",
    "asyncio.run(\n",
    "    async_google_translate(\n",
    "        long_text,\n",
    "        source_lang_code=\"en\",\n",
    "        target_lang_code=\"de\",\n",
    "    )\n",
    ")"
   ]
  },
  {
   "cell_type": "markdown",
   "id": "3dedb87c-3a75-4030-8e98-a130ea2122f9",
   "metadata": {},
   "source": [
    "## Rate Limiting (using Semaphore)"
   ]
  },
  {
   "cell_type": "code",
   "execution_count": null,
   "id": "bcba84d7-cef6-429c-90e1-d57c8aefec6d",
   "metadata": {},
   "outputs": [],
   "source": []
  }
 ],
 "metadata": {
  "kernelspec": {
   "display_name": "Python 3 (ipykernel)",
   "language": "python",
   "name": "python3"
  },
  "language_info": {
   "codemirror_mode": {
    "name": "ipython",
    "version": 3
   },
   "file_extension": ".py",
   "mimetype": "text/x-python",
   "name": "python",
   "nbconvert_exporter": "python",
   "pygments_lexer": "ipython3",
   "version": "3.12.4"
  }
 },
 "nbformat": 4,
 "nbformat_minor": 5
}
