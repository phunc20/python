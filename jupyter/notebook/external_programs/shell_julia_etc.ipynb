{
 "cells": [
  {
   "cell_type": "markdown",
   "id": "a45b7e00",
   "metadata": {},
   "source": [
    "## Run an External Program\n",
    "Python Jupyter notebook's cell (as well as `ipython`, but not Python's default REPL) allows its user to an execute external program. Just proceed any program installed on your Linux machine with an exclamation mark `!`. For instance,"
   ]
  },
  {
   "cell_type": "code",
   "execution_count": 7,
   "id": "80a2754a",
   "metadata": {},
   "outputs": [
    {
     "name": "stdout",
     "output_type": "stream",
     "text": [
      "/home/phunc20/git-repos/phunc20/python/jupyter/notebook/external_programs\r\n"
     ]
    }
   ],
   "source": [
    "!pwd"
   ]
  },
  {
   "cell_type": "code",
   "execution_count": 19,
   "id": "c84be2f6",
   "metadata": {},
   "outputs": [
    {
     "name": "stdout",
     "output_type": "stream",
     "text": [
      "CPU(s):              2\r\n",
      "On-line CPU(s) list: 0,1\r\n",
      "Thread(s) per core:  1\r\n",
      "Core(s) per socket:  2\r\n",
      "NUMA node0 CPU(s):   0,1\r\n"
     ]
    }
   ],
   "source": [
    "!lscpu | grep \"\\(CPU\\|Thread\\|Core\\)(s)\""
   ]
  },
  {
   "cell_type": "markdown",
   "id": "a9447074",
   "metadata": {},
   "source": [
    "## Save the `stdout` of a Program to Python Variable(s)\n",
    "Better yet, we can save the `stdout` to a Python variable as follows."
   ]
  },
  {
   "cell_type": "code",
   "execution_count": 14,
   "id": "f3a08e41",
   "metadata": {},
   "outputs": [
    {
     "data": {
      "text/plain": [
       "['bitwise_ops.ipynb', 'figs', 'README.md', 'trash.py']"
      ]
     },
     "execution_count": 14,
     "metadata": {},
     "output_type": "execute_result"
    }
   ],
   "source": [
    "ls_result = !ls\n",
    "ls_result"
   ]
  },
  {
   "cell_type": "markdown",
   "id": "5669f08a",
   "metadata": {},
   "source": [
    "If the reader has no Julia installed on their machine, the following cells concerning Julia will not work; they are free to replace Julia with any other program they have on their machine."
   ]
  },
  {
   "cell_type": "code",
   "execution_count": 10,
   "id": "bb31b1c5",
   "metadata": {},
   "outputs": [
    {
     "data": {
      "text/plain": [
       "['2147483598']"
      ]
     },
     "execution_count": 10,
     "metadata": {},
     "output_type": "execute_result"
    }
   ],
   "source": [
    "julia_logical_shift = !(julia -e \"print(Int32(-100) >>> 1)\")\n",
    "julia_logical_shift"
   ]
  },
  {
   "cell_type": "raw",
   "id": "c60cdfdf",
   "metadata": {},
   "source": [
    "julia_logical_shift = !{julia -e \"print(Int32(-100) >>> 1)\"}\n",
    "julia_logical_shift"
   ]
  },
  {
   "cell_type": "raw",
   "id": "7d1bb1cf",
   "metadata": {},
   "source": [
    "['/bin/bash: {julia: command not found']"
   ]
  },
  {
   "cell_type": "code",
   "execution_count": 11,
   "id": "9facc400",
   "metadata": {},
   "outputs": [
    {
     "data": {
      "text/plain": [
       "['2147483598']"
      ]
     },
     "execution_count": 11,
     "metadata": {},
     "output_type": "execute_result"
    }
   ],
   "source": [
    "julia_logical_shift = !julia -e \"print(Int32(-100) >>> 1)\"\n",
    "julia_logical_shift"
   ]
  },
  {
   "cell_type": "code",
   "execution_count": 13,
   "id": "0e9780e1",
   "metadata": {},
   "outputs": [
    {
     "data": {
      "text/plain": [
       "[]"
      ]
     },
     "execution_count": 13,
     "metadata": {},
     "output_type": "execute_result"
    }
   ],
   "source": [
    "no_std = !julia -e \"1 + 1\"\n",
    "no_std"
   ]
  },
  {
   "cell_type": "markdown",
   "id": "36ad9eff",
   "metadata": {},
   "source": [
    "Note that\n",
    "- the type of the Python variable of be **list**\n",
    "  - Even when the `stdout` returns nothing, the receiver Python variable will still be a list of length `0`.\n",
    "- One can surround long command by **parentheses**."
   ]
  },
  {
   "cell_type": "code",
   "execution_count": null,
   "id": "7c25bcdd",
   "metadata": {},
   "outputs": [],
   "source": []
  }
 ],
 "metadata": {
  "kernelspec": {
   "display_name": "Python 3",
   "language": "python",
   "name": "python3"
  },
  "language_info": {
   "codemirror_mode": {
    "name": "ipython",
    "version": 3
   },
   "file_extension": ".py",
   "mimetype": "text/x-python",
   "name": "python",
   "nbconvert_exporter": "python",
   "pygments_lexer": "ipython3",
   "version": "3.6.13"
  }
 },
 "nbformat": 4,
 "nbformat_minor": 5
}
