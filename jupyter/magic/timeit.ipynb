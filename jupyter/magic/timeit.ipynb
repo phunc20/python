{
 "cells": [
  {
   "cell_type": "code",
   "execution_count": 4,
   "id": "37de14bf",
   "metadata": {},
   "outputs": [],
   "source": [
    "import time\n",
    "import random"
   ]
  },
  {
   "cell_type": "markdown",
   "id": "12d10f00",
   "metadata": {},
   "source": [
    "Do make sure to observe how many times `i` gets printed in each cell's output below.\n",
    "\n",
    "When the `%%timeit` magic is left with its default value, a common pattern we often observe is printing 8 times while it says `(mean ± std. dev. of 7 runs, 1 loop each)` -- This is because Jupyter's default is always taking the best/fast 7 runs to do the statistics and Jupyter runs an 8-th time to make extra sure that the result be more objective."
   ]
  },
  {
   "cell_type": "code",
   "execution_count": 10,
   "id": "7dd20b6e",
   "metadata": {},
   "outputs": [
    {
     "name": "stdout",
     "output_type": "stream",
     "text": [
      "i = 57\n",
      "i = 79\n",
      "i = 11\n",
      "i = 25\n",
      "i = 67\n",
      "i = 70\n",
      "i = 59\n",
      "i = 10\n",
      "1 s ± 329 µs per loop (mean ± std. dev. of 7 runs, 1 loop each)\n"
     ]
    }
   ],
   "source": [
    "%%timeit\n",
    "i = random.randint(10, 100)\n",
    "print(f\"i = {i}\")\n",
    "time.sleep(1)"
   ]
  },
  {
   "cell_type": "code",
   "execution_count": 11,
   "id": "8f658013",
   "metadata": {},
   "outputs": [
    {
     "name": "stdout",
     "output_type": "stream",
     "text": [
      "i = 87\n",
      "i = 99\n",
      "i = 81\n",
      "i = 76\n",
      "i = 92\n",
      "i = 28\n",
      "i = 43\n",
      "i = 83\n",
      "i = 11\n",
      "i = 55\n",
      "i = 21\n",
      "i = 61\n",
      "i = 21\n",
      "i = 76\n",
      "1 s ± 408 µs per loop (mean ± std. dev. of 7 runs, 2 loops each)\n"
     ]
    }
   ],
   "source": [
    "%%timeit -n 2\n",
    "i = random.randint(10, 100)\n",
    "print(f\"i = {i}\")\n",
    "time.sleep(1)"
   ]
  },
  {
   "cell_type": "code",
   "execution_count": 12,
   "id": "1818aa90",
   "metadata": {},
   "outputs": [
    {
     "name": "stdout",
     "output_type": "stream",
     "text": [
      "i = 90\n",
      "i = 14\n",
      "i = 40\n",
      "1 s ± 106 µs per loop (mean ± std. dev. of 2 runs, 1 loop each)\n"
     ]
    }
   ],
   "source": [
    "%%timeit -r 2\n",
    "i = random.randint(10, 100)\n",
    "print(f\"i = {i}\")\n",
    "time.sleep(1)"
   ]
  },
  {
   "cell_type": "code",
   "execution_count": null,
   "id": "1b63513d",
   "metadata": {},
   "outputs": [],
   "source": []
  }
 ],
 "metadata": {
  "kernelspec": {
   "display_name": "Python 3 (ipykernel)",
   "language": "python",
   "name": "python3"
  },
  "language_info": {
   "codemirror_mode": {
    "name": "ipython",
    "version": 3
   },
   "file_extension": ".py",
   "mimetype": "text/x-python",
   "name": "python",
   "nbconvert_exporter": "python",
   "pygments_lexer": "ipython3",
   "version": "3.7.3"
  }
 },
 "nbformat": 4,
 "nbformat_minor": 5
}
