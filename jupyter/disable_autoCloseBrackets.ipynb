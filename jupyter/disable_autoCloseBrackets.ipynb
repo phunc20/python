{
 "cells": [
  {
   "cell_type": "markdown",
   "id": "imperial-poland",
   "metadata": {},
   "source": [
    "### cf. [https://stackoverflow.com/questions/44216326/how-to-disable-auto-quotes-and-auto-brackets-in-jupyter-5-0](https://stackoverflow.com/questions/44216326/how-to-disable-auto-quotes-and-auto-brackets-in-jupyter-5-0)"
   ]
  },
  {
   "cell_type": "code",
   "execution_count": 1,
   "id": "growing-venice",
   "metadata": {},
   "outputs": [
    {
     "name": "stdout",
     "output_type": "stream",
     "text": [
      "lab  migrated\r\n"
     ]
    }
   ],
   "source": [
    "!ls /home/phunc20/.jupyter/"
   ]
  },
  {
   "cell_type": "code",
   "execution_count": 2,
   "id": "colonial-audit",
   "metadata": {},
   "outputs": [
    {
     "data": {
      "text/plain": [
       "{'CodeCell': {'cm_config': {'autoCloseBrackets': False}}}"
      ]
     },
     "execution_count": 2,
     "metadata": {},
     "output_type": "execute_result"
    }
   ],
   "source": [
    "from notebook.services.config import ConfigManager\n",
    "c = ConfigManager()\n",
    "c.update('notebook', {\"CodeCell\": {\"cm_config\": {\"autoCloseBrackets\": False}}})"
   ]
  },
  {
   "cell_type": "code",
   "execution_count": 3,
   "id": "pacific-therapy",
   "metadata": {},
   "outputs": [
    {
     "name": "stdout",
     "output_type": "stream",
     "text": [
      "lab  migrated  nbconfig\r\n"
     ]
    }
   ],
   "source": [
    "!ls /home/phunc20/.jupyter/"
   ]
  },
  {
   "cell_type": "code",
   "execution_count": 4,
   "id": "laden-portland",
   "metadata": {},
   "outputs": [
    {
     "name": "stdout",
     "output_type": "stream",
     "text": [
      "\u001b[01;34m/home/phunc20/.jupyter/\u001b[00m\r\n",
      "├── \u001b[01;34mlab\u001b[00m\r\n",
      "│   ├── \u001b[01;34muser-settings\u001b[00m\r\n",
      "│   │   └── \u001b[01;34m@jupyterlab\u001b[00m\r\n",
      "│   │       ├── \u001b[01;34mapputils-extension\u001b[00m\r\n",
      "│   │       │   └── themes.jupyterlab-settings\r\n",
      "│   │       └── \u001b[01;34mterminal-extension\u001b[00m\r\n",
      "│   │           └── plugin.jupyterlab-settings\r\n",
      "│   └── \u001b[01;34mworkspaces\u001b[00m\r\n",
      "│       └── lab-a511.jupyterlab-workspace\r\n",
      "├── migrated\r\n",
      "└── \u001b[01;34mnbconfig\u001b[00m\r\n",
      "    └── notebook.json\r\n",
      "\r\n",
      "7 directories, 5 files\r\n"
     ]
    }
   ],
   "source": [
    "!tree /home/phunc20/.jupyter/"
   ]
  },
  {
   "cell_type": "code",
   "execution_count": 5,
   "id": "spanish-illness",
   "metadata": {},
   "outputs": [
    {
     "name": "stdout",
     "output_type": "stream",
     "text": [
      "{\r\n",
      "  \"CodeCell\": {\r\n",
      "    \"cm_config\": {\r\n",
      "      \"autoCloseBrackets\": false\r\n",
      "    }\r\n",
      "  }\r\n",
      "}"
     ]
    }
   ],
   "source": [
    "!cat /home/phunc20/.jupyter/nbconfig/notebook.json"
   ]
  },
  {
   "cell_type": "code",
   "execution_count": null,
   "id": "written-injury",
   "metadata": {},
   "outputs": [],
   "source": []
  }
 ],
 "metadata": {
  "kernelspec": {
   "display_name": "Python 3",
   "language": "python",
   "name": "python3"
  },
  "language_info": {
   "codemirror_mode": {
    "name": "ipython",
    "version": 3
   },
   "file_extension": ".py",
   "mimetype": "text/x-python",
   "name": "python",
   "nbconvert_exporter": "python",
   "pygments_lexer": "ipython3",
   "version": "3.7.9"
  }
 },
 "nbformat": 4,
 "nbformat_minor": 5
}
