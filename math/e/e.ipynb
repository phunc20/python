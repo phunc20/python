{
 "cells": [
  {
   "cell_type": "markdown",
   "id": "4244811d-cf83-45c2-b3f1-0ea51949ca3f",
   "metadata": {},
   "source": [
    "<table align=\"left\">\n",
    "  <td>\n",
    "    <a href=\"https://colab.research.google.com/github/phunc20/python/blob/master/math/e/e.ipynb\" target=\"_parent\"><img src=\"https://colab.research.google.com/assets/colab-badge.svg\" alt=\"Open In Colab\"/></a>\n",
    "  </td>\n",
    "</table>"
   ]
  },
  {
   "cell_type": "code",
   "execution_count": 1,
   "id": "e966fa33-dc77-453e-aa43-cba0aa5453c2",
   "metadata": {},
   "outputs": [],
   "source": [
    "def a(n):\n",
    "    return (1 + 1/n)**n"
   ]
  },
  {
   "cell_type": "code",
   "execution_count": 22,
   "id": "d9c9e1bd-4d1b-4472-bc2a-e1b7b2eed44f",
   "metadata": {},
   "outputs": [],
   "source": [
    "import math\n",
    "from tqdm.notebook import tqdm"
   ]
  },
  {
   "cell_type": "code",
   "execution_count": 15,
   "id": "36103d6c-dc19-4972-a314-975afff04d94",
   "metadata": {},
   "outputs": [
    {
     "name": "stdout",
     "output_type": "stream",
     "text": [
      "a(10** 1) = 2.5937424601000023 < e\n",
      "a(10** 2) = 2.7048138294215285 < e\n",
      "a(10** 3) = 2.7169239322355936 < e\n",
      "a(10** 4) = 2.7181459268249255 < e\n",
      "a(10** 5) = 2.7182682371922975 < e\n",
      "a(10** 6) = 2.7182804690957534 < e\n",
      "a(10** 7) = 2.7182816941320818 < e\n",
      "a(10** 8) = 2.7182817983473577 < e\n",
      "a(10** 9) = 2.7182820520115603 > e\n",
      "a(10**10) = 2.7182820532347876 > e\n",
      "a(10**11) = 2.71828205335711 > e\n",
      "a(10**12) = 2.7185234960372378 > e\n",
      "a(10**13) = 2.716110034086901 < e\n",
      "a(10**14) = 2.716110034087023 < e\n"
     ]
    }
   ],
   "source": [
    "MAX = 15\n",
    "for p in range(1, MAX):\n",
    "    n = 10**p\n",
    "    an = a(n)\n",
    "    head = f\"a(10**{p:2d}) = {an}\"\n",
    "    tail = \" > e\" if an > math.e else \" < e\"\n",
    "    print(head + tail)"
   ]
  },
  {
   "cell_type": "code",
   "execution_count": 19,
   "id": "41166eb3-eb7a-4778-87a9-f1c6ca60d82b",
   "metadata": {},
   "outputs": [
    {
     "data": {
      "text/plain": [
       "False"
      ]
     },
     "execution_count": 19,
     "metadata": {},
     "output_type": "execute_result"
    }
   ],
   "source": [
    "1 + 1 / (10**14) == 1"
   ]
  },
  {
   "cell_type": "code",
   "execution_count": 20,
   "id": "cc9042c1-1761-4adb-82cb-0ee35b5719a0",
   "metadata": {},
   "outputs": [
    {
     "data": {
      "text/plain": [
       "True"
      ]
     },
     "execution_count": 20,
     "metadata": {},
     "output_type": "execute_result"
    }
   ],
   "source": [
    "1 + 1 / (10**100) == 1"
   ]
  },
  {
   "cell_type": "code",
   "execution_count": 24,
   "id": "abf09fea-fc00-47e2-b7bb-35c5c2fa896e",
   "metadata": {},
   "outputs": [
    {
     "data": {
      "application/json": {
       "ascii": false,
       "bar_format": null,
       "colour": null,
       "elapsed": 0.14662504196166992,
       "initial": 0,
       "n": 0,
       "ncols": null,
       "nrows": 32,
       "postfix": null,
       "prefix": "",
       "rate": null,
       "total": 900000000,
       "unit": "it",
       "unit_divisor": 1000,
       "unit_scale": false
      },
      "application/vnd.jupyter.widget-view+json": {
       "model_id": "18b3679f762b445bbc7f66c192695a2e",
       "version_major": 2,
       "version_minor": 0
      },
      "text/plain": [
       "  0%|          | 0/900000000 [00:00<?, ?it/s]"
      ]
     },
     "metadata": {},
     "output_type": "display_data"
    },
    {
     "name": "stdout",
     "output_type": "stream",
     "text": [
      "a(100000006) = 2.7182818407282965 > e\n"
     ]
    }
   ],
   "source": [
    "enough = 1\n",
    "n_counter_examples = 0\n",
    "for n in tqdm(range(10**8, 10**9)):\n",
    "    this = a(n)\n",
    "    if this > math.e:\n",
    "        print(f\"a({n}) = {this} > e\")\n",
    "        n_counter_examples += 1\n",
    "    if n_counter_examples >= enough:\n",
    "        break"
   ]
  },
  {
   "cell_type": "code",
   "execution_count": 25,
   "id": "b3a2f963-d97a-4e99-ab9e-5862efd37c44",
   "metadata": {},
   "outputs": [
    {
     "data": {
      "text/plain": [
       "False"
      ]
     },
     "execution_count": 25,
     "metadata": {},
     "output_type": "execute_result"
    }
   ],
   "source": [
    "a(100000006) > a(10**9)"
   ]
  },
  {
   "cell_type": "markdown",
   "id": "620d99ec-70b9-497e-a9e3-a63036e05ad8",
   "metadata": {},
   "source": [
    "**(?)** $a_{n}$ an increasing sequence?"
   ]
  },
  {
   "cell_type": "code",
   "execution_count": 9,
   "id": "757cbf6f-dd17-418c-9f9b-49e789c75c9b",
   "metadata": {},
   "outputs": [
    {
     "name": "stdout",
     "output_type": "stream",
     "text": [
      "a(132361) = 2.718271560051147 < a(132360) = 2.718271560052231\n",
      "a(132918) = 2.7182716030808325 < a(132917) = 2.718271603081553\n",
      "a(133631) = 2.7182716576400137 < a(133630) = 2.718271657641679\n",
      "a(134043) = 2.71827168890323 < a(134042) = 2.7182716889039806\n",
      "a(135059) = 2.7182717651779056 < a(135058) = 2.718271765179464\n"
     ]
    }
   ],
   "source": [
    "prev = 0\n",
    "enough = 5\n",
    "n_counter_examples = 0\n",
    "for n in range(1, 10**9):\n",
    "    this = a(n)\n",
    "    if this < prev:\n",
    "        print(f\"a({n}) = {this} < a({n-1}) = {prev}\")\n",
    "        n_counter_examples += 1\n",
    "    if n_counter_examples >= enough:\n",
    "        break\n",
    "    prev = this"
   ]
  },
  {
   "cell_type": "markdown",
   "id": "37470ab6-2883-4f05-a228-8fad50fbc428",
   "metadata": {},
   "source": [
    "**(?)** Is `a(n)` bounded? Could we tell `max(Z, key=a)` in advance?"
   ]
  },
  {
   "cell_type": "markdown",
   "id": "ccb30442-8062-4ba8-a29e-b3cb8c273e28",
   "metadata": {},
   "source": [
    "## "
   ]
  },
  {
   "cell_type": "markdown",
   "id": "4f1649ad-59d3-4bd9-a6be-38fdd0d4951d",
   "metadata": {},
   "source": [
    "### (?) Is `a` catastrophic or numerically unstable?"
   ]
  },
  {
   "cell_type": "code",
   "execution_count": 26,
   "id": "9d37ab84-6a72-453c-a004-f6bfdd45911c",
   "metadata": {},
   "outputs": [
    {
     "data": {
      "text/plain": [
       "1.0"
      ]
     },
     "execution_count": 26,
     "metadata": {},
     "output_type": "execute_result"
    }
   ],
   "source": [
    "math.log(math.e)"
   ]
  },
  {
   "cell_type": "code",
   "execution_count": 27,
   "id": "99948498-ae44-4392-a190-c353d7efb184",
   "metadata": {},
   "outputs": [],
   "source": [
    "def another(n):\n",
    "    return math.e**(n * math.log(1+1/n))"
   ]
  },
  {
   "cell_type": "code",
   "execution_count": 29,
   "id": "a9847bf3-447d-4163-96e5-cdc50dcc337c",
   "metadata": {},
   "outputs": [
    {
     "name": "stdout",
     "output_type": "stream",
     "text": [
      "n = 10\n",
      "n = 100000\n",
      "n = 10000000\n",
      "n = 100000000\n",
      "n = 10000000000\n",
      "n = 10000000000000\n",
      "n = 100000000000000\n"
     ]
    }
   ],
   "source": [
    "MAX = 15\n",
    "for p in range(1, MAX):\n",
    "    n = 10**p\n",
    "    an = a(n)\n",
    "    ann = another(n)\n",
    "    if ann != an:  # Use machine epsilon instead\n",
    "        print(f\"{n = }\")"
   ]
  },
  {
   "cell_type": "code",
   "execution_count": 28,
   "id": "1aab8cfe-8fb3-464d-aa82-27cf69476e7c",
   "metadata": {},
   "outputs": [
    {
     "name": "stdout",
     "output_type": "stream",
     "text": [
      "a(10** 1) = 2.593742460100002 < e\n",
      "a(10** 2) = 2.7048138294215285 < e\n",
      "a(10** 3) = 2.7169239322355936 < e\n",
      "a(10** 4) = 2.7181459268249255 < e\n",
      "a(10** 5) = 2.718268237192297 < e\n",
      "a(10** 6) = 2.7182804690957534 < e\n",
      "a(10** 7) = 2.7182816941320813 < e\n",
      "a(10** 8) = 2.7182817983473573 < e\n",
      "a(10** 9) = 2.7182820520115603 > e\n",
      "a(10**10) = 2.718282053234787 > e\n",
      "a(10**11) = 2.71828205335711 > e\n",
      "a(10**12) = 2.7185234960372378 > e\n",
      "a(10**13) = 2.7161100340869004 < e\n",
      "a(10**14) = 2.7161100340870226 < e\n"
     ]
    }
   ],
   "source": [
    "MAX = 15\n",
    "for p in range(1, MAX):\n",
    "    n = 10**p\n",
    "    an = another(n)\n",
    "    head = f\"a(10**{p:2d}) = {an}\"\n",
    "    tail = \" > e\" if an > math.e else \" < e\"\n",
    "    print(head + tail)"
   ]
  },
  {
   "cell_type": "markdown",
   "id": "6e0b7256-407a-4737-b905-e08d9842c5cf",
   "metadata": {},
   "source": [
    "事後諸葛亮\n",
    "> The worse part in `a` is `1 + 1/n`.  \n",
    "> And this is not remedized in `another`,\n",
    "> so we should not expect `another` to do any\n",
    "> better than `a`."
   ]
  },
  {
   "cell_type": "raw",
   "id": "8ef7e43f-326d-458b-bc78-335fcb73b03f",
   "metadata": {},
   "source": [
    "def encore_another(n):\n",
    "    #return ((n+1)/n)**n\n",
    "    return (n+1)**n / n**n"
   ]
  },
  {
   "cell_type": "raw",
   "id": "be526ef5-424b-4fc2-81ec-96b228c95d2b",
   "metadata": {},
   "source": [
    "MAX = 15\n",
    "for p in tqdm(range(1, MAX)):\n",
    "    n = 10**p\n",
    "    an = encore_another(n)\n",
    "    head = f\"a(10**{p:2d}) = {an}\"\n",
    "    tail = \" > e\" if an > math.e else \" < e\"\n",
    "    print(head + tail)"
   ]
  },
  {
   "cell_type": "markdown",
   "id": "dd45bc87-94ea-43ee-a2f8-944fd6258988",
   "metadata": {},
   "source": [
    "### Seeking for Another Approximation Formula"
   ]
  },
  {
   "cell_type": "code",
   "execution_count": 34,
   "id": "d72963a9-d6d2-4d24-a4a3-6ac63aa74526",
   "metadata": {},
   "outputs": [],
   "source": [
    "from functools import cache"
   ]
  },
  {
   "cell_type": "code",
   "execution_count": 44,
   "id": "15f05d68-c728-4789-b54a-a81f964c55f8",
   "metadata": {},
   "outputs": [],
   "source": [
    "@cache\n",
    "def factorial(n):\n",
    "    if n == 0:\n",
    "        return 1\n",
    "    else:\n",
    "        return factorial(n-1)*n\n",
    "\n",
    "@cache\n",
    "def yet_another(n):\n",
    "    if n == 0:\n",
    "        return 1\n",
    "    else:\n",
    "        return yet_another(n-1) + 1/factorial(n)"
   ]
  },
  {
   "cell_type": "code",
   "execution_count": 48,
   "id": "a355af2f-f447-411a-b9b0-462c9aa405b9",
   "metadata": {},
   "outputs": [
    {
     "data": {
      "text/plain": [
       "4.0"
      ]
     },
     "execution_count": 48,
     "metadata": {},
     "output_type": "execute_result"
    }
   ],
   "source": [
    "math.log10(10**4)"
   ]
  },
  {
   "cell_type": "code",
   "execution_count": null,
   "id": "6b0327ee-6086-4e0a-b1c9-232891ae2ba0",
   "metadata": {},
   "outputs": [
    {
     "data": {
      "application/json": {
       "ascii": false,
       "bar_format": null,
       "colour": null,
       "elapsed": 0.3344299793243408,
       "initial": 0,
       "n": 0,
       "ncols": null,
       "nrows": 32,
       "postfix": null,
       "prefix": "",
       "rate": null,
       "total": 999999999999999,
       "unit": "it",
       "unit_divisor": 1000,
       "unit_scale": false
      },
      "application/vnd.jupyter.widget-view+json": {
       "model_id": "3e36442c184b4e52b5f5b7aa894cce57",
       "version_major": 2,
       "version_minor": 0
      },
      "text/plain": [
       "  0%|          | 0/999999999999999 [00:00<?, ?it/s]"
      ]
     },
     "metadata": {},
     "output_type": "display_data"
    },
    {
     "name": "stdout",
     "output_type": "stream",
     "text": [
      "a(              1) = 2.0 < e\n",
      "a(             10) = 2.7182818011463845 < e\n",
      "a(            100) = 2.7182818284590455 > e\n",
      "a(           1000) = 2.7182818284590455 > e\n",
      "a(          10000) = 2.7182818284590455 > e\n"
     ]
    }
   ],
   "source": [
    "MAX = 15\n",
    "for n in tqdm(range(1, 10**MAX)):\n",
    "    an = yet_another(n)\n",
    "    head = f\"a({n:15d}) = {an}\"\n",
    "    tail = \" > e\" if an > math.e else \" < e\"\n",
    "    power = math.log10(n)\n",
    "    if int(power) == power:\n",
    "        print(head + tail)"
   ]
  },
  {
   "cell_type": "code",
   "execution_count": 45,
   "id": "09704de5-e056-4992-a4dc-5e4e916a17a6",
   "metadata": {},
   "outputs": [
    {
     "name": "stdout",
     "output_type": "stream",
     "text": [
      "a(10** 1) = 2.7182818011463845 < e\n",
      "a(10** 2) = 2.7182818284590455 > e\n",
      "a(10** 3) = 2.7182818284590455 > e\n"
     ]
    },
    {
     "ename": "RecursionError",
     "evalue": "maximum recursion depth exceeded",
     "output_type": "error",
     "traceback": [
      "\u001b[0;31m---------------------------------------------------------------------------\u001b[0m",
      "\u001b[0;31mRecursionError\u001b[0m                            Traceback (most recent call last)",
      "Cell \u001b[0;32mIn [45], line 4\u001b[0m\n\u001b[1;32m      2\u001b[0m \u001b[38;5;28;01mfor\u001b[39;00m p \u001b[38;5;129;01min\u001b[39;00m \u001b[38;5;28mrange\u001b[39m(\u001b[38;5;241m1\u001b[39m, MAX):\n\u001b[1;32m      3\u001b[0m     n \u001b[38;5;241m=\u001b[39m \u001b[38;5;241m10\u001b[39m\u001b[38;5;241m*\u001b[39m\u001b[38;5;241m*\u001b[39mp\n\u001b[0;32m----> 4\u001b[0m     an \u001b[38;5;241m=\u001b[39m \u001b[43myet_another\u001b[49m\u001b[43m(\u001b[49m\u001b[43mn\u001b[49m\u001b[43m)\u001b[49m\n\u001b[1;32m      5\u001b[0m     head \u001b[38;5;241m=\u001b[39m \u001b[38;5;124mf\u001b[39m\u001b[38;5;124m\"\u001b[39m\u001b[38;5;124ma(10**\u001b[39m\u001b[38;5;132;01m{\u001b[39;00mp\u001b[38;5;132;01m:\u001b[39;00m\u001b[38;5;124m2d\u001b[39m\u001b[38;5;132;01m}\u001b[39;00m\u001b[38;5;124m) = \u001b[39m\u001b[38;5;132;01m{\u001b[39;00man\u001b[38;5;132;01m}\u001b[39;00m\u001b[38;5;124m\"\u001b[39m\n\u001b[1;32m      6\u001b[0m     tail \u001b[38;5;241m=\u001b[39m \u001b[38;5;124m\"\u001b[39m\u001b[38;5;124m > e\u001b[39m\u001b[38;5;124m\"\u001b[39m \u001b[38;5;28;01mif\u001b[39;00m an \u001b[38;5;241m>\u001b[39m math\u001b[38;5;241m.\u001b[39me \u001b[38;5;28;01melse\u001b[39;00m \u001b[38;5;124m\"\u001b[39m\u001b[38;5;124m < e\u001b[39m\u001b[38;5;124m\"\u001b[39m\n",
      "Cell \u001b[0;32mIn [44], line 13\u001b[0m, in \u001b[0;36myet_another\u001b[0;34m(n)\u001b[0m\n\u001b[1;32m     11\u001b[0m     \u001b[38;5;28;01mreturn\u001b[39;00m \u001b[38;5;241m1\u001b[39m\n\u001b[1;32m     12\u001b[0m \u001b[38;5;28;01melse\u001b[39;00m:\n\u001b[0;32m---> 13\u001b[0m     \u001b[38;5;28;01mreturn\u001b[39;00m \u001b[43myet_another\u001b[49m\u001b[43m(\u001b[49m\u001b[43mn\u001b[49m\u001b[38;5;241;43m-\u001b[39;49m\u001b[38;5;241;43m1\u001b[39;49m\u001b[43m)\u001b[49m \u001b[38;5;241m+\u001b[39m \u001b[38;5;241m1\u001b[39m\u001b[38;5;241m/\u001b[39mfactorial(n)\n",
      "Cell \u001b[0;32mIn [44], line 13\u001b[0m, in \u001b[0;36myet_another\u001b[0;34m(n)\u001b[0m\n\u001b[1;32m     11\u001b[0m     \u001b[38;5;28;01mreturn\u001b[39;00m \u001b[38;5;241m1\u001b[39m\n\u001b[1;32m     12\u001b[0m \u001b[38;5;28;01melse\u001b[39;00m:\n\u001b[0;32m---> 13\u001b[0m     \u001b[38;5;28;01mreturn\u001b[39;00m \u001b[43myet_another\u001b[49m\u001b[43m(\u001b[49m\u001b[43mn\u001b[49m\u001b[38;5;241;43m-\u001b[39;49m\u001b[38;5;241;43m1\u001b[39;49m\u001b[43m)\u001b[49m \u001b[38;5;241m+\u001b[39m \u001b[38;5;241m1\u001b[39m\u001b[38;5;241m/\u001b[39mfactorial(n)\n",
      "    \u001b[0;31m[... skipping similar frames: yet_another at line 13 (1483 times)]\u001b[0m\n",
      "Cell \u001b[0;32mIn [44], line 13\u001b[0m, in \u001b[0;36myet_another\u001b[0;34m(n)\u001b[0m\n\u001b[1;32m     11\u001b[0m     \u001b[38;5;28;01mreturn\u001b[39;00m \u001b[38;5;241m1\u001b[39m\n\u001b[1;32m     12\u001b[0m \u001b[38;5;28;01melse\u001b[39;00m:\n\u001b[0;32m---> 13\u001b[0m     \u001b[38;5;28;01mreturn\u001b[39;00m \u001b[43myet_another\u001b[49m\u001b[43m(\u001b[49m\u001b[43mn\u001b[49m\u001b[38;5;241;43m-\u001b[39;49m\u001b[38;5;241;43m1\u001b[39;49m\u001b[43m)\u001b[49m \u001b[38;5;241m+\u001b[39m \u001b[38;5;241m1\u001b[39m\u001b[38;5;241m/\u001b[39mfactorial(n)\n",
      "\u001b[0;31mRecursionError\u001b[0m: maximum recursion depth exceeded"
     ]
    }
   ],
   "source": [
    "MAX = 15\n",
    "for p in range(1, MAX):\n",
    "    n = 10**p\n",
    "    an = yet_another(n)\n",
    "    head = f\"a(10**{p:2d}) = {an}\"\n",
    "    tail = \" > e\" if an > math.e else \" < e\"\n",
    "    print(head + tail)"
   ]
  },
  {
   "cell_type": "code",
   "execution_count": null,
   "id": "cd22b3eb-e866-4643-af22-71052a8fb3d7",
   "metadata": {},
   "outputs": [],
   "source": []
  }
 ],
 "metadata": {
  "kernelspec": {
   "display_name": "Python 3 (ipykernel)",
   "language": "python",
   "name": "python3"
  },
  "language_info": {
   "codemirror_mode": {
    "name": "ipython",
    "version": 3
   },
   "file_extension": ".py",
   "mimetype": "text/x-python",
   "name": "python",
   "nbconvert_exporter": "python",
   "pygments_lexer": "ipython3",
   "version": "3.10.0"
  }
 },
 "nbformat": 4,
 "nbformat_minor": 5
}
