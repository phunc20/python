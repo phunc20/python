{
 "cells": [
  {
   "cell_type": "markdown",
   "id": "4244811d-cf83-45c2-b3f1-0ea51949ca3f",
   "metadata": {},
   "source": [
    "<table align=\"left\">\n",
    "  <td>\n",
    "    <a href=\"https://colab.research.google.com/github/phunc20/python/blob/master/math/e/concise.ipynb\" target=\"_parent\"><img src=\"https://colab.research.google.com/assets/colab-badge.svg\" alt=\"Open In Colab\"/></a>\n",
    "  </td>\n",
    "</table>"
   ]
  },
  {
   "cell_type": "markdown",
   "id": "06fd4014-c6c8-439e-8067-76377ff17fb5",
   "metadata": {},
   "source": [
    "# Origin\n",
    "The story began like this\n",
    "> A friend of mine on Facebook,\n",
    "> who is a high school teacher, one day\n",
    "> posted what one of his pupils asked him:  \n",
    "> \"_Hi Mr., we were taught that the sequence\n",
    "> $a_{n} = (1 + \\frac{1}{n})^{n}$ is a bounded\n",
    "> increasing sequence converging to\n",
    "> $e \\approx 2.718281828459045$;\n",
    "> how come Google gives $2.71828203876$, which\n",
    "> is apparently greater than $e$, when\n",
    "> one inputs `(1+1/10^9)^(10^9)` in Google search?_ \""
   ]
  },
  {
   "cell_type": "markdown",
   "id": "5aa12552-66aa-4bfd-aa3a-239bed260b0c",
   "metadata": {},
   "source": [
    "One could reply, \"_Because floating-point arithmetic is different\n",
    "from the arithmetic that we are most used to and taught since childhood. And computers adapt floating-point arithmetic._\"\n",
    "\n",
    "But that answer appears **irresponsible** and **non educative**.\n",
    "I would like to try to establish an answer suitable for\n",
    "explaining to such pupils.\n",
    "\n",
    "First, let's try to repeat the same experiment as the pupil did on\n",
    "Google."
   ]
  },
  {
   "cell_type": "code",
   "execution_count": 10,
   "id": "e966fa33-dc77-453e-aa43-cba0aa5453c2",
   "metadata": {},
   "outputs": [],
   "source": [
    "def a(n):\n",
    "    return (1 + 1/n)**n"
   ]
  },
  {
   "cell_type": "code",
   "execution_count": 8,
   "id": "d9c9e1bd-4d1b-4472-bc2a-e1b7b2eed44f",
   "metadata": {},
   "outputs": [],
   "source": [
    "# To gain access to the constant e in Python\n",
    "import math"
   ]
  },
  {
   "cell_type": "code",
   "execution_count": 19,
   "id": "36103d6c-dc19-4972-a314-975afff04d94",
   "metadata": {},
   "outputs": [
    {
     "name": "stdout",
     "output_type": "stream",
     "text": [
      "a(10** 1) = 2.5937424601000023 < e\n",
      "a(10** 2) = 2.7048138294215285 < e\n",
      "a(10** 3) = 2.7169239322355936 < e\n",
      "a(10** 4) = 2.7181459268249255 < e\n",
      "a(10** 5) = 2.7182682371922975 < e\n",
      "a(10** 6) = 2.7182804690957534 < e\n",
      "a(10** 7) = 2.7182816941320818 < e\n",
      "a(10** 8) = 2.7182817983473577 < e\n",
      "a(10** 9) = 2.7182820520115603 > e\n",
      "a(10**10) = 2.7182820532347876 > e\n",
      "a(10**11) = 2.71828205335711 > e\n",
      "a(10**12) = 2.7185234960372378 > e\n",
      "a(10**13) = 2.716110034086901 < e\n",
      "a(10**14) = 2.716110034087023 < e\n",
      "a(10**15) = 3.035035206549262 > e\n"
     ]
    }
   ],
   "source": [
    "MAX_POW = 15\n",
    "for p in range(1, MAX_POW+1):\n",
    "    n = 10**p\n",
    "    an = a(n)\n",
    "    head = f\"a(10**{p:2d}) = {an}\"\n",
    "    tail = \" > e\" if an > math.e else \" < e\"\n",
    "    print(head + tail)"
   ]
  },
  {
   "cell_type": "markdown",
   "id": "335a8cdf-efb9-4ffe-ad70-67860990f50f",
   "metadata": {},
   "source": [
    "Good! We do observe the same phenomenon as the pupil.\n",
    "\n",
    "The output raised at least three questions:\n",
    "1. The question the pupil raised\n",
    "1. Why `a(10**13)` suddenly drops to `2.716`?\n",
    "1. Is `a(n)` closer and closer to `math.e` in floating-point arithmetic?"
   ]
  },
  {
   "cell_type": "markdown",
   "id": "a16a443f-cf55-47cc-a870-c4a4560434d8",
   "metadata": {},
   "source": [
    "## Proposed Answer\n",
    "As the pupil described, the sequence $a_{n} = (1 + \\frac{1}{n})^{n}$\n",
    "is indeed an increasing sequence bounded above converging to $e.$\n",
    "\n",
    "Since computers could only represent a finit number of numbers,\n",
    "the base part $1 + \\frac{1}{n}$ of $a_{n}$ is subject to **rounding** --\n",
    "it needs to be either **rounded up** or **down**.\n",
    "\n",
    "As n gets bigger and bigger, $a_{n}$ gets closer and closer to $e$. What happens when `n = 10**9` could be explained as follows:\n",
    "\n",
    "> $a_{10^9}$ is quite close to $e$. In the mean time,\n",
    "> `1 + 1/(10**9)` needs to be **rounded up** to\n",
    "> a machine-representable number, making it **bigger** than\n",
    "> $1 + \\frac{1}{10^9}$.\n",
    "> When raised to the same power, we'd expect `a(10**9)` $\\gneq a_{10^9} \\approx e.$\n",
    "\n",
    "This answers questions 1 and 2."
   ]
  },
  {
   "cell_type": "markdown",
   "id": "de5f7667-8134-47d1-ba27-281675685a36",
   "metadata": {},
   "source": [
    "In Python, there exists this `decimal` package which could help us\n",
    "represent better numbers in a way we are more used to.\n",
    "For out purpose, we could use them to know **whether the base part is\n",
    "rounded up or down**."
   ]
  },
  {
   "cell_type": "code",
   "execution_count": 12,
   "id": "2b1a60ec-1916-4d8f-b8d6-ac55a99c327a",
   "metadata": {},
   "outputs": [],
   "source": [
    "from decimal import Decimal"
   ]
  },
  {
   "cell_type": "code",
   "execution_count": 34,
   "id": "68c37c71-3835-42d6-9bee-a863c6c87348",
   "metadata": {},
   "outputs": [
    {
     "name": "stdout",
     "output_type": "stream",
     "text": [
      "(   up) a(10** 1) = 2.5937424601000023 < e\n",
      "(   up) a(10** 2) = 2.7048138294215285 < e\n",
      "( down) a(10** 3) = 2.7169239322355936 < e\n",
      "( down) a(10** 4) = 2.7181459268249255 < e\n",
      "(   up) a(10** 5) = 2.7182682371922975 < e\n",
      "( down) a(10** 6) = 2.7182804690957534 < e\n",
      "(   up) a(10** 7) = 2.7182816941320818 < e\n",
      "( down) a(10** 8) = 2.7182817983473577 < e\n",
      "(   up) a(10** 9) = 2.7182820520115603 > e\n",
      "(   up) a(10**10) = 2.7182820532347876 > e\n",
      "(   up) a(10**11) = 2.71828205335711 > e\n",
      "(   up) a(10**12) = 2.7185234960372378 > e\n",
      "( down) a(10**13) = 2.716110034086901 < e\n",
      "( down) a(10**14) = 2.716110034087023 < e\n",
      "(   up) a(10**15) = 3.035035206549262 > e\n"
     ]
    }
   ],
   "source": [
    "for p in range(1, MAX_POW+1):\n",
    "    n = 10**p\n",
    "    base = 1 + 1/n\n",
    "    an = a(n)\n",
    "    theoretical_base = Decimal(1) + Decimal(1)/Decimal(n)\n",
    "    if theoretical_base > base:\n",
    "        head = \"( down)\"\n",
    "    elif theoretical_base == base:\n",
    "        head = \"(equal)\"\n",
    "    else:\n",
    "        head = \"(   up)\"\n",
    "    body = f\" a(10**{p:2d}) = {an}\"\n",
    "    tail = \" > e\" if an > math.e else \" < e\"\n",
    "    print(head + body + tail)"
   ]
  },
  {
   "cell_type": "markdown",
   "id": "5f272f49-62e8-48cb-95cd-ad59698bd05d",
   "metadata": {},
   "source": [
    "We see indeed that\n",
    "> After `10**9`, those whose final result is **greater than** `math.e`\n",
    "> have their base part **rounded up** and vice versa."
   ]
  },
  {
   "cell_type": "markdown",
   "id": "f462a447-cd21-4bd7-82be-a5a4206f7908",
   "metadata": {},
   "source": [
    "It is quite obvious that the answer to question 3 is\n",
    "> No, the `a(n)`'s are not closer and closer to `math.e`."
   ]
  },
  {
   "cell_type": "code",
   "execution_count": 24,
   "id": "10350b42-8c94-4244-8835-483a1b2957ff",
   "metadata": {},
   "outputs": [
    {
     "name": "stdout",
     "output_type": "stream",
     "text": [
      "a(10** 1) - e = -0.12453936835904278\n",
      "a(10** 2) - e = -0.01346799903751661\n",
      "a(10** 3) - e = -0.0013578962234515046\n",
      "a(10** 4) - e = -0.000135901634119584\n",
      "a(10** 5) - e = -1.359126674760347e-05\n",
      "a(10** 6) - e = -1.359363291708604e-06\n",
      "a(10** 7) - e = -1.3432696333026684e-07\n",
      "a(10** 8) - e = -3.011168736577474e-08\n",
      "a(10** 9) - e = 2.2355251516614771e-07\n",
      "a(10**10) - e = 2.2477574246337895e-07\n",
      "a(10**11) - e = 2.248980650598753e-07\n",
      "a(10**12) - e = 0.00024166757819266138\n",
      "a(10**13) - e = -0.002171794372144209\n",
      "a(10**14) - e = -0.0021717943720220845\n",
      "a(10**15) - e = 0.31675337809021675\n"
     ]
    }
   ],
   "source": [
    "MAX_POW = 15\n",
    "for p in range(1, MAX_POW+1):\n",
    "    n = 10**p\n",
    "    an = a(n)\n",
    "    #diff = abs(math.e - an)\n",
    "    #print(f\"abs(a(10**{p:2d}) - e) = {diff}\")\n",
    "    diff = an - math.e\n",
    "    print(f\"a(10**{p:2d}) - e = {diff}\")"
   ]
  },
  {
   "cell_type": "code",
   "execution_count": null,
   "id": "36331392-92bd-4a22-877e-8ded9fcbac6c",
   "metadata": {},
   "outputs": [],
   "source": []
  },
  {
   "cell_type": "markdown",
   "id": "9d2d6cd0-e846-4acd-9d19-d4f44338911e",
   "metadata": {},
   "source": [
    "## The Same Code but This Time with `Decimal`"
   ]
  },
  {
   "cell_type": "code",
   "execution_count": 28,
   "id": "88b144ec-dbeb-4cde-b5a1-91baa1ff9817",
   "metadata": {},
   "outputs": [],
   "source": [
    "def b(n):\n",
    "    return (Decimal(1) + Decimal(1)/Decimal(n))**Decimal(n)"
   ]
  },
  {
   "cell_type": "code",
   "execution_count": 29,
   "id": "fb61c95d-555b-471d-a6af-20d07c8a31b5",
   "metadata": {},
   "outputs": [
    {
     "name": "stdout",
     "output_type": "stream",
     "text": [
      " b(10** 1) = 2.5937424601 < e\n",
      " b(10** 2) = 2.704813829421526093267194711 < e\n",
      " b(10** 3) = 2.716923932235892457383088122 < e\n",
      " b(10** 4) = 2.718145926825224864037664675 < e\n",
      " b(10** 5) = 2.718268237174489668035064824 < e\n",
      " b(10** 6) = 2.718280469319376883819799708 < e\n",
      " b(10** 7) = 2.718281692544966271198550226 < e\n",
      " b(10** 8) = 2.718281814867636217652977243 < e\n",
      " b(10** 9) = 2.718281827099904322376644024 < e\n",
      " b(10**10) = 2.718281828323131143949794001 < e\n",
      " b(10**11) = 2.718281828445453826218116833 < e\n",
      " b(10**12) = 2.718281828457686094446059195 < e\n",
      " b(10**13) = 2.718281828458909321268864532 < e\n",
      " b(10**14) = 2.718281828459031643951145176 < e\n",
      " b(10**15) = 2.718281828459043876219373242 < e\n"
     ]
    }
   ],
   "source": [
    "for p in range(1, MAX_POW+1):\n",
    "    n = 10**p\n",
    "    bn = b(n)\n",
    "    body = f\" b(10**{p:2d}) = {bn}\"\n",
    "    tail = \" > e\" if bn > math.e else \" < e\"\n",
    "    print(body + tail)"
   ]
  },
  {
   "cell_type": "code",
   "execution_count": 32,
   "id": "a65fe2ad-e2a5-44e2-935c-215ba7f55e92",
   "metadata": {},
   "outputs": [
    {
     "name": "stdout",
     "output_type": "stream",
     "text": [
      "b(10** 1) - e = -0.124539368359045\n",
      "b(10** 2) - e = -0.013467999037518906732805289\n",
      "b(10** 3) - e = -0.001357896223152542616911878\n",
      "b(10** 4) - e = -0.000135901633820135962335325\n",
      "b(10** 5) - e = -0.000013591284555331964935176\n",
      "b(10** 6) - e = -0.000001359139668116180200292\n",
      "b(10** 7) - e = -1.35914078728801449774E-7\n",
      "b(10** 8) - e = -1.3591408782347022757E-8\n",
      "b(10** 9) - e = -1.359140677623355976E-9\n",
      "b(10**10) - e = -1.35913856050205999E-10\n",
      "b(10**11) - e = -1.3591173781883167E-11\n",
      "b(10**12) - e = -1.358905553940805E-12\n",
      "b(10**13) - e = -1.35678731135468E-13\n",
      "b(10**14) - e = -1.3356048854824E-14\n",
      "b(10**15) - e = -1.123780626758E-15\n"
     ]
    }
   ],
   "source": [
    "for p in range(1, MAX_POW+1):\n",
    "    n = 10**p\n",
    "    bn = b(n)\n",
    "    diff = bn - Decimal(f\"{math.e}\")\n",
    "    print(f\"b(10**{p:2d}) - e = {diff}\")"
   ]
  },
  {
   "cell_type": "code",
   "execution_count": null,
   "id": "4ce97d16-8bcf-468f-9dcb-ac6152dd6146",
   "metadata": {},
   "outputs": [],
   "source": []
  }
 ],
 "metadata": {
  "kernelspec": {
   "display_name": "Python 3 (ipykernel)",
   "language": "python",
   "name": "python3"
  },
  "language_info": {
   "codemirror_mode": {
    "name": "ipython",
    "version": 3
   },
   "file_extension": ".py",
   "mimetype": "text/x-python",
   "name": "python",
   "nbconvert_exporter": "python",
   "pygments_lexer": "ipython3",
   "version": "3.10.0"
  }
 },
 "nbformat": 4,
 "nbformat_minor": 5
}
