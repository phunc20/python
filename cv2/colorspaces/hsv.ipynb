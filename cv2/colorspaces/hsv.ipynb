{
 "cells": [
  {
   "cell_type": "markdown",
   "id": "7c5c9195-6b4f-49e2-88a1-ecb741907b13",
   "metadata": {},
   "source": [
    "# HSV\n",
    "HSV is the colorspace commonly recognized as the closest to human vision. In OpenCV terms, it means that, for example,\n",
    "when using `cv2.inRange` to separate colors,\n",
    "first carrying your image array into HSV colorspace\n",
    "will help work better than staying in RGB/BGR colorspace."
   ]
  },
  {
   "cell_type": "code",
   "execution_count": 1,
   "id": "b17a520a-12d7-4a4d-bdb0-858d89ebfed4",
   "metadata": {},
   "outputs": [],
   "source": [
    "import ipywidgets as widgets\n",
    "from ipywidgets import interact"
   ]
  },
  {
   "cell_type": "code",
   "execution_count": 2,
   "id": "0d5efd63-41f7-45bc-83e8-7b165aa1144e",
   "metadata": {},
   "outputs": [],
   "source": [
    "from colors import (\n",
    "    display_colors,\n",
    "    display_gimp_colors,\n",
    "    gimp2opencv,\n",
    ")"
   ]
  },
  {
   "cell_type": "code",
   "execution_count": 3,
   "id": "85f0387c-6742-42c4-b34b-cf13aa7cdc35",
   "metadata": {},
   "outputs": [],
   "source": [
    "h_widget = widgets.IntSlider(min=0, max=179, value=100)\n",
    "s_widget = widgets.IntSlider(min=0, max=255, value=200)\n",
    "v_widget = widgets.IntSlider(min=0, max=255, value=200)"
   ]
  },
  {
   "cell_type": "code",
   "execution_count": 4,
   "id": "dfc8b80c-d70d-4890-b02f-e5d438e30e14",
   "metadata": {},
   "outputs": [
    {
     "data": {
      "application/vnd.jupyter.widget-view+json": {
       "model_id": "4f994169d05e45fba400b056f0af3fcc",
       "version_major": 2,
       "version_minor": 0
      },
      "text/plain": [
       "interactive(children=(IntSlider(value=100, description='h', max=179), IntSlider(value=200, description='s', ma…"
      ]
     },
     "metadata": {},
     "output_type": "display_data"
    }
   ],
   "source": [
    "@interact(h=h_widget, s=s_widget, v=v_widget)\n",
    "def mydisplay_colors(h,s,v):\n",
    "    display_colors(h,s,v)"
   ]
  },
  {
   "cell_type": "code",
   "execution_count": 5,
   "id": "c53ea685-7f7d-499a-b95b-5a2fa9e61bd3",
   "metadata": {},
   "outputs": [],
   "source": [
    "gimp_h_widget = widgets.FloatSlider(min=0, max=360, value=100)\n",
    "gimp_s_widget = widgets.FloatSlider(min=0, max=100, value=80)\n",
    "gimp_v_widget = widgets.FloatSlider(min=0, max=100, value=80)"
   ]
  },
  {
   "cell_type": "code",
   "execution_count": 6,
   "id": "bf28bb1b-96a8-4516-8c24-13cb6649cbe5",
   "metadata": {},
   "outputs": [
    {
     "data": {
      "application/vnd.jupyter.widget-view+json": {
       "model_id": "ef2ef8bce50a411b82b4575a07ef0f70",
       "version_major": 2,
       "version_minor": 0
      },
      "text/plain": [
       "interactive(children=(FloatSlider(value=100.0, description='gimp_h', max=360.0), FloatSlider(value=80.0, descr…"
      ]
     },
     "metadata": {},
     "output_type": "display_data"
    }
   ],
   "source": [
    "@interact(gimp_h=gimp_h_widget, gimp_s=gimp_s_widget, gimp_v=gimp_v_widget)\n",
    "def mydisplay_gimp_colors(gimp_h,gimp_s,gimp_v):\n",
    "    display_gimp_colors(gimp_h,gimp_s,gimp_v)"
   ]
  },
  {
   "cell_type": "code",
   "execution_count": null,
   "id": "f93e4ea3-3a7c-4170-9782-9fcb1946fc19",
   "metadata": {},
   "outputs": [],
   "source": []
  },
  {
   "cell_type": "markdown",
   "id": "6fb48d62-70c1-4a74-881d-60ad62d26e82",
   "metadata": {},
   "source": [
    "## `display_colors`\n",
    "Next, I would like to show the flexibility of the colors\n",
    "one wants to display with the function `display_colors`.\n",
    "Essentially, we could specify one or multiple colors."
   ]
  },
  {
   "cell_type": "code",
   "execution_count": 7,
   "id": "58f9eac5-1f19-4eae-a09c-bfe07d7e9763",
   "metadata": {},
   "outputs": [
    {
     "data": {
      "text/plain": [
       "\u001b[0;31mSignature:\u001b[0m \u001b[0mdisplay_colors\u001b[0m\u001b[0;34m(\u001b[0m\u001b[0;34m*\u001b[0m\u001b[0mcolors\u001b[0m\u001b[0;34m,\u001b[0m \u001b[0mcolorspace\u001b[0m\u001b[0;34m=\u001b[0m\u001b[0;34m'hsv'\u001b[0m\u001b[0;34m,\u001b[0m \u001b[0mshow\u001b[0m\u001b[0;34m=\u001b[0m\u001b[0;32mFalse\u001b[0m\u001b[0;34m)\u001b[0m\u001b[0;34m\u001b[0m\u001b[0;34m\u001b[0m\u001b[0m\n",
       "\u001b[0;31mDocstring:\u001b[0m\n",
       "args\n",
       "    colors\n",
       "        should be RGB or HSV values.\n",
       "        The following formats are accepted:\n",
       "            display_colors(128,255,255)\n",
       "            display_colors((128,255,255))\n",
       "            display_colors(((128,255,255), (0,128,45)))\n",
       "            display_colors([(128,255,255), (0,128,45)])\n",
       "\n",
       "    colorspace, str\n",
       "        either \"hsv\" or \"rgb\"\n",
       "\u001b[0;31mFile:\u001b[0m      ~/git-repos/github/phunc20/python/cv2/colorspaces/colors.py\n",
       "\u001b[0;31mType:\u001b[0m      function\n"
      ]
     },
     "metadata": {},
     "output_type": "display_data"
    }
   ],
   "source": [
    "display_colors?"
   ]
  },
  {
   "cell_type": "code",
   "execution_count": 8,
   "id": "3c36bb82-e44d-48d2-be6b-91a5124243e9",
   "metadata": {},
   "outputs": [
    {
     "data": {
      "image/png": "[encoded data removed]",
      "text/plain": [
       "<Figure size 640x480 with 1 Axes>"
      ]
     },
     "metadata": {},
     "output_type": "display_data"
    },
    {
     "data": {
      "text/plain": [
       "(<Figure size 640x480 with 1 Axes>, <AxesSubplot: >)"
      ]
     },
     "execution_count": 8,
     "metadata": {},
     "output_type": "execute_result"
    }
   ],
   "source": [
    "display_colors(255, 30, 30, show=True, colorspace=\"rgb\")"
   ]
  },
  {
   "cell_type": "code",
   "execution_count": 9,
   "id": "ea8fd867-2a5f-4806-ab95-8628cfc4b629",
   "metadata": {},
   "outputs": [
    {
     "data": {
      "image/png": "[encoded data removed]",
      "text/plain": [
       "<Figure size 640x480 with 1 Axes>"
      ]
     },
     "metadata": {},
     "output_type": "display_data"
    }
   ],
   "source": [
    "display_colors((255, 30, 30), show=False);"
   ]
  },
  {
   "cell_type": "code",
   "execution_count": 10,
   "id": "2dfc1be3-2586-4093-ab73-5888c3af46cd",
   "metadata": {},
   "outputs": [
    {
     "data": {
      "image/png": "[encoded data removed]",
      "text/plain": [
       "<Figure size 640x480 with 1 Axes>"
      ]
     },
     "metadata": {},
     "output_type": "display_data"
    }
   ],
   "source": [
    "display_colors([(255, 30, 30)], show=False);"
   ]
  },
  {
   "cell_type": "code",
   "execution_count": 11,
   "id": "2fdc8005-843b-45ff-93d4-5ab115f4824b",
   "metadata": {},
   "outputs": [
    {
     "data": {
      "image/png": "[encoded data removed]",
      "text/plain": [
       "<Figure size 640x480 with 3 Axes>"
      ]
     },
     "metadata": {},
     "output_type": "display_data"
    }
   ],
   "source": [
    "display_colors((255, 30, 30), (0, 255,0), (0,0,255), show=False);"
   ]
  },
  {
   "cell_type": "code",
   "execution_count": 12,
   "id": "25e3e1c4-8b10-4d34-9126-a6151121f066",
   "metadata": {},
   "outputs": [
    {
     "data": {
      "image/png": "[encoded data removed]",
      "text/plain": [
       "<Figure size 640x480 with 3 Axes>"
      ]
     },
     "metadata": {},
     "output_type": "display_data"
    }
   ],
   "source": [
    "display_colors((179,230,230), (0,200,55), (100,255,255), show=False,\n",
    "               colorspace=\"hsv\");"
   ]
  },
  {
   "cell_type": "code",
   "execution_count": 13,
   "id": "8cf77f2b-3b24-4195-aaa1-d315a012f994",
   "metadata": {},
   "outputs": [],
   "source": [
    "colors = [(179,230,230), (0,200,55), (100,255,255)]"
   ]
  },
  {
   "cell_type": "code",
   "execution_count": 14,
   "id": "651bbcb3-2c2b-4ee3-9cde-8256642b9458",
   "metadata": {},
   "outputs": [
    {
     "data": {
      "image/png": "[encoded data removed]",
      "text/plain": [
       "<Figure size 640x480 with 3 Axes>"
      ]
     },
     "metadata": {},
     "output_type": "display_data"
    }
   ],
   "source": [
    "display_colors(colors, show=False, colorspace=\"hsv\");"
   ]
  },
  {
   "cell_type": "code",
   "execution_count": 15,
   "id": "3ce0e45a-aae8-4486-abd1-4252b0be57f5",
   "metadata": {},
   "outputs": [
    {
     "data": {
      "image/png": "[encoded data removed]",
      "text/plain": [
       "<Figure size 640x480 with 3 Axes>"
      ]
     },
     "metadata": {},
     "output_type": "display_data"
    }
   ],
   "source": [
    "display_gimp_colors(colors, show=False, colorspace=\"hsv\");"
   ]
  },
  {
   "cell_type": "code",
   "execution_count": null,
   "id": "f1f97ff8-8487-48ee-b972-abd4aeafd5fb",
   "metadata": {},
   "outputs": [],
   "source": []
  }
 ],
 "metadata": {
  "kernelspec": {
   "display_name": "Python 3 (ipykernel)",
   "language": "python",
   "name": "python3"
  },
  "language_info": {
   "codemirror_mode": {
    "name": "ipython",
    "version": 3
   },
   "file_extension": ".py",
   "mimetype": "text/x-python",
   "name": "python",
   "nbconvert_exporter": "python",
   "pygments_lexer": "ipython3",
   "version": "3.10.0"
  }
 },
 "nbformat": 4,
 "nbformat_minor": 5
}
