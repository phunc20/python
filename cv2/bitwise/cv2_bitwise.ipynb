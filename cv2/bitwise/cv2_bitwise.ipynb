{
 "cells": [
  {
   "cell_type": "code",
   "execution_count": null,
   "id": "a6b7867c-2235-4eb1-8941-3e415ab6f098",
   "metadata": {},
   "outputs": [],
   "source": [
    "import cv2\n",
    "import matplotlib.pyplot as plt\n",
    "import numpy as np"
   ]
  },
  {
   "cell_type": "code",
   "execution_count": null,
   "id": "d1ceb204-db1a-4d8e-9b63-63524fc7a572",
   "metadata": {},
   "outputs": [],
   "source": [
    "cv2.bitwise_not(1)"
   ]
  },
  {
   "cell_type": "code",
   "execution_count": null,
   "id": "3a9e7f9f-8280-4e93-a017-b520c2651e47",
   "metadata": {},
   "outputs": [],
   "source": [
    "cv2.bitwise_not(2)"
   ]
  },
  {
   "cell_type": "code",
   "execution_count": null,
   "id": "b0232852-ae31-4093-9059-3b37ddd09e10",
   "metadata": {},
   "outputs": [],
   "source": [
    "cv2.bitwise_not(3)"
   ]
  },
  {
   "cell_type": "code",
   "execution_count": null,
   "id": "2b14881e-3b51-477a-9aa8-031c2f158072",
   "metadata": {},
   "outputs": [],
   "source": [
    "cv2.bitwise_not(np.array([1,2,3]))"
   ]
  },
  {
   "cell_type": "code",
   "execution_count": null,
   "id": "02b6229b-6785-4f36-83a0-16ec9878ead5",
   "metadata": {},
   "outputs": [],
   "source": [
    "np.array([1,2,3]).dtype"
   ]
  },
  {
   "cell_type": "code",
   "execution_count": null,
   "id": "cf004746-ab98-418a-9aa5-e9d5bad46c5b",
   "metadata": {},
   "outputs": [],
   "source": [
    "import sys"
   ]
  },
  {
   "cell_type": "code",
   "execution_count": null,
   "id": "34a5d406-4a47-491d-afc8-09370eb4fc60",
   "metadata": {},
   "outputs": [],
   "source": [
    "sys.getsizeof(1)"
   ]
  },
  {
   "cell_type": "code",
   "execution_count": null,
   "id": "7fec1866-7151-48ac-bdc8-25320a5b7d61",
   "metadata": {},
   "outputs": [],
   "source": [
    "for i in range(10):\n",
    "    print(f\"{sys.getsizeof(i) = }\")"
   ]
  },
  {
   "cell_type": "markdown",
   "id": "cbc1d680-af93-43e1-8734-40e1467f0c86",
   "metadata": {},
   "source": [
    "<https://stackoverflow.com/questions/10365624/sys-getsizeofint-returns-an-unreasonably-large-value>"
   ]
  },
  {
   "cell_type": "code",
   "execution_count": null,
   "id": "75c956c0-9827-4358-98a1-63d5d703ea87",
   "metadata": {},
   "outputs": [],
   "source": [
    "a = cv2.bitwise_not(1)\n",
    "a.shape, a.dtype"
   ]
  },
  {
   "cell_type": "code",
   "execution_count": null,
   "id": "311506d7-8b22-439c-94dc-f204b4ca2061",
   "metadata": {},
   "outputs": [],
   "source": [
    "a = cv2.bitwise_not(0)\n",
    "a.shape, a.dtype"
   ]
  },
  {
   "cell_type": "markdown",
   "id": "ec7be531-fcd6-479d-b251-744813f843ca",
   "metadata": {},
   "source": [
    "**(?)** So maybe `cv2.bitwise_not` only accept to deal with (arrays of) boolean values?"
   ]
  },
  {
   "cell_type": "code",
   "execution_count": null,
   "id": "a10d7f70-6fb6-43b8-b36f-5ffde6a3c4c1",
   "metadata": {},
   "outputs": [],
   "source": [
    "cv2.bitwise_not(True)"
   ]
  },
  {
   "cell_type": "code",
   "execution_count": null,
   "id": "9405d5b4-b7b5-46cb-8d3a-a0443ca833a7",
   "metadata": {},
   "outputs": [],
   "source": [
    "cv2.bitwise_not(False)"
   ]
  },
  {
   "cell_type": "code",
   "execution_count": null,
   "id": "42a93b33-bf72-4236-9691-c2ba2fcac6ee",
   "metadata": {},
   "outputs": [],
   "source": [
    "True == 1"
   ]
  },
  {
   "cell_type": "code",
   "execution_count": null,
   "id": "00b1965e-032a-4c1b-b0ed-0ff23db127d4",
   "metadata": {},
   "outputs": [],
   "source": [
    "False == 0"
   ]
  },
  {
   "cell_type": "code",
   "execution_count": null,
   "id": "640ecaf9-c654-4a91-acab-c7e58b949e87",
   "metadata": {},
   "outputs": [],
   "source": [
    "np.array([0, 1], dtype=bool)"
   ]
  },
  {
   "cell_type": "code",
   "execution_count": null,
   "id": "21bbf411-29f5-42f7-93c6-25bf36081a37",
   "metadata": {},
   "outputs": [],
   "source": [
    "import traceback"
   ]
  },
  {
   "cell_type": "code",
   "execution_count": null,
   "id": "2a0cf08b-de7b-4ec4-ab52-dde472148cae",
   "metadata": {},
   "outputs": [],
   "source": [
    "try:\n",
    "    cv2.bitwise_not(np.array([0, 1], dtype=bool))\n",
    "except Exception:\n",
    "    traceback.print_exc()"
   ]
  },
  {
   "cell_type": "code",
   "execution_count": null,
   "id": "83807c83-bd58-40bf-96bc-53099d2d873f",
   "metadata": {},
   "outputs": [],
   "source": [
    "np.array([False, True])"
   ]
  },
  {
   "cell_type": "code",
   "execution_count": null,
   "id": "5e53f426-a261-4779-948d-42466f331843",
   "metadata": {},
   "outputs": [],
   "source": [
    "try:\n",
    "    cv2.bitwise_not(np.array([False, True]))\n",
    "except Exception:\n",
    "    traceback.print_exc()"
   ]
  },
  {
   "cell_type": "code",
   "execution_count": null,
   "id": "0d551c03-db1b-4e8d-b39f-0d73e800b9c5",
   "metadata": {},
   "outputs": [],
   "source": [
    "help(cv2.bitwise_not)"
   ]
  },
  {
   "cell_type": "code",
   "execution_count": null,
   "id": "812ce42f-e0a1-4fc2-b0cb-00eb7736510b",
   "metadata": {},
   "outputs": [],
   "source": [
    "cv2.bitwise_not(np.arange(5, dtype=np.int8))"
   ]
  },
  {
   "cell_type": "code",
   "execution_count": null,
   "id": "bc675942-34a2-4dd9-a5e3-9fb7a9edcba2",
   "metadata": {},
   "outputs": [],
   "source": [
    "cv2.bitwise_not(np.arange(5, dtype=np.int32))"
   ]
  },
  {
   "cell_type": "code",
   "execution_count": null,
   "id": "22acdd29-ad22-47f8-9157-cd1ca7442937",
   "metadata": {},
   "outputs": [],
   "source": [
    "cv2.bitwise_not(np.array([0,1], dtype=np.int8))"
   ]
  },
  {
   "cell_type": "code",
   "execution_count": null,
   "id": "faacd7b4-717a-4b05-9387-b8c2e39e98cb",
   "metadata": {},
   "outputs": [],
   "source": [
    "cv2.bitwise_not(np.array([0,1], dtype=np.uint8))"
   ]
  }
 ],
 "metadata": {
  "kernelspec": {
   "display_name": "Python 3 (ipykernel)",
   "language": "python",
   "name": "python3"
  },
  "language_info": {
   "codemirror_mode": {
    "name": "ipython",
    "version": 3
   },
   "file_extension": ".py",
   "mimetype": "text/x-python",
   "name": "python",
   "nbconvert_exporter": "python",
   "pygments_lexer": "ipython3",
   "version": "3.10.5"
  }
 },
 "nbformat": 4,
 "nbformat_minor": 5
}
