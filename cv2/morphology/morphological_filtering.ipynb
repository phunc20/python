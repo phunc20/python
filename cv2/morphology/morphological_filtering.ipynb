{
 "cells": [
  {
   "cell_type": "markdown",
   "id": "43b4d0e6-fdcf-4990-8e1a-2d7cbfa56e49",
   "metadata": {},
   "source": [
    "## Ref.\n",
    "- <https://stackoverflow.com/questions/32125281/removing-watermark-out-of-an-image-using-opencv>"
   ]
  },
  {
   "cell_type": "code",
   "execution_count": null,
   "id": "5d2faf5c-39cc-462b-9ede-68fdf745ce5f",
   "metadata": {},
   "outputs": [],
   "source": [
    "import cv2\n",
    "import matplotlib.pyplot as plt\n",
    "import numpy as np\n",
    "from pathlib import Path\n",
    "\n",
    "plt.style.use(\"dark_background\")"
   ]
  },
  {
   "cell_type": "code",
   "execution_count": null,
   "id": "b8cadbfc-9e56-445b-83b0-5cc161e7e477",
   "metadata": {},
   "outputs": [],
   "source": [
    "image_path = Path.cwd()/\"figs/watermark.jpg\"\n",
    "#image_path = Path.cwd()/\"figs/見本.png\"\n",
    "image_path.exists()"
   ]
  },
  {
   "cell_type": "code",
   "execution_count": null,
   "id": "4b579441-6007-482c-9bd5-1d233f1bad1e",
   "metadata": {},
   "outputs": [],
   "source": [
    "bgr = cv2.imread(str(image_path))\n",
    "rgb = cv2.cvtColor(bgr, cv2.COLOR_BGR2RGB)\n",
    "gray = cv2.cvtColor(bgr, cv2.COLOR_BGR2GRAY)\n",
    "fig, ax = plt.subplots(1,2,figsize=(10,10))\n",
    "ax[0].imshow(rgb)\n",
    "ax[0].set_title(\"rgb\");\n",
    "ax[1].imshow(gray, cmap=\"gray\", vmin=0, vmax=255)\n",
    "ax[1].set_title(\"gray\");"
   ]
  },
  {
   "cell_type": "raw",
   "id": "f2e7691a-cf05-4b8e-b898-863e8fd52b26",
   "metadata": {
    "jupyter": {
     "outputs_hidden": true
    },
    "tags": []
   },
   "source": [
    "cv2.morphologyEx?"
   ]
  },
  {
   "cell_type": "code",
   "execution_count": null,
   "id": "e952c25e-abfb-45ba-b42f-17d8c6e8f822",
   "metadata": {},
   "outputs": [],
   "source": [
    "bg = gray.copy()\n",
    "\n",
    "for r in range(1, 7):\n",
    "    l = 2*r + 1\n",
    "    kernel = cv2.getStructuringElement(\n",
    "        cv2.MORPH_ELLIPSE,\n",
    "        (l, l),\n",
    "    )\n",
    "    bg = cv2.morphologyEx(bg, cv2.MORPH_CLOSE, kernel)\n",
    "    bg = cv2.morphologyEx(bg, cv2.MORPH_OPEN, kernel)\n",
    "\n",
    "plt.figure(figsize=(10,10))\n",
    "plt.imshow(bg, cmap=\"gray\", vmin=0, vmax=255)\n",
    "plt.title(\"bg\");"
   ]
  },
  {
   "cell_type": "markdown",
   "id": "d84d1121-cd8f-44b8-b355-293eff90564b",
   "metadata": {},
   "source": [
    "**(?)** Why `CLOSE` then `OPEN`? Any theory on this? What about `OPEN` then `CLOSE`?\n",
    "Why we need to gradually increase the kernel size and run in a for loop?  \n",
    "**(R)**   \n",
    "- To help understand why the author used closing followed by opening, you could try\n",
    "  to **comment the opening part** in the for loop above.  \n",
    "    \n",
    "  I have tried and found that keeping it as **closing followed opening is better**, because, although\n",
    "  using only closing seems to be able to get rid of black-stroke texts in `bg`,\n",
    "  these texts appear even **whiter than than even the white part** of `bg`."
   ]
  },
  {
   "cell_type": "markdown",
   "id": "5bcc53df-a762-4d65-97dc-029c2df5da29",
   "metadata": {},
   "source": [
    "Note that\n",
    "- The circular shape thing is not as sharp as in the original image;\n",
    "  besides, the black thin circumference line has been gotten rid of.\n",
    "- The black texts inside the circular disappeared."
   ]
  },
  {
   "cell_type": "code",
   "execution_count": null,
   "id": "4b053e31-5c1c-43f8-ba37-d8b8ac3e5b6e",
   "metadata": {},
   "outputs": [],
   "source": [
    "print(f\"{bg.shape, gray.shape, rgb.shape = }\")\n",
    "print(f\"{bg.dtype, gray.dtype, rgb.dtype = }\")"
   ]
  },
  {
   "cell_type": "code",
   "execution_count": null,
   "id": "5b4bff37-81dd-4834-8d82-43cfd1575094",
   "metadata": {},
   "outputs": [],
   "source": [
    "diff = cv2.subtract(bg, gray)\n",
    "plt.figure(figsize=(10,10))\n",
    "plt.imshow(diff, vmin=0, vmax=255, cmap=\"gray\")\n",
    "plt.title(\"diff\");"
   ]
  },
  {
   "cell_type": "markdown",
   "id": "d1a803a0-5a96-49b0-8698-e336ea6a5e41",
   "metadata": {},
   "source": [
    "Let's briefly recall what `cv2.subtract` is capable of in the next cell:"
   ]
  },
  {
   "cell_type": "code",
   "execution_count": null,
   "id": "f7b07f11-33f0-4b06-b43e-43c3e506016b",
   "metadata": {},
   "outputs": [],
   "source": [
    "cv2.subtract(\n",
    "    np.array([[200]], dtype=np.uint8),\n",
    "    np.array([[255]], dtype=np.uint8)\n",
    ")"
   ]
  },
  {
   "cell_type": "code",
   "execution_count": null,
   "id": "e43db7de-ab41-4168-8ed4-7b5af68cba99",
   "metadata": {},
   "outputs": [],
   "source": [
    "cv2.threshold?"
   ]
  },
  {
   "cell_type": "code",
   "execution_count": null,
   "id": "62ba7af9-209f-4bc2-923c-6bb8b946ce05",
   "metadata": {},
   "outputs": [],
   "source": [
    "# bw for \"Black and White\"\n",
    "bw = cv2.threshold(\n",
    "    diff, 0, 255, cv2.THRESH_BINARY_INV | cv2.THRESH_OTSU)[1]\n",
    "dark = cv2.threshold(\n",
    "    bg, 0, 255, cv2.THRESH_BINARY_INV | cv2.THRESH_OTSU)[1]\n",
    "\n",
    "fig, ax = plt.subplots(1,2,figsize=(10,10))\n",
    "ax[0].imshow(bw, cmap=\"gray\")\n",
    "ax[0].set_title(\"bw\");\n",
    "ax[1].imshow(dark, cmap=\"gray\")\n",
    "ax[1].set_title(\"dark\");"
   ]
  },
  {
   "cell_type": "code",
   "execution_count": null,
   "id": "07854b94-e5bb-4b42-8296-231b596cf34a",
   "metadata": {},
   "outputs": [],
   "source": [
    "np.unique(bw), np.unique(dark)"
   ]
  },
  {
   "cell_type": "code",
   "execution_count": null,
   "id": "be3479e2-9941-4304-b620-6144107f1ce1",
   "metadata": {},
   "outputs": [],
   "source": [
    "plt.figure(figsize=(10,10))\n",
    "plt.imshow(bw, cmap=\"gray\")\n",
    "plt.title(\"bw\");"
   ]
  },
  {
   "cell_type": "code",
   "execution_count": null,
   "id": "7c7d686e-62c5-402b-98c4-793b0e7acaa6",
   "metadata": {},
   "outputs": [],
   "source": [
    "darkpix = gray[np.where(dark > 0)]\n",
    "print(f\"{darkpix.shape = }\")\n",
    "print(f\"{np.product(gray.shape)}\")\n",
    "# plt.figure(figsize=(10,10))\n",
    "# plt.imshow(darkpix, cmap=\"gray\")\n",
    "# plt.title(\"darkpix\");"
   ]
  },
  {
   "cell_type": "code",
   "execution_count": null,
   "id": "aa0888f4-bfc4-4721-9477-3e0859720af0",
   "metadata": {},
   "outputs": [],
   "source": [
    "np.where(dark > 0)"
   ]
  },
  {
   "cell_type": "code",
   "execution_count": null,
   "id": "1b23c31f-218d-47fa-ab2d-11292c77efd0",
   "metadata": {},
   "outputs": [],
   "source": [
    "darkpix = cv2.threshold(\n",
    "    darkpix, 0, 255, cv2.THRESH_BINARY | cv2.THRESH_OTSU)[1]\n",
    "print(f\"{darkpix.shape = }\")\n",
    "plt.figure(figsize=(10,10))\n",
    "plt.imshow(darkpix, cmap=\"gray\")\n",
    "plt.title(\"darkpix\")"
   ]
  },
  {
   "cell_type": "code",
   "execution_count": null,
   "id": "c0b98eac-621b-4f97-9ff7-cd2542727014",
   "metadata": {},
   "outputs": [],
   "source": [
    "bw[np.where(dark > 0)] = darkpix.T\n",
    "plt.figure(figsize=(10,10))\n",
    "plt.imshow(bw, cmap=\"gray\")\n",
    "plt.title(\"bw\")"
   ]
  },
  {
   "cell_type": "code",
   "execution_count": null,
   "id": "eeacc416-f201-4ca3-bd65-81c5e640b2f0",
   "metadata": {},
   "outputs": [],
   "source": [
    "plt.figure(figsize=(10,10))\n",
    "plt.imshow(rgb)\n",
    "plt.title(\"rgb\");"
   ]
  },
  {
   "cell_type": "code",
   "execution_count": null,
   "id": "ac7a2b0e-ecd2-4e50-9cd6-41f6d86aa687",
   "metadata": {},
   "outputs": [],
   "source": [
    "bw[np.where(dark > 0)].shape, darkpix.shape"
   ]
  },
  {
   "cell_type": "markdown",
   "id": "0f899d8e-1a6f-4c4d-abc9-587e8e63eaaa",
   "metadata": {},
   "source": [
    "**(?)** Could we get RGB with watermark removed instead of grayscale?  "
   ]
  },
  {
   "cell_type": "code",
   "execution_count": null,
   "id": "50b66deb-944b-4a7b-b8f4-d0e5cc075598",
   "metadata": {},
   "outputs": [],
   "source": []
  },
  {
   "cell_type": "markdown",
   "id": "229ab460-3ac0-49db-8d97-eed001ee3abf",
   "metadata": {},
   "source": [
    "## How Good Is The Final Result `bw`?"
   ]
  },
  {
   "cell_type": "code",
   "execution_count": null,
   "id": "05c9bd69-484b-4017-998e-5b681ebb6024",
   "metadata": {},
   "outputs": [],
   "source": [
    "plt.figure(figsize=(10,10))\n",
    "plt.imshow(cv2.subtract(gray, bw), vmin=0, vmax=255, cmap=\"gray\")\n",
    "plt.title(\"cv2.subtract(gray, bw)\");"
   ]
  },
  {
   "cell_type": "code",
   "execution_count": null,
   "id": "25ad7dde-72e2-49d1-a8fe-8a9282975c78",
   "metadata": {},
   "outputs": [],
   "source": [
    "plt.figure(figsize=(10,10))\n",
    "plt.imshow(cv2.subtract(bw, gray), vmin=0, vmax=255, cmap=\"gray\")\n",
    "plt.title(\"cv2.subtract(bw, gray)\");"
   ]
  },
  {
   "cell_type": "markdown",
   "id": "b5deb718-3681-4890-890a-1bbbe081a8d0",
   "metadata": {},
   "source": [
    "**(?)** Is `diff` binary like `bw` and `dark`?  \n",
    "**(R)** No."
   ]
  },
  {
   "cell_type": "code",
   "execution_count": null,
   "id": "380b4257-f4d0-4f16-8116-3440a98c2c95",
   "metadata": {},
   "outputs": [],
   "source": [
    "np.unique(diff)"
   ]
  },
  {
   "cell_type": "code",
   "execution_count": null,
   "id": "b6dcda41-0f2b-4e87-8988-efc829275f10",
   "metadata": {},
   "outputs": [],
   "source": [
    "plt.figure(figsize=(15,15))\n",
    "plt.imshow(diff, vmin=0, vmax=255, cmap=\"gray\")\n",
    "plt.title(\"diff\");"
   ]
  },
  {
   "cell_type": "code",
   "execution_count": null,
   "id": "dffb81e3-9fa4-4f55-94d8-25b46c99d532",
   "metadata": {},
   "outputs": [],
   "source": [
    "plt.figure(figsize=(15,15))\n",
    "plt.imshow(bw, vmin=0, vmax=255, cmap=\"gray\")\n",
    "plt.title(\"bw\");"
   ]
  },
  {
   "cell_type": "code",
   "execution_count": null,
   "id": "bef2e9ed-2d79-440e-aac2-454636ec4d6c",
   "metadata": {},
   "outputs": [],
   "source": [
    "fig, ax = plt.subplots(1,2,figsize=(10,10))\n",
    "ax[0].imshow(rgb)\n",
    "ax[0].set_title(\"rgb\");\n",
    "ax[1].imshow(bw, cmap=\"gray\", vmin=0, vmax=255)\n",
    "ax[1].set_title(\"bw\");"
   ]
  },
  {
   "cell_type": "code",
   "execution_count": null,
   "id": "779f50b5-fba1-4736-a272-e6ffcbef0634",
   "metadata": {},
   "outputs": [],
   "source": []
  }
 ],
 "metadata": {
  "kernelspec": {
   "display_name": "Python 3 (ipykernel)",
   "language": "python",
   "name": "python3"
  },
  "language_info": {
   "codemirror_mode": {
    "name": "ipython",
    "version": 3
   },
   "file_extension": ".py",
   "mimetype": "text/x-python",
   "name": "python",
   "nbconvert_exporter": "python",
   "pygments_lexer": "ipython3",
   "version": "3.10.4"
  }
 },
 "nbformat": 4,
 "nbformat_minor": 5
}
