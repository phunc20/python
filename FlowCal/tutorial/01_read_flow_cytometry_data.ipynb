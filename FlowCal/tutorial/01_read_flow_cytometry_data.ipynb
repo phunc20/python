{
 "cells": [
  {
   "cell_type": "code",
   "execution_count": null,
   "id": "eca478b9-e7f4-40e7-ab11-e8aa2e81b1df",
   "metadata": {
    "tags": []
   },
   "outputs": [],
   "source": [
    "import FlowCal"
   ]
  },
  {
   "cell_type": "code",
   "execution_count": null,
   "id": "71f90e2f-6c30-4c36-b00f-933c02bb2420",
   "metadata": {
    "tags": []
   },
   "outputs": [],
   "source": [
    "!wget https://github.com/taborlab/FlowCal/blob/master/examples/FCFiles/sample001.fcs"
   ]
  },
  {
   "cell_type": "code",
   "execution_count": null,
   "id": "e237b914-b6f6-40bc-91dd-1b80a9b84058",
   "metadata": {
    "tags": []
   },
   "outputs": [],
   "source": [
    "!ls"
   ]
  },
  {
   "cell_type": "code",
   "execution_count": null,
   "id": "97bc8895-5b47-4cb4-9832-59daf87f64fc",
   "metadata": {
    "tags": []
   },
   "outputs": [],
   "source": [
    "s = FlowCal.io.FCSData(\"sample001.fcs\")\n",
    "s"
   ]
  },
  {
   "cell_type": "code",
   "execution_count": null,
   "id": "c3ac380a-a478-4427-b5ac-c15cf7060019",
   "metadata": {
    "tags": []
   },
   "outputs": [],
   "source": [
    "import numpy as np\n",
    "\n",
    "issubclass(FlowCal.io.FCSData, np.ndarray)"
   ]
  },
  {
   "cell_type": "code",
   "execution_count": null,
   "id": "94f1aa13-aa61-4632-8ba7-13bccc446803",
   "metadata": {
    "tags": []
   },
   "outputs": [],
   "source": [
    "print([string for string in dir(s) if not string.startswith(\"_\")])"
   ]
  },
  {
   "cell_type": "code",
   "execution_count": null,
   "id": "3f59906a-789f-4c57-84bb-209b6207f5e0",
   "metadata": {
    "tags": []
   },
   "outputs": [],
   "source": [
    "s.shape"
   ]
  },
  {
   "cell_type": "markdown",
   "id": "65db1fe8-e45f-4f85-8f08-0ef435fb257a",
   "metadata": {},
   "source": [
    "- The first dimension is called **event**\n",
    "- The 2nd **channel**\n",
    "\n",
    "One could slice through a `FCSData` like one does to `ndarray`. For example, let's take just a few channels."
   ]
  },
  {
   "cell_type": "code",
   "execution_count": null,
   "id": "2d1dd384-5d54-4c38-b29a-b00ce9887ac9",
   "metadata": {
    "tags": []
   },
   "outputs": [],
   "source": [
    "s_sub_ch = s[:, [3,4,5]]\n",
    "s_sub_ch.shape"
   ]
  },
  {
   "cell_type": "markdown",
   "id": "24f04cb9-357d-4166-8513-b86883b8aa81",
   "metadata": {},
   "source": [
    "`FCSData` implements a few other convenience methods for us to more easily manipulate the channels:"
   ]
  },
  {
   "cell_type": "code",
   "execution_count": null,
   "id": "ab21c23e-aff0-474a-9947-1d9c184b40ea",
   "metadata": {
    "tags": []
   },
   "outputs": [],
   "source": [
    "print(f'{s.channels}')\n",
    "print(f'{s_sub_ch.channels}')"
   ]
  },
  {
   "cell_type": "markdown",
   "id": "00fd73a1-1567-4ab9-b5dd-3c0dfa8ecc4b",
   "metadata": {},
   "source": [
    "So the channels `[3,4,5]` we just took simply correspond to the fluorescence channels `FL1`, `FL2` and `FL3`."
   ]
  },
  {
   "cell_type": "code",
   "execution_count": null,
   "id": "3242ad63-4e04-4f3a-a721-edaec7890f79",
   "metadata": {
    "tags": []
   },
   "outputs": [],
   "source": [
    "s_sub_ch2 = s[:, [\"FL1\", \"FL2\", \"FL3\"]]\n",
    "s_sub_ch2.shape"
   ]
  },
  {
   "cell_type": "code",
   "execution_count": null,
   "id": "7ae10665-e7f4-403f-a38d-938fac5cff00",
   "metadata": {
    "tags": []
   },
   "outputs": [],
   "source": [
    "np.array_equal(s_sub_ch, s_sub_ch2)"
   ]
  },
  {
   "cell_type": "code",
   "execution_count": null,
   "id": "b6cc2f95-4282-41ef-9083-ed2aca2a171f",
   "metadata": {
    "tags": []
   },
   "outputs": [],
   "source": [
    "s_sub_ch2.channels"
   ]
  },
  {
   "cell_type": "code",
   "execution_count": null,
   "id": "1fd94a5f-2933-491f-b6d5-e218a1c89a7f",
   "metadata": {},
   "outputs": [],
   "source": []
  },
  {
   "cell_type": "markdown",
   "id": "15a7d338-b454-4431-b6e9-ece45e5ad1ca",
   "metadata": {},
   "source": [
    "`FCSData` contains more acquisition information, such as the acquisition time, amplifier type, and the detector voltage of each channel. For more information, consult the documentation of [`FlowCal.io.FCSData`](https://taborlab.github.io/FlowCal/reference/FlowCal.io.html#FlowCal.io.FCSData)."
   ]
  },
  {
   "cell_type": "markdown",
   "id": "1226a75b-031b-4fe4-953a-9671a84887c0",
   "metadata": {},
   "source": [
    "## TODOs\n",
    "1. Use `urllib` or any other Python way to download the above file instead of using `wget`"
   ]
  },
  {
   "cell_type": "code",
   "execution_count": null,
   "id": "7882977a-5fe1-423d-ae7c-0243737f0d97",
   "metadata": {},
   "outputs": [],
   "source": []
  }
 ],
 "metadata": {
  "kernelspec": {
   "display_name": "Python 3 (ipykernel)",
   "language": "python",
   "name": "python3"
  },
  "language_info": {
   "codemirror_mode": {
    "name": "ipython",
    "version": 3
   },
   "file_extension": ".py",
   "mimetype": "text/x-python",
   "name": "python",
   "nbconvert_exporter": "python",
   "pygments_lexer": "ipython3",
   "version": "3.7.16"
  }
 },
 "nbformat": 4,
 "nbformat_minor": 5
}
