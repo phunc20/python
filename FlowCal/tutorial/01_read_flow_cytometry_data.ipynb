{
 "cells": [
  {
   "cell_type": "code",
   "execution_count": 1,
   "id": "eca478b9-e7f4-40e7-ab11-e8aa2e81b1df",
   "metadata": {
    "tags": []
   },
   "outputs": [],
   "source": [
    "import FlowCal"
   ]
  },
  {
   "cell_type": "code",
   "execution_count": 2,
   "id": "71f90e2f-6c30-4c36-b00f-933c02bb2420",
   "metadata": {
    "tags": []
   },
   "outputs": [],
   "source": [
    "# Wrong URL\n",
    "#!wget https://github.com/taborlab/FlowCal/blob/master/examples/FCFiles/sample001.fcs\n",
    "# Correct URL\n",
    "#!wget https://github.com/taborlab/FlowCal/raw/master/examples/FCFiles/sample001.fcs"
   ]
  },
  {
   "cell_type": "markdown",
   "id": "0b4e3ed2-5ea5-4190-a18d-11fa5928ffd7",
   "metadata": {},
   "source": [
    "We use `urllib` to download a few example `.fcs` files from the github repo of `FlowCal`:"
   ]
  },
  {
   "cell_type": "code",
   "execution_count": 3,
   "id": "334e88f1-60c2-43f4-b12a-c3124877b84e",
   "metadata": {
    "tags": []
   },
   "outputs": [
    {
     "name": "stdout",
     "output_type": "stream",
     "text": [
      "Finish downloading sample001.fcs\n",
      "Finish downloading sample006.fcs\n",
      "Finish downloading sample007.fcs\n",
      "Finish downloading sample008.fcs\n"
     ]
    }
   ],
   "source": [
    "import urllib\n",
    "\n",
    "mother_url = (\n",
    "    \"https://github.com/taborlab/\"\n",
    "    \"FlowCal/raw/master/examples/FCFiles/\"\n",
    ")\n",
    "filenames = [f'sample{i:003d}.fcs' for i in (1,6,7,8)]\n",
    "for name in filenames:\n",
    "    with urllib.request.urlopen(mother_url+name) as response:\n",
    "        with open(name, \"wb\") as f:\n",
    "            f.write(response.read())\n",
    "        print(f'Finish downloading {name}')"
   ]
  },
  {
   "cell_type": "code",
   "execution_count": 4,
   "id": "e237b914-b6f6-40bc-91dd-1b80a9b84058",
   "metadata": {
    "tags": []
   },
   "outputs": [
    {
     "name": "stdout",
     "output_type": "stream",
     "text": [
      "sample001.fcs  sample006.fcs  sample007.fcs  sample008.fcs\n"
     ]
    }
   ],
   "source": [
    "!ls *.fcs"
   ]
  },
  {
   "cell_type": "code",
   "execution_count": 5,
   "id": "97bc8895-5b47-4cb4-9832-59daf87f64fc",
   "metadata": {
    "tags": []
   },
   "outputs": [
    {
     "data": {
      "text/plain": [
       "FCSData([[   0,  336,  527, ...,  626,   88,   75],\n",
       "         [   0,  353,  550, ...,  967,  249, 1023],\n",
       "         [   0,  367,  528, ...,  969,  251, 1023],\n",
       "         ...,\n",
       "         [ 791,  339,  518, ...,  228,    0,    0],\n",
       "         [ 791,  334,  476, ...,  629,  151,   84],\n",
       "         [ 791,  324,  576, ...,  617,  111,   72]], dtype=uint32)"
      ]
     },
     "execution_count": 5,
     "metadata": {},
     "output_type": "execute_result"
    }
   ],
   "source": [
    "s = FlowCal.io.FCSData(\"sample001.fcs\")\n",
    "s"
   ]
  },
  {
   "cell_type": "code",
   "execution_count": 6,
   "id": "c3ac380a-a478-4427-b5ac-c15cf7060019",
   "metadata": {
    "tags": []
   },
   "outputs": [
    {
     "data": {
      "text/plain": [
       "True"
      ]
     },
     "execution_count": 6,
     "metadata": {},
     "output_type": "execute_result"
    }
   ],
   "source": [
    "import numpy as np\n",
    "\n",
    "issubclass(FlowCal.io.FCSData, np.ndarray)"
   ]
  },
  {
   "cell_type": "code",
   "execution_count": 7,
   "id": "94f1aa13-aa61-4632-8ba7-13bccc446803",
   "metadata": {
    "tags": []
   },
   "outputs": [
    {
     "name": "stdout",
     "output_type": "stream",
     "text": [
      "['T', 'acquisition_end_time', 'acquisition_start_time', 'acquisition_time', 'all', 'amplification_type', 'amplifier_gain', 'analysis', 'any', 'argmax', 'argmin', 'argpartition', 'argsort', 'astype', 'base', 'byteswap', 'channel_labels', 'channels', 'choose', 'clip', 'compress', 'conj', 'conjugate', 'copy', 'ctypes', 'cumprod', 'cumsum', 'data', 'data_type', 'detector_voltage', 'diagonal', 'dot', 'dtype', 'dump', 'dumps', 'fill', 'flags', 'flat', 'flatten', 'getfield', 'hist_bins', 'imag', 'infile', 'item', 'itemset', 'itemsize', 'max', 'mean', 'min', 'nbytes', 'ndim', 'newbyteorder', 'nonzero', 'partition', 'prod', 'ptp', 'put', 'range', 'ravel', 'real', 'repeat', 'reshape', 'resize', 'resolution', 'round', 'searchsorted', 'setfield', 'setflags', 'shape', 'size', 'sort', 'squeeze', 'std', 'strides', 'sum', 'swapaxes', 'take', 'text', 'time_step', 'tobytes', 'tofile', 'tolist', 'tostring', 'trace', 'transpose', 'var', 'view']\n"
     ]
    }
   ],
   "source": [
    "print([string for string in dir(s) if not string.startswith(\"_\")])"
   ]
  },
  {
   "cell_type": "code",
   "execution_count": 8,
   "id": "3f59906a-789f-4c57-84bb-209b6207f5e0",
   "metadata": {
    "tags": []
   },
   "outputs": [
    {
     "data": {
      "text/plain": [
       "(33024, 8)"
      ]
     },
     "execution_count": 8,
     "metadata": {},
     "output_type": "execute_result"
    }
   ],
   "source": [
    "s.shape"
   ]
  },
  {
   "cell_type": "markdown",
   "id": "65db1fe8-e45f-4f85-8f08-0ef435fb257a",
   "metadata": {},
   "source": [
    "- The first dimension is called **event**\n",
    "- The 2nd **channel**\n",
    "\n",
    "One could slice through a `FCSData` like one does to `ndarray`. For example, let's take just a few channels."
   ]
  },
  {
   "cell_type": "code",
   "execution_count": 9,
   "id": "2d1dd384-5d54-4c38-b29a-b00ce9887ac9",
   "metadata": {
    "tags": []
   },
   "outputs": [
    {
     "data": {
      "text/plain": [
       "(33024, 3)"
      ]
     },
     "execution_count": 9,
     "metadata": {},
     "output_type": "execute_result"
    }
   ],
   "source": [
    "s_sub_ch = s[:, [3,4,5]]\n",
    "s_sub_ch.shape"
   ]
  },
  {
   "cell_type": "markdown",
   "id": "24f04cb9-357d-4166-8513-b86883b8aa81",
   "metadata": {},
   "source": [
    "`FCSData` implements a few other convenience methods for us to more easily manipulate the channels:"
   ]
  },
  {
   "cell_type": "code",
   "execution_count": 10,
   "id": "ab21c23e-aff0-474a-9947-1d9c184b40ea",
   "metadata": {
    "tags": []
   },
   "outputs": [
    {
     "name": "stdout",
     "output_type": "stream",
     "text": [
      "('TIME', 'FSC', 'SSC', 'FL1', 'FL2', 'FL3', 'FSCW', 'FSCA')\n",
      "('FL1', 'FL2', 'FL3')\n"
     ]
    }
   ],
   "source": [
    "print(f'{s.channels}')\n",
    "print(f'{s_sub_ch.channels}')"
   ]
  },
  {
   "cell_type": "markdown",
   "id": "00fd73a1-1567-4ab9-b5dd-3c0dfa8ecc4b",
   "metadata": {},
   "source": [
    "So the channels `[3,4,5]` we just took simply correspond to the fluorescence channels `FL1`, `FL2` and `FL3`."
   ]
  },
  {
   "cell_type": "code",
   "execution_count": 11,
   "id": "3242ad63-4e04-4f3a-a721-edaec7890f79",
   "metadata": {
    "tags": []
   },
   "outputs": [
    {
     "data": {
      "text/plain": [
       "(33024, 3)"
      ]
     },
     "execution_count": 11,
     "metadata": {},
     "output_type": "execute_result"
    }
   ],
   "source": [
    "s_sub_ch2 = s[:, [\"FL1\", \"FL2\", \"FL3\"]]\n",
    "s_sub_ch2.shape"
   ]
  },
  {
   "cell_type": "code",
   "execution_count": 12,
   "id": "7ae10665-e7f4-403f-a38d-938fac5cff00",
   "metadata": {
    "tags": []
   },
   "outputs": [
    {
     "data": {
      "text/plain": [
       "True"
      ]
     },
     "execution_count": 12,
     "metadata": {},
     "output_type": "execute_result"
    }
   ],
   "source": [
    "np.array_equal(s_sub_ch, s_sub_ch2)"
   ]
  },
  {
   "cell_type": "code",
   "execution_count": 13,
   "id": "b6cc2f95-4282-41ef-9083-ed2aca2a171f",
   "metadata": {
    "tags": []
   },
   "outputs": [
    {
     "data": {
      "text/plain": [
       "('FL1', 'FL2', 'FL3')"
      ]
     },
     "execution_count": 13,
     "metadata": {},
     "output_type": "execute_result"
    }
   ],
   "source": [
    "s_sub_ch2.channels"
   ]
  },
  {
   "cell_type": "code",
   "execution_count": null,
   "id": "1fd94a5f-2933-491f-b6d5-e218a1c89a7f",
   "metadata": {},
   "outputs": [],
   "source": []
  },
  {
   "cell_type": "markdown",
   "id": "15a7d338-b454-4431-b6e9-ece45e5ad1ca",
   "metadata": {},
   "source": [
    "`FCSData` contains more acquisition information, such as the acquisition time, amplifier type, and the detector voltage of each channel. For more information, consult the documentation of [`FlowCal.io.FCSData`](https://taborlab.github.io/FlowCal/reference/FlowCal.io.html#FlowCal.io.FCSData)."
   ]
  },
  {
   "cell_type": "code",
   "execution_count": null,
   "id": "7882977a-5fe1-423d-ae7c-0243737f0d97",
   "metadata": {},
   "outputs": [],
   "source": []
  },
  {
   "cell_type": "markdown",
   "id": "bd7a65c4-6fff-4929-abeb-91e66c0ea627",
   "metadata": {},
   "source": [
    "## The Acrynoms of the Channels"
   ]
  },
  {
   "cell_type": "markdown",
   "id": "9eacbabc-51fe-4031-b34f-a6b10e09d2d9",
   "metadata": {},
   "source": [
    "From the tutorials we know at least the following\n",
    "\n",
    "- `\"FL{i}\"` for `i = 1, 2, 3`: Fluorescence Channels\n",
    "- `\"FSC\"`: Forward Scatter Channel\n",
    "- `\"SSC\"`: Side Scatter Channel"
   ]
  },
  {
   "cell_type": "code",
   "execution_count": 14,
   "id": "4866e474-9034-4b99-b123-1ae2dea1d56b",
   "metadata": {
    "tags": []
   },
   "outputs": [
    {
     "data": {
      "text/plain": [
       "79.10000000000001"
      ]
     },
     "execution_count": 14,
     "metadata": {},
     "output_type": "execute_result"
    }
   ],
   "source": [
    "s.acquisition_time"
   ]
  },
  {
   "cell_type": "code",
   "execution_count": 15,
   "id": "a7fd3624-4198-43be-8160-511300b52774",
   "metadata": {
    "tags": []
   },
   "outputs": [
    {
     "data": {
      "text/plain": [
       "(datetime.datetime(2018, 3, 2, 2, 24, 47),\n",
       " datetime.datetime(2018, 3, 2, 2, 26, 8))"
      ]
     },
     "execution_count": 15,
     "metadata": {},
     "output_type": "execute_result"
    }
   ],
   "source": [
    "s.acquisition_start_time, s.acquisition_end_time"
   ]
  },
  {
   "cell_type": "code",
   "execution_count": 16,
   "id": "29e1fe19-49f3-40b0-897f-0361f223c9ab",
   "metadata": {
    "tags": []
   },
   "outputs": [
    {
     "data": {
      "text/plain": [
       "datetime.timedelta(seconds=81)"
      ]
     },
     "execution_count": 16,
     "metadata": {},
     "output_type": "execute_result"
    }
   ],
   "source": [
    "s.acquisition_end_time - s.acquisition_start_time"
   ]
  },
  {
   "cell_type": "code",
   "execution_count": 17,
   "id": "2d3b779e-6547-4fc0-872e-edd7f487006a",
   "metadata": {
    "tags": []
   },
   "outputs": [
    {
     "data": {
      "text/plain": [
       "FCSData([[0],\n",
       "         [0],\n",
       "         [0],\n",
       "         [0],\n",
       "         [0],\n",
       "         [0],\n",
       "         [0],\n",
       "         [0],\n",
       "         [0],\n",
       "         [0]], dtype=uint32)"
      ]
     },
     "execution_count": 17,
     "metadata": {},
     "output_type": "execute_result"
    }
   ],
   "source": [
    "s[:10, [\"TIME\"]]"
   ]
  },
  {
   "cell_type": "code",
   "execution_count": 18,
   "id": "05d05020-7eae-475d-baa1-feb03698de4f",
   "metadata": {
    "tags": []
   },
   "outputs": [
    {
     "data": {
      "text/plain": [
       "FCSData([[791],\n",
       "         [791],\n",
       "         [791],\n",
       "         [791],\n",
       "         [791],\n",
       "         [791],\n",
       "         [791],\n",
       "         [791],\n",
       "         [791],\n",
       "         [791]], dtype=uint32)"
      ]
     },
     "execution_count": 18,
     "metadata": {},
     "output_type": "execute_result"
    }
   ],
   "source": [
    "s[-10:, [\"TIME\"]]"
   ]
  },
  {
   "cell_type": "markdown",
   "id": "0cbb6e6e-881f-414d-abf6-66388bfb85f9",
   "metadata": {},
   "source": [
    "So the `\"TIME\"` channel refers, with no surprise, to time. More precisely, the **acquisition time**. It seems to have the unit of deci-second in this particular case of `sample0001.fcs`.\n",
    "\n",
    "We can probably obtain each event's (absolute) acquisition time by adding together the `\"TIME\"` column with `s.acquisition_start_time`."
   ]
  },
  {
   "cell_type": "code",
   "execution_count": null,
   "id": "32d9cff2-a4fa-42f5-9c73-d4afc8a10f7e",
   "metadata": {},
   "outputs": [],
   "source": []
  }
 ],
 "metadata": {
  "kernelspec": {
   "display_name": "Python 3 (ipykernel)",
   "language": "python",
   "name": "python3"
  },
  "language_info": {
   "codemirror_mode": {
    "name": "ipython",
    "version": 3
   },
   "file_extension": ".py",
   "mimetype": "text/x-python",
   "name": "python",
   "nbconvert_exporter": "python",
   "pygments_lexer": "ipython3",
   "version": "3.7.16"
  }
 },
 "nbformat": 4,
 "nbformat_minor": 5
}
