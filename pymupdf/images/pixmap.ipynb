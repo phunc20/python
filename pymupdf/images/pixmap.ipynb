{
 "cells": [
  {
   "cell_type": "code",
   "execution_count": 4,
   "id": "19607011-4c76-425e-ae7f-dc4e7843bbd2",
   "metadata": {},
   "outputs": [],
   "source": [
    "import pprint\n",
    "from pathlib import Path\n",
    "import fitz"
   ]
  },
  {
   "cell_type": "code",
   "execution_count": 46,
   "id": "3af1e3a2-6fae-48c7-81f8-32b88f84abcd",
   "metadata": {},
   "outputs": [
    {
     "data": {
      "text/plain": [
       "True"
      ]
     },
     "execution_count": 46,
     "metadata": {},
     "output_type": "execute_result"
    }
   ],
   "source": [
    "path_pdf = Path(\"../../example_pdfs/linking.pdf\")\n",
    "path_pdf.is_file()"
   ]
  },
  {
   "cell_type": "code",
   "execution_count": 40,
   "id": "ce42b43a-30ce-4687-b290-063893954289",
   "metadata": {},
   "outputs": [
    {
     "data": {
      "text/plain": [
       "Pixmap(DeviceRGB, IRect(0, 0, 918, 1188), 0)"
      ]
     },
     "execution_count": 40,
     "metadata": {},
     "output_type": "execute_result"
    }
   ],
   "source": [
    "with fitz.open(path_pdf) as doc:\n",
    "    page = doc[0]\n",
    "    zoom_x = 1.5\n",
    "    zoom_y = 1.5\n",
    "    mat = fitz.Matrix(zoom_x, zoom_y)\n",
    "    pix = page.get_pixmap(matrix=mat)\n",
    "    \n",
    "    # dpi = 300\n",
    "    # pix = page.get_pixmap(dpi=dpi)\n",
    "pix"
   ]
  },
  {
   "cell_type": "code",
   "execution_count": 45,
   "id": "bdb21513-6a56-4e3c-b558-adaecc3821be",
   "metadata": {},
   "outputs": [],
   "source": [
    "path_png = Path(f'{path_pdf.stem}_page_0.png')\n",
    "#path_png = path_pdf.parent/f'{path_pdf.stem}_page_0.png'\n",
    "pix.save(path_png)"
   ]
  },
  {
   "cell_type": "code",
   "execution_count": 34,
   "id": "b8521840-a84f-48db-adab-fb49532e0901",
   "metadata": {},
   "outputs": [],
   "source": [
    "def print_non_under(obj):\n",
    "    for s in dir(obj):\n",
    "        if not s.startswith(\"_\"):\n",
    "            print(s)"
   ]
  },
  {
   "cell_type": "code",
   "execution_count": 41,
   "id": "60e432e4-2d3a-4659-9f18-b539fbc944ae",
   "metadata": {},
   "outputs": [
    {
     "name": "stdout",
     "output_type": "stream",
     "text": [
      "alpha\n",
      "clearWith\n",
      "clear_with\n",
      "color_count\n",
      "color_topusage\n",
      "colorspace\n",
      "copy\n",
      "copyPixmap\n",
      "digest\n",
      "gammaWith\n",
      "gamma_with\n",
      "getImageData\n",
      "getPNGData\n",
      "getPNGdata\n",
      "h\n",
      "height\n",
      "invertIRect\n",
      "invert_irect\n",
      "irect\n",
      "is_monochrome\n",
      "is_unicolor\n",
      "n\n",
      "pdfocr_save\n",
      "pdfocr_tobytes\n",
      "pil_save\n",
      "pil_tobytes\n",
      "pillowData\n",
      "pillowWrite\n",
      "pixel\n",
      "samples\n",
      "samples_mv\n",
      "samples_ptr\n",
      "save\n",
      "setAlpha\n",
      "setOrigin\n",
      "setPixel\n",
      "setRect\n",
      "setResolution\n",
      "set_alpha\n",
      "set_dpi\n",
      "set_origin\n",
      "set_pixel\n",
      "set_rect\n",
      "shrink\n",
      "size\n",
      "stride\n",
      "this\n",
      "thisown\n",
      "tintWith\n",
      "tint_with\n",
      "tobytes\n",
      "w\n",
      "warp\n",
      "width\n",
      "writeImage\n",
      "writePNG\n",
      "x\n",
      "xres\n",
      "y\n",
      "yres\n"
     ]
    }
   ],
   "source": [
    "print_non_under(pix)"
   ]
  },
  {
   "cell_type": "raw",
   "id": "b09bb69c-03aa-47df-8b0e-faea792255f2",
   "metadata": {},
   "source": [
    "pix.tobytes()"
   ]
  },
  {
   "cell_type": "code",
   "execution_count": 35,
   "id": "223f2c1b-4c3c-4fec-bbc4-3cc06eb7412b",
   "metadata": {},
   "outputs": [
    {
     "data": {
      "text/plain": [
       "(918, 1188)"
      ]
     },
     "execution_count": 35,
     "metadata": {},
     "output_type": "execute_result"
    }
   ],
   "source": [
    "pix.width, pix.height"
   ]
  },
  {
   "cell_type": "markdown",
   "id": "9a5c0e3d-4657-48f7-954f-e74499877300",
   "metadata": {},
   "source": [
    "## PDF2Image"
   ]
  },
  {
   "cell_type": "code",
   "execution_count": null,
   "id": "8ba5feae-45e3-434a-b1a8-7cdce4891ea4",
   "metadata": {},
   "outputs": [],
   "source": []
  },
  {
   "cell_type": "markdown",
   "id": "745cfbd6-04c0-45c5-9f86-3dbc357fc373",
   "metadata": {},
   "source": [
    "## Metadata"
   ]
  },
  {
   "cell_type": "markdown",
   "id": "556622cb-ee55-4eab-a3cc-0d0dc528f8a1",
   "metadata": {},
   "source": [
    "Real PDFs contain the exact characters appearing in the document as metadata.\n",
    "Thus, it is wasteful if we do OCR on such documents w/o using these metadata."
   ]
  },
  {
   "cell_type": "markdown",
   "id": "254b471d-c1af-4831-812c-6d9a17044047",
   "metadata": {},
   "source": [
    "- [Convert PDF(s) into Image(s)](https://pymupdf.readthedocs.io/en/latest/recipes-images.html#how-to-make-images-from-document-pages)"
   ]
  },
  {
   "cell_type": "code",
   "execution_count": 15,
   "id": "6518c668-6660-4e4c-939d-534dd8c3be7a",
   "metadata": {},
   "outputs": [
    {
     "name": "stdout",
     "output_type": "stream",
     "text": [
      "page.mediabox = Rect(0.0, 0.0, 612.0, 792.0)\n",
      "page.mediabox_size = Point(612.0, 792.0)\n",
      "page.mediabox_size.x = 612.0\n",
      "page.mediabox_size.y = 792.0\n",
      "blocks =\n",
      "[(133.76800537109375,\n",
      "  124.00536346435547,\n",
      "  141.83056640625,\n",
      "  138.36590576171875,\n",
      "  '1',\n",
      "  0,\n",
      "  0,\n",
      "  0),\n",
      " (157.98439025878906,\n",
      "  124.00536346435547,\n",
      "  213.96327209472656,\n",
      "  138.36590576171875,\n",
      "  'Current',\n",
      "  0,\n",
      "  1,\n",
      "  0),\n",
      " (219.35743713378906,\n",
      "  124.00536346435547,\n",
      "  246.4717559814453,\n",
      "  138.36590576171875,\n",
      "  'way',\n",
      "  0,\n",
      "  1,\n",
      "  1),\n",
      " (251.8659210205078,\n",
      "  124.00536346435547,\n",
      "  264.86358642578125,\n",
      "  138.36590576171875,\n",
      "  'of',\n",
      "  0,\n",
      "  1,\n",
      "  2),\n",
      " (270.25775146484375,\n",
      "  124.00536346435547,\n",
      "  308.8203125,\n",
      "  138.36590576171875,\n",
      "  'doing',\n",
      "  0,\n",
      "  1,\n",
      "  3),\n",
      " (137.08900451660156,\n",
      "  151.73703002929688,\n",
      "  148.70465087890625,\n",
      "  161.6996307373047,\n",
      "  '(0,',\n",
      "  1,\n",
      "  0,\n",
      "  0),\n",
      " (150.37200927734375,\n",
      "  151.73703002929688,\n",
      "  159.2187957763672,\n",
      "  161.6996307373047,\n",
      "  '0)',\n",
      "  1,\n",
      "  0,\n",
      "  1),\n",
      " (178.5760040283203,\n",
      "  151.73703002929688,\n",
      "  195.1726531982422,\n",
      "  161.6996307373047,\n",
      "  '(10,',\n",
      "  1,\n",
      "  1,\n",
      "  0),\n",
      " (196.84100341796875,\n",
      "  151.73703002929688,\n",
      "  205.6877899169922,\n",
      "  161.6996307373047,\n",
      "  '0)',\n",
      "  1,\n",
      "  1,\n",
      "  1),\n",
      " (217.89700317382812,\n",
      "  200.08740234375,\n",
      "  257.7475891113281,\n",
      "  210.0500030517578,\n",
      "  'ざる蕎麦',\n",
      "  2,\n",
      "  0,\n",
      "  0),\n",
      " (308.6130065917969,\n",
      "  219.8424072265625,\n",
      "  318.5755920410156,\n",
      "  229.8050079345703,\n",
      "  '円',\n",
      "  3,\n",
      "  0,\n",
      "  1),\n",
      " (282.6000061035156,\n",
      "  220.73904418945312,\n",
      "  305.2947692871094,\n",
      "  230.70164489746094,\n",
      "  '1,300',\n",
      "  3,\n",
      "  0,\n",
      "  0),\n",
      " (217.89700317382812,\n",
      "  229.9774169921875,\n",
      "  257.7475891113281,\n",
      "  239.9400177001953,\n",
      "  '玉子焼き',\n",
      "  4,\n",
      "  0,\n",
      "  0),\n",
      " (308.6130065917969,\n",
      "  243.75238037109375,\n",
      "  318.5755920410156,\n",
      "  253.71498107910156,\n",
      "  '円',\n",
      "  5,\n",
      "  0,\n",
      "  1),\n",
      " (282.6000061035156,\n",
      "  244.64901733398438,\n",
      "  305.2947692871094,\n",
      "  254.6116180419922,\n",
      "  '1,000',\n",
      "  5,\n",
      "  0,\n",
      "  0),\n",
      " (219.49000549316406,\n",
      "  269.827392578125,\n",
      "  299.19134521484375,\n",
      "  279.7900085449219,\n",
      "  '味噌煮込みうどん',\n",
      "  6,\n",
      "  0,\n",
      "  0),\n",
      " (304.739013671875,\n",
      "  289.75140380859375,\n",
      "  314.70159912109375,\n",
      "  299.7140197753906,\n",
      "  '円',\n",
      "  7,\n",
      "  0,\n",
      "  1),\n",
      " (286.4739990234375,\n",
      "  290.6480407714844,\n",
      "  301.4178771972656,\n",
      "  300.61065673828125,\n",
      "  '900',\n",
      "  7,\n",
      "  0,\n",
      "  0),\n",
      " (303.13299560546875,\n",
      "  695.1630859375,\n",
      "  308.1142883300781,\n",
      "  705.1256713867188,\n",
      "  '1',\n",
      "  8,\n",
      "  0,\n",
      "  0)]\n"
     ]
    }
   ],
   "source": [
    "with fitz.open(\"linking.pdf\") as doc:\n",
    "    page = doc[0]\n",
    "    print(f'{page.mediabox = }')\n",
    "    print(f'{page.mediabox_size = }')\n",
    "    #print(f'{dir(page.mediabox_size) = }')\n",
    "    print(f'{page.mediabox_size.x = }')\n",
    "    print(f'{page.mediabox_size.y = }')\n",
    "\n",
    "    blocks = page.get_text(\"words\", sort=True)\n",
    "\n",
    "print(\"blocks =\")\n",
    "pprint.pprint(blocks)"
   ]
  },
  {
   "cell_type": "code",
   "execution_count": null,
   "id": "f28d555c-0e29-430d-a201-55e9df73cf73",
   "metadata": {},
   "outputs": [],
   "source": []
  },
  {
   "cell_type": "code",
   "execution_count": null,
   "id": "3a3e0f29-f7ba-4d5b-8b3c-4f7eb15eff6d",
   "metadata": {},
   "outputs": [],
   "source": []
  },
  {
   "cell_type": "code",
   "execution_count": null,
   "id": "ddeda87b-74dc-46ce-a125-2b1b0ec94552",
   "metadata": {},
   "outputs": [],
   "source": []
  },
  {
   "cell_type": "code",
   "execution_count": null,
   "id": "d9c32dea-4093-47be-a2be-168675eddedd",
   "metadata": {},
   "outputs": [],
   "source": []
  }
 ],
 "metadata": {
  "kernelspec": {
   "display_name": "Python 3 (ipykernel)",
   "language": "python",
   "name": "python3"
  },
  "language_info": {
   "codemirror_mode": {
    "name": "ipython",
    "version": 3
   },
   "file_extension": ".py",
   "mimetype": "text/x-python",
   "name": "python",
   "nbconvert_exporter": "python",
   "pygments_lexer": "ipython3",
   "version": "3.8.12"
  }
 },
 "nbformat": 4,
 "nbformat_minor": 5
}
