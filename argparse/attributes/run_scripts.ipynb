{
 "cells": [
  {
   "cell_type": "markdown",
   "metadata": {},
   "source": [
    "## Add More Attributes Manually to `args`\n",
    "`args` is just an object. With any object, one can always add\n",
    "more attributes manually."
   ]
  },
  {
   "cell_type": "code",
   "execution_count": 1,
   "metadata": {},
   "outputs": [
    {
     "name": "stdout",
     "output_type": "stream",
     "text": [
      "type(parser) = <class 'argparse.ArgumentParser'>\r\n",
      "type(args) = <class 'argparse.Namespace'>\r\n",
      "\r\n",
      "non_dunder(args) = ['_get_args', '_get_kwargs', 'n_students', 'power']\r\n",
      "\r\n",
      "\r\n",
      "===============================================================\r\n",
      "Add two more attributes to args: another_attr, yet_another_attr\r\n",
      "===============================================================\r\n",
      "\r\n",
      "args.another_attr = rubbish\r\n",
      "args.yet_another_attr = {'width': 500, 'height': 700}\r\n",
      "args.power = None\r\n",
      "args.n_students = None\r\n",
      "\r\n",
      "type(args.another_attr) = <class 'str'>\r\n",
      "type(args.yet_another_attr) = <class 'dict'>\r\n",
      "type(args.power) = <class 'NoneType'>\r\n",
      "type(args.n_students) = <class 'NoneType'>\r\n",
      "\r\n",
      "non_dunder(args) = ['_get_args', '_get_kwargs', 'another_attr', 'n_students', 'power', 'yet_another_attr']\r\n"
     ]
    }
   ],
   "source": [
    "!python add_attr.py"
   ]
  },
  {
   "cell_type": "code",
   "execution_count": 2,
   "metadata": {},
   "outputs": [
    {
     "name": "stdout",
     "output_type": "stream",
     "text": [
      "type(parser) = <class 'argparse.ArgumentParser'>\r\n",
      "type(args) = <class 'argparse.Namespace'>\r\n",
      "\r\n",
      "non_dunder(args) = ['_get_args', '_get_kwargs', 'n_students', 'power']\r\n",
      "\r\n",
      "\r\n",
      "===============================================================\r\n",
      "Add two more attributes to args: another_attr, yet_another_attr\r\n",
      "===============================================================\r\n",
      "\r\n",
      "args.another_attr = rubbish\r\n",
      "args.yet_another_attr = {'width': 500, 'height': 700}\r\n",
      "args.power = 3.14159\r\n",
      "args.n_students = 30\r\n",
      "\r\n",
      "type(args.another_attr) = <class 'str'>\r\n",
      "type(args.yet_another_attr) = <class 'dict'>\r\n",
      "type(args.power) = <class 'float'>\r\n",
      "type(args.n_students) = <class 'int'>\r\n",
      "\r\n",
      "non_dunder(args) = ['_get_args', '_get_kwargs', 'another_attr', 'n_students', 'power', 'yet_another_attr']\r\n"
     ]
    }
   ],
   "source": [
    "!python add_attr.py --n_students 30 --power 3.14159"
   ]
  },
  {
   "cell_type": "code",
   "execution_count": null,
   "metadata": {},
   "outputs": [],
   "source": []
  }
 ],
 "metadata": {
  "kernelspec": {
   "display_name": "Python 3",
   "language": "python",
   "name": "python3"
  },
  "language_info": {
   "codemirror_mode": {
    "name": "ipython",
    "version": 3
   },
   "file_extension": ".py",
   "mimetype": "text/x-python",
   "name": "python",
   "nbconvert_exporter": "python",
   "pygments_lexer": "ipython3",
   "version": "3.8.5"
  }
 },
 "nbformat": 4,
 "nbformat_minor": 4
}
