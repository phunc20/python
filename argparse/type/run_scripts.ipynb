{
 "cells": [
  {
   "cell_type": "markdown",
   "metadata": {},
   "source": [
    "In this notebook, we will run the Python script `type_reflect.py` with a few diff input args to clarify `argparse`'s behaviour."
   ]
  },
  {
   "cell_type": "markdown",
   "metadata": {},
   "source": [
    "## Sensible Values\n",
    "Let's first test with sensible values.\n",
    "\n",
    "> When `type` is specified, the attribute will be of that type."
   ]
  },
  {
   "cell_type": "code",
   "execution_count": 1,
   "metadata": {},
   "outputs": [
    {
     "name": "stdout",
     "output_type": "stream",
     "text": [
      "args.base = 3.14\r\n",
      "args.power = 2.0\r\n",
      "args.n_students = 30\r\n",
      "args.n_teachers = ?\r\n",
      "\r\n",
      "type(args.base) = <class 'str'>\r\n",
      "type(args.power) = <class 'float'>\r\n",
      "type(args.n_students) = <class 'int'>\r\n",
      "type(args.n_teachers) = <class 'str'>\r\n"
     ]
    }
   ],
   "source": [
    "!python type_reflect.py --base \"3.14\" --power 2 \\\n",
    "                       --n_students 30 --n_teachers ?"
   ]
  },
  {
   "cell_type": "markdown",
   "metadata": {},
   "source": [
    "## Contradictory Values\n",
    "Put, say, `int` where there should be `float` and vice versa.\n",
    "\n",
    "> Contradictory values will trigger errors."
   ]
  },
  {
   "cell_type": "code",
   "execution_count": 2,
   "metadata": {},
   "outputs": [
    {
     "name": "stdout",
     "output_type": "stream",
     "text": [
      "usage: type_reflect.py [-h] [--base BASE] [--power POWER]\r\n",
      "                       [--n_students N_STUDENTS] [--n_teachers N_TEACHERS]\r\n",
      "type_reflect.py: error: argument --n_students: invalid int value: '3.33333'\r\n"
     ]
    }
   ],
   "source": [
    "!python type_reflect.py --base \"3.14\" --power 2 \\\n",
    "                       --n_students 3.33333 --n_teachers ?"
   ]
  },
  {
   "cell_type": "code",
   "execution_count": 3,
   "metadata": {},
   "outputs": [
    {
     "name": "stdout",
     "output_type": "stream",
     "text": [
      "usage: type_reflect.py [-h] [--base BASE] [--power POWER]\r\n",
      "                       [--n_students N_STUDENTS] [--n_teachers N_TEACHERS]\r\n",
      "type_reflect.py: error: argument --n_students: invalid int value: '3.0'\r\n"
     ]
    }
   ],
   "source": [
    "!python type_reflect.py --base \"3.14\" --power 2 \\\n",
    "                       --n_students 3.0 --n_teachers ?"
   ]
  },
  {
   "cell_type": "code",
   "execution_count": 4,
   "metadata": {},
   "outputs": [
    {
     "name": "stdout",
     "output_type": "stream",
     "text": [
      "usage: type_reflect.py [-h] [--base BASE] [--power POWER]\r\n",
      "                       [--n_students N_STUDENTS] [--n_teachers N_TEACHERS]\r\n",
      "type_reflect.py: error: argument --n_students: invalid int value: 'three'\r\n"
     ]
    }
   ],
   "source": [
    "!python type_reflect.py --base \"3.14\" --power 2 \\\n",
    "                       --n_students three --n_teachers ?"
   ]
  },
  {
   "cell_type": "code",
   "execution_count": 5,
   "metadata": {},
   "outputs": [
    {
     "name": "stdout",
     "output_type": "stream",
     "text": [
      "args.base = 3.14\r\n",
      "args.power = 2.71828\r\n",
      "args.n_students = 30\r\n",
      "args.n_teachers = ?\r\n",
      "\r\n",
      "type(args.base) = <class 'str'>\r\n",
      "type(args.power) = <class 'float'>\r\n",
      "type(args.n_students) = <class 'int'>\r\n",
      "type(args.n_teachers) = <class 'str'>\r\n"
     ]
    }
   ],
   "source": [
    "!python type_reflect.py --base \"3.14\" --power 2.71828 \\\n",
    "                       --n_students 30 --n_teachers ?"
   ]
  },
  {
   "cell_type": "markdown",
   "metadata": {},
   "source": [
    "## Not Specified, with Type\n",
    "`--base` and `--n_teachers` do not specify their types. Let's try and see if they always return `str`s.\n",
    "\n",
    "> If the type is not specified, the attribute will always have `str` type."
   ]
  },
  {
   "cell_type": "code",
   "execution_count": 6,
   "metadata": {},
   "outputs": [
    {
     "name": "stdout",
     "output_type": "stream",
     "text": [
      "args.base = 3.14\r\n",
      "args.power = 2.0\r\n",
      "args.n_students = 30\r\n",
      "args.n_teachers = 3.33\r\n",
      "\r\n",
      "type(args.base) = <class 'str'>\r\n",
      "type(args.power) = <class 'float'>\r\n",
      "type(args.n_students) = <class 'int'>\r\n",
      "type(args.n_teachers) = <class 'str'>\r\n"
     ]
    }
   ],
   "source": [
    "!python type_reflect.py --base 3.14 --power 2 \\\n",
    "                       --n_students 30 --n_teachers 3.33"
   ]
  },
  {
   "cell_type": "code",
   "execution_count": 7,
   "metadata": {},
   "outputs": [
    {
     "name": "stdout",
     "output_type": "stream",
     "text": [
      "args.base = 1\r\n",
      "args.power = 2.0\r\n",
      "args.n_students = 30\r\n",
      "args.n_teachers = 1\r\n",
      "\r\n",
      "type(args.base) = <class 'str'>\r\n",
      "type(args.power) = <class 'float'>\r\n",
      "type(args.n_students) = <class 'int'>\r\n",
      "type(args.n_teachers) = <class 'str'>\r\n"
     ]
    }
   ],
   "source": [
    "!python type_reflect.py --base 1 --power 2 \\\n",
    "                       --n_students 30 --n_teachers 1"
   ]
  },
  {
   "cell_type": "code",
   "execution_count": null,
   "metadata": {},
   "outputs": [],
   "source": []
  }
 ],
 "metadata": {
  "kernelspec": {
   "display_name": "Python 3",
   "language": "python",
   "name": "python3"
  },
  "language_info": {
   "codemirror_mode": {
    "name": "ipython",
    "version": 3
   },
   "file_extension": ".py",
   "mimetype": "text/x-python",
   "name": "python",
   "nbconvert_exporter": "python",
   "pygments_lexer": "ipython3",
   "version": "3.8.5"
  }
 },
 "nbformat": 4,
 "nbformat_minor": 4
}
