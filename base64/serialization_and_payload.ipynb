{
 "cells": [
  {
   "cell_type": "markdown",
   "id": "f787c0ca-c6d3-4dbd-a98d-bac108484b05",
   "metadata": {},
   "source": [
    "# Origin"
   ]
  },
  {
   "cell_type": "markdown",
   "id": "6f3eb253-9fcd-4862-b6f2-451c46ccca79",
   "metadata": {},
   "source": [
    "In Aurelien Geron's book on ML, when introducing the REST api of\n",
    "TensorFlow Serving, he mentioned that using `json.dumps` to\n",
    "[serialize](https://en.wikipedia.org/wiki/Serialization)\n",
    "NumPy arrays is inefficient both in terms of serialization/deserialization\n",
    "time and in terms of payload sizes.\n",
    "```python\n",
    "input_data_json = json.dumps({\n",
    "    \"signature_name\": \"serving_default\",\n",
    "    \"instances\": X_new.tolist(),\n",
    "})\n",
    "```\n",
    "\n",
    "In a footnote on the same page, he mentioned a widely adapted counteract for this:\n",
    "Base64 plus gzip.\n",
    "\n",
    "This notebook sets out to better understand what that counteract means and how it\n",
    "is applied."
   ]
  },
  {
   "cell_type": "code",
   "execution_count": 1,
   "id": "1b7e81f1-48c9-4853-98f2-b9883bc0dfcd",
   "metadata": {},
   "outputs": [],
   "source": [
    "import urllib\n",
    "from pathlib import Path"
   ]
  },
  {
   "cell_type": "code",
   "execution_count": 2,
   "id": "c06a618a-c5a9-46fd-b497-d172957070c9",
   "metadata": {},
   "outputs": [
    {
     "name": "stdout",
     "output_type": "stream",
     "text": [
      "The gzip file is downloaded at /home/phunc20/git-repos/github/phunc20/python/base64/t10k-images-idx3-ubyte.gz\n"
     ]
    }
   ],
   "source": [
    "mnist_url = \"http://yann.lecun.com/exdb/mnist/\"\n",
    "test_set_gzip = \"t10k-images-idx3-ubyte.gz\"\n",
    "mnist_test_set_url = mnist_url + test_set_gzip\n",
    "with urllib.request.urlopen(mnist_test_set_url) as response:\n",
    "    mnist_path = Path.cwd()/mnist_test_set_url.split(\"/\")[-1]\n",
    "    with open(mnist_path, \"wb\") as f:\n",
    "        f.write(response.read())\n",
    "    print(f'The gzip file is downloaded at {mnist_path.absolute()}')"
   ]
  },
  {
   "cell_type": "markdown",
   "id": "e7d43f29-88bd-47d2-be66-34d39c339018",
   "metadata": {},
   "source": [
    "Let's take **the first 3 images** from this test set and\n",
    "assign them to the variable `X_new`."
   ]
  },
  {
   "cell_type": "code",
   "execution_count": 3,
   "id": "2c5589ff-0d9e-402f-8ca2-f67a5af685b6",
   "metadata": {},
   "outputs": [],
   "source": [
    "import gzip"
   ]
  },
  {
   "cell_type": "code",
   "execution_count": 4,
   "id": "b588273c-74dc-4ea6-9c74-831df1ec388e",
   "metadata": {},
   "outputs": [],
   "source": [
    "import struct"
   ]
  },
  {
   "cell_type": "code",
   "execution_count": 5,
   "id": "da3b631e-8e34-407b-9423-6a4e90045217",
   "metadata": {},
   "outputs": [],
   "source": [
    "import gzip\n",
    "import struct\n",
    "\n",
    "import numpy as np\n",
    "\n",
    "n_images = 3\n",
    "#bX_new = []\n",
    "X_new = []\n",
    "float_type = np.float32\n",
    "with gzip.open(mnist_path) as f:\n",
    "    n_header_bytes = 16\n",
    "    bheader = f.read(n_header_bytes)\n",
    "    magic, n_test_images, n_rows, n_cols = struct.unpack(\">4i\", bheader)\n",
    "    # n_rows, n_cols refer to height and width of MNIST images\n",
    "    # Each MNIST image is a single-channel image\n",
    "    # Each pixel is represented by uint8, i.e. 1 byte\n",
    "    n_image_bytes = n_rows*n_cols\n",
    "    for i in range(n_images):\n",
    "        bimage = f.read(n_image_bytes)\n",
    "        image = np.frombuffer(bimage, dtype=np.uint8).reshape((n_rows, n_cols, 1))\n",
    "        image = (image / 255.).astype(float_type)\n",
    "        #bX_new.append(bimage)\n",
    "        X_new.append(image)"
   ]
  },
  {
   "cell_type": "markdown",
   "id": "ba245da3-4cf1-4e33-a989-7402d88500e1",
   "metadata": {},
   "source": [
    "Recall that `'>4i'` means four separate integers (in big endian order)\n",
    "(and that an `i`, i.e. integer in `struct`, consists of 4 bytes,\n",
    "summing up to a total of `n_header_bytes=16` bytes)"
   ]
  },
  {
   "cell_type": "code",
   "execution_count": 6,
   "id": "1fa78bec-23f4-4308-b6e4-76b460532e59",
   "metadata": {},
   "outputs": [
    {
     "data": {
      "image/png": "[encoded data removed]",
      "text/plain": [
       "<Figure size 640x480 with 3 Axes>"
      ]
     },
     "metadata": {},
     "output_type": "display_data"
    }
   ],
   "source": [
    "import matplotlib.pyplot as plt\n",
    "\n",
    "X_new = np.array(X_new)\n",
    "fig, ax = plt.subplots(1,3)\n",
    "for i in range(n_images):\n",
    "    ax[i].imshow(X_new[i], cmap=\"gray\")\n",
    "    ax[i].axis(\"off\")"
   ]
  },
  {
   "cell_type": "code",
   "execution_count": null,
   "id": "94d40b36-9195-479e-bde2-33dce9997bd0",
   "metadata": {},
   "outputs": [],
   "source": []
  },
  {
   "cell_type": "markdown",
   "id": "ca5c1c75-0567-4434-9a78-f48936876f80",
   "metadata": {},
   "source": [
    "## REST API Example for Tensorflow Serving"
   ]
  },
  {
   "cell_type": "markdown",
   "id": "7e600c20-2c35-4daf-b0b8-f01b311accc5",
   "metadata": {},
   "source": [
    "### Sender"
   ]
  },
  {
   "cell_type": "code",
   "execution_count": 7,
   "id": "36aebdda-a8b6-4df2-8ac6-c48f12642c56",
   "metadata": {},
   "outputs": [],
   "source": [
    "import json"
   ]
  },
  {
   "cell_type": "code",
   "execution_count": 8,
   "id": "207e5191-3a96-4454-ac3c-1ba23a73148b",
   "metadata": {},
   "outputs": [],
   "source": [
    "def template(instances):\n",
    "    return {\"signature_name\": \"serving_default\",\n",
    "            \"instances\": instances,\n",
    "           }"
   ]
  },
  {
   "cell_type": "code",
   "execution_count": 9,
   "id": "55023321-a48e-402c-ba3e-b2ad9edb7864",
   "metadata": {},
   "outputs": [
    {
     "name": "stdout",
     "output_type": "stream",
     "text": [
      "type(input_data_json) = <class 'str'>\n"
     ]
    }
   ],
   "source": [
    "simplest_template = template(X_new.tolist())\n",
    "input_data_json = json.dumps(simplest_template)\n",
    "print(f'{type(input_data_json) = }')\n",
    "# print(f'{input_data_json = }')"
   ]
  },
  {
   "cell_type": "code",
   "execution_count": 10,
   "id": "58289dfd-a45d-482b-b9f8-405dbdf90b4d",
   "metadata": {},
   "outputs": [
    {
     "name": "stdout",
     "output_type": "stream",
     "text": [
      "len(input_data_json)           = 21,862\n",
      "sys.getsizeof(input_data_json) = 21,911\n"
     ]
    }
   ],
   "source": [
    "import sys\n",
    "\n",
    "print(f'{len(input_data_json)           = :,d}')\n",
    "print(f'{sys.getsizeof(input_data_json) = :,d}')"
   ]
  },
  {
   "cell_type": "code",
   "execution_count": 11,
   "id": "13584aa7-2f7c-47cb-9f35-908b2851a01e",
   "metadata": {},
   "outputs": [],
   "source": [
    "import base64\n",
    "\n",
    "# It doesn't really matter to choose btw ASCII and UTF-8 here\n",
    "# because base64 only encodes to ASCII characters.\n",
    "# codec = \"ascii\"\n",
    "codec = \"utf-8\"\n",
    "instances = [\n",
    "    base64.b64encode(image.tobytes()).decode(codec)\n",
    "    for image in X_new\n",
    "]\n",
    "base64_template = template(instances)\n",
    "another_input_data_json = json.dumps(base64_template)"
   ]
  },
  {
   "cell_type": "code",
   "execution_count": 12,
   "id": "e635993a-00e0-4729-b2d2-b25e4b71f716",
   "metadata": {},
   "outputs": [
    {
     "name": "stdout",
     "output_type": "stream",
     "text": [
      "len(another_input_data_json)           = 12,616\n",
      "sys.getsizeof(another_input_data_json) = 12,665\n"
     ]
    }
   ],
   "source": [
    "print(f'{len(another_input_data_json)           = :,d}')\n",
    "print(f'{sys.getsizeof(another_input_data_json) = :,d}')"
   ]
  },
  {
   "cell_type": "markdown",
   "id": "d2c1d44b-d8af-4c7c-9abc-e396e1683047",
   "metadata": {},
   "source": [
    "The payload size is reduced to almost one half in this particular example."
   ]
  },
  {
   "cell_type": "markdown",
   "id": "665e4126-32fe-4c84-af11-b5b98d96b545",
   "metadata": {},
   "source": [
    "### Receiver"
   ]
  },
  {
   "cell_type": "code",
   "execution_count": 13,
   "id": "f425e499-97e8-4e23-86ab-5fe4cc988336",
   "metadata": {},
   "outputs": [],
   "source": [
    "response = json.loads(another_input_data_json)"
   ]
  },
  {
   "cell_type": "code",
   "execution_count": 14,
   "id": "4e3230ab-66d3-4052-8401-9cf7b4fe1e6b",
   "metadata": {},
   "outputs": [],
   "source": [
    "instances = response[\"instances\"]"
   ]
  },
  {
   "cell_type": "code",
   "execution_count": 15,
   "id": "45dd0416-ef43-451a-baea-e1d787705b77",
   "metadata": {},
   "outputs": [],
   "source": [
    "X_restored = [\n",
    "    np.frombuffer(\n",
    "        base64.b64decode(s.encode(codec)), dtype=float_type\n",
    "    ).reshape((n_rows, n_cols, 1))\n",
    "    for s in instances\n",
    "]"
   ]
  },
  {
   "cell_type": "code",
   "execution_count": 16,
   "id": "a1f74b47-7243-49d4-af02-8a85faf9d116",
   "metadata": {},
   "outputs": [
    {
     "data": {
      "image/png": "[encoded data removed]",
      "text/plain": [
       "<Figure size 640x480 with 3 Axes>"
      ]
     },
     "metadata": {},
     "output_type": "display_data"
    }
   ],
   "source": [
    "fig, ax = plt.subplots(1,3)\n",
    "for i in range(n_images):\n",
    "    ax[i].imshow(X_restored[i], cmap=\"gray\")\n",
    "    ax[i].axis(\"off\")"
   ]
  },
  {
   "cell_type": "code",
   "execution_count": null,
   "id": "b4f2b820-71a3-4688-a97d-10205b67b1a5",
   "metadata": {},
   "outputs": [],
   "source": []
  },
  {
   "cell_type": "markdown",
   "id": "82edd69e-4077-467b-9c3d-c148238d46f6",
   "metadata": {},
   "source": [
    "## Q&A"
   ]
  },
  {
   "cell_type": "markdown",
   "id": "a09244ca-4483-4804-8a68-da4ad00c8d7d",
   "metadata": {},
   "source": [
    "1. How did we know that there were 16 bytes for the header part?\n",
    "    - Because [The MNIST database page](http://yann.lecun.com/exdb/mnist/) says so.\n",
    "1. Is there a more efficient NumPy function to obtain the following?\n",
    "   > Create a list, append it with, say, 3 ndarrays, and finally make the outmost list an ndarray itself"
   ]
  },
  {
   "cell_type": "markdown",
   "id": "f620f137-6374-4d31-8fee-b92122b7eefa",
   "metadata": {},
   "source": [
    "## Ref.\n",
    "- [The MNIST database](http://yann.lecun.com/exdb/mnist/)\n",
    "- [Alessandro Nicolosi's post](https://alenic.github.io/snippets/2021/02/08/mnist-loader-python.html)"
   ]
  },
  {
   "cell_type": "code",
   "execution_count": null,
   "id": "ce5af7af-03d4-41c1-b37b-f9e0b8e4842e",
   "metadata": {},
   "outputs": [],
   "source": []
  }
 ],
 "metadata": {
  "kernelspec": {
   "display_name": "Python 3 (ipykernel)",
   "language": "python",
   "name": "python3"
  },
  "language_info": {
   "codemirror_mode": {
    "name": "ipython",
    "version": 3
   },
   "file_extension": ".py",
   "mimetype": "text/x-python",
   "name": "python",
   "nbconvert_exporter": "python",
   "pygments_lexer": "ipython3",
   "version": "3.10.0"
  }
 },
 "nbformat": 4,
 "nbformat_minor": 5
}
