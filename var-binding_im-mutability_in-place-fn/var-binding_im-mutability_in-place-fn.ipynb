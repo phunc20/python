{
 "cells": [
  {
   "cell_type": "markdown",
   "metadata": {},
   "source": [
    "## Variable Binding, (Im$\\cdot$)mutability & In-Place Function\n",
    "Khi mình lần đầu tiên tiếp xúc Python trong trường, do thầy hồi đó dạy không đủ tốt,\n",
    "lại không có theo đúng sách vỡ, nên phải đợi khi đến mấy năm về sau cơ duyên khiến mình\n",
    "làm việc lại với Python và mình nhìn lại về cái ngôn ngữ này một cách đúng đáng hơn,\n",
    "mình mới hiểu được một vài khái niệm mà hồi xưa được nhẫn mạnh trong sách vỡ. Hồi đó\n",
    "mãi không hiểu tại sao phải nhẫn mạnh <b>mutability</b> (e.g. <code>list</code>) và\n",
    "<b>immutability</b> (e.g. <code>tuple</code>, <code>str</code>). Mình muốn viết bài này để chia sẻ cái mà mình vừa nắm được."
   ]
  },
  {
   "cell_type": "markdown",
   "metadata": {},
   "source": [
    "### Variable Binding & Object\n",
    "Theo mình hiểu, trong Python mọi thứ đa số là <b>object</b>. Và khi mình assign một variable một object, thì mình <b>tạo một bind</b> giữa cái biến và cái object. Ví dụ như"
   ]
  },
  {
   "cell_type": "code",
   "execution_count": 1,
   "metadata": {},
   "outputs": [
    {
     "data": {
      "text/plain": [
       "140081192166544"
      ]
     },
     "execution_count": 1,
     "metadata": {},
     "output_type": "execute_result"
    }
   ],
   "source": [
    "name1 = \"Louis\"\n",
    "id(name1)"
   ]
  },
  {
   "cell_type": "code",
   "execution_count": 2,
   "metadata": {},
   "outputs": [
    {
     "data": {
      "text/plain": [
       "140081192166544"
      ]
     },
     "execution_count": 2,
     "metadata": {},
     "output_type": "execute_result"
    }
   ],
   "source": [
    "name2 = name1\n",
    "id(name2)"
   ]
  },
  {
   "cell_type": "markdown",
   "metadata": {},
   "source": [
    "Như mình có thể quan sát được ở cell ở trên, khi mình viết <code>name2 = name1</code>, <code>name2</code> sẽ được bind đến cùng một object (ở đây là cái string object <code>\"Louis\"</code>)"
   ]
  },
  {
   "cell_type": "markdown",
   "metadata": {},
   "source": [
    "### Function w/ Input Argument(s)\n",
    "Khi mình tạo/định nghĩa một function với input argument(s), thì thật ra đó cũng là variable binding:"
   ]
  },
  {
   "cell_type": "code",
   "execution_count": 3,
   "metadata": {},
   "outputs": [],
   "source": [
    "def inspect_name(name):\n",
    "    print(\"=\"*7)\n",
    "    print(\"Inside function:\")\n",
    "    print(\"id(name)  = {}\".format(id(name)))"
   ]
  },
  {
   "cell_type": "code",
   "execution_count": 4,
   "metadata": {},
   "outputs": [
    {
     "name": "stdout",
     "output_type": "stream",
     "text": [
      "=======\n",
      "Inside function:\n",
      "id(name)  = 140081192166544\n",
      "=======\n",
      "Outside function:\n",
      "id(name1) = 140081192166544\n"
     ]
    }
   ],
   "source": [
    "inspect_name(name1)\n",
    "print(\"=\"*7)\n",
    "print(\"Outside function:\")\n",
    "print(\"id(name1) = {}\".format(id(name1)))"
   ]
  },
  {
   "cell_type": "code",
   "execution_count": 5,
   "metadata": {},
   "outputs": [
    {
     "name": "stdout",
     "output_type": "stream",
     "text": [
      "=======\n",
      "Inside function:\n",
      "id(name)  = 140081192167104\n",
      "=======\n",
      "Outside function:\n",
      "id(name3) = 140081192167104\n"
     ]
    }
   ],
   "source": [
    "name3 = \"David\"\n",
    "inspect_name(name3)\n",
    "print(\"=\"*7)\n",
    "print(\"Outside function:\")\n",
    "print(\"id(name3) = {}\".format(id(name3)))"
   ]
  },
  {
   "cell_type": "markdown",
   "metadata": {},
   "source": [
    "Chuyền gì sẽ xảy ra nếu mình sử dụng `name1` trong một function?"
   ]
  },
  {
   "cell_type": "code",
   "execution_count": 6,
   "metadata": {},
   "outputs": [],
   "source": [
    "def no_arg_inspect():\n",
    "    print(\"=\"*7)\n",
    "    #print(\"vars() = {}\".format(vars()))\n",
    "    #print(\"globals() = {}\".format(globals()))\n",
    "    print(\"locals() = {}\".format(locals()))\n",
    "    print(\"Inside function:\")\n",
    "    print(\"id(name) = {}\".format(id(name1)))"
   ]
  },
  {
   "cell_type": "code",
   "execution_count": 7,
   "metadata": {},
   "outputs": [
    {
     "name": "stdout",
     "output_type": "stream",
     "text": [
      "=======\n",
      "locals() = {}\n",
      "Inside function:\n",
      "id(name) = 140081192166544\n",
      "=======\n",
      "Outside function:\n",
      "id(name) = 140081192166544\n"
     ]
    }
   ],
   "source": [
    "no_arg_inspect()\n",
    "print(\"=\"*7)\n",
    "print(\"Outside function:\")\n",
    "print(\"id(name) = {}\".format(id(name1)))"
   ]
  },
  {
   "cell_type": "markdown",
   "metadata": {},
   "source": [
    "So a function <b>can see variables defined outside itself and defined before it</b>."
   ]
  },
  {
   "cell_type": "markdown",
   "metadata": {},
   "source": [
    "One can use the function `locals`/`vars`/`globals` to inspect variable scope. For example: "
   ]
  },
  {
   "cell_type": "code",
   "execution_count": 8,
   "metadata": {},
   "outputs": [],
   "source": [
    "def arbitrary_fun(arg1, arg2, arg3):\n",
    "    var_in1 = (3,4,5)\n",
    "    var_in2 = \"whisky\"\n",
    "    print(\"=\"*7)\n",
    "    print(\"Inside function:\")\n",
    "    print(\"locals() = {}\".format(locals()))"
   ]
  },
  {
   "cell_type": "code",
   "execution_count": 9,
   "metadata": {
    "scrolled": true
   },
   "outputs": [
    {
     "name": "stdout",
     "output_type": "stream",
     "text": [
      "=======\n",
      "Inside function:\n",
      "locals() = {'var_in2': 'whisky', 'var_in1': (3, 4, 5), 'arg3': {'age': 32}, 'arg2': 3.14, 'arg1': 'a'}\n",
      "=======\n",
      "Outside function:\n",
      "locals() = {'__name__': '__main__', '__doc__': 'Automatically created module for IPython interactive environment', '__package__': None, '__loader__': None, '__spec__': None, '__builtin__': <module 'builtins' (built-in)>, '__builtins__': <module 'builtins' (built-in)>, '_ih': ['', 'name1 = \"Louis\"\\nid(name1)', 'name2 = name1\\nid(name2)', 'def inspect_name(name):\\n    print(\"=\"*7)\\n    print(\"Inside function:\")\\n    print(\"id(name)  = {}\".format(id(name)))', 'inspect_name(name1)\\nprint(\"=\"*7)\\nprint(\"Outside function:\")\\nprint(\"id(name1) = {}\".format(id(name1)))', 'name3 = \"David\"\\ninspect_name(name3)\\nprint(\"=\"*7)\\nprint(\"Outside function:\")\\nprint(\"id(name3) = {}\".format(id(name3)))', 'def no_arg_inspect():\\n    print(\"=\"*7)\\n    #print(\"vars() = {}\".format(vars()))\\n    #print(\"globals() = {}\".format(globals()))\\n    print(\"locals() = {}\".format(locals()))\\n    print(\"Inside function:\")\\n    print(\"id(name) = {}\".format(id(name1)))', 'no_arg_inspect()\\nprint(\"=\"*7)\\nprint(\"Outside function:\")\\nprint(\"id(name) = {}\".format(id(name1)))', 'def arbitrary_fun(arg1, arg2, arg3):\\n    var_in1 = (3,4,5)\\n    var_in2 = \"whisky\"\\n    print(\"=\"*7)\\n    print(\"Inside function:\")\\n    print(\"locals() = {}\".format(locals()))', 'arbitrary_fun(\\'a\\', 3.14, {\"age\": 32})\\nprint(\"=\"*7)\\nprint(\"Outside function:\")\\nprint(\"locals() = {}\".format(locals()))'], '_oh': {1: 140081192166544, 2: 140081192166544}, '_dh': ['/home/phunc20/programming/github/phunc20/python/var-binding_im-mutability_in-place-fn'], 'In': ['', 'name1 = \"Louis\"\\nid(name1)', 'name2 = name1\\nid(name2)', 'def inspect_name(name):\\n    print(\"=\"*7)\\n    print(\"Inside function:\")\\n    print(\"id(name)  = {}\".format(id(name)))', 'inspect_name(name1)\\nprint(\"=\"*7)\\nprint(\"Outside function:\")\\nprint(\"id(name1) = {}\".format(id(name1)))', 'name3 = \"David\"\\ninspect_name(name3)\\nprint(\"=\"*7)\\nprint(\"Outside function:\")\\nprint(\"id(name3) = {}\".format(id(name3)))', 'def no_arg_inspect():\\n    print(\"=\"*7)\\n    #print(\"vars() = {}\".format(vars()))\\n    #print(\"globals() = {}\".format(globals()))\\n    print(\"locals() = {}\".format(locals()))\\n    print(\"Inside function:\")\\n    print(\"id(name) = {}\".format(id(name1)))', 'no_arg_inspect()\\nprint(\"=\"*7)\\nprint(\"Outside function:\")\\nprint(\"id(name) = {}\".format(id(name1)))', 'def arbitrary_fun(arg1, arg2, arg3):\\n    var_in1 = (3,4,5)\\n    var_in2 = \"whisky\"\\n    print(\"=\"*7)\\n    print(\"Inside function:\")\\n    print(\"locals() = {}\".format(locals()))', 'arbitrary_fun(\\'a\\', 3.14, {\"age\": 32})\\nprint(\"=\"*7)\\nprint(\"Outside function:\")\\nprint(\"locals() = {}\".format(locals()))'], 'Out': {1: 140081192166544, 2: 140081192166544}, 'get_ipython': <bound method InteractiveShell.get_ipython of <ipykernel.zmqshell.ZMQInteractiveShell object at 0x7f6731b44278>>, 'exit': <IPython.core.autocall.ZMQExitAutocall object at 0x7f6730298828>, 'quit': <IPython.core.autocall.ZMQExitAutocall object at 0x7f6730298828>, '_': 140081192166544, '__': 140081192166544, '___': '', '_i': 'def arbitrary_fun(arg1, arg2, arg3):\\n    var_in1 = (3,4,5)\\n    var_in2 = \"whisky\"\\n    print(\"=\"*7)\\n    print(\"Inside function:\")\\n    print(\"locals() = {}\".format(locals()))', '_ii': 'no_arg_inspect()\\nprint(\"=\"*7)\\nprint(\"Outside function:\")\\nprint(\"id(name) = {}\".format(id(name1)))', '_iii': 'def no_arg_inspect():\\n    print(\"=\"*7)\\n    #print(\"vars() = {}\".format(vars()))\\n    #print(\"globals() = {}\".format(globals()))\\n    print(\"locals() = {}\".format(locals()))\\n    print(\"Inside function:\")\\n    print(\"id(name) = {}\".format(id(name1)))', '_i1': 'name1 = \"Louis\"\\nid(name1)', 'name1': 'Louis', '_1': 140081192166544, '_i2': 'name2 = name1\\nid(name2)', 'name2': 'Louis', '_2': 140081192166544, '_i3': 'def inspect_name(name):\\n    print(\"=\"*7)\\n    print(\"Inside function:\")\\n    print(\"id(name)  = {}\".format(id(name)))', 'inspect_name': <function inspect_name at 0x7f673019db70>, '_i4': 'inspect_name(name1)\\nprint(\"=\"*7)\\nprint(\"Outside function:\")\\nprint(\"id(name1) = {}\".format(id(name1)))', '_i5': 'name3 = \"David\"\\ninspect_name(name3)\\nprint(\"=\"*7)\\nprint(\"Outside function:\")\\nprint(\"id(name3) = {}\".format(id(name3)))', 'name3': 'David', '_i6': 'def no_arg_inspect():\\n    print(\"=\"*7)\\n    #print(\"vars() = {}\".format(vars()))\\n    #print(\"globals() = {}\".format(globals()))\\n    print(\"locals() = {}\".format(locals()))\\n    print(\"Inside function:\")\\n    print(\"id(name) = {}\".format(id(name1)))', 'no_arg_inspect': <function no_arg_inspect at 0x7f67301c4048>, '_i7': 'no_arg_inspect()\\nprint(\"=\"*7)\\nprint(\"Outside function:\")\\nprint(\"id(name) = {}\".format(id(name1)))', '_i8': 'def arbitrary_fun(arg1, arg2, arg3):\\n    var_in1 = (3,4,5)\\n    var_in2 = \"whisky\"\\n    print(\"=\"*7)\\n    print(\"Inside function:\")\\n    print(\"locals() = {}\".format(locals()))', 'arbitrary_fun': <function arbitrary_fun at 0x7f673019d378>, '_i9': 'arbitrary_fun(\\'a\\', 3.14, {\"age\": 32})\\nprint(\"=\"*7)\\nprint(\"Outside function:\")\\nprint(\"locals() = {}\".format(locals()))'}\n"
     ]
    }
   ],
   "source": [
    "arbitrary_fun('a', 3.14, {\"age\": 32})\n",
    "print(\"=\"*7)\n",
    "print(\"Outside function:\")\n",
    "print(\"locals() = {}\".format(locals()))"
   ]
  },
  {
   "cell_type": "markdown",
   "metadata": {},
   "source": [
    "### (Im$\\cdot$)mutability\n",
    "Trong giai đoàn này, bản thân mình hiểu mutability và immutability theo kiểu như sau:\n",
    "\n",
    "<code>list</code> là mutable và <code>tuple</code> là immutable có nghĩa là\n",
    "- entry (tức là thành viên) của <code>list</code> <b>có thể  thay đổi thành một object khác được (i.e. thay đổi id)</b> \n",
    "- trong khi <b>entry của tuple không được</b>.\n",
    "\n",
    "Sẽ dễ hiểu hơn nếu mình xem tiếp một vài ví dụ:"
   ]
  },
  {
   "cell_type": "code",
   "execution_count": 10,
   "metadata": {},
   "outputs": [
    {
     "data": {
      "text/plain": [
       "('Louis', 'Louis', 'David')"
      ]
     },
     "execution_count": 10,
     "metadata": {},
     "output_type": "execute_result"
    }
   ],
   "source": [
    "name1, name2, name3"
   ]
  },
  {
   "cell_type": "code",
   "execution_count": 11,
   "metadata": {},
   "outputs": [
    {
     "name": "stdout",
     "output_type": "stream",
     "text": [
      "nameList = ['Louis', 'David']\n",
      "nameTuple = ('Louis', 'David')\n"
     ]
    }
   ],
   "source": [
    "nameList = [name1, name3]\n",
    "nameTuple = (name1, name3)\n",
    "print(\"nameList = {}\".format(nameList))\n",
    "print(\"nameTuple = {}\".format(nameTuple))"
   ]
  },
  {
   "cell_type": "code",
   "execution_count": 12,
   "metadata": {},
   "outputs": [
    {
     "name": "stdout",
     "output_type": "stream",
     "text": [
      "=======\n",
      "Before mute\n",
      "id(nameList[0]) = 140081192166544\n",
      "id(name1)       = 140081192166544\n",
      "nameList = ['Louis', 'David']\n",
      "=======\n",
      "After mute\n",
      "id(nameList[0]) = 140081165367592\n",
      "id(name1)       = 140081192166544\n",
      "nameList = ['Alice', 'David']\n"
     ]
    }
   ],
   "source": [
    "print(\"=\"*7)\n",
    "print(\"Before mute\")\n",
    "print(\"id(nameList[0]) = {}\".format(id(nameList[0])))\n",
    "print(\"id(name1)       = {}\".format(id(name1)))\n",
    "print(\"nameList = {}\".format(nameList))\n",
    "\n",
    "nameList[0] = \"Alice\"\n",
    "print(\"=\"*7)\n",
    "print(\"After mute\")\n",
    "print(\"id(nameList[0]) = {}\".format(id(nameList[0])))\n",
    "print(\"id(name1)       = {}\".format(id(name1)))\n",
    "print(\"nameList = {}\".format(nameList))"
   ]
  },
  {
   "cell_type": "markdown",
   "metadata": {},
   "source": [
    "Nhưng nếu mình làm y chang với `nameTuple`, mình sẽ được\n",
    "```python\n",
    "nameTuple[0] = \"Bob\"\n",
    "```\n",
    "\n",
    "```\n",
    "----------------------------------------------------------------\n",
    "TypeError                      Traceback (most recent call last)\n",
    "<ipython-input-39-efcec3cbd71d> in <module>\n",
    "----> 1 nameTuple[0] = \"Bob\"\n",
    "\n",
    "TypeError: 'tuple' object does not support item assignment\n",
    "```"
   ]
  },
  {
   "cell_type": "markdown",
   "metadata": {},
   "source": [
    "<b>Nhưng mà `tuple` immutable không đồng nghĩa với việc mình không thay đổi thành viên của nó được.</b>\n",
    "\n",
    "Như mình đã nó, mình chỉ không đổi đc cái <code>id</code> hoặc là cái objectivity của entry của một tuple thôi, nếu như những thay đổi được măng tới là những thay đổi không đổi identity, thì mình vẫn thay đổi được entry:\n"
   ]
  },
  {
   "cell_type": "code",
   "execution_count": 13,
   "metadata": {},
   "outputs": [
    {
     "name": "stdout",
     "output_type": "stream",
     "text": [
      "=======\n",
      "Trước thay đổi\n",
      "pumpkin has id = 140081165366864\n",
      "['a', 'b', 'c'] has id = 140081166322888\n",
      "=======\n",
      "Sau thay đổi\n",
      "pumpkin has id = 140081165366864\n",
      "['a', 'b', 'c', '...', 'x', 'y', 'z'] has id = 140081166322888\n"
     ]
    }
   ],
   "source": [
    "T = (\"pumpkin\", ['a', 'b', 'c'])\n",
    "print(\"=\"*7)\n",
    "print(\"Trước thay đổi\")\n",
    "for entry in T:\n",
    "    print(\"{} has id = {}\".format(entry, id(entry)))\n",
    "T[1].extend([\"...\", 'x', 'y', 'z'])\n",
    "print(\"=\"*7)\n",
    "print(\"Sau thay đổi\")\n",
    "for entry in T:\n",
    "    print(\"{} has id = {}\".format(entry, id(entry)))"
   ]
  },
  {
   "cell_type": "markdown",
   "metadata": {},
   "source": [
    "<b>Lưu ý rằng id của</b> <code>T[1]</code> <b>chưa hề thay đổi.</b>"
   ]
  },
  {
   "cell_type": "markdown",
   "metadata": {},
   "source": [
    "### Cuối cùng\n",
    "trước khi kết thuốc bài viết, để mình xem thêm một ví dụ\n",
    "<h2>😀😀😀</h2>"
   ]
  },
  {
   "cell_type": "markdown",
   "metadata": {},
   "source": [
    "```python\n",
    "def insertion_sort(A):\n",
    "    \"\"\"\n",
    "    e.g.\n",
    "    if\n",
    "        A = [[\"apple\", 20], [\"patato\", 1], [\"banana\", 7]]\n",
    "    then should eventually result in\n",
    "        A = [[\"apple\", 20], [\"banana\", 7], [\"patato\", 1]].\n",
    "\n",
    "    Another example:\n",
    "    if\n",
    "        A = [3.14159, 0, 10, 2.71828]\n",
    "    then should eventually result in\n",
    "        A = [0, 2.71828, 3.14159, 10]\n",
    "    \"\"\"\n",
    "    for j, key in A:\n",
    "        if j == 0: continue\n",
    "        i = j - 1\n",
    "        while i > -1 and A[i] > key:\n",
    "            A[i+1] = A[i]\n",
    "            i -= 1\n",
    "        A[i+1] = key\n",
    "\n",
    "```"
   ]
  },
  {
   "cell_type": "markdown",
   "metadata": {},
   "source": [
    "Mình hay được nghe người ta nói rằng <b>insertion sort là một thuật toán in-place</b>, tức là nó đổi cái input của nó ngay trong hàm, không cần hàm trả về giá trị gì hết. Giờ mình cũng hiểu được việc\n",
    "- trong hàm <code>insertion_sort</code> ở trên, <code>A</code> sẽ được bind to input của hàm là một <code>list</code>\n",
    "- khi mình tạo ra sự thay đổi đối với <code>A</code>, chính cái object (đứng sau) sẽ bị/được thay đổi, nên mình không cần trả về giá trị gì thêm nữa, nếu cái mình muốn chỉ là thay đổi <code>A</code>\n",
    "- Nếu input arg là một <code>tuple</code>, thì mình sẽ không làm được việc <b>in-place</b>, phải đi cách khác như trả về một giá trị nào đó\n"
   ]
  }
 ],
 "metadata": {
  "kernelspec": {
   "display_name": "Python 3",
   "language": "python",
   "name": "python3"
  },
  "language_info": {
   "codemirror_mode": {
    "name": "ipython",
    "version": 3
   },
   "file_extension": ".py",
   "mimetype": "text/x-python",
   "name": "python",
   "nbconvert_exporter": "python",
   "pygments_lexer": "ipython3",
   "version": "3.6.8"
  }
 },
 "nbformat": 4,
 "nbformat_minor": 2
}
