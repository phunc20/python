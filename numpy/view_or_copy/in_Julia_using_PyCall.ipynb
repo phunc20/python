{
 "cells": [
  {
   "cell_type": "markdown",
   "metadata": {},
   "source": [
    "## Slicing\n",
    "**(?)** Slicing in Julia returns a copy. What about in Python?  \n",
    "**(R)** Slicing in Python returns a view."
   ]
  },
  {
   "cell_type": "code",
   "execution_count": 23,
   "metadata": {},
   "outputs": [
    {
     "data": {
      "text/plain": [
       "7-element Array{Int8,1}:\n",
       " 1\n",
       " 1\n",
       " 1\n",
       " 1\n",
       " 1\n",
       " 1\n",
       " 1"
      ]
     },
     "execution_count": 23,
     "metadata": {},
     "output_type": "execute_result"
    }
   ],
   "source": [
    "v = ones(Int8, 7)"
   ]
  },
  {
   "cell_type": "code",
   "execution_count": 12,
   "metadata": {},
   "outputs": [
    {
     "data": {
      "text/plain": [
       "4-element Array{Int8,1}:\n",
       " 1\n",
       " 1\n",
       " 1\n",
       " 1"
      ]
     },
     "execution_count": 12,
     "metadata": {},
     "output_type": "execute_result"
    }
   ],
   "source": [
    "w = v[4:end]"
   ]
  },
  {
   "cell_type": "code",
   "execution_count": 13,
   "metadata": {},
   "outputs": [
    {
     "data": {
      "text/plain": [
       "4-element Array{Int8,1}:\n",
       " 127\n",
       " 127\n",
       "   1\n",
       "   1"
      ]
     },
     "execution_count": 13,
     "metadata": {},
     "output_type": "execute_result"
    }
   ],
   "source": [
    "w[1:2] .= 127\n",
    "w"
   ]
  },
  {
   "cell_type": "code",
   "execution_count": 14,
   "metadata": {},
   "outputs": [
    {
     "data": {
      "text/plain": [
       "7-element Array{Int8,1}:\n",
       " 1\n",
       " 1\n",
       " 1\n",
       " 1\n",
       " 1\n",
       " 1\n",
       " 1"
      ]
     },
     "execution_count": 14,
     "metadata": {},
     "output_type": "execute_result"
    }
   ],
   "source": [
    "v"
   ]
  },
  {
   "cell_type": "code",
   "execution_count": 15,
   "metadata": {},
   "outputs": [],
   "source": [
    "using PyCall"
   ]
  },
  {
   "cell_type": "code",
   "execution_count": 19,
   "metadata": {},
   "outputs": [],
   "source": [
    "py\"\"\"\n",
    "import numpy as np\n",
    "vv = np.zeros(7, dtype=np.int8)\n",
    "ww = vv[3:]\n",
    "ww[:2] = -1\n",
    "\"\"\""
   ]
  },
  {
   "cell_type": "code",
   "execution_count": 20,
   "metadata": {},
   "outputs": [
    {
     "data": {
      "text/plain": [
       "4-element Array{Int8,1}:\n",
       " -1\n",
       " -1\n",
       "  0\n",
       "  0"
      ]
     },
     "execution_count": 20,
     "metadata": {},
     "output_type": "execute_result"
    }
   ],
   "source": [
    "py\"ww\""
   ]
  },
  {
   "cell_type": "code",
   "execution_count": 21,
   "metadata": {},
   "outputs": [
    {
     "data": {
      "text/plain": [
       "7-element Array{Int8,1}:\n",
       "  0\n",
       "  0\n",
       "  0\n",
       " -1\n",
       " -1\n",
       "  0\n",
       "  0"
      ]
     },
     "execution_count": 21,
     "metadata": {},
     "output_type": "execute_result"
    }
   ],
   "source": [
    "py\"vv\""
   ]
  },
  {
   "cell_type": "code",
   "execution_count": 26,
   "metadata": {},
   "outputs": [
    {
     "ename": "LoadError",
     "evalue": "syntax: missing last argument in \"4:\" range expression ",
     "output_type": "error",
     "traceback": [
      "syntax: missing last argument in \"4:\" range expression ",
      "",
      "Stacktrace:",
      " [1] top-level scope at In[26]:1",
      " [2] include_string(::Function, ::Module, ::String, ::String) at ./loading.jl:1091",
      " [3] execute_code(::String, ::String) at /home/phunc20/.julia/packages/IJulia/a1SNk/src/execute_request.jl:27",
      " [4] execute_request(::ZMQ.Socket, ::IJulia.Msg) at /home/phunc20/.julia/packages/IJulia/a1SNk/src/execute_request.jl:86",
      " [5] #invokelatest#1 at ./essentials.jl:710 [inlined]",
      " [6] invokelatest at ./essentials.jl:709 [inlined]",
      " [7] eventloop(::ZMQ.Socket) at /home/phunc20/.julia/packages/IJulia/a1SNk/src/eventloop.jl:8",
      " [8] (::IJulia.var\"#15#18\")() at ./task.jl:356"
     ]
    }
   ],
   "source": [
    "z = view(v, 4:end)"
   ]
  },
  {
   "cell_type": "markdown",
   "metadata": {},
   "source": [
    "It seems that when using `view()` we cannot specify an index by `end`."
   ]
  },
  {
   "cell_type": "code",
   "execution_count": 25,
   "metadata": {},
   "outputs": [
    {
     "data": {
      "text/plain": [
       "4-element view(::Array{Int8,1}, 4:7) with eltype Int8:\n",
       " 1\n",
       " 1\n",
       " 1\n",
       " 1"
      ]
     },
     "execution_count": 25,
     "metadata": {},
     "output_type": "execute_result"
    }
   ],
   "source": [
    "z = view(v, 4:7)"
   ]
  },
  {
   "cell_type": "code",
   "execution_count": 28,
   "metadata": {},
   "outputs": [
    {
     "data": {
      "text/plain": [
       "7-element Array{Int8,1}:\n",
       "  1\n",
       "  1\n",
       "  1\n",
       " 17\n",
       " 17\n",
       "  1\n",
       "  1"
      ]
     },
     "execution_count": 28,
     "metadata": {},
     "output_type": "execute_result"
    }
   ],
   "source": [
    "z[1:2] .= 17\n",
    "v"
   ]
  },
  {
   "cell_type": "code",
   "execution_count": 29,
   "metadata": {},
   "outputs": [
    {
     "data": {
      "text/plain": [
       "(Array{Int8,1}, SubArray{Int8,1,Array{Int8,1},Tuple{UnitRange{Int64}},true})"
      ]
     },
     "execution_count": 29,
     "metadata": {},
     "output_type": "execute_result"
    }
   ],
   "source": [
    "typeof(w), typeof(z)"
   ]
  },
  {
   "cell_type": "code",
   "execution_count": 30,
   "metadata": {},
   "outputs": [
    {
     "data": {
      "text/plain": [
       "4-element view(::Array{Int8,1}, 4:7) with eltype Int8:\n",
       " 17\n",
       " 17\n",
       "  1\n",
       "  1"
      ]
     },
     "execution_count": 30,
     "metadata": {},
     "output_type": "execute_result"
    }
   ],
   "source": [
    "z2 = @view v[4:end]"
   ]
  },
  {
   "cell_type": "code",
   "execution_count": 32,
   "metadata": {},
   "outputs": [
    {
     "data": {
      "text/plain": [
       "7-element Array{Int8,1}:\n",
       "    1\n",
       "    1\n",
       "    1\n",
       " -100\n",
       " -100\n",
       "    1\n",
       "    1"
      ]
     },
     "execution_count": 32,
     "metadata": {},
     "output_type": "execute_result"
    }
   ],
   "source": [
    "z2[1:2] .= -100\n",
    "v"
   ]
  },
  {
   "cell_type": "markdown",
   "metadata": {},
   "source": [
    "## `reshape`, `ravel`\n",
    "**(?)** Do they return a copy or a view?  \n",
    "**(R)** Both Python and Julia returns views in this case.\n",
    "\n",
    "- Python\n",
    "  - `reshape` returns a view\n",
    "  - `ravel`   returns a view (Thus, `ravel(order=\"C\")` is equiv. to `reshape(-1, order=\"C\")`)\n",
    "- Julia\n",
    "  - `reshape` returns a view\n",
    "  - `vec` returns a view (`vec` is Julia's equivalent to Python's `np.ravel`)"
   ]
  },
  {
   "cell_type": "code",
   "execution_count": 40,
   "metadata": {},
   "outputs": [],
   "source": [
    "py\"\"\"\n",
    "shape = (3,5)\n",
    "MM = np.arange(np.product(shape)).reshape(shape)\n",
    "WW = MM.reshape(list(reversed(shape)))\n",
    "\"\"\""
   ]
  },
  {
   "cell_type": "code",
   "execution_count": 41,
   "metadata": {},
   "outputs": [
    {
     "data": {
      "text/plain": [
       "3×5 Array{Int64,2}:\n",
       "  0   1   2   3   4\n",
       "  5   6   7   8   9\n",
       " 10  11  12  13  14"
      ]
     },
     "execution_count": 41,
     "metadata": {},
     "output_type": "execute_result"
    }
   ],
   "source": [
    "py\"MM\""
   ]
  },
  {
   "cell_type": "code",
   "execution_count": 42,
   "metadata": {},
   "outputs": [
    {
     "data": {
      "text/plain": [
       "5×3 Array{Int64,2}:\n",
       "  0   1   2\n",
       "  3   4   5\n",
       "  6   7   8\n",
       "  9  10  11\n",
       " 12  13  14"
      ]
     },
     "execution_count": 42,
     "metadata": {},
     "output_type": "execute_result"
    }
   ],
   "source": [
    "py\"WW\""
   ]
  },
  {
   "cell_type": "code",
   "execution_count": 43,
   "metadata": {},
   "outputs": [],
   "source": [
    "py\"\"\"\n",
    "WW[0] = WW[0] * (-1)\n",
    "\"\"\""
   ]
  },
  {
   "cell_type": "code",
   "execution_count": 44,
   "metadata": {},
   "outputs": [
    {
     "data": {
      "text/plain": [
       "5×3 Array{Int64,2}:\n",
       "  0  -1  -2\n",
       "  3   4   5\n",
       "  6   7   8\n",
       "  9  10  11\n",
       " 12  13  14"
      ]
     },
     "execution_count": 44,
     "metadata": {},
     "output_type": "execute_result"
    }
   ],
   "source": [
    "py\"WW\""
   ]
  },
  {
   "cell_type": "code",
   "execution_count": 47,
   "metadata": {},
   "outputs": [
    {
     "data": {
      "text/plain": [
       "3×5 Array{Int64,2}:\n",
       "  0  -1  -2   3   4\n",
       "  5   6   7   8   9\n",
       " 10  11  12  13  14"
      ]
     },
     "execution_count": 47,
     "metadata": {},
     "output_type": "execute_result"
    }
   ],
   "source": [
    "py\"MM\""
   ]
  },
  {
   "cell_type": "code",
   "execution_count": 48,
   "metadata": {},
   "outputs": [],
   "source": [
    "py\"\"\"\n",
    "ZZ = np.ravel(MM)\n",
    "\"\"\""
   ]
  },
  {
   "cell_type": "code",
   "execution_count": 49,
   "metadata": {},
   "outputs": [
    {
     "data": {
      "text/plain": [
       "15-element Array{Int64,1}:\n",
       "  0\n",
       " -1\n",
       " -2\n",
       "  3\n",
       "  4\n",
       "  5\n",
       "  6\n",
       "  7\n",
       "  8\n",
       "  9\n",
       " 10\n",
       " 11\n",
       " 12\n",
       " 13\n",
       " 14"
      ]
     },
     "execution_count": 49,
     "metadata": {},
     "output_type": "execute_result"
    }
   ],
   "source": [
    "py\"ZZ\""
   ]
  },
  {
   "cell_type": "code",
   "execution_count": 50,
   "metadata": {},
   "outputs": [],
   "source": [
    "py\"\"\"\n",
    "ZZ *= -1\n",
    "\"\"\""
   ]
  },
  {
   "cell_type": "code",
   "execution_count": 51,
   "metadata": {},
   "outputs": [
    {
     "data": {
      "text/plain": [
       "3×5 Array{Int64,2}:\n",
       "   0    1    2   -3   -4\n",
       "  -5   -6   -7   -8   -9\n",
       " -10  -11  -12  -13  -14"
      ]
     },
     "execution_count": 51,
     "metadata": {},
     "output_type": "execute_result"
    }
   ],
   "source": [
    "py\"MM\""
   ]
  },
  {
   "cell_type": "markdown",
   "metadata": {},
   "source": [
    "Now let's see Julia."
   ]
  },
  {
   "cell_type": "raw",
   "metadata": {},
   "source": [
    "py\"\"\"\n",
    "M = [10i + j for i in 0:5; for j in 1:4]\n",
    "\"\"\"\n"
   ]
  },
  {
   "cell_type": "code",
   "execution_count": 62,
   "metadata": {},
   "outputs": [
    {
     "data": {
      "text/plain": [
       "6×4 Array{Int64,2}:\n",
       "  1   2   3   4\n",
       " 11  12  13  14\n",
       " 21  22  23  24\n",
       " 31  32  33  34\n",
       " 41  42  43  44\n",
       " 51  52  53  54"
      ]
     },
     "execution_count": 62,
     "metadata": {},
     "output_type": "execute_result"
    }
   ],
   "source": [
    "M = [10i + j for i in 0:5, j in 1:4]"
   ]
  },
  {
   "cell_type": "code",
   "execution_count": 63,
   "metadata": {},
   "outputs": [
    {
     "data": {
      "text/plain": [
       "3×8 Array{Int64,2}:\n",
       "  1  31   2  32   3  33   4  34\n",
       " 11  41  12  42  13  43  14  44\n",
       " 21  51  22  52  23  53  24  54"
      ]
     },
     "execution_count": 63,
     "metadata": {},
     "output_type": "execute_result"
    }
   ],
   "source": [
    "W = reshape(M, 3, 8)"
   ]
  },
  {
   "cell_type": "code",
   "execution_count": 64,
   "metadata": {},
   "outputs": [
    {
     "data": {
      "text/plain": [
       "3×8 Array{Int64,2}:\n",
       " -1  -31  -2  32   3  33   4  34\n",
       " 11   41  12  42  13  43  14  44\n",
       " 21   51  22  52  23  53  24  54"
      ]
     },
     "execution_count": 64,
     "metadata": {},
     "output_type": "execute_result"
    }
   ],
   "source": [
    "W[1, 1:3] .*= -1\n",
    "W"
   ]
  },
  {
   "cell_type": "code",
   "execution_count": 65,
   "metadata": {},
   "outputs": [
    {
     "data": {
      "text/plain": [
       "6×4 Array{Int64,2}:\n",
       "  -1  -2   3   4\n",
       "  11  12  13  14\n",
       "  21  22  23  24\n",
       " -31  32  33  34\n",
       "  41  42  43  44\n",
       "  51  52  53  54"
      ]
     },
     "execution_count": 65,
     "metadata": {},
     "output_type": "execute_result"
    }
   ],
   "source": [
    "M"
   ]
  },
  {
   "cell_type": "code",
   "execution_count": 66,
   "metadata": {},
   "outputs": [
    {
     "data": {
      "text/plain": [
       "24-element Array{Int64,1}:\n",
       "  -1\n",
       "  11\n",
       "  21\n",
       " -31\n",
       "  41\n",
       "  51\n",
       "  -2\n",
       "  12\n",
       "  22\n",
       "  32\n",
       "  42\n",
       "  52\n",
       "   3\n",
       "  13\n",
       "  23\n",
       "  33\n",
       "  43\n",
       "  53\n",
       "   4\n",
       "  14\n",
       "  24\n",
       "  34\n",
       "  44\n",
       "  54"
      ]
     },
     "execution_count": 66,
     "metadata": {},
     "output_type": "execute_result"
    }
   ],
   "source": [
    "Z = vec(M)"
   ]
  },
  {
   "cell_type": "code",
   "execution_count": 67,
   "metadata": {},
   "outputs": [
    {
     "data": {
      "text/plain": [
       "24-element Array{Int64,1}:\n",
       "   1\n",
       " -11\n",
       " -21\n",
       "  31\n",
       " -41\n",
       " -51\n",
       "   2\n",
       " -12\n",
       " -22\n",
       " -32\n",
       " -42\n",
       " -52\n",
       "  -3\n",
       " -13\n",
       " -23\n",
       " -33\n",
       " -43\n",
       " -53\n",
       "  -4\n",
       " -14\n",
       " -24\n",
       " -34\n",
       " -44\n",
       " -54"
      ]
     },
     "execution_count": 67,
     "metadata": {},
     "output_type": "execute_result"
    }
   ],
   "source": [
    "Z .*= -1\n",
    "Z"
   ]
  },
  {
   "cell_type": "code",
   "execution_count": 68,
   "metadata": {},
   "outputs": [
    {
     "data": {
      "text/plain": [
       "6×4 Array{Int64,2}:\n",
       "   1    2   -3   -4\n",
       " -11  -12  -13  -14\n",
       " -21  -22  -23  -24\n",
       "  31  -32  -33  -34\n",
       " -41  -42  -43  -44\n",
       " -51  -52  -53  -54"
      ]
     },
     "execution_count": 68,
     "metadata": {},
     "output_type": "execute_result"
    }
   ],
   "source": [
    "M"
   ]
  },
  {
   "cell_type": "code",
   "execution_count": null,
   "metadata": {},
   "outputs": [],
   "source": []
  }
 ],
 "metadata": {
  "kernelspec": {
   "display_name": "Julia 1.5.2",
   "language": "julia",
   "name": "julia-1.5"
  },
  "language_info": {
   "file_extension": ".jl",
   "mimetype": "application/julia",
   "name": "julia",
   "version": "1.5.2"
  }
 },
 "nbformat": 4,
 "nbformat_minor": 4
}
