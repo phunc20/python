{
 "cells": [
  {
   "cell_type": "markdown",
   "id": "9fe5808c",
   "metadata": {},
   "source": [
    "# `K`\n",
    "There exist at least two ways to import `keras.backend`\n",
    "\n",
    "01. Do\n",
    "    ```python\n",
    "    import tensorflow.keras as keras\n",
    "    K = keras.backend\n",
    "    ```\n",
    "02. Do `import tensorflow.keras.backend as K`\n",
    "\n",
    "The following is an example demonstration."
   ]
  },
  {
   "cell_type": "code",
   "execution_count": 1,
   "id": "e4cd7e58",
   "metadata": {},
   "outputs": [],
   "source": [
    "import tensorflow.keras.backend as K"
   ]
  },
  {
   "cell_type": "code",
   "execution_count": 2,
   "id": "6773beb5",
   "metadata": {},
   "outputs": [
    {
     "data": {
      "text/plain": [
       "<tf.Tensor: shape=(), dtype=float32, numpy=25.0>"
      ]
     },
     "execution_count": 2,
     "metadata": {},
     "output_type": "execute_result"
    }
   ],
   "source": [
    "K.square(3.) + 4**2"
   ]
  },
  {
   "cell_type": "code",
   "execution_count": 3,
   "id": "a744b60d",
   "metadata": {},
   "outputs": [
    {
     "data": {
      "text/plain": [
       "module"
      ]
     },
     "execution_count": 3,
     "metadata": {},
     "output_type": "execute_result"
    }
   ],
   "source": [
    "type(K)"
   ]
  },
  {
   "cell_type": "code",
   "execution_count": 4,
   "id": "17e55adb",
   "metadata": {},
   "outputs": [
    {
     "data": {
      "text/plain": [
       "True"
      ]
     },
     "execution_count": 4,
     "metadata": {},
     "output_type": "execute_result"
    }
   ],
   "source": [
    "\"K\" in globals()"
   ]
  },
  {
   "cell_type": "code",
   "execution_count": 5,
   "id": "7a843cb6",
   "metadata": {},
   "outputs": [],
   "source": [
    "del K"
   ]
  },
  {
   "cell_type": "code",
   "execution_count": 6,
   "id": "d90141e0",
   "metadata": {},
   "outputs": [
    {
     "data": {
      "text/plain": [
       "False"
      ]
     },
     "execution_count": 6,
     "metadata": {},
     "output_type": "execute_result"
    }
   ],
   "source": [
    "\"K\" in globals()"
   ]
  },
  {
   "cell_type": "code",
   "execution_count": 7,
   "id": "a513bdeb",
   "metadata": {},
   "outputs": [],
   "source": [
    "import tensorflow.keras as keras"
   ]
  },
  {
   "cell_type": "code",
   "execution_count": 8,
   "id": "04ef24da",
   "metadata": {},
   "outputs": [],
   "source": [
    "K = keras.backend"
   ]
  },
  {
   "cell_type": "code",
   "execution_count": 9,
   "id": "eb5a3bc9",
   "metadata": {},
   "outputs": [
    {
     "data": {
      "text/plain": [
       "<tf.Tensor: shape=(), dtype=float32, numpy=25.0>"
      ]
     },
     "execution_count": 9,
     "metadata": {},
     "output_type": "execute_result"
    }
   ],
   "source": [
    "K.square(3.) + 4**2"
   ]
  },
  {
   "cell_type": "code",
   "execution_count": 10,
   "id": "40692d0c",
   "metadata": {},
   "outputs": [
    {
     "data": {
      "text/plain": [
       "module"
      ]
     },
     "execution_count": 10,
     "metadata": {},
     "output_type": "execute_result"
    }
   ],
   "source": [
    "type(K)"
   ]
  },
  {
   "cell_type": "code",
   "execution_count": 11,
   "id": "f51e1d64",
   "metadata": {
    "scrolled": true
   },
   "outputs": [
    {
     "data": {
      "text/plain": [
       "True"
      ]
     },
     "execution_count": 11,
     "metadata": {},
     "output_type": "execute_result"
    }
   ],
   "source": [
    "\"K\" in globals()"
   ]
  },
  {
   "cell_type": "markdown",
   "id": "954e311d",
   "metadata": {},
   "source": [
    "## Epsilon $\\epsilon$\n",
    "`keras.backend.epsilon`"
   ]
  },
  {
   "cell_type": "code",
   "execution_count": 12,
   "id": "199c1c4a",
   "metadata": {},
   "outputs": [
    {
     "data": {
      "text/plain": [
       "<function tensorflow.python.keras.backend_config.epsilon()>"
      ]
     },
     "execution_count": 12,
     "metadata": {},
     "output_type": "execute_result"
    }
   ],
   "source": [
    "K.epsilon"
   ]
  },
  {
   "cell_type": "code",
   "execution_count": 14,
   "id": "0dfa08f2",
   "metadata": {},
   "outputs": [
    {
     "name": "stdout",
     "output_type": "stream",
     "text": [
      "Help on function epsilon in module tensorflow.python.keras.backend_config:\n",
      "\n",
      "epsilon()\n",
      "    Returns the value of the fuzz factor used in numeric expressions.\n",
      "    \n",
      "    Returns:\n",
      "        A float.\n",
      "    \n",
      "    Example:\n",
      "    >>> tf.keras.backend.epsilon()\n",
      "    1e-07\n",
      "\n"
     ]
    }
   ],
   "source": [
    "help(K.epsilon)"
   ]
  },
  {
   "cell_type": "code",
   "execution_count": 13,
   "id": "5e419dac",
   "metadata": {},
   "outputs": [
    {
     "data": {
      "text/plain": [
       "1e-07"
      ]
     },
     "execution_count": 13,
     "metadata": {},
     "output_type": "execute_result"
    }
   ],
   "source": [
    "K.epsilon()"
   ]
  },
  {
   "cell_type": "code",
   "execution_count": 15,
   "id": "f8426adc",
   "metadata": {},
   "outputs": [
    {
     "data": {
      "text/plain": [
       "float"
      ]
     },
     "execution_count": 15,
     "metadata": {},
     "output_type": "execute_result"
    }
   ],
   "source": [
    "type(K.epsilon())"
   ]
  },
  {
   "cell_type": "code",
   "execution_count": null,
   "id": "69849c50",
   "metadata": {},
   "outputs": [],
   "source": []
  }
 ],
 "metadata": {
  "kernelspec": {
   "display_name": "Python 3",
   "language": "python",
   "name": "python3"
  },
  "language_info": {
   "codemirror_mode": {
    "name": "ipython",
    "version": 3
   },
   "file_extension": ".py",
   "mimetype": "text/x-python",
   "name": "python",
   "nbconvert_exporter": "python",
   "pygments_lexer": "ipython3",
   "version": "3.7.8"
  }
 },
 "nbformat": 4,
 "nbformat_minor": 5
}
