{
 "cells": [
  {
   "cell_type": "markdown",
   "id": "d1ab4945",
   "metadata": {},
   "source": [
    "# Precision and Recall in Multiclass Classification\n",
    "Ref <https://towardsdatascience.com/multi-class-metrics-made-simple-part-i-precision-and-recall-9250280bddc2>"
   ]
  },
  {
   "cell_type": "code",
   "execution_count": 2,
   "id": "150ab0c3",
   "metadata": {},
   "outputs": [],
   "source": [
    "from sklearn.metrics import confusion_matrix,     \\\n",
    "                            accuracy_score,       \\\n",
    "                            precision_score,      \\\n",
    "                            recall_score,         \\\n",
    "                            classification_report"
   ]
  },
  {
   "cell_type": "code",
   "execution_count": 3,
   "id": "0dbaac6e",
   "metadata": {},
   "outputs": [],
   "source": [
    "C = \"cat\"\n",
    "F = \"fish\"\n",
    "H = \"hen\""
   ]
  },
  {
   "cell_type": "markdown",
   "id": "d6df7cfe",
   "metadata": {},
   "source": [
    "![boaz_shmueli.png](boaz_shmueli.png)"
   ]
  },
  {
   "cell_type": "code",
   "execution_count": 4,
   "id": "b812bdd6",
   "metadata": {},
   "outputs": [],
   "source": [
    "y_true = [C for _ in range(6)] + [F for _ in range(10)] + [H for _ in range(9)]\n",
    "y_pred = [C for _ in range(4)] + [F, H] + \\\n",
    "         [C for _ in range(6)] + [F, F, H, H] + \\\n",
    "         [C for _ in range(3)] + [H for _ in range(6)]"
   ]
  },
  {
   "cell_type": "code",
   "execution_count": 5,
   "id": "2365bfc9",
   "metadata": {},
   "outputs": [
    {
     "data": {
      "text/plain": [
       "array([[4, 1, 1],\n",
       "       [6, 2, 2],\n",
       "       [3, 0, 6]])"
      ]
     },
     "execution_count": 5,
     "metadata": {},
     "output_type": "execute_result"
    }
   ],
   "source": [
    "# Note how sklearn and the figure above put truth and prediction differently\n",
    "confusion_matrix(y_true, y_pred)"
   ]
  },
  {
   "cell_type": "code",
   "execution_count": 6,
   "id": "91c71d87",
   "metadata": {},
   "outputs": [
    {
     "name": "stdout",
     "output_type": "stream",
     "text": [
      "              precision    recall  f1-score   support\n",
      "\n",
      "         cat      0.308     0.667     0.421         6\n",
      "        fish      0.667     0.200     0.308        10\n",
      "         hen      0.667     0.667     0.667         9\n",
      "\n",
      "    accuracy                          0.480        25\n",
      "   macro avg      0.547     0.511     0.465        25\n",
      "weighted avg      0.581     0.480     0.464        25\n",
      "\n"
     ]
    }
   ],
   "source": [
    "# Not formated for Jupyter Notebook output, so better use `print()`.\n",
    "print(classification_report(y_true, y_pred, digits=3))"
   ]
  },
  {
   "cell_type": "markdown",
   "id": "7a3207df",
   "metadata": {},
   "source": [
    "## `precision`, `recall`\n",
    "Take `fish` for example."
   ]
  },
  {
   "cell_type": "code",
   "execution_count": 7,
   "id": "397ce806",
   "metadata": {},
   "outputs": [
    {
     "data": {
      "text/plain": [
       "0.6666666666666666"
      ]
     },
     "execution_count": 7,
     "metadata": {},
     "output_type": "execute_result"
    }
   ],
   "source": [
    "# precision\n",
    "2 / (1+2+0)"
   ]
  },
  {
   "cell_type": "code",
   "execution_count": 8,
   "id": "4a6a33ad",
   "metadata": {},
   "outputs": [
    {
     "data": {
      "text/plain": [
       "0.2"
      ]
     },
     "execution_count": 8,
     "metadata": {},
     "output_type": "execute_result"
    }
   ],
   "source": [
    "# recall\n",
    "2 / (6+2+2)"
   ]
  },
  {
   "cell_type": "markdown",
   "id": "f6a1fc6c",
   "metadata": {},
   "source": [
    "## `accuracy` Equals `0.480`\n",
    "Where comes this number?"
   ]
  },
  {
   "cell_type": "code",
   "execution_count": 20,
   "id": "3ef21fee",
   "metadata": {},
   "outputs": [],
   "source": [
    "import numpy as np"
   ]
  },
  {
   "cell_type": "code",
   "execution_count": 33,
   "id": "74dda436",
   "metadata": {},
   "outputs": [],
   "source": [
    "EPSILON = 1e-6"
   ]
  },
  {
   "cell_type": "code",
   "execution_count": 37,
   "id": "d63c1550",
   "metadata": {},
   "outputs": [
    {
     "data": {
      "text/plain": [
       "array([0.42140675, 0.30772744, 0.6669995 ])"
      ]
     },
     "execution_count": 37,
     "metadata": {},
     "output_type": "execute_result"
    }
   ],
   "source": [
    "precisions = [0.308, 0.667, 0.667]\n",
    "recalls = [0.667, 0.200, 0.667]\n",
    "support = [6, 10, 9]\n",
    "precisions = np.array(precisions)\n",
    "recalls = np.array(recalls)\n",
    "support = np.array(support)\n",
    "f1s = 2 * (precisions * recalls) / (precisions + recalls + EPSILON)\n",
    "f1s"
   ]
  },
  {
   "cell_type": "markdown",
   "id": "7fe527cb",
   "metadata": {},
   "source": [
    "## `micro avg`?"
   ]
  },
  {
   "cell_type": "markdown",
   "id": "b680252a",
   "metadata": {},
   "source": [
    "## `macro avg`\n",
    "This is just normal average."
   ]
  },
  {
   "cell_type": "code",
   "execution_count": 13,
   "id": "0fff2448",
   "metadata": {},
   "outputs": [
    {
     "data": {
      "text/plain": [
       "0.5473333333333333"
      ]
     },
     "execution_count": 13,
     "metadata": {},
     "output_type": "execute_result"
    }
   ],
   "source": [
    "(0.308 + 0.667*2) / 3"
   ]
  },
  {
   "cell_type": "code",
   "execution_count": 26,
   "id": "0736078d",
   "metadata": {},
   "outputs": [
    {
     "data": {
      "text/plain": [
       "0.5473333333333333"
      ]
     },
     "execution_count": 26,
     "metadata": {},
     "output_type": "execute_result"
    }
   ],
   "source": [
    "np.sum(precisions) / len(precisions)"
   ]
  },
  {
   "cell_type": "code",
   "execution_count": 14,
   "id": "e844e484",
   "metadata": {},
   "outputs": [
    {
     "data": {
      "text/plain": [
       "0.5113333333333333"
      ]
     },
     "execution_count": 14,
     "metadata": {},
     "output_type": "execute_result"
    }
   ],
   "source": [
    "(0.667*2 + 0.2) / 3"
   ]
  },
  {
   "cell_type": "code",
   "execution_count": 27,
   "id": "455cdb6b",
   "metadata": {},
   "outputs": [
    {
     "data": {
      "text/plain": [
       "0.5113333333333333"
      ]
     },
     "execution_count": 27,
     "metadata": {},
     "output_type": "execute_result"
    }
   ],
   "source": [
    "np.sum(recalls) / len(recalls)"
   ]
  },
  {
   "cell_type": "code",
   "execution_count": 39,
   "id": "3f14dce0",
   "metadata": {},
   "outputs": [
    {
     "data": {
      "text/plain": [
       "0.46537789644768224"
      ]
     },
     "execution_count": 39,
     "metadata": {},
     "output_type": "execute_result"
    }
   ],
   "source": [
    "np.sum(f1s) / len(f1s)"
   ]
  },
  {
   "cell_type": "markdown",
   "id": "c37b325b",
   "metadata": {},
   "source": [
    "## `weighted avg`\n",
    "Weighted average must be calculated based on the `support`, which is just the number of occurrances of each class in `y_true`. (In this particular case, six cats, ten fishes and nine hens.)\n",
    "\n",
    "Let's verify the numerical value of `weighted avg`'s."
   ]
  },
  {
   "cell_type": "code",
   "execution_count": 24,
   "id": "bd354c27",
   "metadata": {},
   "outputs": [
    {
     "data": {
      "text/plain": [
       "0.58084"
      ]
     },
     "execution_count": 24,
     "metadata": {},
     "output_type": "execute_result"
    }
   ],
   "source": [
    "# This should give the weighted avg for precision\n",
    "np.dot(precisions, support / np.sum(support))"
   ]
  },
  {
   "cell_type": "code",
   "execution_count": 25,
   "id": "7196d531",
   "metadata": {},
   "outputs": [
    {
     "data": {
      "text/plain": [
       "0.4802"
      ]
     },
     "execution_count": 25,
     "metadata": {},
     "output_type": "execute_result"
    }
   ],
   "source": [
    "# This should give the weighted avg for recall\n",
    "np.dot(recalls, support / np.sum(support))"
   ]
  },
  {
   "cell_type": "code",
   "execution_count": 35,
   "id": "11ad752e",
   "metadata": {},
   "outputs": [
    {
     "data": {
      "text/plain": [
       "0.4643484161731828"
      ]
     },
     "execution_count": 35,
     "metadata": {},
     "output_type": "execute_result"
    }
   ],
   "source": [
    "np.dot(f1s, support / np.sum(support))"
   ]
  }
 ],
 "metadata": {
  "kernelspec": {
   "display_name": "Python 3",
   "language": "python",
   "name": "python3"
  },
  "language_info": {
   "codemirror_mode": {
    "name": "ipython",
    "version": 3
   },
   "file_extension": ".py",
   "mimetype": "text/x-python",
   "name": "python",
   "nbconvert_exporter": "python",
   "pygments_lexer": "ipython3",
   "version": "3.7.7"
  }
 },
 "nbformat": 4,
 "nbformat_minor": 5
}
