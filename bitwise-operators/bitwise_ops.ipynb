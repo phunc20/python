{
 "cells": [
  {
   "cell_type": "code",
   "execution_count": 1,
   "id": "26887f44",
   "metadata": {},
   "outputs": [
    {
     "data": {
      "text/plain": [
       "[8364, 117, 114, 111]"
      ]
     },
     "execution_count": 1,
     "metadata": {},
     "output_type": "execute_result"
    }
   ],
   "source": [
    "[ord(character) for character in \"€uro\"]"
   ]
  },
  {
   "cell_type": "code",
   "execution_count": 7,
   "id": "7e8de0a7",
   "metadata": {
    "scrolled": true
   },
   "outputs": [
    {
     "name": "stdout",
     "output_type": "stream",
     "text": [
      "€       8364       10000010101100\n",
      "u        117              1110101\n",
      "r        114              1110010\n",
      "o        111              1101111\n"
     ]
    }
   ],
   "source": [
    "for character in \"€uro\":\n",
    "    decimal_code_pt = ord(character)\n",
    "    #binary_code_pt = bin(decimal_code_pt)[2:]\n",
    "    print(f\"{character} {decimal_code_pt:10d} {decimal_code_pt:20b}\")"
   ]
  },
  {
   "cell_type": "code",
   "execution_count": 12,
   "id": "590e80c6",
   "metadata": {},
   "outputs": [
    {
     "name": "stdout",
     "output_type": "stream",
     "text": [
      "€  8364  0010000010101100\n",
      "u   117  0000000001110101\n",
      "r   114  0000000001110010\n",
      "o   111  0000000001101111\n"
     ]
    }
   ],
   "source": [
    "for character in \"€uro\":\n",
    "    decimal_code_pt = ord(character)\n",
    "    print(f\"{character}  {decimal_code_pt:4d}  {decimal_code_pt:016b}\")"
   ]
  },
  {
   "cell_type": "code",
   "execution_count": 13,
   "id": "d6f3be30",
   "metadata": {},
   "outputs": [
    {
     "data": {
      "text/plain": [
       "b'\\xe2\\x82\\xacuro'"
      ]
     },
     "execution_count": 13,
     "metadata": {},
     "output_type": "execute_result"
    }
   ],
   "source": [
    "\"€uro\".encode(\"utf-8\")"
   ]
  },
  {
   "cell_type": "code",
   "execution_count": 14,
   "id": "695aebe5",
   "metadata": {},
   "outputs": [
    {
     "data": {
      "text/plain": [
       "bytes"
      ]
     },
     "execution_count": 14,
     "metadata": {},
     "output_type": "execute_result"
    }
   ],
   "source": [
    "type(\"€uro\".encode(\"utf-8\"))"
   ]
  },
  {
   "cell_type": "markdown",
   "id": "6243a19a",
   "metadata": {},
   "source": [
    "In UTF-8, the string `\"€uro\"` takes `3, 1, 1, 1` bytes to store for `\"€\", \"u\", \"r\", \"o\"`, resp. Indeed, this can be verified by the next cell:"
   ]
  },
  {
   "cell_type": "code",
   "execution_count": 15,
   "id": "2c088d03",
   "metadata": {},
   "outputs": [
    {
     "name": "stdout",
     "output_type": "stream",
     "text": [
      "€ 3\n",
      "u 1\n",
      "r 1\n",
      "o 1\n"
     ]
    }
   ],
   "source": [
    "for character in \"€uro\":\n",
    "    print(character, len(character.encode(\"utf-8\")))"
   ]
  },
  {
   "cell_type": "markdown",
   "id": "ac1e7328",
   "metadata": {},
   "source": [
    "Note that `\"€\"` cannot be encoded in `\"ascii\"`.\n",
    "```python\n",
    "for character in \"€uro\":\n",
    "    print(character, len(character.encode(\"ascii\")))\n",
    "```\n",
    "<br>\n",
    "\n",
    "```\n",
    "UnicodeEncodeError: 'ascii' codec can't encode character '\\u20ac' in position 0: ordinal not in range(128)\n",
    "```"
   ]
  },
  {
   "cell_type": "markdown",
   "id": "31486bc3",
   "metadata": {},
   "source": [
    "## Left Shift `<<`\n",
    "`a << n` is like `a * (2**n)` for all non-negative integers `n`.\n",
    "- Don’t use the bit shift operators as a means of premature optimization in Python. You won’t see a difference in execution speed, but you’ll most definitely make your code less readable. This is because most compilers and interpreters today, including Python's, are quite capable of optimizing your code behind the scenes."
   ]
  },
  {
   "cell_type": "code",
   "execution_count": 18,
   "id": "ac58d45d",
   "metadata": {},
   "outputs": [],
   "source": [
    "import random"
   ]
  },
  {
   "cell_type": "markdown",
   "id": "b0c5975f",
   "metadata": {},
   "source": [
    "**(?)** What about left shift for negative integers?"
   ]
  },
  {
   "cell_type": "code",
   "execution_count": 59,
   "id": "c6ebba6a",
   "metadata": {},
   "outputs": [
    {
     "data": {
      "text/plain": [
       "[-13, -26, -52, -104, -208, -416, -832, -1664, -3328, -6656]"
      ]
     },
     "execution_count": 59,
     "metadata": {},
     "output_type": "execute_result"
    }
   ],
   "source": [
    "[-0b1101 << n for n in range(10)]"
   ]
  },
  {
   "cell_type": "markdown",
   "id": "4075f151",
   "metadata": {},
   "source": [
    "**Note**.\n",
    "Expressions like `0b1101` are not two-complement. They can only express non-negative integers; at most we can add a minus sign in the front to negate."
   ]
  },
  {
   "cell_type": "code",
   "execution_count": 1,
   "id": "90549204",
   "metadata": {},
   "outputs": [
    {
     "data": {
      "text/plain": [
       "255"
      ]
     },
     "execution_count": 1,
     "metadata": {},
     "output_type": "execute_result"
    }
   ],
   "source": [
    "0b11111111"
   ]
  },
  {
   "cell_type": "code",
   "execution_count": 2,
   "id": "d72f58ab",
   "metadata": {},
   "outputs": [
    {
     "data": {
      "text/plain": [
       "-127"
      ]
     },
     "execution_count": 2,
     "metadata": {},
     "output_type": "execute_result"
    }
   ],
   "source": [
    "-0b1111111"
   ]
  },
  {
   "cell_type": "code",
   "execution_count": 7,
   "id": "52d28b92",
   "metadata": {},
   "outputs": [
    {
     "data": {
      "text/plain": [
       "-128"
      ]
     },
     "execution_count": 7,
     "metadata": {},
     "output_type": "execute_result"
    }
   ],
   "source": [
    "-0b10000000"
   ]
  },
  {
   "cell_type": "markdown",
   "id": "857a81fb",
   "metadata": {},
   "source": [
    "## Right Shift `>>`\n",
    "`a >> n` is like `a // (2**n)` for all non-negative integers `n`."
   ]
  },
  {
   "cell_type": "raw",
   "id": "e3061bf9",
   "metadata": {
    "scrolled": false
   },
   "source": [
    "dir(random)"
   ]
  },
  {
   "cell_type": "raw",
   "id": "33cb81d8",
   "metadata": {},
   "source": [
    "random.sample?"
   ]
  },
  {
   "cell_type": "raw",
   "id": "50f20403",
   "metadata": {},
   "source": [
    "random.randint?"
   ]
  },
  {
   "cell_type": "raw",
   "id": "1b60b883",
   "metadata": {},
   "source": [
    "random.randrange?"
   ]
  },
  {
   "cell_type": "code",
   "execution_count": 57,
   "id": "210dfa7f",
   "metadata": {
    "scrolled": true
   },
   "outputs": [
    {
     "data": {
      "text/plain": [
       "[55,\n",
       " 200,\n",
       " 56,\n",
       " 242,\n",
       " 219,\n",
       " 201,\n",
       " 63,\n",
       " 1,\n",
       " 156,\n",
       " 231,\n",
       " 137,\n",
       " 62,\n",
       " 25,\n",
       " 67,\n",
       " 94,\n",
       " 41,\n",
       " 249,\n",
       " 125,\n",
       " 136,\n",
       " 235,\n",
       " 196,\n",
       " 203,\n",
       " 3,\n",
       " 53,\n",
       " 79,\n",
       " 98,\n",
       " 255,\n",
       " 204,\n",
       " 50,\n",
       " 188,\n",
       " 225,\n",
       " 46,\n",
       " 131,\n",
       " 113,\n",
       " 252,\n",
       " 162,\n",
       " 39,\n",
       " 205,\n",
       " 93,\n",
       " 106,\n",
       " 81,\n",
       " 103,\n",
       " 141,\n",
       " 100,\n",
       " 105,\n",
       " 194,\n",
       " 237,\n",
       " 8,\n",
       " 191,\n",
       " 168,\n",
       " 85,\n",
       " 213,\n",
       " 10,\n",
       " 208,\n",
       " 12,\n",
       " 183,\n",
       " 92,\n",
       " 142,\n",
       " 147,\n",
       " 206,\n",
       " 89,\n",
       " 179,\n",
       " 192,\n",
       " 229,\n",
       " 139,\n",
       " 29,\n",
       " 83,\n",
       " 120,\n",
       " 95,\n",
       " 13,\n",
       " 23,\n",
       " 80,\n",
       " 69,\n",
       " 253,\n",
       " 175,\n",
       " 207,\n",
       " 176,\n",
       " 218,\n",
       " 116,\n",
       " 138,\n",
       " 27,\n",
       " 143,\n",
       " 220,\n",
       " 250,\n",
       " 123,\n",
       " 177,\n",
       " 158,\n",
       " 70,\n",
       " 169,\n",
       " 181,\n",
       " 72,\n",
       " 135,\n",
       " 133,\n",
       " 190,\n",
       " 88,\n",
       " 173,\n",
       " 75,\n",
       " 254,\n",
       " 109,\n",
       " 104,\n",
       " 185,\n",
       " 152,\n",
       " 154,\n",
       " 87,\n",
       " 64,\n",
       " 28,\n",
       " 170,\n",
       " 155,\n",
       " 9,\n",
       " 0,\n",
       " 247,\n",
       " 217,\n",
       " 216,\n",
       " 36,\n",
       " 101,\n",
       " 212,\n",
       " 157,\n",
       " 245,\n",
       " 199,\n",
       " 74,\n",
       " 184,\n",
       " 178,\n",
       " 60,\n",
       " 102,\n",
       " 182,\n",
       " 127,\n",
       " 130,\n",
       " 108,\n",
       " 110,\n",
       " 224,\n",
       " 77,\n",
       " 246,\n",
       " 222,\n",
       " 45,\n",
       " 124,\n",
       " 76,\n",
       " 5,\n",
       " 21,\n",
       " 84,\n",
       " 160,\n",
       " 35,\n",
       " 198,\n",
       " 99,\n",
       " 132,\n",
       " 16,\n",
       " 149,\n",
       " 112,\n",
       " 71,\n",
       " 186,\n",
       " 174,\n",
       " 54,\n",
       " 148,\n",
       " 145,\n",
       " 48,\n",
       " 211,\n",
       " 34,\n",
       " 65,\n",
       " 251,\n",
       " 78,\n",
       " 82,\n",
       " 107,\n",
       " 221,\n",
       " 96,\n",
       " 227,\n",
       " 172,\n",
       " 230,\n",
       " 49,\n",
       " 20,\n",
       " 236,\n",
       " 66,\n",
       " 129,\n",
       " 51,\n",
       " 166,\n",
       " 42,\n",
       " 68,\n",
       " 7,\n",
       " 47,\n",
       " 26,\n",
       " 243,\n",
       " 11,\n",
       " 126,\n",
       " 234,\n",
       " 238,\n",
       " 197,\n",
       " 73,\n",
       " 44,\n",
       " 193,\n",
       " 14,\n",
       " 187,\n",
       " 223,\n",
       " 146,\n",
       " 161,\n",
       " 244,\n",
       " 32,\n",
       " 18,\n",
       " 30,\n",
       " 91,\n",
       " 19,\n",
       " 58,\n",
       " 134,\n",
       " 232,\n",
       " 114,\n",
       " 210,\n",
       " 59,\n",
       " 150,\n",
       " 209,\n",
       " 121,\n",
       " 226,\n",
       " 215,\n",
       " 90,\n",
       " 164,\n",
       " 163,\n",
       " 24,\n",
       " 4,\n",
       " 159,\n",
       " 97,\n",
       " 115,\n",
       " 167,\n",
       " 38,\n",
       " 22,\n",
       " 33,\n",
       " 140,\n",
       " 118,\n",
       " 17,\n",
       " 52,\n",
       " 233,\n",
       " 6,\n",
       " 151,\n",
       " 228,\n",
       " 43,\n",
       " 37,\n",
       " 189,\n",
       " 240,\n",
       " 214,\n",
       " 15,\n",
       " 165,\n",
       " 171,\n",
       " 111,\n",
       " 195,\n",
       " 117,\n",
       " 239,\n",
       " 144,\n",
       " 57,\n",
       " 122,\n",
       " 153,\n",
       " 61,\n",
       " 31,\n",
       " 2,\n",
       " 86,\n",
       " 241,\n",
       " 119,\n",
       " 180,\n",
       " 202,\n",
       " 248,\n",
       " 40,\n",
       " 128]"
      ]
     },
     "execution_count": 57,
     "metadata": {},
     "output_type": "execute_result"
    }
   ],
   "source": [
    "random.sample(range(2**8), 2**8)"
   ]
  },
  {
   "cell_type": "code",
   "execution_count": 43,
   "id": "cb67ab78",
   "metadata": {},
   "outputs": [],
   "source": [
    "random.seed(42)\n",
    "for a in random.sample(range(2**8), 2**8):\n",
    "    for n in random.sample(range(2**8), 2**8):\n",
    "        left_shift = a >> n\n",
    "        divide_by_power = a // (2**n)\n",
    "        if left_shift != divide_by_power:\n",
    "            print(f\"{a} >> {n} Not equal to {a} // (2**{n})\")"
   ]
  },
  {
   "cell_type": "code",
   "execution_count": 44,
   "id": "ba9a8ef7",
   "metadata": {},
   "outputs": [
    {
     "data": {
      "text/plain": [
       "generator"
      ]
     },
     "execution_count": 44,
     "metadata": {},
     "output_type": "execute_result"
    }
   ],
   "source": [
    "type((i for i in range(10)))"
   ]
  },
  {
   "cell_type": "code",
   "execution_count": 31,
   "id": "8512bc33",
   "metadata": {},
   "outputs": [
    {
     "name": "stdout",
     "output_type": "stream",
     "text": [
      "2 >>  0 equals 2\n",
      "2 >>  1 equals 1\n",
      "2 >>  2 equals 0\n",
      "2 >>  3 equals 0\n",
      "2 >>  4 equals 0\n",
      "2 >>  5 equals 0\n",
      "2 >>  6 equals 0\n",
      "2 >>  7 equals 0\n",
      "2 >>  8 equals 0\n",
      "2 >>  9 equals 0\n",
      "2 >> 10 equals 0\n",
      "2 >> 11 equals 0\n",
      "2 >> 12 equals 0\n",
      "2 >> 13 equals 0\n",
      "2 >> 14 equals 0\n",
      "2 >> 15 equals 0\n",
      "2 >> 16 equals 0\n"
     ]
    }
   ],
   "source": [
    "for n in range(17):\n",
    "    print(f\"2 >> {n:2d} equals {2 >> n}\")"
   ]
  },
  {
   "cell_type": "code",
   "execution_count": 36,
   "id": "3f81657d",
   "metadata": {},
   "outputs": [
    {
     "name": "stdout",
     "output_type": "stream",
     "text": [
      "-2 >>  0 equals -2\n",
      "-2 >>  1 equals -1\n",
      "-2 >>  2 equals -1\n",
      "-2 >>  3 equals -1\n",
      "-2 >>  4 equals -1\n",
      "-2 >>  5 equals -1\n",
      "-2 >>  6 equals -1\n",
      "-2 >>  7 equals -1\n",
      "-2 >>  8 equals -1\n",
      "-2 >>  9 equals -1\n",
      "-2 >> 10 equals -1\n",
      "-2 >> 11 equals -1\n",
      "-2 >> 12 equals -1\n",
      "-2 >> 13 equals -1\n",
      "-2 >> 14 equals -1\n",
      "-2 >> 15 equals -1\n",
      "-2 >> 16 equals -1\n",
      "-2 >> 17 equals -1\n",
      "-2 >> 18 equals -1\n",
      "-2 >> 19 equals -1\n",
      "-2 >> 20 equals -1\n",
      "-2 >> 21 equals -1\n",
      "-2 >> 22 equals -1\n",
      "-2 >> 23 equals -1\n",
      "-2 >> 24 equals -1\n",
      "-2 >> 25 equals -1\n",
      "-2 >> 26 equals -1\n",
      "-2 >> 27 equals -1\n",
      "-2 >> 28 equals -1\n",
      "-2 >> 29 equals -1\n",
      "-2 >> 30 equals -1\n",
      "-2 >> 31 equals -1\n",
      "-2 >> 32 equals -1\n"
     ]
    }
   ],
   "source": [
    "for n in range(33):\n",
    "    print(f\"-2 >> {n:2d} equals {-2 >> n}\")"
   ]
  },
  {
   "cell_type": "markdown",
   "id": "609b7f48",
   "metadata": {},
   "source": [
    "**(?)** Why are the previous cell's results always `-1`?"
   ]
  },
  {
   "cell_type": "markdown",
   "id": "9ec53f8d",
   "metadata": {},
   "source": [
    "### Arithmetic and Logical Shift\n",
    "**Definition**.\n",
    "- **logical shift**, aka _unsigned right shift_ or _zero-fill right shift_, moves the entire binary sequence, including the sign bit to the right and fills the resulting vacancies on the leftmost positions with zeros\n",
    "  - Since the leftmost bit is always replaced by a zero in a logical shift, the result is always **non-negative**\n",
    "  - ![](figs/rshift_logical.5ee25943b1a4.gif)\n",
    "- **arithmetic shift**, aka _signed right shift_, shifts all bits to the right, the vacancies being replaced by zeros except at the leading bit which maintains the sign bit's value.\n",
    "  - ![](figs/rshift_arithmetic.990b7e40923a.gif)\n",
    "\n",
    "| decimal | binary |\n",
    "| ------- | ------ |\n",
    "| `-100` | `10011100` |\n",
    "| `28`  |  `00011100` |\n",
    "\n",
    "**(?)** Quick quiz: Whose bitwise NOT equals `-100`?\n",
    "\n",
    "\n",
    "<br>\n",
    "<br>\n",
    "\n",
    "01. only arithmetic shift\n",
    "  - Python\n",
    "02. both logical and arithmetic shift\n",
    "  - Java\n",
    "  - Javascript\n",
    "  - Julia\n",
    "  \n",
    "Because I hardly use Java or Javascript, let's use Julia to compare with Python."
   ]
  },
  {
   "cell_type": "code",
   "execution_count": 15,
   "id": "eb3194fe",
   "metadata": {},
   "outputs": [
    {
     "data": {
      "text/plain": [
       "-50"
      ]
     },
     "execution_count": 15,
     "metadata": {},
     "output_type": "execute_result"
    }
   ],
   "source": [
    "-100 >> 1"
   ]
  },
  {
   "cell_type": "code",
   "execution_count": 16,
   "id": "89deb504",
   "metadata": {
    "scrolled": true
   },
   "outputs": [
    {
     "name": "stdout",
     "output_type": "stream",
     "text": [
      "9223372036854775758\r\n"
     ]
    }
   ],
   "source": [
    "!julia -e \"println(-100 >>> 1)\""
   ]
  },
  {
   "cell_type": "code",
   "execution_count": 20,
   "id": "479d7d21",
   "metadata": {
    "scrolled": true
   },
   "outputs": [
    {
     "name": "stdout",
     "output_type": "stream",
     "text": [
      "Int64\r\n"
     ]
    }
   ],
   "source": [
    "!julia -e \"println(typeof(-100))\""
   ]
  },
  {
   "cell_type": "code",
   "execution_count": 19,
   "id": "51fc0f26",
   "metadata": {
    "scrolled": true
   },
   "outputs": [
    {
     "name": "stdout",
     "output_type": "stream",
     "text": [
      "2147483598\r\n"
     ]
    }
   ],
   "source": [
    "!julia -e \"println(Int32(-100) >>> 1)\""
   ]
  },
  {
   "cell_type": "code",
   "execution_count": 22,
   "id": "5f7d296e",
   "metadata": {
    "scrolled": true
   },
   "outputs": [
    {
     "name": "stdout",
     "output_type": "stream",
     "text": [
      "2147483647\r\n",
      "-2147483648\r\n"
     ]
    }
   ],
   "source": [
    "!julia -e \"println(typemax(Int32), \\\"\\n\\\", typemin(Int32))\""
   ]
  },
  {
   "cell_type": "code",
   "execution_count": 23,
   "id": "684967d5",
   "metadata": {
    "scrolled": true
   },
   "outputs": [
    {
     "name": "stdout",
     "output_type": "stream",
     "text": [
      "-1100100\r\n"
     ]
    }
   ],
   "source": [
    "!julia -e \"println(string(Int32(-100), base=2))\""
   ]
  },
  {
   "cell_type": "code",
   "execution_count": 24,
   "id": "05c74290",
   "metadata": {
    "scrolled": true
   },
   "outputs": [
    {
     "name": "stdout",
     "output_type": "stream",
     "text": [
      "11111111111111111111111110011100\r\n"
     ]
    }
   ],
   "source": [
    "!julia -e \"println(bitstring(Int32(-100)))\""
   ]
  },
  {
   "cell_type": "code",
   "execution_count": 25,
   "id": "8e559e46",
   "metadata": {
    "scrolled": true
   },
   "outputs": [
    {
     "name": "stdout",
     "output_type": "stream",
     "text": [
      "32\r\n"
     ]
    }
   ],
   "source": [
    "!julia -e \"println(length(bitstring(Int32(-100))))\""
   ]
  },
  {
   "cell_type": "code",
   "execution_count": null,
   "id": "8edbc8b7",
   "metadata": {},
   "outputs": [],
   "source": [
    "from ctypes import c_uint32"
   ]
  },
  {
   "cell_type": "raw",
   "id": "9425d50a",
   "metadata": {},
   "source": [
    "c_uint32(-100) >> 1"
   ]
  },
  {
   "cell_type": "raw",
   "id": "09db0421",
   "metadata": {},
   "source": [
    "TypeError: unsupported operand type(s) for >>: 'c_uint' and 'int'"
   ]
  },
  {
   "cell_type": "code",
   "execution_count": 18,
   "id": "3af3b046",
   "metadata": {},
   "outputs": [
    {
     "data": {
      "text/plain": [
       "2147483598"
      ]
     },
     "execution_count": 18,
     "metadata": {},
     "output_type": "execute_result"
    }
   ],
   "source": [
    "# Oops: Forgot to use the attribute .value\n",
    "c_uint32(-100).value >> 1"
   ]
  },
  {
   "cell_type": "code",
   "execution_count": null,
   "id": "7bfaf12f",
   "metadata": {},
   "outputs": [],
   "source": []
  },
  {
   "cell_type": "code",
   "execution_count": 13,
   "id": "0633d092",
   "metadata": {},
   "outputs": [
    {
     "data": {
      "text/plain": [
       "33554432"
      ]
     },
     "execution_count": 13,
     "metadata": {},
     "output_type": "execute_result"
    }
   ],
   "source": [
    "2**32 >> 7"
   ]
  },
  {
   "cell_type": "code",
   "execution_count": 12,
   "id": "45801931",
   "metadata": {},
   "outputs": [
    {
     "name": "stdout",
     "output_type": "stream",
     "text": [
      "33554432\r\n"
     ]
    }
   ],
   "source": [
    "!julia -e \"println(2^32 >>> 7)\""
   ]
  },
  {
   "cell_type": "code",
   "execution_count": 14,
   "id": "80131881",
   "metadata": {},
   "outputs": [
    {
     "name": "stdout",
     "output_type": "stream",
     "text": [
      "33554432\r\n"
     ]
    }
   ],
   "source": [
    "!julia -e \"println(2^32 >> 7)\""
   ]
  },
  {
   "cell_type": "markdown",
   "id": "3f65da3f",
   "metadata": {},
   "source": [
    "## Bitwise NOT\n",
    "### Why `~156` Equals `-157` But Not `99` ?\n",
    "\n",
    "| decimal | binary |\n",
    "| ------- | ------ |\n",
    "| `156` | `0b10011100` |\n",
    "| `99`  | `0b01100011` |\n",
    "\n",
    "This might be able to be explained as follows:"
   ]
  },
  {
   "cell_type": "code",
   "execution_count": 8,
   "id": "7aa51800",
   "metadata": {},
   "outputs": [
    {
     "data": {
      "text/plain": [
       "-157"
      ]
     },
     "execution_count": 8,
     "metadata": {},
     "output_type": "execute_result"
    }
   ],
   "source": [
    "~156"
   ]
  },
  {
   "cell_type": "code",
   "execution_count": 1,
   "id": "006dcf65",
   "metadata": {},
   "outputs": [
    {
     "data": {
      "text/plain": [
       "99"
      ]
     },
     "execution_count": 1,
     "metadata": {},
     "output_type": "execute_result"
    }
   ],
   "source": [
    "~-100"
   ]
  },
  {
   "cell_type": "code",
   "execution_count": 7,
   "id": "58baf58d",
   "metadata": {},
   "outputs": [
    {
     "data": {
      "text/plain": [
       "(9, 10)"
      ]
     },
     "execution_count": 7,
     "metadata": {},
     "output_type": "execute_result"
    }
   ],
   "source": [
    "len(bin(~-100)), len(bin(-100))"
   ]
  },
  {
   "cell_type": "code",
   "execution_count": 6,
   "id": "dd96622f",
   "metadata": {},
   "outputs": [
    {
     "name": "stdout",
     "output_type": "stream",
     "text": [
      " 0b1100011\n",
      "-0b1100100\n"
     ]
    }
   ],
   "source": [
    "print(f\"{bin(~-100):>10}\")\n",
    "print(bin(-100))"
   ]
  },
  {
   "cell_type": "code",
   "execution_count": 17,
   "id": "c1e04ecf",
   "metadata": {},
   "outputs": [
    {
     "data": {
      "text/plain": [
       "99"
      ]
     },
     "execution_count": 17,
     "metadata": {},
     "output_type": "execute_result"
    }
   ],
   "source": [
    "0b01100011"
   ]
  },
  {
   "cell_type": "code",
   "execution_count": null,
   "id": "f3a08e41",
   "metadata": {},
   "outputs": [],
   "source": []
  }
 ],
 "metadata": {
  "kernelspec": {
   "display_name": "Python 3",
   "language": "python",
   "name": "python3"
  },
  "language_info": {
   "codemirror_mode": {
    "name": "ipython",
    "version": 3
   },
   "file_extension": ".py",
   "mimetype": "text/x-python",
   "name": "python",
   "nbconvert_exporter": "python",
   "pygments_lexer": "ipython3",
   "version": "3.6.13"
  }
 },
 "nbformat": 4,
 "nbformat_minor": 5
}
