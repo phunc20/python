{
 "cells": [
  {
   "cell_type": "code",
   "execution_count": 1,
   "metadata": {},
   "outputs": [
    {
     "data": {
      "text/plain": [
       "[8364, 117, 114, 111]"
      ]
     },
     "execution_count": 1,
     "metadata": {},
     "output_type": "execute_result"
    }
   ],
   "source": [
    "[ord(character) for character in \"€uro\"]"
   ]
  },
  {
   "cell_type": "code",
   "execution_count": 7,
   "metadata": {
    "scrolled": true
   },
   "outputs": [
    {
     "name": "stdout",
     "output_type": "stream",
     "text": [
      "€       8364       10000010101100\n",
      "u        117              1110101\n",
      "r        114              1110010\n",
      "o        111              1101111\n"
     ]
    }
   ],
   "source": [
    "for character in \"€uro\":\n",
    "    decimal_code_pt = ord(character)\n",
    "    #binary_code_pt = bin(decimal_code_pt)[2:]\n",
    "    print(f\"{character} {decimal_code_pt:10d} {decimal_code_pt:20b}\")"
   ]
  },
  {
   "cell_type": "code",
   "execution_count": 12,
   "metadata": {},
   "outputs": [
    {
     "name": "stdout",
     "output_type": "stream",
     "text": [
      "€  8364  0010000010101100\n",
      "u   117  0000000001110101\n",
      "r   114  0000000001110010\n",
      "o   111  0000000001101111\n"
     ]
    }
   ],
   "source": [
    "for character in \"€uro\":\n",
    "    decimal_code_pt = ord(character)\n",
    "    print(f\"{character}  {decimal_code_pt:4d}  {decimal_code_pt:016b}\")"
   ]
  },
  {
   "cell_type": "code",
   "execution_count": 13,
   "metadata": {},
   "outputs": [
    {
     "data": {
      "text/plain": [
       "b'\\xe2\\x82\\xacuro'"
      ]
     },
     "execution_count": 13,
     "metadata": {},
     "output_type": "execute_result"
    }
   ],
   "source": [
    "\"€uro\".encode(\"utf-8\")"
   ]
  },
  {
   "cell_type": "code",
   "execution_count": 14,
   "metadata": {},
   "outputs": [
    {
     "data": {
      "text/plain": [
       "bytes"
      ]
     },
     "execution_count": 14,
     "metadata": {},
     "output_type": "execute_result"
    }
   ],
   "source": [
    "type(\"€uro\".encode(\"utf-8\"))"
   ]
  },
  {
   "cell_type": "markdown",
   "metadata": {},
   "source": [
    "In UTF-8, the string `\"€uro\"` takes `3, 1, 1, 1` bytes to store for `\"€\", \"u\", \"r\", \"o\"`, resp. Indeed, this can be verified by the next cell:"
   ]
  },
  {
   "cell_type": "code",
   "execution_count": 15,
   "metadata": {},
   "outputs": [
    {
     "name": "stdout",
     "output_type": "stream",
     "text": [
      "€ 3\n",
      "u 1\n",
      "r 1\n",
      "o 1\n"
     ]
    }
   ],
   "source": [
    "for character in \"€uro\":\n",
    "    print(character, len(character.encode(\"utf-8\")))"
   ]
  },
  {
   "cell_type": "markdown",
   "metadata": {},
   "source": [
    "Note that `\"€\"` cannot be encoded in `\"ascii\"`.\n",
    "```python\n",
    "for character in \"€uro\":\n",
    "    print(character, len(character.encode(\"ascii\")))\n",
    "```\n",
    "<br>\n",
    "\n",
    "```\n",
    "UnicodeEncodeError: 'ascii' codec can't encode character '\\u20ac' in position 0: ordinal not in range(128)\n",
    "```"
   ]
  },
  {
   "cell_type": "markdown",
   "metadata": {},
   "source": [
    "## Left Shift `<<`\n",
    "`a << n` is like `a * (2**n)` for all non-negative integers `n`.\n",
    "- Don’t use the bit shift operators as a means of premature optimization in Python. You won’t see a difference in execution speed, but you’ll most definitely make your code less readable. This is because most compilers and interpreters today, including Python's, are quite capable of optimizing your code behind the scenes."
   ]
  },
  {
   "cell_type": "code",
   "execution_count": 18,
   "metadata": {},
   "outputs": [],
   "source": [
    "import random"
   ]
  },
  {
   "cell_type": "markdown",
   "metadata": {},
   "source": [
    "**(?)** What about left shift for negative integers?"
   ]
  },
  {
   "cell_type": "code",
   "execution_count": 59,
   "metadata": {},
   "outputs": [
    {
     "data": {
      "text/plain": [
       "[-13, -26, -52, -104, -208, -416, -832, -1664, -3328, -6656]"
      ]
     },
     "execution_count": 59,
     "metadata": {},
     "output_type": "execute_result"
    }
   ],
   "source": [
    "[-0b1101 << n for n in range(10)]"
   ]
  },
  {
   "cell_type": "markdown",
   "metadata": {},
   "source": [
    "**Note**.\n",
    "Expressions like `0b1101` are not two-complement. They can only express non-negative integers; at most we can add a minus sign in the front to negate."
   ]
  },
  {
   "cell_type": "code",
   "execution_count": 1,
   "metadata": {},
   "outputs": [
    {
     "data": {
      "text/plain": [
       "255"
      ]
     },
     "execution_count": 1,
     "metadata": {},
     "output_type": "execute_result"
    }
   ],
   "source": [
    "0b11111111"
   ]
  },
  {
   "cell_type": "code",
   "execution_count": 2,
   "metadata": {},
   "outputs": [
    {
     "data": {
      "text/plain": [
       "-127"
      ]
     },
     "execution_count": 2,
     "metadata": {},
     "output_type": "execute_result"
    }
   ],
   "source": [
    "-0b1111111"
   ]
  },
  {
   "cell_type": "code",
   "execution_count": 7,
   "metadata": {},
   "outputs": [
    {
     "data": {
      "text/plain": [
       "-128"
      ]
     },
     "execution_count": 7,
     "metadata": {},
     "output_type": "execute_result"
    }
   ],
   "source": [
    "-0b10000000"
   ]
  },
  {
   "cell_type": "markdown",
   "metadata": {},
   "source": [
    "## Right Shift `>>`\n",
    "`a >> n` is like `a // (2**n)` for all non-negative integers `n`."
   ]
  },
  {
   "cell_type": "raw",
   "metadata": {
    "scrolled": false
   },
   "source": [
    "dir(random)"
   ]
  },
  {
   "cell_type": "raw",
   "metadata": {},
   "source": [
    "random.sample?"
   ]
  },
  {
   "cell_type": "raw",
   "metadata": {},
   "source": [
    "random.randint?"
   ]
  },
  {
   "cell_type": "raw",
   "metadata": {},
   "source": [
    "random.randrange?"
   ]
  },
  {
   "cell_type": "code",
   "execution_count": 57,
   "metadata": {
    "scrolled": true
   },
   "outputs": [
    {
     "data": {
      "text/plain": [
       "[55,\n",
       " 200,\n",
       " 56,\n",
       " 242,\n",
       " 219,\n",
       " 201,\n",
       " 63,\n",
       " 1,\n",
       " 156,\n",
       " 231,\n",
       " 137,\n",
       " 62,\n",
       " 25,\n",
       " 67,\n",
       " 94,\n",
       " 41,\n",
       " 249,\n",
       " 125,\n",
       " 136,\n",
       " 235,\n",
       " 196,\n",
       " 203,\n",
       " 3,\n",
       " 53,\n",
       " 79,\n",
       " 98,\n",
       " 255,\n",
       " 204,\n",
       " 50,\n",
       " 188,\n",
       " 225,\n",
       " 46,\n",
       " 131,\n",
       " 113,\n",
       " 252,\n",
       " 162,\n",
       " 39,\n",
       " 205,\n",
       " 93,\n",
       " 106,\n",
       " 81,\n",
       " 103,\n",
       " 141,\n",
       " 100,\n",
       " 105,\n",
       " 194,\n",
       " 237,\n",
       " 8,\n",
       " 191,\n",
       " 168,\n",
       " 85,\n",
       " 213,\n",
       " 10,\n",
       " 208,\n",
       " 12,\n",
       " 183,\n",
       " 92,\n",
       " 142,\n",
       " 147,\n",
       " 206,\n",
       " 89,\n",
       " 179,\n",
       " 192,\n",
       " 229,\n",
       " 139,\n",
       " 29,\n",
       " 83,\n",
       " 120,\n",
       " 95,\n",
       " 13,\n",
       " 23,\n",
       " 80,\n",
       " 69,\n",
       " 253,\n",
       " 175,\n",
       " 207,\n",
       " 176,\n",
       " 218,\n",
       " 116,\n",
       " 138,\n",
       " 27,\n",
       " 143,\n",
       " 220,\n",
       " 250,\n",
       " 123,\n",
       " 177,\n",
       " 158,\n",
       " 70,\n",
       " 169,\n",
       " 181,\n",
       " 72,\n",
       " 135,\n",
       " 133,\n",
       " 190,\n",
       " 88,\n",
       " 173,\n",
       " 75,\n",
       " 254,\n",
       " 109,\n",
       " 104,\n",
       " 185,\n",
       " 152,\n",
       " 154,\n",
       " 87,\n",
       " 64,\n",
       " 28,\n",
       " 170,\n",
       " 155,\n",
       " 9,\n",
       " 0,\n",
       " 247,\n",
       " 217,\n",
       " 216,\n",
       " 36,\n",
       " 101,\n",
       " 212,\n",
       " 157,\n",
       " 245,\n",
       " 199,\n",
       " 74,\n",
       " 184,\n",
       " 178,\n",
       " 60,\n",
       " 102,\n",
       " 182,\n",
       " 127,\n",
       " 130,\n",
       " 108,\n",
       " 110,\n",
       " 224,\n",
       " 77,\n",
       " 246,\n",
       " 222,\n",
       " 45,\n",
       " 124,\n",
       " 76,\n",
       " 5,\n",
       " 21,\n",
       " 84,\n",
       " 160,\n",
       " 35,\n",
       " 198,\n",
       " 99,\n",
       " 132,\n",
       " 16,\n",
       " 149,\n",
       " 112,\n",
       " 71,\n",
       " 186,\n",
       " 174,\n",
       " 54,\n",
       " 148,\n",
       " 145,\n",
       " 48,\n",
       " 211,\n",
       " 34,\n",
       " 65,\n",
       " 251,\n",
       " 78,\n",
       " 82,\n",
       " 107,\n",
       " 221,\n",
       " 96,\n",
       " 227,\n",
       " 172,\n",
       " 230,\n",
       " 49,\n",
       " 20,\n",
       " 236,\n",
       " 66,\n",
       " 129,\n",
       " 51,\n",
       " 166,\n",
       " 42,\n",
       " 68,\n",
       " 7,\n",
       " 47,\n",
       " 26,\n",
       " 243,\n",
       " 11,\n",
       " 126,\n",
       " 234,\n",
       " 238,\n",
       " 197,\n",
       " 73,\n",
       " 44,\n",
       " 193,\n",
       " 14,\n",
       " 187,\n",
       " 223,\n",
       " 146,\n",
       " 161,\n",
       " 244,\n",
       " 32,\n",
       " 18,\n",
       " 30,\n",
       " 91,\n",
       " 19,\n",
       " 58,\n",
       " 134,\n",
       " 232,\n",
       " 114,\n",
       " 210,\n",
       " 59,\n",
       " 150,\n",
       " 209,\n",
       " 121,\n",
       " 226,\n",
       " 215,\n",
       " 90,\n",
       " 164,\n",
       " 163,\n",
       " 24,\n",
       " 4,\n",
       " 159,\n",
       " 97,\n",
       " 115,\n",
       " 167,\n",
       " 38,\n",
       " 22,\n",
       " 33,\n",
       " 140,\n",
       " 118,\n",
       " 17,\n",
       " 52,\n",
       " 233,\n",
       " 6,\n",
       " 151,\n",
       " 228,\n",
       " 43,\n",
       " 37,\n",
       " 189,\n",
       " 240,\n",
       " 214,\n",
       " 15,\n",
       " 165,\n",
       " 171,\n",
       " 111,\n",
       " 195,\n",
       " 117,\n",
       " 239,\n",
       " 144,\n",
       " 57,\n",
       " 122,\n",
       " 153,\n",
       " 61,\n",
       " 31,\n",
       " 2,\n",
       " 86,\n",
       " 241,\n",
       " 119,\n",
       " 180,\n",
       " 202,\n",
       " 248,\n",
       " 40,\n",
       " 128]"
      ]
     },
     "execution_count": 57,
     "metadata": {},
     "output_type": "execute_result"
    }
   ],
   "source": [
    "random.sample(range(2**8), 2**8)"
   ]
  },
  {
   "cell_type": "code",
   "execution_count": 43,
   "metadata": {},
   "outputs": [],
   "source": [
    "random.seed(42)\n",
    "for a in random.sample(range(2**8), 2**8):\n",
    "    for n in random.sample(range(2**8), 2**8):\n",
    "        left_shift = a >> n\n",
    "        divide_by_power = a // (2**n)\n",
    "        if left_shift != divide_by_power:\n",
    "            print(f\"{a} >> {n} Not equal to {a} // (2**{n})\")"
   ]
  },
  {
   "cell_type": "code",
   "execution_count": 44,
   "metadata": {},
   "outputs": [
    {
     "data": {
      "text/plain": [
       "generator"
      ]
     },
     "execution_count": 44,
     "metadata": {},
     "output_type": "execute_result"
    }
   ],
   "source": [
    "type((i for i in range(10)))"
   ]
  },
  {
   "cell_type": "code",
   "execution_count": 31,
   "metadata": {},
   "outputs": [
    {
     "name": "stdout",
     "output_type": "stream",
     "text": [
      "2 >>  0 equals 2\n",
      "2 >>  1 equals 1\n",
      "2 >>  2 equals 0\n",
      "2 >>  3 equals 0\n",
      "2 >>  4 equals 0\n",
      "2 >>  5 equals 0\n",
      "2 >>  6 equals 0\n",
      "2 >>  7 equals 0\n",
      "2 >>  8 equals 0\n",
      "2 >>  9 equals 0\n",
      "2 >> 10 equals 0\n",
      "2 >> 11 equals 0\n",
      "2 >> 12 equals 0\n",
      "2 >> 13 equals 0\n",
      "2 >> 14 equals 0\n",
      "2 >> 15 equals 0\n",
      "2 >> 16 equals 0\n"
     ]
    }
   ],
   "source": [
    "for n in range(17):\n",
    "    print(f\"2 >> {n:2d} equals {2 >> n}\")"
   ]
  },
  {
   "cell_type": "code",
   "execution_count": 36,
   "metadata": {},
   "outputs": [
    {
     "name": "stdout",
     "output_type": "stream",
     "text": [
      "-2 >>  0 equals -2\n",
      "-2 >>  1 equals -1\n",
      "-2 >>  2 equals -1\n",
      "-2 >>  3 equals -1\n",
      "-2 >>  4 equals -1\n",
      "-2 >>  5 equals -1\n",
      "-2 >>  6 equals -1\n",
      "-2 >>  7 equals -1\n",
      "-2 >>  8 equals -1\n",
      "-2 >>  9 equals -1\n",
      "-2 >> 10 equals -1\n",
      "-2 >> 11 equals -1\n",
      "-2 >> 12 equals -1\n",
      "-2 >> 13 equals -1\n",
      "-2 >> 14 equals -1\n",
      "-2 >> 15 equals -1\n",
      "-2 >> 16 equals -1\n",
      "-2 >> 17 equals -1\n",
      "-2 >> 18 equals -1\n",
      "-2 >> 19 equals -1\n",
      "-2 >> 20 equals -1\n",
      "-2 >> 21 equals -1\n",
      "-2 >> 22 equals -1\n",
      "-2 >> 23 equals -1\n",
      "-2 >> 24 equals -1\n",
      "-2 >> 25 equals -1\n",
      "-2 >> 26 equals -1\n",
      "-2 >> 27 equals -1\n",
      "-2 >> 28 equals -1\n",
      "-2 >> 29 equals -1\n",
      "-2 >> 30 equals -1\n",
      "-2 >> 31 equals -1\n",
      "-2 >> 32 equals -1\n"
     ]
    }
   ],
   "source": [
    "for n in range(33):\n",
    "    print(f\"-2 >> {n:2d} equals {-2 >> n}\")"
   ]
  },
  {
   "cell_type": "markdown",
   "metadata": {},
   "source": [
    "**(?)** Why are the previous cell's results always `-1`?"
   ]
  },
  {
   "cell_type": "markdown",
   "metadata": {},
   "source": [
    "### Arithmetic and Logical Shift\n",
    "**Definition**.\n",
    "- **logical shift**, aka _unsigned right shift_ or _zero-fill right shift_, moves the entire binary sequence, including the sign bit to the right and fills the resulting vacancies on the leftmost positions with zeros ![](figs/rshift_logical.5ee25943b1a4.gif)<br>\n",
    "  - Since the leftmost bit is always replaced by a zero in a logical shift, the result is always **non-negative** <br><br>\n",
    "- **arithmetic shift**, aka _signed right shift_, shifts all bits to the right, the vacancies being replaced by zeros except at the leading bit which maintains the sign bit's value. ![](figs/rshift_arithmetic.990b7e40923a.gif)\n",
    "\n",
    "| decimal | binary |\n",
    "| ------- | ------ |\n",
    "| `-100` | `10011100` |\n",
    "| `28`  |  `00011100` |\n",
    "\n",
    "**(?)** Quick quiz: Whose bitwise NOT equals `-100`?\n",
    "\n",
    "\n",
    "<br>\n",
    "<br>\n",
    "\n",
    "01. only arithmetic shift\n",
    "  - Python\n",
    "02. both logical and arithmetic shift\n",
    "  - Java\n",
    "  - Javascript\n",
    "  - Julia\n",
    "  \n",
    "Because I hardly use Java or Javascript, let's use Julia to compare with Python."
   ]
  },
  {
   "cell_type": "code",
   "execution_count": 15,
   "metadata": {},
   "outputs": [
    {
     "data": {
      "text/plain": [
       "-50"
      ]
     },
     "execution_count": 15,
     "metadata": {},
     "output_type": "execute_result"
    }
   ],
   "source": [
    "-100 >> 1"
   ]
  },
  {
   "cell_type": "code",
   "execution_count": 16,
   "metadata": {
    "scrolled": true
   },
   "outputs": [
    {
     "name": "stdout",
     "output_type": "stream",
     "text": [
      "9223372036854775758\r\n"
     ]
    }
   ],
   "source": [
    "!julia -e \"println(-100 >>> 1)\""
   ]
  },
  {
   "cell_type": "code",
   "execution_count": 20,
   "metadata": {
    "scrolled": true
   },
   "outputs": [
    {
     "name": "stdout",
     "output_type": "stream",
     "text": [
      "Int64\r\n"
     ]
    }
   ],
   "source": [
    "!julia -e \"println(typeof(-100))\""
   ]
  },
  {
   "cell_type": "code",
   "execution_count": 19,
   "metadata": {
    "scrolled": true
   },
   "outputs": [
    {
     "name": "stdout",
     "output_type": "stream",
     "text": [
      "2147483598\r\n"
     ]
    }
   ],
   "source": [
    "!julia -e \"println(Int32(-100) >>> 1)\""
   ]
  },
  {
   "cell_type": "markdown",
   "metadata": {},
   "source": [
    "Let's\n",
    "- explore a little bit\n",
    "- try to do the logical shift manually via string operation in Julia by ourselves"
   ]
  },
  {
   "cell_type": "code",
   "execution_count": 22,
   "metadata": {
    "scrolled": true
   },
   "outputs": [
    {
     "name": "stdout",
     "output_type": "stream",
     "text": [
      "2147483647\r\n",
      "-2147483648\r\n"
     ]
    }
   ],
   "source": [
    "!julia -e \"println(typemax(Int32), \\\"\\n\\\", typemin(Int32))\""
   ]
  },
  {
   "cell_type": "code",
   "execution_count": 23,
   "metadata": {
    "scrolled": true
   },
   "outputs": [
    {
     "name": "stdout",
     "output_type": "stream",
     "text": [
      "-1100100\r\n"
     ]
    }
   ],
   "source": [
    "!julia -e \"println(string(Int32(-100), base=2))\""
   ]
  },
  {
   "cell_type": "code",
   "execution_count": 24,
   "metadata": {
    "scrolled": true
   },
   "outputs": [
    {
     "name": "stdout",
     "output_type": "stream",
     "text": [
      "11111111111111111111111110011100\r\n"
     ]
    }
   ],
   "source": [
    "!julia -e \"println(bitstring(Int32(-100)))\""
   ]
  },
  {
   "cell_type": "code",
   "execution_count": 25,
   "metadata": {
    "scrolled": true
   },
   "outputs": [
    {
     "name": "stdout",
     "output_type": "stream",
     "text": [
      "32\r\n"
     ]
    }
   ],
   "source": [
    "!julia -e \"println(length(bitstring(Int32(-100))))\""
   ]
  },
  {
   "cell_type": "code",
   "execution_count": 30,
   "metadata": {},
   "outputs": [],
   "source": [
    "with open(\"logical_shift_manully.jl\", \"w\") as f:\n",
    "    f.write(\"\"\"\n",
    "a = Int32(-100)\n",
    "a_bstr = bitstring(a)\n",
    "shifted_bstr = \"0\" * a_bstr[1:end-1]\n",
    "shifted = parse(Int32, shifted_bstr; base=2)\n",
    "println(\"shifted           = $shifted\")\n",
    "println(\"Int32(-100) >>> 1 = $(Int32(-100) >>> 1)\")\n",
    "    \"\"\")"
   ]
  },
  {
   "cell_type": "code",
   "execution_count": 31,
   "metadata": {},
   "outputs": [
    {
     "name": "stdout",
     "output_type": "stream",
     "text": [
      "\r\n",
      "a = Int32(-100)\r\n",
      "a_bstr = bitstring(a)\r\n",
      "shifted_bstr = \"0\" * a_bstr[1:end-1]\r\n",
      "shifted = parse(Int32, shifted_bstr; base=2)\r\n",
      "println(\"shifted           = $shifted\")\r\n",
      "println(\"Int32(-100) >>> 1 = $(Int32(-100) >>> 1)\")\r\n",
      "    "
     ]
    }
   ],
   "source": [
    "!cat logical_shift_manully.jl"
   ]
  },
  {
   "cell_type": "code",
   "execution_count": 32,
   "metadata": {},
   "outputs": [
    {
     "name": "stdout",
     "output_type": "stream",
     "text": [
      "shifted           = 2147483598\n",
      "Int32(-100) >>> 1 = 2147483598\n"
     ]
    }
   ],
   "source": [
    "!julia logical_shift_manully.jl"
   ]
  },
  {
   "cell_type": "markdown",
   "metadata": {},
   "source": [
    "Great. We have in some sense verified logical right shift."
   ]
  },
  {
   "cell_type": "code",
   "execution_count": null,
   "metadata": {},
   "outputs": [],
   "source": [
    "from ctypes import c_uint32"
   ]
  },
  {
   "cell_type": "raw",
   "metadata": {},
   "source": [
    "c_uint32(-100) >> 1"
   ]
  },
  {
   "cell_type": "raw",
   "metadata": {},
   "source": [
    "TypeError: unsupported operand type(s) for >>: 'c_uint' and 'int'"
   ]
  },
  {
   "cell_type": "code",
   "execution_count": null,
   "metadata": {},
   "outputs": [],
   "source": [
    "c_uint32(-100)"
   ]
  },
  {
   "cell_type": "code",
   "execution_count": null,
   "metadata": {},
   "outputs": [],
   "source": [
    "c_uint32(-100).value"
   ]
  },
  {
   "cell_type": "code",
   "execution_count": 18,
   "metadata": {},
   "outputs": [
    {
     "data": {
      "text/plain": [
       "2147483598"
      ]
     },
     "execution_count": 18,
     "metadata": {},
     "output_type": "execute_result"
    }
   ],
   "source": [
    "# Oops: Forgot to use the attribute .value\n",
    "c_uint32(-100).value >> 1"
   ]
  },
  {
   "cell_type": "code",
   "execution_count": null,
   "metadata": {},
   "outputs": [],
   "source": []
  },
  {
   "cell_type": "code",
   "execution_count": 13,
   "metadata": {},
   "outputs": [
    {
     "data": {
      "text/plain": [
       "33554432"
      ]
     },
     "execution_count": 13,
     "metadata": {},
     "output_type": "execute_result"
    }
   ],
   "source": [
    "2**32 >> 7"
   ]
  },
  {
   "cell_type": "code",
   "execution_count": 12,
   "metadata": {},
   "outputs": [
    {
     "name": "stdout",
     "output_type": "stream",
     "text": [
      "33554432\r\n"
     ]
    }
   ],
   "source": [
    "!julia -e \"println(2^32 >>> 7)\""
   ]
  },
  {
   "cell_type": "code",
   "execution_count": 14,
   "metadata": {},
   "outputs": [
    {
     "name": "stdout",
     "output_type": "stream",
     "text": [
      "33554432\r\n"
     ]
    }
   ],
   "source": [
    "!julia -e \"println(2^32 >> 7)\""
   ]
  },
  {
   "cell_type": "markdown",
   "metadata": {},
   "source": [
    "## Bitwise NOT\n",
    "### Why `~156` Equals `-157` But Not `99` ?\n",
    "\n",
    "| decimal | binary |\n",
    "| ------- | ------ |\n",
    "| `156` | `0b10011100` |\n",
    "| `99`  | `0b01100011` |\n",
    "\n",
    "This might be able to be explained as follows:"
   ]
  },
  {
   "cell_type": "code",
   "execution_count": 8,
   "metadata": {},
   "outputs": [
    {
     "data": {
      "text/plain": [
       "-157"
      ]
     },
     "execution_count": 8,
     "metadata": {},
     "output_type": "execute_result"
    }
   ],
   "source": [
    "~156"
   ]
  },
  {
   "cell_type": "code",
   "execution_count": 1,
   "metadata": {},
   "outputs": [
    {
     "data": {
      "text/plain": [
       "99"
      ]
     },
     "execution_count": 1,
     "metadata": {},
     "output_type": "execute_result"
    }
   ],
   "source": [
    "~-100"
   ]
  },
  {
   "cell_type": "code",
   "execution_count": 7,
   "metadata": {},
   "outputs": [
    {
     "data": {
      "text/plain": [
       "(9, 10)"
      ]
     },
     "execution_count": 7,
     "metadata": {},
     "output_type": "execute_result"
    }
   ],
   "source": [
    "len(bin(~-100)), len(bin(-100))"
   ]
  },
  {
   "cell_type": "code",
   "execution_count": 6,
   "metadata": {},
   "outputs": [
    {
     "name": "stdout",
     "output_type": "stream",
     "text": [
      " 0b1100011\n",
      "-0b1100100\n"
     ]
    }
   ],
   "source": [
    "print(f\"{bin(~-100):>10}\")\n",
    "print(bin(-100))"
   ]
  },
  {
   "cell_type": "code",
   "execution_count": 17,
   "metadata": {},
   "outputs": [
    {
     "data": {
      "text/plain": [
       "99"
      ]
     },
     "execution_count": 17,
     "metadata": {},
     "output_type": "execute_result"
    }
   ],
   "source": [
    "0b01100011"
   ]
  },
  {
   "cell_type": "code",
   "execution_count": 14,
   "metadata": {},
   "outputs": [
    {
     "data": {
      "text/plain": [
       "['bitwise_ops.ipynb', 'figs', 'README.md', 'trash.py']"
      ]
     },
     "execution_count": 14,
     "metadata": {},
     "output_type": "execute_result"
    }
   ],
   "source": [
    "ls_result = !ls\n",
    "ls_result"
   ]
  },
  {
   "cell_type": "code",
   "execution_count": 13,
   "metadata": {},
   "outputs": [
    {
     "data": {
      "text/plain": [
       "['2147483598']"
      ]
     },
     "execution_count": 13,
     "metadata": {},
     "output_type": "execute_result"
    }
   ],
   "source": [
    "julia_result = !(julia -e \"print(Int32(-100) >>> 1)\")\n",
    "julia_result"
   ]
  },
  {
   "cell_type": "markdown",
   "metadata": {},
   "source": [
    "### Unsigned Integer (in C)\n",
    "- The first sign bit of a signed integer, when in unsigned case, is being recognized as an extra bit. In other words, the maximum reachable integer of an unsigned integer is larger.\n",
    "- Python's integer can be infinite-length, so there is no worry about overflow."
   ]
  },
  {
   "cell_type": "code",
   "execution_count": 1,
   "metadata": {},
   "outputs": [],
   "source": [
    "from ctypes import c_uint8"
   ]
  },
  {
   "cell_type": "code",
   "execution_count": 3,
   "metadata": {},
   "outputs": [
    {
     "data": {
      "text/plain": [
       "214"
      ]
     },
     "execution_count": 3,
     "metadata": {},
     "output_type": "execute_result"
    }
   ],
   "source": [
    "c_uint8(-42).value"
   ]
  },
  {
   "cell_type": "code",
   "execution_count": 4,
   "metadata": {},
   "outputs": [
    {
     "data": {
      "text/plain": [
       "'0b101010'"
      ]
     },
     "execution_count": 4,
     "metadata": {},
     "output_type": "execute_result"
    }
   ],
   "source": [
    "bin(42)"
   ]
  },
  {
   "cell_type": "markdown",
   "metadata": {},
   "source": [
    "So  `-42` by two's complement should be `~(0b00101010) + 0b1`, which equals `0b11010110`. When this is\n",
    "interpreted as `c_uint8`, we get `2**7 + 2**6 + 2**4 + 2**2 + 2**1`, which equal to `128 + 64 + 16 + 4 + 2`,\n",
    "i.e. `214`."
   ]
  },
  {
   "cell_type": "markdown",
   "metadata": {},
   "source": [
    "**(?)** What happens with overflow in `c_uint8`?<br>\n",
    "**(R)** Cf. below."
   ]
  },
  {
   "cell_type": "code",
   "execution_count": 5,
   "metadata": {},
   "outputs": [
    {
     "data": {
      "text/plain": [
       "c_ubyte(0)"
      ]
     },
     "execution_count": 5,
     "metadata": {},
     "output_type": "execute_result"
    }
   ],
   "source": [
    "c_uint8(0)"
   ]
  },
  {
   "cell_type": "code",
   "execution_count": 6,
   "metadata": {},
   "outputs": [
    {
     "data": {
      "text/plain": [
       "c_ubyte(0)"
      ]
     },
     "execution_count": 6,
     "metadata": {},
     "output_type": "execute_result"
    }
   ],
   "source": [
    "c_uint8(2**8)"
   ]
  },
  {
   "cell_type": "code",
   "execution_count": 7,
   "metadata": {},
   "outputs": [
    {
     "data": {
      "text/plain": [
       "c_ubyte(1)"
      ]
     },
     "execution_count": 7,
     "metadata": {},
     "output_type": "execute_result"
    }
   ],
   "source": [
    "c_uint8(2**8 + 1)"
   ]
  },
  {
   "cell_type": "code",
   "execution_count": 8,
   "metadata": {},
   "outputs": [
    {
     "data": {
      "text/plain": [
       "c_ubyte(255)"
      ]
     },
     "execution_count": 8,
     "metadata": {},
     "output_type": "execute_result"
    }
   ],
   "source": [
    "c_uint8(-1)"
   ]
  },
  {
   "cell_type": "code",
   "execution_count": null,
   "metadata": {},
   "outputs": [],
   "source": []
  },
  {
   "cell_type": "code",
   "execution_count": null,
   "metadata": {},
   "outputs": [],
   "source": []
  }
 ],
 "metadata": {
  "kernelspec": {
   "display_name": "Python 3",
   "language": "python",
   "name": "python3"
  },
  "language_info": {
   "codemirror_mode": {
    "name": "ipython",
    "version": 3
   },
   "file_extension": ".py",
   "mimetype": "text/x-python",
   "name": "python",
   "nbconvert_exporter": "python",
   "pygments_lexer": "ipython3",
   "version": "3.6.12"
  }
 },
 "nbformat": 4,
 "nbformat_minor": 5
}
