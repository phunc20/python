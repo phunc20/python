{
 "cells": [
  {
   "cell_type": "markdown",
   "id": "a0e3f386",
   "metadata": {},
   "source": [
    "## `bytes`"
   ]
  },
  {
   "cell_type": "code",
   "execution_count": 7,
   "id": "cbfa47a9",
   "metadata": {},
   "outputs": [
    {
     "data": {
      "text/plain": [
       "b'\\xab\\xfe\\xf0'"
      ]
     },
     "execution_count": 7,
     "metadata": {},
     "output_type": "execute_result"
    }
   ],
   "source": [
    "bytes_ = b\"\\xab\\xfe\\xf0\"\n",
    "bytes_"
   ]
  },
  {
   "cell_type": "code",
   "execution_count": 11,
   "id": "793f9f1e",
   "metadata": {},
   "outputs": [
    {
     "data": {
      "text/plain": [
       "3"
      ]
     },
     "execution_count": 11,
     "metadata": {},
     "output_type": "execute_result"
    }
   ],
   "source": [
    "len(bytes_)"
   ]
  },
  {
   "cell_type": "code",
   "execution_count": 12,
   "id": "ec159b69",
   "metadata": {},
   "outputs": [
    {
     "data": {
      "text/plain": [
       "(171, 254, 240)"
      ]
     },
     "execution_count": 12,
     "metadata": {},
     "output_type": "execute_result"
    }
   ],
   "source": [
    "bytes_[0], bytes_[1], bytes_[2]"
   ]
  },
  {
   "cell_type": "code",
   "execution_count": 13,
   "id": "4633af2c",
   "metadata": {},
   "outputs": [
    {
     "data": {
      "text/plain": [
       "(171, 254, 240)"
      ]
     },
     "execution_count": 13,
     "metadata": {},
     "output_type": "execute_result"
    }
   ],
   "source": [
    "0xa * 16 + 0xb, 0xf * 16 + 0xe, 0xf * 16"
   ]
  },
  {
   "cell_type": "markdown",
   "id": "a47d9e13",
   "metadata": {},
   "source": [
    "As its name suggests, `bytes` object contains a number of bytes. Its can call its `len()` function and can be indexed, whose result is the corresponding byte in the index."
   ]
  },
  {
   "cell_type": "markdown",
   "id": "0a493b93",
   "metadata": {},
   "source": [
    "## Literal (Decimal) Integer to Its Binary Representation"
   ]
  },
  {
   "cell_type": "code",
   "execution_count": 5,
   "id": "6d5deaa3",
   "metadata": {},
   "outputs": [
    {
     "data": {
      "text/plain": [
       "'0000000111'"
      ]
     },
     "execution_count": 5,
     "metadata": {},
     "output_type": "execute_result"
    }
   ],
   "source": [
    "a = 7\n",
    "f\"{a:010b}\""
   ]
  },
  {
   "cell_type": "markdown",
   "id": "1a2415b9",
   "metadata": {},
   "source": [
    "`f\"{a:010b}\"`, where `a` is an `int`, means\n",
    "> Binary representation of `a` with prepending zeros up until there are `10` bits."
   ]
  },
  {
   "cell_type": "code",
   "execution_count": 1,
   "id": "a62bf3dd",
   "metadata": {},
   "outputs": [
    {
     "data": {
      "text/plain": [
       "'-000000111'"
      ]
     },
     "execution_count": 1,
     "metadata": {},
     "output_type": "execute_result"
    }
   ],
   "source": [
    "a = -7\n",
    "f\"{a:010b}\""
   ]
  },
  {
   "cell_type": "markdown",
   "id": "9ad22b0c",
   "metadata": {},
   "source": [
    "## Binary to Literal / Decimal"
   ]
  },
  {
   "cell_type": "code",
   "execution_count": 6,
   "id": "9800dd06",
   "metadata": {},
   "outputs": [
    {
     "data": {
      "text/plain": [
       "23"
      ]
     },
     "execution_count": 6,
     "metadata": {},
     "output_type": "execute_result"
    }
   ],
   "source": [
    "int(\"10111\", 2)"
   ]
  },
  {
   "cell_type": "markdown",
   "id": "603d3ff2",
   "metadata": {},
   "source": [
    "### `str` and `bytes`"
   ]
  },
  {
   "cell_type": "code",
   "execution_count": 8,
   "id": "e2f99278",
   "metadata": {
    "scrolled": true
   },
   "outputs": [
    {
     "data": {
      "text/plain": [
       "(str, bytes, str)"
      ]
     },
     "execution_count": 8,
     "metadata": {},
     "output_type": "execute_result"
    }
   ],
   "source": [
    "type(\"abc\"), type(b\"abc\"), type(u\"abc\")"
   ]
  },
  {
   "cell_type": "raw",
   "id": "759ecf8e",
   "metadata": {},
   "source": [
    "b\"abc\".encode(\"utf-8\")"
   ]
  },
  {
   "cell_type": "raw",
   "id": "04739b52",
   "metadata": {},
   "source": [
    "AttributeError: 'bytes' object has no attribute 'encode'"
   ]
  },
  {
   "cell_type": "code",
   "execution_count": 13,
   "id": "22bada44",
   "metadata": {},
   "outputs": [
    {
     "data": {
      "text/plain": [
       "b'abc'"
      ]
     },
     "execution_count": 13,
     "metadata": {},
     "output_type": "execute_result"
    }
   ],
   "source": [
    "\"abc\".encode(\"utf-8\")"
   ]
  },
  {
   "cell_type": "code",
   "execution_count": 15,
   "id": "f51d8c33",
   "metadata": {},
   "outputs": [
    {
     "data": {
      "text/plain": [
       "bytes"
      ]
     },
     "execution_count": 15,
     "metadata": {},
     "output_type": "execute_result"
    }
   ],
   "source": [
    "type(\"abc\".encode(\"utf-8\"))"
   ]
  },
  {
   "cell_type": "code",
   "execution_count": 5,
   "id": "fa008397",
   "metadata": {},
   "outputs": [
    {
     "data": {
      "text/plain": [
       "'abc'"
      ]
     },
     "execution_count": 5,
     "metadata": {},
     "output_type": "execute_result"
    }
   ],
   "source": [
    "b\"abc\".decode()"
   ]
  },
  {
   "cell_type": "code",
   "execution_count": 6,
   "id": "0f829b23",
   "metadata": {},
   "outputs": [
    {
     "data": {
      "text/plain": [
       "'616263'"
      ]
     },
     "execution_count": 6,
     "metadata": {},
     "output_type": "execute_result"
    }
   ],
   "source": [
    "b\"abc\".hex()"
   ]
  },
  {
   "cell_type": "code",
   "execution_count": 7,
   "id": "e66c146a",
   "metadata": {},
   "outputs": [
    {
     "data": {
      "text/plain": [
       "b'abc'"
      ]
     },
     "execution_count": 7,
     "metadata": {},
     "output_type": "execute_result"
    }
   ],
   "source": [
    "b\"\\x61\\x62\\x63\""
   ]
  },
  {
   "cell_type": "code",
   "execution_count": 9,
   "id": "1a2d05b7",
   "metadata": {},
   "outputs": [
    {
     "data": {
      "text/plain": [
       "b'abcabc'"
      ]
     },
     "execution_count": 9,
     "metadata": {},
     "output_type": "execute_result"
    }
   ],
   "source": [
    "b\"abc\" + b\"abc\""
   ]
  },
  {
   "cell_type": "raw",
   "id": "706b5968",
   "metadata": {},
   "source": [
    "b\"abc\" + \"abc\""
   ]
  },
  {
   "cell_type": "raw",
   "id": "37063de7",
   "metadata": {},
   "source": [
    "---------------------------------------------------------------------------\n",
    "TypeError                                 Traceback (most recent call last)\n",
    "<ipython-input-11-61603039c9bc> in <module>\n",
    "----> 1 b\"abc\" + \"abc\"\n",
    "\n",
    "TypeError: can't concat str to bytes"
   ]
  },
  {
   "cell_type": "code",
   "execution_count": null,
   "id": "7f1d4380",
   "metadata": {},
   "outputs": [],
   "source": []
  }
 ],
 "metadata": {
  "kernelspec": {
   "display_name": "Python 3",
   "language": "python",
   "name": "python3"
  },
  "language_info": {
   "codemirror_mode": {
    "name": "ipython",
    "version": 3
   },
   "file_extension": ".py",
   "mimetype": "text/x-python",
   "name": "python",
   "nbconvert_exporter": "python",
   "pygments_lexer": "ipython3",
   "version": "3.7.10"
  }
 },
 "nbformat": 4,
 "nbformat_minor": 5
}
