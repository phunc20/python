{
 "cells": [
  {
   "cell_type": "code",
   "execution_count": 5,
   "id": "6d5deaa3",
   "metadata": {},
   "outputs": [
    {
     "data": {
      "text/plain": [
       "'0000000111'"
      ]
     },
     "execution_count": 5,
     "metadata": {},
     "output_type": "execute_result"
    }
   ],
   "source": [
    "a = 7\n",
    "f\"{a:010b}\""
   ]
  },
  {
   "cell_type": "code",
   "execution_count": 6,
   "id": "9800dd06",
   "metadata": {},
   "outputs": [
    {
     "data": {
      "text/plain": [
       "23"
      ]
     },
     "execution_count": 6,
     "metadata": {},
     "output_type": "execute_result"
    }
   ],
   "source": [
    "int(\"10111\", 2)"
   ]
  },
  {
   "cell_type": "markdown",
   "id": "603d3ff2",
   "metadata": {},
   "source": [
    "### `str` and `bytes`"
   ]
  },
  {
   "cell_type": "code",
   "execution_count": 8,
   "id": "e2f99278",
   "metadata": {
    "scrolled": true
   },
   "outputs": [
    {
     "data": {
      "text/plain": [
       "(str, bytes, str)"
      ]
     },
     "execution_count": 8,
     "metadata": {},
     "output_type": "execute_result"
    }
   ],
   "source": [
    "type(\"abc\"), type(b\"abc\"), type(u\"abc\")"
   ]
  },
  {
   "cell_type": "raw",
   "id": "759ecf8e",
   "metadata": {},
   "source": [
    "b\"abc\".encode(\"utf-8\")"
   ]
  },
  {
   "cell_type": "raw",
   "id": "04739b52",
   "metadata": {},
   "source": [
    "AttributeError: 'bytes' object has no attribute 'encode'"
   ]
  },
  {
   "cell_type": "code",
   "execution_count": 13,
   "id": "22bada44",
   "metadata": {},
   "outputs": [
    {
     "data": {
      "text/plain": [
       "b'abc'"
      ]
     },
     "execution_count": 13,
     "metadata": {},
     "output_type": "execute_result"
    }
   ],
   "source": [
    "\"abc\".encode(\"utf-8\")"
   ]
  },
  {
   "cell_type": "code",
   "execution_count": 15,
   "id": "f51d8c33",
   "metadata": {},
   "outputs": [
    {
     "data": {
      "text/plain": [
       "bytes"
      ]
     },
     "execution_count": 15,
     "metadata": {},
     "output_type": "execute_result"
    }
   ],
   "source": [
    "type(\"abc\".encode(\"utf-8\"))"
   ]
  },
  {
   "cell_type": "code",
   "execution_count": 5,
   "id": "fa008397",
   "metadata": {},
   "outputs": [
    {
     "data": {
      "text/plain": [
       "'abc'"
      ]
     },
     "execution_count": 5,
     "metadata": {},
     "output_type": "execute_result"
    }
   ],
   "source": [
    "b\"abc\".decode()"
   ]
  },
  {
   "cell_type": "code",
   "execution_count": 6,
   "id": "0f829b23",
   "metadata": {},
   "outputs": [
    {
     "data": {
      "text/plain": [
       "'616263'"
      ]
     },
     "execution_count": 6,
     "metadata": {},
     "output_type": "execute_result"
    }
   ],
   "source": [
    "b\"abc\".hex()"
   ]
  },
  {
   "cell_type": "code",
   "execution_count": 7,
   "id": "e66c146a",
   "metadata": {},
   "outputs": [
    {
     "data": {
      "text/plain": [
       "b'abc'"
      ]
     },
     "execution_count": 7,
     "metadata": {},
     "output_type": "execute_result"
    }
   ],
   "source": [
    "b\"\\x61\\x62\\x63\""
   ]
  },
  {
   "cell_type": "code",
   "execution_count": 9,
   "id": "1a2d05b7",
   "metadata": {},
   "outputs": [
    {
     "data": {
      "text/plain": [
       "b'abcabc'"
      ]
     },
     "execution_count": 9,
     "metadata": {},
     "output_type": "execute_result"
    }
   ],
   "source": [
    "b\"abc\" + b\"abc\""
   ]
  },
  {
   "cell_type": "raw",
   "id": "706b5968",
   "metadata": {},
   "source": [
    "b\"abc\" + \"abc\""
   ]
  },
  {
   "cell_type": "raw",
   "id": "37063de7",
   "metadata": {},
   "source": [
    "---------------------------------------------------------------------------\n",
    "TypeError                                 Traceback (most recent call last)\n",
    "<ipython-input-11-61603039c9bc> in <module>\n",
    "----> 1 b\"abc\" + \"abc\"\n",
    "\n",
    "TypeError: can't concat str to bytes"
   ]
  },
  {
   "cell_type": "code",
   "execution_count": null,
   "id": "8a887490",
   "metadata": {},
   "outputs": [],
   "source": []
  }
 ],
 "metadata": {
  "kernelspec": {
   "display_name": "Python 3",
   "language": "python",
   "name": "python3"
  },
  "language_info": {
   "codemirror_mode": {
    "name": "ipython",
    "version": 3
   },
   "file_extension": ".py",
   "mimetype": "text/x-python",
   "name": "python",
   "nbconvert_exporter": "python",
   "pygments_lexer": "ipython3",
   "version": "3.7.8"
  }
 },
 "nbformat": 4,
 "nbformat_minor": 5
}
