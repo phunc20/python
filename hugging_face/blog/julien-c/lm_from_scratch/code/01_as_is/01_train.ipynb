{
 "cells": [
  {
   "cell_type": "markdown",
   "id": "7d89064a-ae0e-41c3-a446-12abd3e9f474",
   "metadata": {},
   "source": [
    "## `requirements.txt`"
   ]
  },
  {
   "cell_type": "code",
   "execution_count": 1,
   "id": "f9fc5936-d635-4ee3-8e06-e69bc5b8cf9d",
   "metadata": {},
   "outputs": [
    {
     "name": "stdout",
     "output_type": "stream",
     "text": [
      "jupyterlab==4.0.2\n",
      "tokenizers==0.7.0\n",
      "torch==2.0.1\n",
      "transformers==2.11.0\n"
     ]
    }
   ],
   "source": [
    "!cat requirements.txt"
   ]
  },
  {
   "cell_type": "code",
   "execution_count": 2,
   "id": "23873c8b-1505-4984-bf3b-b73bf64bad72",
   "metadata": {},
   "outputs": [
    {
     "name": "stdout",
     "output_type": "stream",
     "text": [
      "tokenizers               0.7.0\n",
      "torch                    2.0.1\n",
      "transformers             2.11.0\n"
     ]
    }
   ],
   "source": [
    "!pip list | grep \"^tokenizers\\|^transformers\\|^torch\\>\""
   ]
  },
  {
   "cell_type": "code",
   "execution_count": null,
   "id": "72183200-9e00-49e5-9c1d-f598d935ec8e",
   "metadata": {},
   "outputs": [],
   "source": []
  },
  {
   "cell_type": "markdown",
   "id": "8225334e-f78a-4336-897f-668750920707",
   "metadata": {},
   "source": [
    "## Data Source"
   ]
  },
  {
   "cell_type": "code",
   "execution_count": 3,
   "id": "87007573-7c43-4549-b4c5-1e10bf8e4caf",
   "metadata": {},
   "outputs": [],
   "source": [
    "from pathlib import Path\n",
    "\n",
    "data_dir = Path(\"../../data/\")\n",
    "assert data_dir.is_dir()"
   ]
  },
  {
   "cell_type": "code",
   "execution_count": 4,
   "id": "f6bbb60e-4ebe-465f-b5e1-d3cd8c29f737",
   "metadata": {},
   "outputs": [
    {
     "data": {
      "text/plain": [
       "'oscar.eo.txt'"
      ]
     },
     "execution_count": 4,
     "metadata": {},
     "output_type": "execute_result"
    }
   ],
   "source": [
    "URL = \"https://cdn-datasets.huggingface.co/EsperBERTo/data/oscar.eo.txt\"\n",
    "file_name = URL.split(\"/\")[-1]\n",
    "file_name"
   ]
  },
  {
   "cell_type": "markdown",
   "id": "804e4430-71c4-42dc-864b-f75f5c592fc5",
   "metadata": {},
   "source": [
    "No-progress-bar request"
   ]
  },
  {
   "cell_type": "raw",
   "id": "ee8cfeee-c608-4ddf-bde1-db85b359e3a3",
   "metadata": {},
   "source": [
    "file_path = data_dir/file_name\n",
    "\n",
    "if file_path.exists():\n",
    "    pass\n",
    "else:\n",
    "    import requests\n",
    "    response = requests.get(URL)\n",
    "    with open(file_path, \"bw\") as f:\n",
    "        f.write(response.content)"
   ]
  },
  {
   "cell_type": "markdown",
   "id": "a18d64d1-9532-4079-aea7-2f72da8ec585",
   "metadata": {},
   "source": [
    "progress-bar request"
   ]
  },
  {
   "cell_type": "code",
   "execution_count": 5,
   "id": "bb147048-b5d8-492d-9d1e-20cd071afec3",
   "metadata": {},
   "outputs": [],
   "source": [
    "file_path = data_dir/file_name\n",
    "\n",
    "if file_path.exists():\n",
    "    pass\n",
    "else:\n",
    "    import requests\n",
    "    from tqdm.auto import tqdm\n",
    "\n",
    "    response = requests.get(URL, stream=True)\n",
    "    total_size_in_bytes= int(response.headers.get(\"content-length\", 0))\n",
    "    #print(f'{total_size_in_bytes = :,}')\n",
    "    block_size = 1024\n",
    "    progress_bar = tqdm(total=total_size_in_bytes, unit=\"iB\", unit_scale=True)\n",
    "    with open(file_path, \"wb\") as file:\n",
    "        for data in response.iter_content(block_size):\n",
    "            progress_bar.update(len(data))\n",
    "            file.write(data)\n",
    "    progress_bar.close()\n",
    "\n",
    "    if total_size_in_bytes != 0 and progress_bar.n != total_size_in_bytes:\n",
    "        print(\"ERROR, something went wrong\")\n",
    "        file_path"
   ]
  },
  {
   "cell_type": "markdown",
   "id": "9b64416d-a202-4f74-9f8b-89656ab8a2a1",
   "metadata": {},
   "source": [
    "## Tokenizers"
   ]
  },
  {
   "cell_type": "markdown",
   "id": "256de74f-3c9e-4d4b-9bdd-e733ed546086",
   "metadata": {},
   "source": [
    "The next cell will take some time to run, and w/o progress bar, even though there is an input\n",
    "argument `show_progress` which defaults to `True` for the method `train`.\n",
    "\n",
    "**Rmk.** According to [this issue from GitHub](https://github.com/huggingface/tokenizers/issues/157),\n",
    "it seems that the **progress bar works fine** when running as a Python script **in terminal**, but **fails in notebook**."
   ]
  },
  {
   "cell_type": "code",
   "execution_count": 6,
   "id": "2dbebb6c-583f-466a-8148-2199280706da",
   "metadata": {},
   "outputs": [],
   "source": [
    "tokenizer_dir = Path(\"EsperBERTo\")\n",
    "tokenizer_dir.mkdir(exist_ok=True)"
   ]
  },
  {
   "cell_type": "code",
   "execution_count": 7,
   "id": "2c879fef-8ee9-4824-b7cc-e1bcabca5d80",
   "metadata": {},
   "outputs": [],
   "source": [
    "from tokenizers import ByteLevelBPETokenizer\n",
    "\n",
    "no_trained_tokenizer = list(tokenizer_dir.glob(\"*\")) == []\n",
    "if no_trained_tokenizer:\n",
    "    tokenizer = ByteLevelBPETokenizer()\n",
    "    tokenizer.train(files=[str(file_path)], vocab_size=52_000, min_frequency=2, special_tokens=[\n",
    "        \"<s>\",\n",
    "        \"<pad>\",\n",
    "        \"</s>\",\n",
    "        \"<unk>\",\n",
    "        \"<mask>\",\n",
    "    ])\n",
    "    tokenizer.save(str(tokenizer_dir))"
   ]
  },
  {
   "cell_type": "code",
   "execution_count": null,
   "id": "812cd992-aa62-4114-a126-3c58f4f16ee5",
   "metadata": {},
   "outputs": [],
   "source": []
  },
  {
   "cell_type": "markdown",
   "id": "9a252765-2ca2-449d-90e0-21c18d8ac0bb",
   "metadata": {},
   "source": [
    "### Reload tokenizer and add `post_processor`"
   ]
  },
  {
   "cell_type": "code",
   "execution_count": 8,
   "id": "fd5aca16-edc5-44a9-a03e-6d48e8687648",
   "metadata": {},
   "outputs": [],
   "source": [
    "from tokenizers.implementations import ByteLevelBPETokenizer\n",
    "\n",
    "tokenizer = ByteLevelBPETokenizer(\n",
    "    str(tokenizer_dir/\"vocab.json\"),\n",
    "    str(tokenizer_dir/\"merges.txt\"),\n",
    ")"
   ]
  },
  {
   "cell_type": "code",
   "execution_count": 9,
   "id": "5c786b55-784c-4a65-96bd-9695cccf9b94",
   "metadata": {},
   "outputs": [
    {
     "data": {
      "text/plain": [
       "['Mi', 'Ġestas', 'ĠJuli', 'en', '.']"
      ]
     },
     "execution_count": 9,
     "metadata": {},
     "output_type": "execute_result"
    }
   ],
   "source": [
    "encoding = tokenizer.encode(\"Mi estas Julien.\")\n",
    "encoding.tokens"
   ]
  },
  {
   "cell_type": "code",
   "execution_count": 10,
   "id": "63e70155-feda-48e4-a18e-a66cc4d23b16",
   "metadata": {},
   "outputs": [],
   "source": [
    "from tokenizers.processors import BertProcessing\n",
    "\n",
    "# tokenizer._tokenizer.post_processor = BertProcessing(\n",
    "#     (tokenizer.eos_token, tokenizer.eos_token_id)\n",
    "#     (tokenizer.bos_token, tokenizer.bos_token_id)\n",
    "# )\n",
    "tokenizer._tokenizer.post_processor = BertProcessing(\n",
    "    (\"</s>\", tokenizer.token_to_id(\"</s>\")),\n",
    "    (\"<s>\", tokenizer.token_to_id(\"<s>\")),\n",
    ")\n",
    "tokenizer.enable_truncation(max_length=512)"
   ]
  },
  {
   "cell_type": "code",
   "execution_count": 11,
   "id": "267d5e54-7c28-41e5-8d97-73dff129d0e7",
   "metadata": {},
   "outputs": [
    {
     "data": {
      "text/plain": [
       "['<s>', 'Mi', 'Ġestas', 'ĠJuli', 'en', '.', '</s>']"
      ]
     },
     "execution_count": 11,
     "metadata": {},
     "output_type": "execute_result"
    }
   ],
   "source": [
    "encoding = tokenizer.encode(\"Mi estas Julien.\")\n",
    "encoding.tokens"
   ]
  },
  {
   "cell_type": "code",
   "execution_count": 12,
   "id": "f5edc187-2b37-4f34-b5f1-63a8d28fdc0a",
   "metadata": {},
   "outputs": [
    {
     "data": {
      "text/plain": [
       "False"
      ]
     },
     "execution_count": 12,
     "metadata": {},
     "output_type": "execute_result"
    }
   ],
   "source": [
    "hasattr(tokenizer, \"is_fast\")"
   ]
  },
  {
   "cell_type": "markdown",
   "id": "9fe42067-25a2-47be-a2d1-8be633a935a3",
   "metadata": {},
   "source": [
    "### Fast tokenizer"
   ]
  },
  {
   "cell_type": "markdown",
   "id": "05c8663a-e86c-42c8-9603-80bf6c457320",
   "metadata": {},
   "source": [
    "**(?)** But won't this make our previously defined `post_processor` disappear?  "
   ]
  },
  {
   "cell_type": "code",
   "execution_count": 13,
   "id": "762ed6b4-9e54-4eca-aefa-5265140e83c5",
   "metadata": {},
   "outputs": [
    {
     "name": "stderr",
     "output_type": "stream",
     "text": [
      "/home/phunc20/.config/miniconda3/envs/lm_from_scratch/lib/python3.8/site-packages/tqdm/auto.py:21: TqdmWarning: IProgress not found. Please update jupyter and ipywidgets. See https://ipywidgets.readthedocs.io/en/stable/user_install.html\n",
      "  from .autonotebook import tqdm as notebook_tqdm\n",
      "/home/phunc20/.config/miniconda3/envs/lm_from_scratch/lib/python3.8/site-packages/transformers/tokenization_utils.py:828: FutureWarning: Parameter max_len is deprecated and will be removed in a future release. Use model_max_length instead.\n",
      "  warnings.warn(\n"
     ]
    }
   ],
   "source": [
    "from transformers import RobertaTokenizerFast\n",
    "\n",
    "tokenizer = RobertaTokenizerFast.from_pretrained(\"./EsperBERTo\", max_len=512)"
   ]
  },
  {
   "cell_type": "code",
   "execution_count": 14,
   "id": "225c50c9-839e-4691-8f2f-4ead5c97b999",
   "metadata": {},
   "outputs": [
    {
     "data": {
      "text/plain": [
       "True"
      ]
     },
     "execution_count": 14,
     "metadata": {},
     "output_type": "execute_result"
    }
   ],
   "source": [
    "hasattr(tokenizer, \"is_fast\")"
   ]
  },
  {
   "cell_type": "code",
   "execution_count": 15,
   "id": "453f5440-00d7-4737-b352-21773c77eb36",
   "metadata": {},
   "outputs": [
    {
     "data": {
      "text/plain": [
       "True"
      ]
     },
     "execution_count": 15,
     "metadata": {},
     "output_type": "execute_result"
    }
   ],
   "source": [
    "tokenizer.is_fast"
   ]
  },
  {
   "cell_type": "code",
   "execution_count": null,
   "id": "7ab374ed-8a40-44c9-b0d2-b071577c21bf",
   "metadata": {},
   "outputs": [],
   "source": []
  },
  {
   "cell_type": "markdown",
   "id": "a01a9680-52ed-4260-8c1b-dbafc4bd211c",
   "metadata": {},
   "source": [
    "## Dataset"
   ]
  },
  {
   "cell_type": "code",
   "execution_count": 16,
   "id": "278dfe42-9029-4fc7-a24e-997a1c17df4d",
   "metadata": {},
   "outputs": [],
   "source": [
    "from transformers import LineByLineTextDataset\n",
    "\n",
    "dataset = LineByLineTextDataset(\n",
    "    tokenizer=tokenizer,\n",
    "    file_path=file_path,\n",
    "    #block_size=128,\n",
    "    block_size=64,\n",
    ")"
   ]
  },
  {
   "cell_type": "code",
   "execution_count": 17,
   "id": "c71ef1fc-2f83-4833-bc00-56417a6f265b",
   "metadata": {},
   "outputs": [
    {
     "data": {
      "text/plain": [
       "<transformers.data.datasets.language_modeling.LineByLineTextDataset at 0x7f776483fd90>"
      ]
     },
     "execution_count": 17,
     "metadata": {},
     "output_type": "execute_result"
    }
   ],
   "source": [
    "dataset"
   ]
  },
  {
   "cell_type": "raw",
   "id": "8881256c-a23b-454f-80d3-b1797c26388a",
   "metadata": {},
   "source": [
    "dir(dataset)"
   ]
  },
  {
   "cell_type": "markdown",
   "id": "a904c7e4-a9b4-4b98-9eb8-655118e5bf4a",
   "metadata": {},
   "source": [
    "**(?)** `block_size` is the context length?  "
   ]
  },
  {
   "cell_type": "markdown",
   "id": "846cd685-1d3f-4d7d-a54a-ac91850e40a0",
   "metadata": {},
   "source": [
    "### Data Collator"
   ]
  },
  {
   "cell_type": "code",
   "execution_count": 18,
   "id": "0dfebcbc-e3f8-4b61-a26f-b2a2db752a24",
   "metadata": {},
   "outputs": [],
   "source": [
    "from transformers import DataCollatorForLanguageModeling\n",
    "\n",
    "data_collator = DataCollatorForLanguageModeling(\n",
    "    tokenizer=tokenizer, mlm=True, mlm_probability=0.15\n",
    ")"
   ]
  },
  {
   "cell_type": "code",
   "execution_count": null,
   "id": "a9021324-34ca-4dc4-8b82-bd31867eaed5",
   "metadata": {},
   "outputs": [],
   "source": []
  },
  {
   "cell_type": "markdown",
   "id": "28f310c8-efcf-4fa5-b9ee-c931db380083",
   "metadata": {},
   "source": [
    "## Train"
   ]
  },
  {
   "cell_type": "code",
   "execution_count": 19,
   "id": "f8e367fa-a01a-4cca-a207-06bab7f9aa59",
   "metadata": {},
   "outputs": [],
   "source": [
    "from transformers import RobertaConfig\n",
    "\n",
    "config = RobertaConfig(\n",
    "    vocab_size=52_000,\n",
    "    max_position_embeddings=514,\n",
    "    num_attention_heads=12,\n",
    "    num_hidden_layers=6,\n",
    "    type_vocab_size=1,\n",
    ")"
   ]
  },
  {
   "cell_type": "code",
   "execution_count": 20,
   "id": "a7aa974b-4fb8-40bc-a2ac-00e9b129d537",
   "metadata": {},
   "outputs": [],
   "source": [
    "from transformers import RobertaForMaskedLM\n",
    "\n",
    "model = RobertaForMaskedLM(config=config)"
   ]
  },
  {
   "cell_type": "markdown",
   "id": "b0f0ddf2-170c-4d03-a685-0ccc9c38453f",
   "metadata": {},
   "source": [
    "### Package problem\n",
    "`Python==3.8.16` with `transformers==2.11.0` cannot import `RobertaForMaskedLM`\n",
    "```bash\n",
    "ImportError: cannot import name 'RobertaForMaskedLM' from 'transformers' (/home/phunc20/.config/miniconda3/envs/lm_from_scratch/lib/python3.8/site-packages/transformers/__init__.py)\n",
    "```\n",
    "\n",
    "**Solution.** This is because you **need to install `torch`**. I have already included `torch` in `requirements.txt`\n",
    "to avoid this."
   ]
  },
  {
   "cell_type": "raw",
   "id": "67be7042-1cbe-4f2a-8e6e-ac8e4fbea6a6",
   "metadata": {
    "collapsed": true,
    "jupyter": {
     "outputs_hidden": true
    }
   },
   "source": [
    "TrainingArguments?"
   ]
  },
  {
   "cell_type": "raw",
   "id": "0f42cae4-72fb-46e7-bd62-d188277dbef2",
   "metadata": {},
   "source": [
    "del trainer, training_args"
   ]
  },
  {
   "cell_type": "code",
   "execution_count": 21,
   "id": "e5ebda2c-5c86-44ef-af10-b6a842fe2748",
   "metadata": {},
   "outputs": [],
   "source": [
    "import torch\n",
    "\n",
    "torch.cuda.empty_cache()"
   ]
  },
  {
   "cell_type": "code",
   "execution_count": 22,
   "id": "ac61d146-9f9b-4998-bcc8-ed938408c5a1",
   "metadata": {},
   "outputs": [],
   "source": [
    "from transformers import Trainer, TrainingArguments\n",
    "\n",
    "training_args = TrainingArguments(\n",
    "    output_dir=str(tokenizer_dir),\n",
    "    overwrite_output_dir=True,\n",
    "    #num_train_epochs=1,\n",
    "    max_steps=1_000,\n",
    "    #per_gpu_train_batch_size=1,\n",
    "    per_device_train_batch_size=1,\n",
    "    save_steps=100,\n",
    "    logging_steps=100,\n",
    "    save_total_limit=3,\n",
    "    #fp16=True,\n",
    "    # prediction_loss_only=True,\n",
    ")\n",
    "\n",
    "trainer = Trainer(\n",
    "    model=model,\n",
    "    args=training_args,\n",
    "    data_collator=data_collator,\n",
    "    train_dataset=dataset,\n",
    ")"
   ]
  },
  {
   "cell_type": "code",
   "execution_count": 23,
   "id": "740555fa-ca72-41c4-addf-c7fe0122cc64",
   "metadata": {},
   "outputs": [
    {
     "name": "stderr",
     "output_type": "stream",
     "text": [
      "Epoch:   0%|                                                                                                    | 0/1 [00:00<?, ?it/s]\n",
      "Iteration:   0%|                                                                                           | 0/974545 [00:00<?, ?it/s]\u001b[A\n",
      "Iteration:   0%|                                                                               | 1/974545 [00:00<110:30:16,  2.45it/s]\u001b[A\n",
      "Iteration:   0%|                                                                               | 2/974545 [00:01<159:19:38,  1.70it/s]\u001b[A\n",
      "Iteration:   0%|                                                                               | 3/974545 [00:01<165:53:42,  1.63it/s]\u001b[A\n",
      "Iteration:   0%|                                                                               | 4/974545 [00:02<169:14:06,  1.60it/s]\u001b[A\n",
      "Iteration:   0%|                                                                               | 5/974545 [00:03<169:04:11,  1.60it/s]\u001b[A\n",
      "Iteration:   0%|                                                                               | 6/974545 [00:03<168:59:44,  1.60it/s]\u001b[A\n",
      "Iteration:   0%|                                                                               | 7/974545 [00:04<170:41:02,  1.59it/s]\u001b[A\n",
      "Iteration:   0%|                                                                               | 8/974545 [00:04<171:50:42,  1.58it/s]\u001b[A\n",
      "Iteration:   0%|                                                                               | 9/974545 [00:05<172:33:20,  1.57it/s]\u001b[A\n",
      "Iteration:   0%|                                                                              | 10/974545 [00:06<171:39:36,  1.58it/s]\u001b[A\n",
      "Iteration:   0%|                                                                              | 11/974545 [00:06<172:26:10,  1.57it/s]\u001b[A\n",
      "Iteration:   0%|                                                                              | 12/974545 [00:07<173:00:13,  1.56it/s]\u001b[A\n",
      "Iteration:   0%|                                                                              | 13/974545 [00:08<174:28:31,  1.55it/s]\u001b[A\n",
      "Iteration:   0%|                                                                              | 14/974545 [00:08<175:31:01,  1.54it/s]\u001b[A\n",
      "Iteration:   0%|                                                                              | 15/974545 [00:09<174:39:40,  1.55it/s]\u001b[A\n",
      "Iteration:   0%|                                                                              | 16/974545 [00:10<172:58:01,  1.57it/s]\u001b[A\n",
      "Iteration:   0%|                                                                              | 17/974545 [00:10<173:10:56,  1.56it/s]\u001b[A\n",
      "Iteration:   0%|                                                                              | 18/974545 [00:11<173:29:20,  1.56it/s]\u001b[A\n",
      "Iteration:   0%|                                                                              | 19/974545 [00:11<172:20:25,  1.57it/s]\u001b[A\n",
      "Iteration:   0%|                                                                              | 20/974545 [00:12<173:15:41,  1.56it/s]\u001b[A\n",
      "Iteration:   0%|                                                                              | 21/974545 [00:13<174:40:08,  1.55it/s]\u001b[A\n",
      "Iteration:   0%|                                                                              | 22/974545 [00:13<175:48:37,  1.54it/s]\u001b[A\n",
      "Iteration:   0%|                                                                              | 23/974545 [00:14<175:20:32,  1.54it/s]\u001b[A\n",
      "Iteration:   0%|                                                                              | 24/974545 [00:15<175:02:38,  1.55it/s]\u001b[A\n",
      "Iteration:   0%|                                                                              | 25/974545 [00:15<174:47:01,  1.55it/s]\u001b[A\n",
      "Iteration:   0%|                                                                              | 26/974545 [00:16<173:00:00,  1.56it/s]\u001b[A\n",
      "Iteration:   0%|                                                                              | 27/974545 [00:17<171:52:16,  1.58it/s]\u001b[A\n",
      "Iteration:   0%|                                                                              | 28/974545 [00:17<172:33:24,  1.57it/s]\u001b[A\n",
      "Iteration:   0%|                                                                              | 29/974545 [00:18<171:33:39,  1.58it/s]\u001b[A\n",
      "Iteration:   0%|                                                                              | 30/974545 [00:19<172:25:30,  1.57it/s]\u001b[A\n",
      "Iteration:   0%|                                                                              | 31/974545 [00:19<172:54:57,  1.57it/s]\u001b[A\n",
      "Iteration:   0%|                                                                              | 32/974545 [00:20<171:37:13,  1.58it/s]\u001b[A\n",
      "Iteration:   0%|                                                                              | 33/974545 [00:20<172:21:52,  1.57it/s]\u001b[A\n",
      "Iteration:   0%|                                                                              | 34/974545 [00:21<172:53:49,  1.57it/s]\u001b[A\n",
      "Iteration:   0%|                                                                              | 35/974545 [00:22<172:59:39,  1.56it/s]\u001b[A\n",
      "Iteration:   0%|                                                                              | 36/974545 [00:22<171:42:22,  1.58it/s]\u001b[A\n",
      "Iteration:   0%|                                                                              | 37/974545 [00:23<172:36:14,  1.57it/s]\u001b[A\n",
      "Iteration:   0%|                                                                              | 38/974545 [00:24<173:14:25,  1.56it/s]\u001b[A\n",
      "Iteration:   0%|                                                                              | 39/974545 [00:24<173:29:05,  1.56it/s]\u001b[A\n",
      "Iteration:   0%|                                                                              | 40/974545 [00:25<173:43:47,  1.56it/s]\u001b[A\n",
      "Iteration:   0%|                                                                              | 41/974545 [00:26<173:57:34,  1.56it/s]\u001b[A\n",
      "Iteration:   0%|                                                                              | 42/974545 [00:26<173:50:34,  1.56it/s]\u001b[A\n",
      "Iteration:   0%|                                                                              | 43/974545 [00:27<172:18:33,  1.57it/s]\u001b[A\n",
      "Iteration:   0%|                                                                              | 44/974545 [00:27<173:00:05,  1.56it/s]\u001b[A\n",
      "Iteration:   0%|                                                                              | 45/974545 [00:28<173:21:18,  1.56it/s]\u001b[A\n",
      "Iteration:   0%|                                                                              | 46/974545 [00:29<173:43:36,  1.56it/s]\u001b[A\n",
      "Iteration:   0%|                                                                              | 47/974545 [00:29<173:48:11,  1.56it/s]\u001b[A\n",
      "Iteration:   0%|                                                                              | 48/974545 [00:30<172:10:16,  1.57it/s]\u001b[A\n",
      "Iteration:   0%|                                                                              | 49/974545 [00:31<172:47:51,  1.57it/s]\u001b[A\n",
      "Iteration:   0%|                                                                              | 50/974545 [00:31<171:19:41,  1.58it/s]\u001b[A\n",
      "Iteration:   0%|                                                                              | 51/974545 [00:32<172:13:48,  1.57it/s]\u001b[A\n",
      "Iteration:   0%|                                                                              | 52/974545 [00:33<171:18:32,  1.58it/s]\u001b[A\n",
      "Iteration:   0%|                                                                              | 53/974545 [00:33<172:11:52,  1.57it/s]\u001b[A\n",
      "Iteration:   0%|                                                                              | 54/974545 [00:34<170:59:59,  1.58it/s]\u001b[A\n",
      "Iteration:   0%|                                                                              | 55/974545 [00:34<170:23:08,  1.59it/s]\u001b[A\n",
      "Iteration:   0%|                                                                              | 56/974545 [00:35<171:18:47,  1.58it/s]\u001b[A\n",
      "Iteration:   0%|                                                                              | 57/974545 [00:36<172:15:47,  1.57it/s]\u001b[A\n",
      "Iteration:   0%|                                                                              | 58/974545 [00:36<171:12:54,  1.58it/s]\u001b[A\n",
      "Iteration:   0%|                                                                              | 59/974545 [00:37<171:40:03,  1.58it/s]\u001b[A\n",
      "Iteration:   0%|                                                                              | 60/974545 [00:38<170:54:26,  1.58it/s]\u001b[A\n",
      "Iteration:   0%|                                                                              | 61/974545 [00:38<172:27:44,  1.57it/s]\u001b[A\n",
      "Iteration:   0%|                                                                              | 62/974545 [00:39<172:55:32,  1.57it/s]\u001b[A\n",
      "Iteration:   0%|                                                                              | 63/974545 [00:40<171:31:07,  1.58it/s]\u001b[A\n",
      "Iteration:   0%|                                                                              | 64/974545 [00:40<172:19:34,  1.57it/s]\u001b[A\n",
      "Iteration:   0%|                                                                              | 65/974545 [00:41<172:53:26,  1.57it/s]\u001b[A\n",
      "Iteration:   0%|                                                                              | 66/974545 [00:41<171:47:36,  1.58it/s]\u001b[A\n",
      "Iteration:   0%|                                                                              | 67/974545 [00:42<172:11:52,  1.57it/s]\u001b[A\n",
      "Iteration:   0%|                                                                              | 68/974545 [00:43<172:54:56,  1.57it/s]\u001b[A\n",
      "Iteration:   0%|                                                                              | 69/974545 [00:43<171:52:45,  1.57it/s]\u001b[A\n",
      "Iteration:   0%|                                                                              | 70/974545 [00:44<172:35:42,  1.57it/s]\u001b[A\n",
      "Iteration:   0%|                                                                              | 71/974545 [00:45<173:04:53,  1.56it/s]\u001b[A\n",
      "Iteration:   0%|                                                                              | 72/974545 [00:45<173:26:27,  1.56it/s]\u001b[A\n",
      "Iteration:   0%|                                                                              | 73/974545 [00:46<173:17:31,  1.56it/s]\u001b[A\n",
      "Iteration:   0%|                                                                              | 74/974545 [00:47<173:36:24,  1.56it/s]\u001b[A\n",
      "Iteration:   0%|                                                                              | 75/974545 [00:47<173:35:35,  1.56it/s]\u001b[A\n",
      "Iteration:   0%|                                                                              | 76/974545 [00:48<172:13:14,  1.57it/s]\u001b[A\n",
      "Iteration:   0%|                                                                              | 77/974545 [00:49<174:01:02,  1.56it/s]\u001b[A\n",
      "Iteration:   0%|                                                                              | 78/974545 [00:49<174:04:47,  1.55it/s]\u001b[A\n",
      "Iteration:   0%|                                                                              | 79/974545 [00:50<172:13:24,  1.57it/s]\u001b[A\n",
      "Iteration:   0%|                                                                              | 80/974545 [00:50<172:50:38,  1.57it/s]\u001b[A\n",
      "Iteration:   0%|                                                                              | 81/974545 [00:51<174:02:12,  1.56it/s]\u001b[A\n",
      "Iteration:   0%|                                                                              | 82/974545 [00:52<174:06:53,  1.55it/s]\u001b[A\n",
      "Iteration:   0%|                                                                              | 83/974545 [00:52<173:54:14,  1.56it/s]\u001b[A\n",
      "Iteration:   0%|                                                                              | 84/974545 [00:53<173:58:58,  1.56it/s]\u001b[A\n",
      "Iteration:   0%|                                                                              | 85/974545 [00:54<172:29:24,  1.57it/s]\u001b[A\n",
      "Iteration:   0%|                                                                              | 86/974545 [00:54<173:00:27,  1.56it/s]\u001b[A\n",
      "Iteration:   0%|                                                                              | 87/974545 [00:55<173:02:50,  1.56it/s]\u001b[A\n",
      "Iteration:   0%|                                                                              | 88/974545 [00:56<171:55:25,  1.57it/s]\u001b[A\n",
      "Iteration:   0%|                                                                              | 89/974545 [00:56<173:29:40,  1.56it/s]\u001b[A\n",
      "Iteration:   0%|                                                                              | 90/974545 [00:57<174:01:02,  1.56it/s]\u001b[A\n",
      "Iteration:   0%|                                                                              | 91/974545 [00:57<175:03:45,  1.55it/s]\u001b[A\n",
      "Iteration:   0%|                                                                              | 92/974545 [00:58<174:46:41,  1.55it/s]\u001b[A\n",
      "Iteration:   0%|                                                                              | 93/974545 [00:59<172:58:10,  1.56it/s]\u001b[A\n",
      "Iteration:   0%|                                                                              | 94/974545 [00:59<171:28:49,  1.58it/s]\u001b[A\n",
      "Iteration:   0%|                                                                              | 95/974545 [01:00<172:16:36,  1.57it/s]\u001b[A\n",
      "Iteration:   0%|                                                                              | 96/974545 [01:01<173:01:49,  1.56it/s]\u001b[A\n",
      "Iteration:   0%|                                                                              | 97/974545 [01:01<174:11:39,  1.55it/s]\u001b[A\n",
      "Iteration:   0%|                                                                              | 98/974545 [01:02<174:03:05,  1.56it/s]\u001b[A\n",
      "Iteration:   0%|                                                                              | 99/974545 [01:03<174:08:53,  1.55it/s]\u001b[A"
     ]
    },
    {
     "name": "stdout",
     "output_type": "stream",
     "text": [
      "{\"loss\": 9.480108938217164, \"learning_rate\": 4.5e-05, \"epoch\": 0.00010261198815857657, \"step\": 100}\n"
     ]
    },
    {
     "name": "stderr",
     "output_type": "stream",
     "text": [
      "\n",
      "Iteration:   0%|                                                                             | 100/974545 [01:05<351:02:05,  1.30s/it]\u001b[A\n",
      "Iteration:   0%|                                                                             | 101/974545 [01:06<263:26:15,  1.03it/s]\u001b[A\n",
      "Iteration:   0%|                                                                             | 102/974545 [01:06<236:37:18,  1.14it/s]\u001b[A\n",
      "Iteration:   0%|                                                                             | 103/974545 [01:07<217:37:35,  1.24it/s]\u001b[A\n",
      "Iteration:   0%|                                                                             | 104/974545 [01:08<204:36:28,  1.32it/s]\u001b[A\n",
      "Iteration:   0%|                                                                             | 105/974545 [01:08<195:25:42,  1.39it/s]\u001b[A\n",
      "Iteration:   0%|                                                                             | 106/974545 [01:09<189:14:53,  1.43it/s]\u001b[A\n",
      "Iteration:   0%|                                                                             | 107/974545 [01:10<185:56:59,  1.46it/s]\u001b[A\n",
      "Iteration:   0%|                                                                             | 108/974545 [01:10<180:39:12,  1.50it/s]\u001b[A\n",
      "Iteration:   0%|                                                                             | 109/974545 [01:11<177:02:50,  1.53it/s]\u001b[A\n",
      "Iteration:   0%|                                                                             | 110/974545 [01:11<174:39:30,  1.55it/s]\u001b[A\n",
      "Iteration:   0%|                                                                             | 111/974545 [01:12<175:09:33,  1.55it/s]\u001b[A\n",
      "Iteration:   0%|                                                                             | 112/974545 [01:13<173:09:37,  1.56it/s]\u001b[A\n",
      "Iteration:   0%|                                                                             | 113/974545 [01:13<173:28:46,  1.56it/s]\u001b[A\n",
      "Iteration:   0%|                                                                             | 114/974545 [01:14<174:38:41,  1.55it/s]\u001b[A\n",
      "Iteration:   0%|                                                                             | 115/974545 [01:15<174:34:03,  1.55it/s]\u001b[A\n",
      "Iteration:   0%|                                                                             | 116/974545 [01:15<172:53:10,  1.57it/s]\u001b[A\n",
      "Iteration:   0%|                                                                             | 117/974545 [01:16<173:16:55,  1.56it/s]\u001b[A\n",
      "Iteration:   0%|                                                                             | 118/974545 [01:17<174:12:17,  1.55it/s]\u001b[A\n",
      "Iteration:   0%|                                                                             | 119/974545 [01:17<174:21:53,  1.55it/s]\u001b[A\n",
      "Iteration:   0%|                                                                             | 120/974545 [01:18<174:20:22,  1.55it/s]\u001b[A\n",
      "Iteration:   0%|                                                                             | 121/974545 [01:18<174:21:42,  1.55it/s]\u001b[A\n",
      "Iteration:   0%|                                                                             | 122/974545 [01:19<174:04:21,  1.55it/s]\u001b[A\n",
      "Iteration:   0%|                                                                             | 123/974545 [01:20<172:23:23,  1.57it/s]\u001b[A\n",
      "Iteration:   0%|                                                                             | 124/974545 [01:20<172:24:55,  1.57it/s]\u001b[A\n",
      "Iteration:   0%|                                                                             | 125/974545 [01:21<171:18:25,  1.58it/s]\u001b[A\n",
      "Iteration:   0%|                                                                             | 126/974545 [01:22<172:10:51,  1.57it/s]\u001b[A\n",
      "Iteration:   0%|                                                                             | 127/974545 [01:22<172:47:47,  1.57it/s]\u001b[A\n",
      "Iteration:   0%|                                                                             | 128/974545 [01:23<173:13:17,  1.56it/s]\u001b[A\n",
      "Iteration:   0%|                                                                             | 129/974545 [01:24<174:36:11,  1.55it/s]\u001b[A\n",
      "Iteration:   0%|                                                                             | 130/974545 [01:24<173:00:39,  1.56it/s]\u001b[A\n",
      "Iteration:   0%|                                                                             | 131/974545 [01:25<174:26:28,  1.55it/s]\u001b[A\n",
      "Iteration:   0%|                                                                             | 132/974545 [01:25<173:05:19,  1.56it/s]\u001b[A\n",
      "Iteration:   0%|                                                                             | 133/974545 [01:26<173:26:04,  1.56it/s]\u001b[A\n",
      "Iteration:   0%|                                                                             | 134/974545 [01:27<173:14:53,  1.56it/s]\u001b[A\n",
      "Iteration:   0%|                                                                             | 135/974545 [01:27<173:46:13,  1.56it/s]\u001b[A\n",
      "Iteration:   0%|                                                                             | 136/974545 [01:28<173:40:53,  1.56it/s]\u001b[A\n",
      "Iteration:   0%|                                                                             | 137/974545 [01:29<173:56:29,  1.56it/s]\u001b[A\n",
      "Iteration:   0%|                                                                             | 138/974545 [01:29<173:54:19,  1.56it/s]\u001b[A\n",
      "Iteration:   0%|                                                                             | 139/974545 [01:30<174:05:12,  1.55it/s]\u001b[A\n",
      "Iteration:   0%|                                                                             | 140/974545 [01:31<172:31:01,  1.57it/s]\u001b[A\n",
      "Iteration:   0%|                                                                             | 141/974545 [01:31<173:03:36,  1.56it/s]\u001b[A\n",
      "Iteration:   0%|                                                                             | 142/974545 [01:32<172:03:24,  1.57it/s]\u001b[A\n",
      "Iteration:   0%|                                                                             | 143/974545 [01:33<172:30:48,  1.57it/s]\u001b[A\n",
      "Iteration:   0%|                                                                             | 144/974545 [01:33<171:21:43,  1.58it/s]\u001b[A\n",
      "Iteration:   0%|                                                                             | 145/974545 [01:34<172:58:16,  1.56it/s]\u001b[A\n",
      "Iteration:   0%|                                                                             | 146/974545 [01:34<174:43:48,  1.55it/s]\u001b[A\n",
      "Iteration:   0%|                                                                             | 147/974545 [01:35<172:41:42,  1.57it/s]\u001b[A\n",
      "Iteration:   0%|                                                                             | 148/974545 [01:36<172:55:33,  1.57it/s]\u001b[A\n",
      "Iteration:   0%|                                                                             | 149/974545 [01:36<173:50:02,  1.56it/s]\u001b[A\n",
      "Iteration:   0%|                                                                             | 150/974545 [01:37<172:48:02,  1.57it/s]\u001b[A\n",
      "Iteration:   0%|                                                                             | 151/974545 [01:38<171:34:20,  1.58it/s]\u001b[A\n",
      "Iteration:   0%|                                                                             | 152/974545 [01:38<172:22:56,  1.57it/s]\u001b[A\n",
      "Iteration:   0%|                                                                             | 153/974545 [01:39<173:32:12,  1.56it/s]\u001b[A\n",
      "Iteration:   0%|                                                                             | 154/974545 [01:40<173:35:28,  1.56it/s]\u001b[A\n",
      "Iteration:   0%|                                                                             | 155/974545 [01:40<174:10:08,  1.55it/s]\u001b[A\n",
      "Iteration:   0%|                                                                             | 156/974545 [01:41<174:23:59,  1.55it/s]\u001b[A\n",
      "Iteration:   0%|                                                                             | 157/974545 [01:42<175:11:55,  1.54it/s]\u001b[A\n",
      "Iteration:   0%|                                                                             | 158/974545 [01:42<175:04:10,  1.55it/s]\u001b[A\n",
      "Iteration:   0%|                                                                             | 159/974545 [01:43<174:55:04,  1.55it/s]\u001b[A\n",
      "Iteration:   0%|                                                                             | 160/974545 [01:43<174:55:08,  1.55it/s]\u001b[A\n",
      "Iteration:   0%|                                                                             | 161/974545 [01:44<173:00:20,  1.56it/s]\u001b[A\n",
      "Iteration:   0%|                                                                             | 162/974545 [01:45<173:28:41,  1.56it/s]\u001b[A\n",
      "Iteration:   0%|                                                                             | 163/974545 [01:45<173:57:41,  1.56it/s]\u001b[A\n",
      "Iteration:   0%|                                                                             | 164/974545 [01:46<174:24:55,  1.55it/s]\u001b[A\n",
      "Iteration:   0%|                                                                             | 165/974545 [01:47<174:28:40,  1.55it/s]\u001b[A\n",
      "Iteration:   0%|                                                                             | 166/974545 [01:47<174:37:31,  1.55it/s]\u001b[A\n",
      "Iteration:   0%|                                                                             | 167/974545 [01:48<174:36:56,  1.55it/s]\u001b[A\n",
      "Iteration:   0%|                                                                             | 168/974545 [01:49<175:35:57,  1.54it/s]\u001b[A\n",
      "Iteration:   0%|                                                                             | 169/974545 [01:49<175:19:06,  1.54it/s]\u001b[A\n",
      "Iteration:   0%|                                                                             | 170/974545 [01:50<175:15:14,  1.54it/s]\u001b[A\n",
      "Iteration:   0%|                                                                             | 171/974545 [01:51<175:58:25,  1.54it/s]\u001b[A\n",
      "Iteration:   0%|                                                                             | 172/974545 [01:51<174:01:08,  1.56it/s]\u001b[A\n",
      "Iteration:   0%|                                                                             | 173/974545 [01:52<174:23:49,  1.55it/s]\u001b[A\n",
      "Iteration:   0%|                                                                             | 174/974545 [01:52<174:32:13,  1.55it/s]\u001b[A\n",
      "Iteration:   0%|                                                                             | 175/974545 [01:53<173:15:08,  1.56it/s]\u001b[A\n",
      "Iteration:   0%|                                                                             | 176/974545 [01:54<173:42:23,  1.56it/s]\u001b[A\n",
      "Iteration:   0%|                                                                             | 177/974545 [01:54<174:00:57,  1.56it/s]\u001b[A\n",
      "Iteration:   0%|                                                                             | 178/974545 [01:55<173:59:33,  1.56it/s]\u001b[A\n",
      "Iteration:   0%|                                                                             | 179/974545 [01:56<174:29:30,  1.55it/s]\u001b[A\n",
      "Iteration:   0%|                                                                             | 180/974545 [01:56<172:31:04,  1.57it/s]\u001b[A\n",
      "Iteration:   0%|                                                                             | 181/974545 [01:57<173:05:17,  1.56it/s]\u001b[A\n",
      "Iteration:   0%|                                                                             | 182/974545 [01:58<172:13:31,  1.57it/s]\u001b[A\n",
      "Iteration:   0%|                                                                             | 183/974545 [01:58<173:19:28,  1.56it/s]\u001b[A\n",
      "Iteration:   0%|                                                                             | 184/974545 [01:59<173:31:57,  1.56it/s]\u001b[A\n",
      "Iteration:   0%|                                                                             | 185/974545 [02:00<172:25:07,  1.57it/s]\u001b[A\n",
      "Iteration:   0%|                                                                             | 186/974545 [02:00<173:10:05,  1.56it/s]\u001b[A\n",
      "Iteration:   0%|                                                                             | 187/974545 [02:01<174:53:29,  1.55it/s]\u001b[A\n",
      "Iteration:   0%|                                                                             | 188/974545 [02:01<174:20:47,  1.55it/s]\u001b[A\n",
      "Iteration:   0%|                                                                             | 189/974545 [02:02<174:30:57,  1.55it/s]\u001b[A\n",
      "Iteration:   0%|                                                                             | 190/974545 [02:03<172:44:48,  1.57it/s]\u001b[A\n",
      "Iteration:   0%|                                                                             | 191/974545 [02:03<173:22:13,  1.56it/s]\u001b[A\n",
      "Iteration:   0%|                                                                             | 192/974545 [02:04<171:46:09,  1.58it/s]\u001b[A\n",
      "Iteration:   0%|                                                                             | 193/974545 [02:05<172:29:49,  1.57it/s]\u001b[A\n",
      "Iteration:   0%|                                                                             | 194/974545 [02:05<174:24:26,  1.55it/s]\u001b[A\n",
      "Iteration:   0%|                                                                             | 195/974545 [02:06<173:03:27,  1.56it/s]\u001b[A\n",
      "Iteration:   0%|                                                                             | 196/974545 [02:07<173:14:18,  1.56it/s]\u001b[A\n",
      "Iteration:   0%|                                                                             | 197/974545 [02:07<174:35:57,  1.55it/s]\u001b[A\n",
      "Iteration:   0%|                                                                             | 198/974545 [02:08<173:07:03,  1.56it/s]\u001b[A\n",
      "Iteration:   0%|                                                                             | 199/974545 [02:08<173:03:56,  1.56it/s]\u001b[A"
     ]
    },
    {
     "name": "stdout",
     "output_type": "stream",
     "text": [
      "{\"loss\": 8.751515731811523, \"learning_rate\": 4e-05, \"epoch\": 0.00020522397631715314, \"step\": 200}\n"
     ]
    },
    {
     "name": "stderr",
     "output_type": "stream",
     "text": [
      "\n",
      "Iteration:   0%|                                                                             | 200/974545 [02:11<346:48:45,  1.28s/it]\u001b[A\n",
      "Iteration:   0%|                                                                             | 201/974545 [02:11<259:36:25,  1.04it/s]\u001b[A\n",
      "Iteration:   0%|                                                                             | 202/974545 [02:12<233:54:12,  1.16it/s]\u001b[A\n",
      "Iteration:   0%|                                                                             | 203/974545 [02:13<214:13:06,  1.26it/s]\u001b[A\n",
      "Iteration:   0%|                                                                             | 204/974545 [02:13<202:11:34,  1.34it/s]\u001b[A\n",
      "Iteration:   0%|                                                                             | 205/974545 [02:14<194:20:13,  1.39it/s]\u001b[A\n",
      "Iteration:   0%|                                                                             | 206/974545 [02:15<188:16:47,  1.44it/s]\u001b[A\n",
      "Iteration:   0%|                                                                             | 207/974545 [02:15<184:50:06,  1.46it/s]\u001b[A\n",
      "Iteration:   0%|                                                                             | 208/974545 [02:16<180:03:21,  1.50it/s]\u001b[A\n",
      "Iteration:   0%|                                                                             | 209/974545 [02:17<178:15:03,  1.52it/s]\u001b[A\n",
      "Iteration:   0%|                                                                             | 210/974545 [02:17<175:28:18,  1.54it/s]\u001b[A\n",
      "Iteration:   0%|                                                                             | 211/974545 [02:18<175:34:13,  1.54it/s]\u001b[A\n",
      "Iteration:   0%|                                                                             | 212/974545 [02:19<175:11:53,  1.54it/s]\u001b[A\n",
      "Iteration:   0%|                                                                             | 213/974545 [02:19<173:23:34,  1.56it/s]\u001b[A\n",
      "Iteration:   0%|                                                                             | 214/974545 [02:20<173:41:55,  1.56it/s]\u001b[A\n",
      "Iteration:   0%|                                                                             | 215/974545 [02:20<173:45:21,  1.56it/s]\u001b[A\n",
      "Iteration:   0%|                                                                             | 216/974545 [02:21<173:57:02,  1.56it/s]\u001b[A\n",
      "Iteration:   0%|                                                                             | 217/974545 [02:22<172:19:36,  1.57it/s]\u001b[A\n",
      "Iteration:   0%|                                                                             | 218/974545 [02:22<172:59:46,  1.56it/s]\u001b[A\n",
      "Iteration:   0%|                                                                             | 219/974545 [02:23<173:23:34,  1.56it/s]\u001b[A\n",
      "Iteration:   0%|                                                                             | 220/974545 [02:24<173:55:06,  1.56it/s]\u001b[A\n",
      "Iteration:   0%|                                                                             | 221/974545 [02:24<174:01:26,  1.56it/s]\u001b[A\n",
      "Iteration:   0%|                                                                             | 222/974545 [02:25<174:07:29,  1.55it/s]\u001b[A\n",
      "Iteration:   0%|                                                                             | 223/974545 [02:26<174:21:14,  1.55it/s]\u001b[A\n",
      "Iteration:   0%|                                                                             | 224/974545 [02:26<174:18:23,  1.55it/s]\u001b[A\n",
      "Iteration:   0%|                                                                             | 225/974545 [02:27<174:21:56,  1.55it/s]\u001b[A\n",
      "Iteration:   0%|                                                                             | 226/974545 [02:27<174:37:01,  1.55it/s]\u001b[A\n",
      "Iteration:   0%|                                                                             | 227/974545 [02:28<174:33:14,  1.55it/s]\u001b[A\n",
      "Iteration:   0%|                                                                             | 228/974545 [02:29<174:45:19,  1.55it/s]\u001b[A\n",
      "Iteration:   0%|                                                                             | 229/974545 [02:29<172:55:22,  1.57it/s]\u001b[A\n",
      "Iteration:   0%|                                                                             | 230/974545 [02:30<171:51:29,  1.57it/s]\u001b[A\n",
      "Iteration:   0%|                                                                             | 231/974545 [02:31<172:30:13,  1.57it/s]\u001b[A\n",
      "Iteration:   0%|                                                                             | 232/974545 [02:31<171:54:14,  1.57it/s]\u001b[A\n",
      "Iteration:   0%|                                                                             | 233/974545 [02:32<172:28:02,  1.57it/s]\u001b[A\n",
      "Iteration:   0%|                                                                             | 234/974545 [02:33<171:15:07,  1.58it/s]\u001b[A\n",
      "Iteration:   0%|                                                                             | 235/974545 [02:33<171:44:17,  1.58it/s]\u001b[A\n",
      "Iteration:   0%|                                                                             | 236/974545 [02:34<171:57:15,  1.57it/s]\u001b[A\n",
      "Iteration:   0%|                                                                             | 237/974545 [02:34<172:38:33,  1.57it/s]\u001b[A\n",
      "Iteration:   0%|                                                                             | 238/974545 [02:35<171:44:27,  1.58it/s]\u001b[A\n",
      "Iteration:   0%|                                                                             | 239/974545 [02:36<172:15:17,  1.57it/s]\u001b[A\n",
      "Iteration:   0%|                                                                             | 240/974545 [02:36<172:50:05,  1.57it/s]\u001b[A\n",
      "Iteration:   0%|                                                                             | 241/974545 [02:37<173:12:39,  1.56it/s]\u001b[A\n",
      "Iteration:   0%|                                                                             | 242/974545 [02:38<173:36:33,  1.56it/s]\u001b[A\n",
      "Iteration:   0%|                                                                             | 243/974545 [02:38<173:45:45,  1.56it/s]\u001b[A\n",
      "Iteration:   0%|                                                                             | 244/974545 [02:39<173:58:40,  1.56it/s]\u001b[A\n",
      "Iteration:   0%|                                                                             | 245/974545 [02:40<172:02:00,  1.57it/s]\u001b[A\n",
      "Iteration:   0%|                                                                             | 246/974545 [02:40<172:49:15,  1.57it/s]\u001b[A\n",
      "Iteration:   0%|                                                                             | 247/974545 [02:41<173:24:32,  1.56it/s]\u001b[A\n",
      "Iteration:   0%|                                                                             | 248/974545 [02:42<174:07:31,  1.55it/s]\u001b[A\n",
      "Iteration:   0%|                                                                             | 249/974545 [02:42<174:32:33,  1.55it/s]\u001b[A\n",
      "Iteration:   0%|                                                                             | 250/974545 [02:43<174:25:56,  1.55it/s]\u001b[A\n",
      "Iteration:   0%|                                                                             | 251/974545 [02:43<174:25:08,  1.55it/s]\u001b[A\n",
      "Iteration:   0%|                                                                             | 252/974545 [02:44<174:22:30,  1.55it/s]\u001b[A\n",
      "Iteration:   0%|                                                                             | 253/974545 [02:45<174:10:54,  1.55it/s]\u001b[A\n",
      "Iteration:   0%|                                                                             | 254/974545 [02:45<172:42:25,  1.57it/s]\u001b[A\n",
      "Iteration:   0%|                                                                             | 255/974545 [02:46<172:54:53,  1.57it/s]\u001b[A\n",
      "Iteration:   0%|                                                                             | 256/974545 [02:47<173:21:43,  1.56it/s]\u001b[A\n",
      "Iteration:   0%|                                                                             | 257/974545 [02:47<173:36:12,  1.56it/s]\u001b[A\n",
      "Iteration:   0%|                                                                             | 258/974545 [02:48<174:48:07,  1.55it/s]\u001b[A\n",
      "Iteration:   0%|                                                                             | 259/974545 [02:49<174:34:55,  1.55it/s]\u001b[A\n",
      "Iteration:   0%|                                                                             | 260/974545 [02:49<172:52:25,  1.57it/s]\u001b[A\n",
      "Iteration:   0%|                                                                             | 261/974545 [02:50<173:19:11,  1.56it/s]\u001b[A\n",
      "Iteration:   0%|                                                                             | 262/974545 [02:51<173:35:25,  1.56it/s]\u001b[A\n",
      "Iteration:   0%|                                                                             | 263/974545 [02:51<174:02:37,  1.55it/s]\u001b[A\n",
      "Iteration:   0%|                                                                             | 264/974545 [02:52<174:08:39,  1.55it/s]\u001b[A\n",
      "Iteration:   0%|                                                                             | 265/974545 [02:52<174:07:44,  1.55it/s]\u001b[A\n",
      "Iteration:   0%|                                                                             | 266/974545 [02:53<173:45:25,  1.56it/s]\u001b[A\n",
      "Iteration:   0%|                                                                             | 267/974545 [02:54<173:59:15,  1.56it/s]\u001b[A\n",
      "Iteration:   0%|                                                                             | 268/974545 [02:54<175:15:32,  1.54it/s]\u001b[A\n",
      "Iteration:   0%|                                                                             | 269/974545 [02:55<173:03:05,  1.56it/s]\u001b[A\n",
      "Iteration:   0%|                                                                             | 270/974545 [02:56<173:22:13,  1.56it/s]\u001b[A\n",
      "Iteration:   0%|                                                                             | 271/974545 [02:56<173:44:30,  1.56it/s]\u001b[A\n",
      "Iteration:   0%|                                                                             | 272/974545 [02:57<172:13:46,  1.57it/s]\u001b[A\n",
      "Iteration:   0%|                                                                             | 273/974545 [02:58<172:28:09,  1.57it/s]\u001b[A\n",
      "Iteration:   0%|                                                                             | 274/974545 [02:58<171:22:56,  1.58it/s]\u001b[A\n",
      "Iteration:   0%|                                                                             | 275/974545 [02:59<172:27:12,  1.57it/s]\u001b[A\n",
      "Iteration:   0%|                                                                             | 276/974545 [02:59<171:23:04,  1.58it/s]\u001b[A\n",
      "Iteration:   0%|                                                                             | 277/974545 [03:00<172:16:28,  1.57it/s]\u001b[A\n",
      "Iteration:   0%|                                                                             | 278/974545 [03:01<173:58:06,  1.56it/s]\u001b[A\n",
      "Iteration:   0%|                                                                             | 279/974545 [03:01<174:04:24,  1.55it/s]\u001b[A\n",
      "Iteration:   0%|                                                                             | 280/974545 [03:02<172:30:24,  1.57it/s]\u001b[A\n",
      "Iteration:   0%|                                                                             | 281/974545 [03:03<173:18:37,  1.56it/s]\u001b[A\n",
      "Iteration:   0%|                                                                             | 282/974545 [03:03<174:13:22,  1.55it/s]\u001b[A\n",
      "Iteration:   0%|                                                                             | 283/974545 [03:04<174:37:59,  1.55it/s]\u001b[A\n",
      "Iteration:   0%|                                                                             | 284/974545 [03:05<174:23:09,  1.55it/s]\u001b[A\n",
      "Iteration:   0%|                                                                             | 285/974545 [03:05<173:54:26,  1.56it/s]\u001b[A\n",
      "Iteration:   0%|                                                                             | 286/974545 [03:06<174:11:58,  1.55it/s]\u001b[A\n",
      "Iteration:   0%|                                                                             | 287/974545 [03:07<172:35:49,  1.57it/s]\u001b[A\n",
      "Iteration:   0%|                                                                             | 288/974545 [03:07<173:02:48,  1.56it/s]\u001b[A\n",
      "Iteration:   0%|                                                                             | 289/974545 [03:08<173:05:44,  1.56it/s]\u001b[A\n",
      "Iteration:   0%|                                                                             | 290/974545 [03:08<173:27:24,  1.56it/s]\u001b[A\n",
      "Iteration:   0%|                                                                             | 291/974545 [03:09<173:36:44,  1.56it/s]\u001b[A\n",
      "Iteration:   0%|                                                                             | 292/974545 [03:10<173:40:10,  1.56it/s]\u001b[A\n",
      "Iteration:   0%|                                                                             | 293/974545 [03:10<173:39:09,  1.56it/s]\u001b[A\n",
      "Iteration:   0%|                                                                             | 294/974545 [03:11<173:47:50,  1.56it/s]\u001b[A\n",
      "Iteration:   0%|                                                                             | 295/974545 [03:12<172:21:55,  1.57it/s]\u001b[A\n",
      "Iteration:   0%|                                                                             | 296/974545 [03:12<172:36:32,  1.57it/s]\u001b[A\n",
      "Iteration:   0%|                                                                             | 297/974545 [03:13<173:04:59,  1.56it/s]\u001b[A\n",
      "Iteration:   0%|                                                                             | 298/974545 [03:14<173:43:40,  1.56it/s]\u001b[A\n",
      "Iteration:   0%|                                                                             | 299/974545 [03:14<173:53:15,  1.56it/s]\u001b[A"
     ]
    },
    {
     "name": "stdout",
     "output_type": "stream",
     "text": [
      "{\"loss\": 8.523752863407134, \"learning_rate\": 3.5e-05, \"epoch\": 0.0003078359644757297, \"step\": 300}\n"
     ]
    },
    {
     "name": "stderr",
     "output_type": "stream",
     "text": [
      "\n",
      "Iteration:   0%|                                                                             | 300/974545 [03:17<344:15:58,  1.27s/it]\u001b[A\n",
      "Iteration:   0%|                                                                             | 301/974545 [03:17<258:05:41,  1.05it/s]\u001b[A\n",
      "Iteration:   0%|                                                                             | 302/974545 [03:18<233:04:21,  1.16it/s]\u001b[A\n",
      "Iteration:   0%|                                                                             | 303/974545 [03:18<215:47:12,  1.25it/s]\u001b[A\n",
      "Iteration:   0%|                                                                             | 304/974545 [03:19<203:16:53,  1.33it/s]\u001b[A\n",
      "Iteration:   0%|                                                                             | 305/974545 [03:20<194:33:43,  1.39it/s]\u001b[A\n",
      "Iteration:   0%|                                                                             | 306/974545 [03:20<187:55:53,  1.44it/s]\u001b[A\n",
      "Iteration:   0%|                                                                             | 307/974545 [03:21<184:01:54,  1.47it/s]\u001b[A\n",
      "Iteration:   0%|                                                                             | 308/974545 [03:22<181:04:45,  1.49it/s]\u001b[A\n",
      "Iteration:   0%|                                                                             | 309/974545 [03:22<179:49:52,  1.50it/s]\u001b[A\n",
      "Iteration:   0%|                                                                             | 310/974545 [03:23<179:15:34,  1.51it/s]\u001b[A\n",
      "Iteration:   0%|                                                                             | 311/974545 [03:24<177:13:08,  1.53it/s]\u001b[A\n",
      "Iteration:   0%|                                                                             | 312/974545 [03:24<174:45:21,  1.55it/s]\u001b[A\n",
      "Iteration:   0%|                                                                             | 313/974545 [03:25<174:58:08,  1.55it/s]\u001b[A\n",
      "Iteration:   0%|                                                                             | 314/974545 [03:26<174:47:27,  1.55it/s]\u001b[A\n",
      "Iteration:   0%|                                                                             | 315/974545 [03:26<174:56:03,  1.55it/s]\u001b[A\n",
      "Iteration:   0%|                                                                             | 316/974545 [03:27<173:16:29,  1.56it/s]\u001b[A\n",
      "Iteration:   0%|                                                                             | 317/974545 [03:27<171:45:52,  1.58it/s]\u001b[A\n",
      "Iteration:   0%|                                                                             | 318/974545 [03:28<172:23:54,  1.57it/s]\u001b[A\n",
      "Iteration:   0%|                                                                             | 319/974545 [03:29<171:10:49,  1.58it/s]\u001b[A\n",
      "Iteration:   0%|                                                                             | 320/974545 [03:29<172:26:19,  1.57it/s]\u001b[A\n",
      "Iteration:   0%|                                                                             | 321/974545 [03:30<171:19:23,  1.58it/s]\u001b[A\n",
      "Iteration:   0%|                                                                             | 322/974545 [03:31<172:15:27,  1.57it/s]\u001b[A\n",
      "Iteration:   0%|                                                                             | 323/974545 [03:31<173:05:31,  1.56it/s]\u001b[A\n",
      "Iteration:   0%|                                                                             | 324/974545 [03:32<174:05:05,  1.55it/s]\u001b[A\n",
      "Iteration:   0%|                                                                             | 325/974545 [03:33<174:08:15,  1.55it/s]\u001b[A\n",
      "Iteration:   0%|                                                                             | 326/974545 [03:33<174:13:29,  1.55it/s]\u001b[A\n",
      "Iteration:   0%|                                                                             | 327/974545 [03:34<174:17:50,  1.55it/s]\u001b[A\n",
      "Iteration:   0%|                                                                             | 328/974545 [03:35<174:04:28,  1.55it/s]\u001b[A\n",
      "Iteration:   0%|                                                                             | 329/974545 [03:35<174:19:52,  1.55it/s]\u001b[A\n",
      "Iteration:   0%|                                                                             | 330/974545 [03:36<172:48:37,  1.57it/s]\u001b[A\n",
      "Iteration:   0%|                                                                             | 331/974545 [03:36<173:22:56,  1.56it/s]\u001b[A\n",
      "Iteration:   0%|                                                                             | 332/974545 [03:37<172:05:20,  1.57it/s]\u001b[A\n",
      "Iteration:   0%|                                                                             | 333/974545 [03:38<173:29:05,  1.56it/s]\u001b[A\n",
      "Iteration:   0%|                                                                             | 334/974545 [03:38<173:55:12,  1.56it/s]\u001b[A\n",
      "Iteration:   0%|                                                                             | 335/974545 [03:39<174:00:49,  1.56it/s]\u001b[A\n",
      "Iteration:   0%|                                                                             | 336/974545 [03:40<172:18:50,  1.57it/s]\u001b[A\n",
      "Iteration:   0%|                                                                             | 337/974545 [03:40<170:36:17,  1.59it/s]\u001b[A\n",
      "Iteration:   0%|                                                                             | 338/974545 [03:41<171:39:11,  1.58it/s]\u001b[A\n",
      "Iteration:   0%|                                                                             | 339/974545 [03:42<172:28:00,  1.57it/s]\u001b[A\n",
      "Iteration:   0%|                                                                             | 340/974545 [03:42<173:09:42,  1.56it/s]\u001b[A\n",
      "Iteration:   0%|                                                                             | 341/974545 [03:43<173:28:15,  1.56it/s]\u001b[A\n",
      "Iteration:   0%|                                                                             | 342/974545 [03:43<173:46:38,  1.56it/s]\u001b[A\n",
      "Iteration:   0%|                                                                             | 343/974545 [03:44<174:41:03,  1.55it/s]\u001b[A\n",
      "Iteration:   0%|                                                                             | 344/974545 [03:45<174:48:40,  1.55it/s]\u001b[A\n",
      "Iteration:   0%|                                                                             | 345/974545 [03:45<173:03:21,  1.56it/s]\u001b[A\n",
      "Iteration:   0%|                                                                             | 346/974545 [03:46<173:28:22,  1.56it/s]\u001b[A\n",
      "Iteration:   0%|                                                                             | 347/974545 [03:47<171:50:25,  1.57it/s]\u001b[A\n",
      "Iteration:   0%|                                                                             | 348/974545 [03:47<170:58:08,  1.58it/s]\u001b[A\n",
      "Iteration:   0%|                                                                             | 349/974545 [03:48<171:56:44,  1.57it/s]\u001b[A\n",
      "Iteration:   0%|                                                                             | 350/974545 [03:49<172:38:40,  1.57it/s]\u001b[A\n",
      "Iteration:   0%|                                                                             | 351/974545 [03:49<173:43:04,  1.56it/s]\u001b[A\n",
      "Iteration:   0%|                                                                             | 352/974545 [03:50<174:20:30,  1.55it/s]\u001b[A\n",
      "Iteration:   0%|                                                                             | 353/974545 [03:51<175:21:46,  1.54it/s]\u001b[A\n",
      "Iteration:   0%|                                                                             | 354/974545 [03:51<174:58:24,  1.55it/s]\u001b[A\n",
      "Iteration:   0%|                                                                             | 355/974545 [03:52<175:38:06,  1.54it/s]\u001b[A\n",
      "Iteration:   0%|                                                                             | 356/974545 [03:52<175:03:40,  1.55it/s]\u001b[A\n",
      "Iteration:   0%|                                                                             | 357/974545 [03:53<175:51:47,  1.54it/s]\u001b[A\n",
      "Iteration:   0%|                                                                             | 358/974545 [03:54<175:45:37,  1.54it/s]\u001b[A\n",
      "Iteration:   0%|                                                                             | 359/974545 [03:54<175:19:14,  1.54it/s]\u001b[A\n",
      "Iteration:   0%|                                                                             | 360/974545 [03:55<174:32:56,  1.55it/s]\u001b[A\n",
      "Iteration:   0%|                                                                             | 361/974545 [03:56<174:27:06,  1.55it/s]\u001b[A\n",
      "Iteration:   0%|                                                                             | 362/974545 [03:56<174:23:14,  1.55it/s]\u001b[A\n",
      "Iteration:   0%|                                                                             | 363/974545 [03:57<174:18:48,  1.55it/s]\u001b[A\n",
      "Iteration:   0%|                                                                             | 364/974545 [03:58<174:24:56,  1.55it/s]\u001b[A\n",
      "Iteration:   0%|                                                                             | 365/974545 [03:58<174:24:14,  1.55it/s]\u001b[A\n",
      "Iteration:   0%|                                                                             | 366/974545 [03:59<172:42:10,  1.57it/s]\u001b[A\n",
      "Iteration:   0%|                                                                             | 367/974545 [04:00<173:57:58,  1.56it/s]\u001b[A\n",
      "Iteration:   0%|                                                                             | 368/974545 [04:00<174:58:38,  1.55it/s]\u001b[A\n",
      "Iteration:   0%|                                                                             | 369/974545 [04:01<174:27:27,  1.55it/s]\u001b[A\n",
      "Iteration:   0%|                                                                             | 370/974545 [04:01<172:33:51,  1.57it/s]\u001b[A\n",
      "Iteration:   0%|                                                                             | 371/974545 [04:02<172:34:16,  1.57it/s]\u001b[A\n",
      "Iteration:   0%|                                                                             | 372/974545 [04:03<173:55:33,  1.56it/s]\u001b[A\n",
      "Iteration:   0%|                                                                             | 373/974545 [04:03<174:06:03,  1.55it/s]\u001b[A\n",
      "Iteration:   0%|                                                                             | 374/974545 [04:04<173:48:54,  1.56it/s]\u001b[A\n",
      "Iteration:   0%|                                                                             | 375/974545 [04:05<172:14:26,  1.57it/s]\u001b[A\n",
      "Iteration:   0%|                                                                             | 376/974545 [04:05<172:48:12,  1.57it/s]\u001b[A\n",
      "Iteration:   0%|                                                                             | 377/974545 [04:06<171:29:49,  1.58it/s]\u001b[A\n",
      "Iteration:   0%|                                                                             | 378/974545 [04:07<172:32:41,  1.57it/s]\u001b[A\n",
      "Iteration:   0%|                                                                             | 379/974545 [04:07<173:50:29,  1.56it/s]\u001b[A\n",
      "Iteration:   0%|                                                                             | 380/974545 [04:08<172:19:20,  1.57it/s]\u001b[A\n",
      "Iteration:   0%|                                                                             | 381/974545 [04:09<173:52:53,  1.56it/s]\u001b[A\n",
      "Iteration:   0%|                                                                             | 382/974545 [04:09<172:22:35,  1.57it/s]\u001b[A\n",
      "Iteration:   0%|                                                                             | 383/974545 [04:10<172:54:34,  1.56it/s]\u001b[A\n",
      "Iteration:   0%|                                                                             | 384/974545 [04:10<173:45:27,  1.56it/s]\u001b[A\n",
      "Iteration:   0%|                                                                             | 385/974545 [04:11<173:50:45,  1.56it/s]\u001b[A\n",
      "Iteration:   0%|                                                                             | 386/974545 [04:12<173:53:30,  1.56it/s]\u001b[A\n",
      "Iteration:   0%|                                                                             | 387/974545 [04:12<174:05:13,  1.55it/s]\u001b[A\n",
      "Iteration:   0%|                                                                             | 388/974545 [04:13<174:01:03,  1.56it/s]\u001b[A\n",
      "Iteration:   0%|                                                                             | 389/974545 [04:14<174:06:17,  1.55it/s]\u001b[A\n",
      "Iteration:   0%|                                                                             | 390/974545 [04:14<174:05:36,  1.55it/s]\u001b[A\n",
      "Iteration:   0%|                                                                             | 391/974545 [04:15<174:16:17,  1.55it/s]\u001b[A\n",
      "Iteration:   0%|                                                                             | 392/974545 [04:16<174:16:09,  1.55it/s]\u001b[A\n",
      "Iteration:   0%|                                                                             | 393/974545 [04:16<172:38:24,  1.57it/s]\u001b[A\n",
      "Iteration:   0%|                                                                             | 394/974545 [04:17<174:00:04,  1.56it/s]\u001b[A\n",
      "Iteration:   0%|                                                                             | 395/974545 [04:17<174:01:28,  1.55it/s]\u001b[A\n",
      "Iteration:   0%|                                                                             | 396/974545 [04:18<174:03:26,  1.55it/s]\u001b[A\n",
      "Iteration:   0%|                                                                             | 397/974545 [04:19<174:08:15,  1.55it/s]\u001b[A\n",
      "Iteration:   0%|                                                                             | 398/974545 [04:19<175:00:18,  1.55it/s]\u001b[A\n",
      "Iteration:   0%|                                                                             | 399/974545 [04:20<174:16:35,  1.55it/s]\u001b[A"
     ]
    },
    {
     "name": "stdout",
     "output_type": "stream",
     "text": [
      "{\"loss\": 8.185723249912263, \"learning_rate\": 3e-05, \"epoch\": 0.0004104479526343063, \"step\": 400}\n"
     ]
    },
    {
     "name": "stderr",
     "output_type": "stream",
     "text": [
      "\n",
      "Iteration:   0%|                                                                             | 400/974545 [04:23<344:53:51,  1.27s/it]\u001b[A\n",
      "Iteration:   0%|                                                                             | 401/974545 [04:23<258:21:04,  1.05it/s]\u001b[A\n",
      "Iteration:   0%|                                                                             | 402/974545 [04:24<233:49:51,  1.16it/s]\u001b[A\n",
      "Iteration:   0%|                                                                             | 403/974545 [04:24<216:07:01,  1.25it/s]\u001b[A\n",
      "Iteration:   0%|                                                                             | 404/974545 [04:25<204:27:31,  1.32it/s]\u001b[A\n",
      "Iteration:   0%|                                                                             | 405/974545 [04:26<195:24:15,  1.38it/s]\u001b[A\n",
      "Iteration:   0%|                                                                             | 406/974545 [04:26<189:28:24,  1.43it/s]\u001b[A\n",
      "Iteration:   0%|                                                                             | 407/974545 [04:27<185:04:58,  1.46it/s]\u001b[A\n",
      "Iteration:   0%|                                                                             | 408/974545 [04:28<181:47:54,  1.49it/s]\u001b[A\n",
      "Iteration:   0%|                                                                             | 409/974545 [04:28<179:44:29,  1.51it/s]\u001b[A\n",
      "Iteration:   0%|                                                                             | 410/974545 [04:29<178:33:39,  1.52it/s]\u001b[A\n",
      "Iteration:   0%|                                                                             | 411/974545 [04:29<175:56:44,  1.54it/s]\u001b[A\n",
      "Iteration:   0%|                                                                             | 412/974545 [04:30<176:15:25,  1.54it/s]\u001b[A\n",
      "Iteration:   0%|                                                                             | 413/974545 [04:31<175:18:10,  1.54it/s]\u001b[A\n",
      "Iteration:   0%|                                                                             | 414/974545 [04:31<175:07:50,  1.55it/s]\u001b[A\n",
      "Iteration:   0%|                                                                             | 415/974545 [04:32<174:38:08,  1.55it/s]\u001b[A\n",
      "Iteration:   0%|                                                                             | 416/974545 [04:33<174:37:56,  1.55it/s]\u001b[A\n",
      "Iteration:   0%|                                                                             | 417/974545 [04:33<174:48:18,  1.55it/s]\u001b[A\n",
      "Iteration:   0%|                                                                             | 418/974545 [04:34<174:35:27,  1.55it/s]\u001b[A\n",
      "Iteration:   0%|                                                                             | 419/974545 [04:35<174:32:32,  1.55it/s]\u001b[A\n",
      "Iteration:   0%|                                                                             | 420/974545 [04:35<175:00:26,  1.55it/s]\u001b[A\n",
      "Iteration:   0%|                                                                             | 421/974545 [04:36<174:48:48,  1.55it/s]\u001b[A\n",
      "Iteration:   0%|                                                                             | 422/974545 [04:37<174:33:08,  1.55it/s]\u001b[A\n",
      "Iteration:   0%|                                                                             | 423/974545 [04:37<174:27:51,  1.55it/s]\u001b[A\n",
      "Iteration:   0%|                                                                             | 424/974545 [04:38<172:46:14,  1.57it/s]\u001b[A\n",
      "Iteration:   0%|                                                                             | 425/974545 [04:38<171:39:07,  1.58it/s]\u001b[A\n",
      "Iteration:   0%|                                                                             | 426/974545 [04:39<172:11:06,  1.57it/s]\u001b[A\n",
      "Iteration:   0%|                                                                             | 427/974545 [04:40<173:41:17,  1.56it/s]\u001b[A\n",
      "Iteration:   0%|                                                                             | 428/974545 [04:40<174:18:04,  1.55it/s]\u001b[A\n",
      "Iteration:   0%|                                                                             | 429/974545 [04:41<174:05:02,  1.55it/s]\u001b[A\n",
      "Iteration:   0%|                                                                             | 430/974545 [04:42<174:19:46,  1.55it/s]\u001b[A\n",
      "Iteration:   0%|                                                                             | 431/974545 [04:42<174:29:35,  1.55it/s]\u001b[A\n",
      "Iteration:   0%|                                                                             | 432/974545 [04:43<174:33:01,  1.55it/s]\u001b[A\n",
      "Iteration:   0%|                                                                             | 433/974545 [04:44<174:33:29,  1.55it/s]\u001b[A\n",
      "Iteration:   0%|                                                                             | 434/974545 [04:44<173:01:57,  1.56it/s]\u001b[A\n",
      "Iteration:   0%|                                                                             | 435/974545 [04:45<173:29:48,  1.56it/s]\u001b[A\n",
      "Iteration:   0%|                                                                             | 436/974545 [04:46<173:56:47,  1.56it/s]\u001b[A\n",
      "Iteration:   0%|                                                                             | 437/974545 [04:46<172:23:49,  1.57it/s]\u001b[A\n",
      "Iteration:   0%|                                                                             | 438/974545 [04:47<171:26:31,  1.58it/s]\u001b[A\n",
      "Iteration:   0%|                                                                             | 439/974545 [04:47<173:02:24,  1.56it/s]\u001b[A\n",
      "Iteration:   0%|                                                                             | 440/974545 [04:48<173:23:06,  1.56it/s]\u001b[A\n",
      "Iteration:   0%|                                                                             | 441/974545 [04:49<173:39:43,  1.56it/s]\u001b[A\n",
      "Iteration:   0%|                                                                             | 442/974545 [04:49<173:52:31,  1.56it/s]\u001b[A\n",
      "Iteration:   0%|                                                                             | 443/974545 [04:50<173:40:41,  1.56it/s]\u001b[A\n",
      "Iteration:   0%|                                                                             | 444/974545 [04:51<173:18:59,  1.56it/s]\u001b[A\n",
      "Iteration:   0%|                                                                             | 445/974545 [04:51<173:55:45,  1.56it/s]\u001b[A\n",
      "Iteration:   0%|                                                                             | 446/974545 [04:52<174:11:45,  1.55it/s]\u001b[A\n",
      "Iteration:   0%|                                                                             | 447/974545 [04:53<174:26:15,  1.55it/s]\u001b[A\n",
      "Iteration:   0%|                                                                             | 448/974545 [04:53<174:17:05,  1.55it/s]\u001b[A\n",
      "Iteration:   0%|                                                                             | 449/974545 [04:54<175:27:15,  1.54it/s]\u001b[A\n",
      "Iteration:   0%|                                                                             | 450/974545 [04:55<175:18:25,  1.54it/s]\u001b[A\n",
      "Iteration:   0%|                                                                             | 451/974545 [04:55<174:57:57,  1.55it/s]\u001b[A\n",
      "Iteration:   0%|                                                                             | 452/974545 [04:56<174:29:18,  1.55it/s]\u001b[A\n",
      "Iteration:   0%|                                                                             | 453/974545 [04:56<174:13:44,  1.55it/s]\u001b[A\n",
      "Iteration:   0%|                                                                             | 454/974545 [04:57<173:54:00,  1.56it/s]\u001b[A\n",
      "Iteration:   0%|                                                                             | 455/974545 [04:58<173:56:35,  1.56it/s]\u001b[A\n",
      "Iteration:   0%|                                                                             | 456/974545 [04:58<173:59:28,  1.56it/s]\u001b[A\n",
      "Iteration:   0%|                                                                             | 457/974545 [04:59<174:40:28,  1.55it/s]\u001b[A\n",
      "Iteration:   0%|                                                                             | 458/974545 [05:00<174:35:28,  1.55it/s]\u001b[A\n",
      "Iteration:   0%|                                                                             | 459/974545 [05:00<174:27:30,  1.55it/s]\u001b[A\n",
      "Iteration:   0%|                                                                             | 460/974545 [05:01<174:39:46,  1.55it/s]\u001b[A\n",
      "Iteration:   0%|                                                                             | 461/974545 [05:02<172:44:45,  1.57it/s]\u001b[A\n",
      "Iteration:   0%|                                                                             | 462/974545 [05:02<173:20:14,  1.56it/s]\u001b[A\n",
      "Iteration:   0%|                                                                             | 463/974545 [05:03<174:51:08,  1.55it/s]\u001b[A\n",
      "Iteration:   0%|                                                                             | 464/974545 [05:04<174:41:32,  1.55it/s]\u001b[A\n",
      "Iteration:   0%|                                                                             | 465/974545 [05:04<174:33:06,  1.55it/s]\u001b[A\n",
      "Iteration:   0%|                                                                             | 466/974545 [05:05<174:44:05,  1.55it/s]\u001b[A\n",
      "Iteration:   0%|                                                                             | 467/974545 [05:06<174:45:01,  1.55it/s]\u001b[A\n",
      "Iteration:   0%|                                                                             | 468/974545 [05:06<174:08:14,  1.55it/s]\u001b[A\n",
      "Iteration:   0%|                                                                             | 469/974545 [05:07<173:39:34,  1.56it/s]\u001b[A\n",
      "Iteration:   0%|                                                                             | 470/974545 [05:07<173:59:24,  1.56it/s]\u001b[A\n",
      "Iteration:   0%|                                                                             | 471/974545 [05:08<174:16:44,  1.55it/s]\u001b[A\n",
      "Iteration:   0%|                                                                             | 472/974545 [05:09<174:05:50,  1.55it/s]\u001b[A\n",
      "Iteration:   0%|                                                                             | 473/974545 [05:09<174:09:17,  1.55it/s]\u001b[A\n",
      "Iteration:   0%|                                                                             | 474/974545 [05:10<175:22:09,  1.54it/s]\u001b[A\n",
      "Iteration:   0%|                                                                             | 475/974545 [05:11<173:30:50,  1.56it/s]\u001b[A\n",
      "Iteration:   0%|                                                                             | 476/974545 [05:11<173:38:36,  1.56it/s]\u001b[A\n",
      "Iteration:   0%|                                                                             | 477/974545 [05:12<173:45:53,  1.56it/s]\u001b[A\n",
      "Iteration:   0%|                                                                             | 478/974545 [05:13<174:13:50,  1.55it/s]\u001b[A\n",
      "Iteration:   0%|                                                                             | 479/974545 [05:13<172:28:34,  1.57it/s]\u001b[A\n",
      "Iteration:   0%|                                                                             | 480/974545 [05:14<173:14:13,  1.56it/s]\u001b[A\n",
      "Iteration:   0%|                                                                             | 481/974545 [05:15<173:42:09,  1.56it/s]\u001b[A\n",
      "Iteration:   0%|                                                                             | 482/974545 [05:15<173:47:24,  1.56it/s]\u001b[A\n",
      "Iteration:   0%|                                                                             | 483/974545 [05:16<174:02:00,  1.55it/s]\u001b[A\n",
      "Iteration:   0%|                                                                             | 484/974545 [05:16<174:10:07,  1.55it/s]\u001b[A\n",
      "Iteration:   0%|                                                                             | 485/974545 [05:17<172:20:05,  1.57it/s]\u001b[A\n",
      "Iteration:   0%|                                                                             | 486/974545 [05:18<172:33:17,  1.57it/s]\u001b[A\n",
      "Iteration:   0%|                                                                             | 487/974545 [05:18<173:02:10,  1.56it/s]\u001b[A\n",
      "Iteration:   0%|                                                                             | 488/974545 [05:19<173:20:00,  1.56it/s]\u001b[A\n",
      "Iteration:   0%|                                                                             | 489/974545 [05:20<172:10:29,  1.57it/s]\u001b[A\n",
      "Iteration:   0%|                                                                             | 490/974545 [05:20<171:15:30,  1.58it/s]\u001b[A\n",
      "Iteration:   0%|                                                                             | 491/974545 [05:21<172:08:48,  1.57it/s]\u001b[A\n",
      "Iteration:   0%|                                                                             | 492/974545 [05:22<172:51:49,  1.57it/s]\u001b[A\n",
      "Iteration:   0%|                                                                             | 493/974545 [05:22<172:59:57,  1.56it/s]\u001b[A\n",
      "Iteration:   0%|                                                                             | 494/974545 [05:23<173:30:38,  1.56it/s]\u001b[A\n",
      "Iteration:   0%|                                                                             | 495/974545 [05:23<173:47:34,  1.56it/s]\u001b[A\n",
      "Iteration:   0%|                                                                             | 496/974545 [05:24<173:50:49,  1.56it/s]\u001b[A\n",
      "Iteration:   0%|                                                                             | 497/974545 [05:25<174:04:27,  1.55it/s]\u001b[A\n",
      "Iteration:   0%|                                                                             | 498/974545 [05:25<174:18:24,  1.55it/s]\u001b[A\n",
      "Iteration:   0%|                                                                             | 499/974545 [05:26<173:58:43,  1.56it/s]\u001b[A"
     ]
    },
    {
     "name": "stdout",
     "output_type": "stream",
     "text": [
      "{\"loss\": NaN, \"learning_rate\": 2.5e-05, \"epoch\": 0.0005130599407928828, \"step\": 500}\n"
     ]
    },
    {
     "name": "stderr",
     "output_type": "stream",
     "text": [
      "\n",
      "Iteration:   0%|                                                                             | 500/974545 [05:29<349:34:58,  1.29s/it]\u001b[A\n",
      "Iteration:   0%|                                                                             | 501/974545 [05:29<262:05:07,  1.03it/s]\u001b[A\n",
      "Iteration:   0%|                                                                             | 502/974545 [05:30<235:32:52,  1.15it/s]\u001b[A\n",
      "Iteration:   0%|                                                                             | 503/974545 [05:30<217:09:01,  1.25it/s]\u001b[A\n",
      "Iteration:   0%|                                                                             | 504/974545 [05:31<204:30:47,  1.32it/s]\u001b[A\n",
      "Iteration:   0%|                                                                             | 505/974545 [05:32<194:00:54,  1.39it/s]\u001b[A\n",
      "Iteration:   0%|                                                                             | 506/974545 [05:32<188:15:56,  1.44it/s]\u001b[A\n",
      "Iteration:   0%|                                                                             | 507/974545 [05:33<183:40:52,  1.47it/s]\u001b[A\n",
      "Iteration:   0%|                                                                             | 508/974545 [05:34<180:48:00,  1.50it/s]\u001b[A\n",
      "Iteration:   0%|                                                                             | 509/974545 [05:34<179:02:23,  1.51it/s]\u001b[A\n",
      "Iteration:   0%|                                                                             | 510/974545 [05:35<177:22:18,  1.53it/s]\u001b[A\n",
      "Iteration:   0%|                                                                             | 511/974545 [05:35<174:47:45,  1.55it/s]\u001b[A\n",
      "Iteration:   0%|                                                                             | 512/974545 [05:36<172:40:25,  1.57it/s]\u001b[A\n",
      "Iteration:   0%|                                                                             | 513/974545 [05:37<173:05:02,  1.56it/s]\u001b[A\n",
      "Iteration:   0%|                                                                             | 514/974545 [05:37<173:32:11,  1.56it/s]\u001b[A\n",
      "Iteration:   0%|                                                                             | 515/974545 [05:38<173:48:38,  1.56it/s]\u001b[A\n",
      "Iteration:   0%|                                                                             | 516/974545 [05:39<172:32:37,  1.57it/s]\u001b[A\n",
      "Iteration:   0%|                                                                             | 517/974545 [05:39<173:12:09,  1.56it/s]\u001b[A\n",
      "Iteration:   0%|                                                                             | 518/974545 [05:40<172:09:50,  1.57it/s]\u001b[A\n",
      "Iteration:   0%|                                                                             | 519/974545 [05:41<173:16:17,  1.56it/s]\u001b[A\n",
      "Iteration:   0%|                                                                             | 520/974545 [05:41<173:01:48,  1.56it/s]\u001b[A\n",
      "Iteration:   0%|                                                                             | 521/974545 [05:42<172:05:09,  1.57it/s]\u001b[A\n",
      "Iteration:   0%|                                                                             | 522/974545 [05:42<172:33:35,  1.57it/s]\u001b[A\n",
      "Iteration:   0%|                                                                             | 523/974545 [05:43<173:02:52,  1.56it/s]\u001b[A\n",
      "Iteration:   0%|                                                                             | 524/974545 [05:44<173:21:16,  1.56it/s]\u001b[A\n",
      "Iteration:   0%|                                                                             | 525/974545 [05:44<173:20:13,  1.56it/s]\u001b[A\n",
      "Iteration:   0%|                                                                             | 526/974545 [05:45<173:41:40,  1.56it/s]\u001b[A\n",
      "Iteration:   0%|                                                                             | 527/974545 [05:46<173:31:11,  1.56it/s]\u001b[A\n",
      "Iteration:   0%|                                                                             | 528/974545 [05:46<173:43:20,  1.56it/s]\u001b[A\n",
      "Iteration:   0%|                                                                             | 529/974545 [05:47<174:00:59,  1.55it/s]\u001b[A\n",
      "Iteration:   0%|                                                                             | 530/974545 [05:48<175:10:01,  1.54it/s]\u001b[A\n",
      "Iteration:   0%|                                                                             | 531/974545 [05:48<174:45:50,  1.55it/s]\u001b[A\n",
      "Iteration:   0%|                                                                             | 532/974545 [05:49<174:18:24,  1.55it/s]\u001b[A\n",
      "Iteration:   0%|                                                                             | 533/974545 [05:50<174:22:58,  1.55it/s]\u001b[A\n",
      "Iteration:   0%|                                                                             | 534/974545 [05:50<174:20:55,  1.55it/s]\u001b[A\n",
      "Iteration:   0%|                                                                             | 535/974545 [05:51<174:30:40,  1.55it/s]\u001b[A\n",
      "Iteration:   0%|                                                                             | 536/974545 [05:51<174:29:23,  1.55it/s]\u001b[A\n",
      "Iteration:   0%|                                                                             | 537/974545 [05:52<174:38:05,  1.55it/s]\u001b[A\n",
      "Iteration:   0%|                                                                             | 538/974545 [05:53<172:51:11,  1.57it/s]\u001b[A\n",
      "Iteration:   0%|                                                                             | 539/974545 [05:53<174:00:04,  1.55it/s]\u001b[A\n",
      "Iteration:   0%|                                                                             | 540/974545 [05:54<172:35:37,  1.57it/s]\u001b[A\n",
      "Iteration:   0%|                                                                             | 541/974545 [05:55<173:57:52,  1.56it/s]\u001b[A\n",
      "Iteration:   0%|                                                                             | 542/974545 [05:55<174:07:49,  1.55it/s]\u001b[A\n",
      "Iteration:   0%|                                                                             | 543/974545 [05:56<174:33:28,  1.55it/s]\u001b[A\n",
      "Iteration:   0%|                                                                             | 544/974545 [05:57<175:03:16,  1.55it/s]\u001b[A\n",
      "Iteration:   0%|                                                                             | 545/974545 [05:57<174:31:15,  1.55it/s]\u001b[A\n",
      "Iteration:   0%|                                                                             | 546/974545 [05:58<174:26:15,  1.55it/s]\u001b[A\n",
      "Iteration:   0%|                                                                             | 547/974545 [05:59<174:26:31,  1.55it/s]\u001b[A\n",
      "Iteration:   0%|                                                                             | 548/974545 [05:59<175:01:30,  1.55it/s]\u001b[A\n",
      "Iteration:   0%|                                                                             | 549/974545 [06:00<174:48:46,  1.55it/s]\u001b[A\n",
      "Iteration:   0%|                                                                             | 550/974545 [06:01<174:44:31,  1.55it/s]\u001b[A\n",
      "Iteration:   0%|                                                                             | 551/974545 [06:01<174:34:57,  1.55it/s]\u001b[A\n",
      "Iteration:   0%|                                                                             | 552/974545 [06:02<174:28:18,  1.55it/s]\u001b[A\n",
      "Iteration:   0%|                                                                             | 553/974545 [06:02<174:22:43,  1.55it/s]\u001b[A\n",
      "Iteration:   0%|                                                                             | 554/974545 [06:03<174:17:32,  1.55it/s]\u001b[A\n",
      "Iteration:   0%|                                                                             | 555/974545 [06:04<172:27:45,  1.57it/s]\u001b[A\n",
      "Iteration:   0%|                                                                             | 556/974545 [06:04<172:55:43,  1.56it/s]\u001b[A\n",
      "Iteration:   0%|                                                                             | 557/974545 [06:05<173:16:14,  1.56it/s]\u001b[A\n",
      "Iteration:   0%|                                                                             | 558/974545 [06:06<173:35:50,  1.56it/s]\u001b[A\n",
      "Iteration:   0%|                                                                             | 559/974545 [06:06<171:58:34,  1.57it/s]\u001b[A\n",
      "Iteration:   0%|                                                                             | 560/974545 [06:07<172:37:23,  1.57it/s]\u001b[A\n",
      "Iteration:   0%|                                                                             | 561/974545 [06:08<171:36:23,  1.58it/s]\u001b[A\n",
      "Iteration:   0%|                                                                             | 562/974545 [06:08<171:47:59,  1.57it/s]\u001b[A\n",
      "Iteration:   0%|                                                                             | 563/974545 [06:09<172:30:33,  1.57it/s]\u001b[A\n",
      "Iteration:   0%|                                                                             | 564/974545 [06:09<172:59:39,  1.56it/s]\u001b[A\n",
      "Iteration:   0%|                                                                             | 565/974545 [06:10<173:02:07,  1.56it/s]\u001b[A\n",
      "Iteration:   0%|                                                                             | 566/974545 [06:11<173:24:00,  1.56it/s]\u001b[A\n",
      "Iteration:   0%|                                                                             | 567/974545 [06:11<173:37:26,  1.56it/s]\u001b[A\n",
      "Iteration:   0%|                                                                             | 568/974545 [06:12<173:45:43,  1.56it/s]\u001b[A\n",
      "Iteration:   0%|                                                                             | 569/974545 [06:13<173:57:59,  1.56it/s]\u001b[A\n",
      "Iteration:   0%|                                                                             | 570/974545 [06:13<172:31:32,  1.57it/s]\u001b[A\n",
      "Iteration:   0%|                                                                             | 571/974545 [06:14<172:26:24,  1.57it/s]\u001b[A\n",
      "Iteration:   0%|                                                                             | 572/974545 [06:15<172:33:43,  1.57it/s]\u001b[A\n",
      "Iteration:   0%|                                                                             | 573/974545 [06:15<171:25:05,  1.58it/s]\u001b[A\n",
      "Iteration:   0%|                                                                             | 574/974545 [06:16<172:10:31,  1.57it/s]\u001b[A\n",
      "Iteration:   0%|                                                                             | 575/974545 [06:16<172:47:42,  1.57it/s]\u001b[A\n",
      "Iteration:   0%|                                                                             | 576/974545 [06:17<173:10:01,  1.56it/s]\u001b[A\n",
      "Iteration:   0%|                                                                             | 577/974545 [06:18<173:00:50,  1.56it/s]\u001b[A\n",
      "Iteration:   0%|                                                                             | 578/974545 [06:18<173:32:02,  1.56it/s]\u001b[A\n",
      "Iteration:   0%|                                                                             | 579/974545 [06:19<173:43:05,  1.56it/s]\u001b[A\n",
      "Iteration:   0%|                                                                             | 580/974545 [06:20<173:53:27,  1.56it/s]\u001b[A\n",
      "Iteration:   0%|                                                                             | 581/974545 [06:20<172:12:33,  1.57it/s]\u001b[A\n",
      "Iteration:   0%|                                                                             | 582/974545 [06:21<171:10:10,  1.58it/s]\u001b[A\n",
      "Iteration:   0%|                                                                             | 583/974545 [06:22<172:57:32,  1.56it/s]\u001b[A\n",
      "Iteration:   0%|                                                                             | 584/974545 [06:22<171:38:48,  1.58it/s]\u001b[A\n",
      "Iteration:   0%|                                                                             | 585/974545 [06:23<170:31:42,  1.59it/s]\u001b[A\n",
      "Iteration:   0%|                                                                             | 586/974545 [06:23<172:18:08,  1.57it/s]\u001b[A\n",
      "Iteration:   0%|                                                                             | 587/974545 [06:24<171:25:12,  1.58it/s]\u001b[A\n",
      "Iteration:   0%|                                                                             | 588/974545 [06:25<170:48:58,  1.58it/s]\u001b[A\n",
      "Iteration:   0%|                                                                             | 589/974545 [06:25<171:50:34,  1.57it/s]\u001b[A\n",
      "Iteration:   0%|                                                                             | 590/974545 [06:26<172:34:26,  1.57it/s]\u001b[A\n",
      "Iteration:   0%|                                                                             | 591/974545 [06:27<173:04:21,  1.56it/s]\u001b[A\n",
      "Iteration:   0%|                                                                             | 592/974545 [06:27<174:15:46,  1.55it/s]\u001b[A\n",
      "Iteration:   0%|                                                                             | 593/974545 [06:28<174:15:01,  1.55it/s]\u001b[A\n",
      "Iteration:   0%|                                                                             | 594/974545 [06:29<174:15:11,  1.55it/s]\u001b[A\n",
      "Iteration:   0%|                                                                             | 595/974545 [06:29<174:37:38,  1.55it/s]\u001b[A\n",
      "Iteration:   0%|                                                                             | 596/974545 [06:30<174:32:24,  1.55it/s]\u001b[A\n",
      "Iteration:   0%|                                                                             | 597/974545 [06:31<174:34:53,  1.55it/s]\u001b[A\n",
      "Iteration:   0%|                                                                             | 598/974545 [06:31<174:00:57,  1.55it/s]\u001b[A\n",
      "Iteration:   0%|                                                                             | 599/974545 [06:32<174:02:25,  1.55it/s]\u001b[A"
     ]
    },
    {
     "name": "stdout",
     "output_type": "stream",
     "text": [
      "{\"loss\": NaN, \"learning_rate\": 2e-05, \"epoch\": 0.0006156719289514594, \"step\": 600}\n"
     ]
    },
    {
     "name": "stderr",
     "output_type": "stream",
     "text": [
      "\n",
      "Iteration:   0%|                                                                             | 600/974545 [06:35<346:50:54,  1.28s/it]\u001b[A\n",
      "Iteration:   0%|                                                                             | 601/974545 [06:35<259:38:16,  1.04it/s]\u001b[A\n",
      "Iteration:   0%|                                                                             | 602/974545 [06:35<233:47:00,  1.16it/s]\u001b[A\n",
      "Iteration:   0%|                                                                             | 603/974545 [06:36<214:16:50,  1.26it/s]\u001b[A\n",
      "Iteration:   0%|                                                                             | 604/974545 [06:37<200:27:38,  1.35it/s]\u001b[A\n",
      "Iteration:   0%|                                                                             | 605/974545 [06:37<190:53:22,  1.42it/s]\u001b[A\n",
      "Iteration:   0%|                                                                             | 606/974545 [06:38<184:11:02,  1.47it/s]\u001b[A\n",
      "Iteration:   0%|                                                                             | 607/974545 [06:39<180:57:32,  1.50it/s]\u001b[A\n",
      "Iteration:   0%|                                                                             | 608/974545 [06:39<178:55:22,  1.51it/s]\u001b[A\n",
      "Iteration:   0%|                                                                             | 609/974545 [06:40<177:28:52,  1.52it/s]\u001b[A\n",
      "Iteration:   0%|                                                                             | 610/974545 [06:41<177:14:05,  1.53it/s]\u001b[A\n",
      "Iteration:   0%|                                                                             | 611/974545 [06:41<176:17:45,  1.53it/s]\u001b[A\n",
      "Iteration:   0%|                                                                             | 612/974545 [06:42<175:36:49,  1.54it/s]\u001b[A\n",
      "Iteration:   0%|                                                                             | 613/974545 [06:42<174:54:57,  1.55it/s]\u001b[A\n",
      "Iteration:   0%|                                                                             | 614/974545 [06:43<172:38:27,  1.57it/s]\u001b[A\n",
      "Iteration:   0%|                                                                             | 615/974545 [06:44<172:47:29,  1.57it/s]\u001b[A\n",
      "Iteration:   0%|                                                                             | 616/974545 [06:44<171:41:46,  1.58it/s]\u001b[A\n",
      "Iteration:   0%|                                                                             | 617/974545 [06:45<172:25:19,  1.57it/s]\u001b[A\n",
      "Iteration:   0%|                                                                             | 618/974545 [06:46<172:58:31,  1.56it/s]\u001b[A\n",
      "Iteration:   0%|                                                                             | 619/974545 [06:46<173:19:07,  1.56it/s]\u001b[A\n",
      "Iteration:   0%|                                                                             | 620/974545 [06:47<173:13:18,  1.56it/s]\u001b[A\n",
      "Iteration:   0%|                                                                             | 621/974545 [06:48<171:42:40,  1.58it/s]\u001b[A\n",
      "Iteration:   0%|                                                                             | 622/974545 [06:48<170:56:48,  1.58it/s]\u001b[A\n",
      "Iteration:   0%|                                                                             | 623/974545 [06:49<172:07:06,  1.57it/s]\u001b[A\n",
      "Iteration:   0%|                                                                             | 624/974545 [06:49<173:47:10,  1.56it/s]\u001b[A\n",
      "Iteration:   0%|                                                                             | 625/974545 [06:50<173:52:18,  1.56it/s]\u001b[A\n",
      "Iteration:   0%|                                                                             | 626/974545 [06:51<174:31:39,  1.55it/s]\u001b[A\n",
      "Iteration:   0%|                                                                             | 627/974545 [06:51<174:25:16,  1.55it/s]\u001b[A\n",
      "Iteration:   0%|                                                                             | 628/974545 [06:52<174:19:14,  1.55it/s]\u001b[A\n",
      "Iteration:   0%|                                                                             | 629/974545 [06:53<172:36:20,  1.57it/s]\u001b[A\n",
      "Iteration:   0%|                                                                             | 630/974545 [06:53<173:05:53,  1.56it/s]\u001b[A\n",
      "Iteration:   0%|                                                                             | 631/974545 [06:54<174:06:45,  1.55it/s]\u001b[A\n",
      "Iteration:   0%|                                                                             | 632/974545 [06:55<174:09:44,  1.55it/s]\u001b[A\n",
      "Iteration:   0%|                                                                             | 633/974545 [06:55<174:07:06,  1.55it/s]\u001b[A\n",
      "Iteration:   0%|                                                                             | 634/974545 [06:56<174:07:14,  1.55it/s]\u001b[A\n",
      "Iteration:   0%|                                                                             | 635/974545 [06:57<174:07:19,  1.55it/s]\u001b[A\n",
      "Iteration:   0%|                                                                             | 636/974545 [06:57<173:58:55,  1.55it/s]\u001b[A\n",
      "Iteration:   0%|                                                                             | 637/974545 [06:58<174:00:22,  1.55it/s]\u001b[A\n",
      "Iteration:   0%|                                                                             | 638/974545 [06:58<174:02:19,  1.55it/s]\u001b[A\n",
      "Iteration:   0%|                                                                             | 639/974545 [06:59<173:42:46,  1.56it/s]\u001b[A\n",
      "Iteration:   0%|                                                                             | 640/974545 [07:00<174:14:29,  1.55it/s]\u001b[A\n",
      "Iteration:   0%|                                                                             | 641/974545 [07:00<174:11:29,  1.55it/s]\u001b[A\n",
      "Iteration:   0%|                                                                             | 642/974545 [07:01<172:31:59,  1.57it/s]\u001b[A\n",
      "Iteration:   0%|                                                                             | 643/974545 [07:02<173:05:16,  1.56it/s]\u001b[A\n",
      "Iteration:   0%|                                                                             | 644/974545 [07:02<173:09:12,  1.56it/s]\u001b[A\n",
      "Iteration:   0%|                                                                             | 645/974545 [07:03<171:45:48,  1.58it/s]\u001b[A\n",
      "Iteration:   0%|                                                                             | 646/974545 [07:04<172:47:09,  1.57it/s]\u001b[A\n",
      "Iteration:   0%|                                                                             | 647/974545 [07:04<174:17:37,  1.55it/s]\u001b[A\n",
      "Iteration:   0%|                                                                             | 648/974545 [07:05<172:35:30,  1.57it/s]\u001b[A\n",
      "Iteration:   0%|                                                                             | 649/974545 [07:05<172:41:05,  1.57it/s]\u001b[A\n",
      "Iteration:   0%|                                                                             | 650/974545 [07:06<173:22:52,  1.56it/s]\u001b[A\n",
      "Iteration:   0%|                                                                             | 651/974545 [07:07<174:08:30,  1.55it/s]\u001b[A\n",
      "Iteration:   0%|                                                                             | 652/974545 [07:07<174:53:50,  1.55it/s]\u001b[A\n",
      "Iteration:   0%|                                                                             | 653/974545 [07:08<175:32:37,  1.54it/s]\u001b[A\n",
      "Iteration:   0%|                                                                             | 654/974545 [07:09<176:19:07,  1.53it/s]\u001b[A\n",
      "Iteration:   0%|                                                                             | 655/974545 [07:09<175:37:33,  1.54it/s]\u001b[A\n",
      "Iteration:   0%|                                                                             | 656/974545 [07:10<173:32:42,  1.56it/s]\u001b[A\n",
      "Iteration:   0%|                                                                             | 657/974545 [07:11<173:22:01,  1.56it/s]\u001b[A\n",
      "Iteration:   0%|                                                                             | 658/974545 [07:11<173:43:44,  1.56it/s]\u001b[A\n",
      "Iteration:   0%|                                                                             | 659/974545 [07:12<174:59:08,  1.55it/s]\u001b[A\n",
      "Iteration:   0%|                                                                             | 660/974545 [07:13<174:24:12,  1.55it/s]\u001b[A\n",
      "Iteration:   0%|                                                                             | 661/974545 [07:13<174:18:52,  1.55it/s]\u001b[A\n",
      "Iteration:   0%|                                                                             | 662/974545 [07:14<174:15:37,  1.55it/s]\u001b[A\n",
      "Iteration:   0%|                                                                             | 663/974545 [07:15<174:11:21,  1.55it/s]\u001b[A\n",
      "Iteration:   0%|                                                                             | 664/974545 [07:15<174:09:52,  1.55it/s]\u001b[A\n",
      "Iteration:   0%|                                                                             | 665/974545 [07:16<172:30:44,  1.57it/s]\u001b[A\n",
      "Iteration:   0%|                                                                             | 666/974545 [07:16<174:01:32,  1.55it/s]\u001b[A\n",
      "Iteration:   0%|                                                                             | 667/974545 [07:17<172:25:48,  1.57it/s]\u001b[A\n",
      "Iteration:   0%|                                                                             | 668/974545 [07:18<172:58:22,  1.56it/s]\u001b[A\n",
      "Iteration:   0%|                                                                             | 669/974545 [07:18<173:10:54,  1.56it/s]\u001b[A\n",
      "Iteration:   0%|                                                                             | 670/974545 [07:19<173:27:20,  1.56it/s]\u001b[A\n",
      "Iteration:   0%|                                                                             | 671/974545 [07:20<174:00:24,  1.55it/s]\u001b[A\n",
      "Iteration:   0%|                                                                             | 672/974545 [07:20<174:00:48,  1.55it/s]\u001b[A\n",
      "Iteration:   0%|                                                                             | 673/974545 [07:21<173:52:06,  1.56it/s]\u001b[A\n",
      "Iteration:   0%|                                                                             | 674/974545 [07:22<175:05:50,  1.54it/s]\u001b[A\n",
      "Iteration:   0%|                                                                             | 675/974545 [07:22<173:19:44,  1.56it/s]\u001b[A\n",
      "Iteration:   0%|                                                                             | 676/974545 [07:23<173:05:56,  1.56it/s]\u001b[A\n",
      "Iteration:   0%|                                                                             | 677/974545 [07:24<173:21:31,  1.56it/s]\u001b[A\n",
      "Iteration:   0%|                                                                             | 678/974545 [07:24<173:34:05,  1.56it/s]\u001b[A\n",
      "Iteration:   0%|                                                                             | 679/974545 [07:25<173:26:47,  1.56it/s]\u001b[A\n",
      "Iteration:   0%|                                                                             | 680/974545 [07:25<172:00:29,  1.57it/s]\u001b[A\n",
      "Iteration:   0%|                                                                             | 681/974545 [07:26<172:36:41,  1.57it/s]\u001b[A\n",
      "Iteration:   0%|                                                                             | 682/974545 [07:27<173:02:08,  1.56it/s]\u001b[A\n",
      "Iteration:   0%|                                                                             | 683/974545 [07:27<173:59:00,  1.55it/s]\u001b[A\n",
      "Iteration:   0%|                                                                             | 684/974545 [07:28<174:43:33,  1.55it/s]\u001b[A\n",
      "Iteration:   0%|                                                                             | 685/974545 [07:29<172:55:04,  1.56it/s]\u001b[A\n",
      "Iteration:   0%|                                                                             | 686/974545 [07:29<171:35:34,  1.58it/s]\u001b[A\n",
      "Iteration:   0%|                                                                             | 687/974545 [07:30<170:33:45,  1.59it/s]\u001b[A\n",
      "Iteration:   0%|                                                                             | 688/974545 [07:31<169:47:21,  1.59it/s]\u001b[A\n",
      "Iteration:   0%|                                                                             | 689/974545 [07:31<169:25:42,  1.60it/s]\u001b[A\n",
      "Iteration:   0%|                                                                             | 690/974545 [07:32<170:50:37,  1.58it/s]\u001b[A\n",
      "Iteration:   0%|                                                                             | 691/974545 [07:32<171:47:23,  1.57it/s]\u001b[A\n",
      "Iteration:   0%|                                                                             | 692/974545 [07:33<170:41:18,  1.58it/s]\u001b[A\n",
      "Iteration:   0%|                                                                             | 693/974545 [07:34<171:44:24,  1.58it/s]\u001b[A\n",
      "Iteration:   0%|                                                                             | 694/974545 [07:34<172:27:18,  1.57it/s]\u001b[A\n",
      "Iteration:   0%|                                                                             | 695/974545 [07:35<172:56:57,  1.56it/s]\u001b[A\n",
      "Iteration:   0%|                                                                             | 696/974545 [07:36<173:20:48,  1.56it/s]\u001b[A\n",
      "Iteration:   0%|                                                                             | 697/974545 [07:36<173:32:44,  1.56it/s]\u001b[A\n",
      "Iteration:   0%|                                                                             | 698/974545 [07:37<173:40:26,  1.56it/s]\u001b[A\n",
      "Iteration:   0%|                                                                             | 699/974545 [07:38<175:02:06,  1.55it/s]\u001b[A"
     ]
    },
    {
     "name": "stdout",
     "output_type": "stream",
     "text": [
      "{\"loss\": NaN, \"learning_rate\": 1.5e-05, \"epoch\": 0.0007182839171100359, \"step\": 700}\n"
     ]
    },
    {
     "name": "stderr",
     "output_type": "stream",
     "text": [
      "\n",
      "Iteration:   0%|                                                                             | 700/974545 [07:40<346:46:58,  1.28s/it]\u001b[A\n",
      "Iteration:   0%|                                                                             | 701/974545 [07:41<259:45:15,  1.04it/s]\u001b[A\n",
      "Iteration:   0%|                                                                             | 702/974545 [07:41<234:44:39,  1.15it/s]\u001b[A\n",
      "Iteration:   0%|                                                                             | 703/974545 [07:42<216:27:12,  1.25it/s]\u001b[A\n",
      "Iteration:   0%|                                                                             | 704/974545 [07:42<203:43:25,  1.33it/s]\u001b[A\n",
      "Iteration:   0%|                                                                             | 705/974545 [07:43<193:06:10,  1.40it/s]\u001b[A\n",
      "Iteration:   0%|                                                                             | 706/974545 [07:44<187:28:04,  1.44it/s]\u001b[A\n",
      "Iteration:   0%|                                                                             | 707/974545 [07:44<184:07:18,  1.47it/s]\u001b[A\n",
      "Iteration:   0%|                                                                             | 708/974545 [07:45<179:18:57,  1.51it/s]\u001b[A\n",
      "Iteration:   0%|                                                                             | 709/974545 [07:46<178:10:29,  1.52it/s]\u001b[A\n",
      "Iteration:   0%|                                                                             | 710/974545 [07:46<177:43:40,  1.52it/s]\u001b[A\n",
      "Iteration:   0%|                                                                             | 711/974545 [07:47<176:38:10,  1.53it/s]\u001b[A\n",
      "Iteration:   0%|                                                                             | 712/974545 [07:48<174:21:09,  1.55it/s]\u001b[A\n",
      "Iteration:   0%|                                                                             | 713/974545 [07:48<175:11:51,  1.54it/s]\u001b[A\n",
      "Iteration:   0%|                                                                             | 714/974545 [07:49<174:51:21,  1.55it/s]\u001b[A\n",
      "Iteration:   0%|                                                                             | 715/974545 [07:50<174:36:02,  1.55it/s]\u001b[A\n",
      "Iteration:   0%|                                                                             | 716/974545 [07:50<172:37:35,  1.57it/s]\u001b[A\n",
      "Iteration:   0%|                                                                             | 717/974545 [07:51<173:07:16,  1.56it/s]\u001b[A\n",
      "Iteration:   0%|                                                                             | 718/974545 [07:51<173:26:08,  1.56it/s]\u001b[A\n",
      "Iteration:   0%|                                                                             | 719/974545 [07:52<174:46:29,  1.55it/s]\u001b[A\n",
      "Iteration:   0%|                                                                             | 720/974545 [07:53<175:48:24,  1.54it/s]\u001b[A\n",
      "Iteration:   0%|                                                                             | 721/974545 [07:53<175:52:10,  1.54it/s]\u001b[A\n",
      "Iteration:   0%|                                                                             | 722/974545 [07:54<174:54:20,  1.55it/s]\u001b[A\n",
      "Iteration:   0%|                                                                             | 723/974545 [07:55<174:31:45,  1.55it/s]\u001b[A\n",
      "Iteration:   0%|                                                                             | 724/974545 [07:55<172:40:43,  1.57it/s]\u001b[A\n",
      "Iteration:   0%|                                                                             | 725/974545 [07:56<174:07:48,  1.55it/s]\u001b[A\n",
      "Iteration:   0%|                                                                             | 726/974545 [07:57<174:11:41,  1.55it/s]\u001b[A\n",
      "Iteration:   0%|                                                                             | 727/974545 [07:57<174:26:00,  1.55it/s]\u001b[A\n",
      "Iteration:   0%|                                                                             | 728/974545 [07:58<174:21:31,  1.55it/s]\u001b[A\n",
      "Iteration:   0%|                                                                             | 729/974545 [07:59<174:47:34,  1.55it/s]\u001b[A\n",
      "Iteration:   0%|                                                                             | 730/974545 [07:59<173:07:57,  1.56it/s]\u001b[A\n",
      "Iteration:   0%|                                                                             | 731/974545 [08:00<172:05:25,  1.57it/s]\u001b[A\n",
      "Iteration:   0%|                                                                             | 732/974545 [08:00<172:45:01,  1.57it/s]\u001b[A\n",
      "Iteration:   0%|                                                                             | 733/974545 [08:01<174:12:40,  1.55it/s]\u001b[A\n",
      "Iteration:   0%|                                                                             | 734/974545 [08:02<174:34:06,  1.55it/s]\u001b[A\n",
      "Iteration:   0%|                                                                             | 735/974545 [08:02<172:37:14,  1.57it/s]\u001b[A\n",
      "Iteration:   0%|                                                                             | 736/974545 [08:03<173:14:19,  1.56it/s]\u001b[A\n",
      "Iteration:   0%|                                                                             | 737/974545 [08:04<173:34:45,  1.56it/s]\u001b[A\n",
      "Iteration:   0%|                                                                             | 738/974545 [08:04<173:53:33,  1.56it/s]\u001b[A\n",
      "Iteration:   0%|                                                                             | 739/974545 [08:05<173:38:21,  1.56it/s]\u001b[A\n",
      "Iteration:   0%|                                                                             | 740/974545 [08:06<171:51:34,  1.57it/s]\u001b[A\n",
      "Iteration:   0%|                                                                             | 741/974545 [08:06<172:27:45,  1.57it/s]\u001b[A\n",
      "Iteration:   0%|                                                                             | 742/974545 [08:07<177:53:53,  1.52it/s]\u001b[A\n",
      "Epoch:   0%|                                                                                                    | 0/1 [08:07<?, ?it/s]\n"
     ]
    },
    {
     "ename": "KeyboardInterrupt",
     "evalue": "",
     "output_type": "error",
     "traceback": [
      "\u001b[0;31m---------------------------------------------------------------------------\u001b[0m",
      "\u001b[0;31mKeyboardInterrupt\u001b[0m                         Traceback (most recent call last)",
      "Cell \u001b[0;32mIn[23], line 1\u001b[0m\n\u001b[0;32m----> 1\u001b[0m \u001b[43mtrainer\u001b[49m\u001b[38;5;241;43m.\u001b[39;49m\u001b[43mtrain\u001b[49m\u001b[43m(\u001b[49m\u001b[43m)\u001b[49m\n",
      "File \u001b[0;32m~/.config/miniconda3/envs/lm_from_scratch/lib/python3.8/site-packages/transformers/trainer.py:481\u001b[0m, in \u001b[0;36mTrainer.train\u001b[0;34m(self, model_path)\u001b[0m\n\u001b[1;32m    479\u001b[0m     torch\u001b[38;5;241m.\u001b[39mnn\u001b[38;5;241m.\u001b[39mutils\u001b[38;5;241m.\u001b[39mclip_grad_norm_(amp\u001b[38;5;241m.\u001b[39mmaster_params(optimizer), \u001b[38;5;28mself\u001b[39m\u001b[38;5;241m.\u001b[39margs\u001b[38;5;241m.\u001b[39mmax_grad_norm)\n\u001b[1;32m    480\u001b[0m \u001b[38;5;28;01melse\u001b[39;00m:\n\u001b[0;32m--> 481\u001b[0m     \u001b[43mtorch\u001b[49m\u001b[38;5;241;43m.\u001b[39;49m\u001b[43mnn\u001b[49m\u001b[38;5;241;43m.\u001b[39;49m\u001b[43mutils\u001b[49m\u001b[38;5;241;43m.\u001b[39;49m\u001b[43mclip_grad_norm_\u001b[49m\u001b[43m(\u001b[49m\u001b[43mmodel\u001b[49m\u001b[38;5;241;43m.\u001b[39;49m\u001b[43mparameters\u001b[49m\u001b[43m(\u001b[49m\u001b[43m)\u001b[49m\u001b[43m,\u001b[49m\u001b[43m \u001b[49m\u001b[38;5;28;43mself\u001b[39;49m\u001b[38;5;241;43m.\u001b[39;49m\u001b[43margs\u001b[49m\u001b[38;5;241;43m.\u001b[39;49m\u001b[43mmax_grad_norm\u001b[49m\u001b[43m)\u001b[49m\n\u001b[1;32m    483\u001b[0m \u001b[38;5;28;01mif\u001b[39;00m is_tpu_available():\n\u001b[1;32m    484\u001b[0m     xm\u001b[38;5;241m.\u001b[39moptimizer_step(optimizer)\n",
      "File \u001b[0;32m~/.config/miniconda3/envs/lm_from_scratch/lib/python3.8/site-packages/torch/nn/utils/clip_grad.py:76\u001b[0m, in \u001b[0;36mclip_grad_norm_\u001b[0;34m(parameters, max_norm, norm_type, error_if_nonfinite, foreach)\u001b[0m\n\u001b[1;32m     74\u001b[0m \u001b[38;5;28;01mfor\u001b[39;00m ((device, _), [grads]) \u001b[38;5;129;01min\u001b[39;00m grouped_grads\u001b[38;5;241m.\u001b[39mitems():\n\u001b[1;32m     75\u001b[0m     \u001b[38;5;28;01mif\u001b[39;00m (foreach \u001b[38;5;129;01mis\u001b[39;00m \u001b[38;5;28;01mNone\u001b[39;00m \u001b[38;5;129;01mor\u001b[39;00m foreach) \u001b[38;5;129;01mand\u001b[39;00m _has_foreach_support(grads, device\u001b[38;5;241m=\u001b[39mdevice):\n\u001b[0;32m---> 76\u001b[0m         \u001b[43mtorch\u001b[49m\u001b[38;5;241;43m.\u001b[39;49m\u001b[43m_foreach_mul_\u001b[49m\u001b[43m(\u001b[49m\u001b[43mgrads\u001b[49m\u001b[43m,\u001b[49m\u001b[43m \u001b[49m\u001b[43mclip_coef_clamped\u001b[49m\u001b[38;5;241;43m.\u001b[39;49m\u001b[43mto\u001b[49m\u001b[43m(\u001b[49m\u001b[43mdevice\u001b[49m\u001b[43m)\u001b[49m\u001b[43m)\u001b[49m  \u001b[38;5;66;03m# type: ignore[call-overload]\u001b[39;00m\n\u001b[1;32m     77\u001b[0m     \u001b[38;5;28;01melif\u001b[39;00m foreach:\n\u001b[1;32m     78\u001b[0m         \u001b[38;5;28;01mraise\u001b[39;00m \u001b[38;5;167;01mRuntimeError\u001b[39;00m(\u001b[38;5;124mf\u001b[39m\u001b[38;5;124m'\u001b[39m\u001b[38;5;124mforeach=True was passed, but can\u001b[39m\u001b[38;5;130;01m\\'\u001b[39;00m\u001b[38;5;124mt use the foreach API on \u001b[39m\u001b[38;5;132;01m{\u001b[39;00mdevice\u001b[38;5;241m.\u001b[39mtype\u001b[38;5;132;01m}\u001b[39;00m\u001b[38;5;124m tensors\u001b[39m\u001b[38;5;124m'\u001b[39m)\n",
      "\u001b[0;31mKeyboardInterrupt\u001b[0m: "
     ]
    }
   ],
   "source": [
    "trainer.train()"
   ]
  },
  {
   "cell_type": "code",
   "execution_count": null,
   "id": "ce0203b8-ab1b-4d7b-ad42-5138681880e6",
   "metadata": {},
   "outputs": [],
   "source": [
    "model.save_pretrained(tokenizer_dir)"
   ]
  },
  {
   "cell_type": "code",
   "execution_count": null,
   "id": "4bd662d0-2bd9-4174-97d2-55a3a35c81a5",
   "metadata": {},
   "outputs": [],
   "source": [
    "from transformers import pipeline\n",
    "\n",
    "fill_mask = pipeline(\n",
    "    \"fill-mask\",\n",
    "    model=str(tokenizer_dir),\n",
    "    tokenizer=str(tokenizer_dir),\n",
    ")"
   ]
  },
  {
   "cell_type": "code",
   "execution_count": null,
   "id": "0db5edb6-37a8-4b35-a352-e50fc1db05c4",
   "metadata": {},
   "outputs": [],
   "source": [
    "# The sun <mask>.\n",
    "fill_mask(\"La suno <mask>.\")"
   ]
  },
  {
   "cell_type": "code",
   "execution_count": null,
   "id": "2053b886-9ff5-4c20-9594-843dde7b02c9",
   "metadata": {},
   "outputs": [],
   "source": [
    "# This is the beginning of a beautiful <mask>.\n",
    "fill_mask(\"Jen la komenco de bela <mask>.\")"
   ]
  },
  {
   "cell_type": "code",
   "execution_count": null,
   "id": "d35d845a-db70-4479-89ee-9a744f117be6",
   "metadata": {},
   "outputs": [],
   "source": []
  }
 ],
 "metadata": {
  "kernelspec": {
   "display_name": "Python 3 (ipykernel)",
   "language": "python",
   "name": "python3"
  },
  "language_info": {
   "codemirror_mode": {
    "name": "ipython",
    "version": 3
   },
   "file_extension": ".py",
   "mimetype": "text/x-python",
   "name": "python",
   "nbconvert_exporter": "python",
   "pygments_lexer": "ipython3",
   "version": "3.8.16"
  }
 },
 "nbformat": 4,
 "nbformat_minor": 5
}
